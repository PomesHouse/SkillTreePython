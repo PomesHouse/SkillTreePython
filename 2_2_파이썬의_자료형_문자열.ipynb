{
  "nbformat": 4,
  "nbformat_minor": 0,
  "metadata": {
    "colab": {
      "name": "2-2.파이썬의 자료형_문자열.ipynb",
      "provenance": [],
      "collapsed_sections": [],
      "toc_visible": true,
      "include_colab_link": true
    },
    "kernelspec": {
      "name": "python3",
      "display_name": "Python 3"
    },
    "language_info": {
      "name": "python"
    }
  },
  "cells": [
    {
      "cell_type": "markdown",
      "metadata": {
        "id": "view-in-github",
        "colab_type": "text"
      },
      "source": [
        "<a href=\"https://colab.research.google.com/github/PomesHouse/SkillTreePython/blob/main/2_2_%ED%8C%8C%EC%9D%B4%EC%8D%AC%EC%9D%98_%EC%9E%90%EB%A3%8C%ED%98%95_%EB%AC%B8%EC%9E%90%EC%97%B4.ipynb\" target=\"_parent\"><img src=\"https://colab.research.google.com/assets/colab-badge.svg\" alt=\"Open In Colab\"/></a>"
      ]
    },
    {
      "cell_type": "markdown",
      "source": [
        "# 2-2.파이썬의 자료형:문자열\n",
        "---\n",
        "* 날짜:\n",
        "* 이름:"
      ],
      "metadata": {
        "id": "kB5IciXEm6o4"
      }
    },
    {
      "cell_type": "markdown",
      "source": [
        "## 개념정리\n",
        "---\n",
        "\n",
        "이번 시간에 다룰 자료형은 문자열 (String) 자료형 입니다. 문자열 도한 숫자와 마찬가지로 기본적인 데이터 타입이며 광범위하게 사용됩니다. 문자열 문자들의 집합으로 이루어져 있습니다."
      ],
      "metadata": {
        "id": "4iN8NFzHRJ2D"
      }
    },
    {
      "cell_type": "markdown",
      "source": [
        "### (1) 문자열 생성하기\n",
        "\n",
        "\n",
        "* 작은따음표 `'` \n",
        "\n",
        "```\n",
        "a = 'hello'\n",
        "print(a), type(a)\n",
        "```\n",
        "\n",
        "\n",
        "\n",
        "\n",
        "\n"
      ],
      "metadata": {
        "id": "UKlkHH0IRL5h"
      }
    },
    {
      "cell_type": "code",
      "source": [
        "a = 'hello'\n",
        "print(a), type(a)"
      ],
      "metadata": {
        "id": "DwxmxrH90x6c",
        "colab": {
          "base_uri": "https://localhost:8080/"
        },
        "outputId": "7dec2f49-71ec-4027-f8d5-1b715835eb0e"
      },
      "execution_count": 1,
      "outputs": [
        {
          "output_type": "stream",
          "name": "stdout",
          "text": [
            "hello\n"
          ]
        },
        {
          "output_type": "execute_result",
          "data": {
            "text/plain": [
              "(None, str)"
            ]
          },
          "metadata": {},
          "execution_count": 1
        }
      ]
    },
    {
      "cell_type": "markdown",
      "source": [
        "* 큰따음표 `\"`\n",
        "\n",
        "```\n",
        "a = \"hello\"\n",
        "print(a), type(a)\n",
        "```\n"
      ],
      "metadata": {
        "id": "ftvQ5Pfk0yBf"
      }
    },
    {
      "cell_type": "code",
      "source": [
        "a = \"hello\"\n",
        "print(a), type(a)"
      ],
      "metadata": {
        "id": "phUxr9LP0y7Q",
        "colab": {
          "base_uri": "https://localhost:8080/"
        },
        "outputId": "bd7be0e1-0592-4ea5-8292-97ab9654adb3"
      },
      "execution_count": 2,
      "outputs": [
        {
          "output_type": "stream",
          "name": "stdout",
          "text": [
            "hello\n"
          ]
        },
        {
          "output_type": "execute_result",
          "data": {
            "text/plain": [
              "(None, str)"
            ]
          },
          "metadata": {},
          "execution_count": 2
        }
      ]
    },
    {
      "cell_type": "markdown",
      "source": [
        "\n",
        "* 작은따음표 세개 `'''`\n",
        "\n",
        "```\n",
        "a = '''hello'''\n",
        "print(a), type(a)\n",
        "```\n",
        "\n"
      ],
      "metadata": {
        "id": "RMpem26n0zBR"
      }
    },
    {
      "cell_type": "code",
      "source": [
        "a = '''hello'''\n",
        "a, type(a)"
      ],
      "metadata": {
        "id": "oLRaHKFD0zsX",
        "colab": {
          "base_uri": "https://localhost:8080/"
        },
        "outputId": "fc7e4090-9f28-4616-f04a-676e9655d6d0"
      },
      "execution_count": 3,
      "outputs": [
        {
          "output_type": "execute_result",
          "data": {
            "text/plain": [
              "('hello', str)"
            ]
          },
          "metadata": {},
          "execution_count": 3
        }
      ]
    },
    {
      "cell_type": "markdown",
      "source": [
        "* 큰따음표 세개 `\"\"\"`\n",
        "\n",
        "```\n",
        "a = \"\"\"hello\"\"\"\n",
        "print(a), type(a)\n",
        "```\n"
      ],
      "metadata": {
        "id": "TZkDN8560z1N"
      }
    },
    {
      "cell_type": "code",
      "source": [
        "a = \"\"\"hello\"\"\"\n",
        "a, type(a)"
      ],
      "metadata": {
        "id": "vQMs78BT00c-",
        "colab": {
          "base_uri": "https://localhost:8080/"
        },
        "outputId": "58c289ee-43a5-4143-984b-939dc99b2176"
      },
      "execution_count": 4,
      "outputs": [
        {
          "output_type": "execute_result",
          "data": {
            "text/plain": [
              "('hello', str)"
            ]
          },
          "metadata": {},
          "execution_count": 4
        }
      ]
    },
    {
      "cell_type": "markdown",
      "source": [
        "#### **작은따음표나 큰따음표가 포함된 문자열**\n",
        "\n",
        "위에서 우리는 작은따음표나 큰따음표를 이용해서 문자열을 생성하였습니다. 그런데 언제 작은따음표를 쓰고, 큰따음표를 써야할까요? 대부분의 경우 사용자의 편의에 맞춰서 사용하시면 되지만 특정 상황에 따라 적절히 선택해서 문자열을 생성해야 합니다. \n",
        "\n",
        "* 작은따음표 포함시키기\n",
        "\n",
        "```\n",
        "a = \"It's nice day!\"\n",
        "print(a)\n",
        "```"
      ],
      "metadata": {
        "id": "-6nvbRvd02kK"
      }
    },
    {
      "cell_type": "code",
      "source": [
        "a = \"It's a nice day!\"\n",
        "a"
      ],
      "metadata": {
        "id": "7AfuxTvH4tdg",
        "colab": {
          "base_uri": "https://localhost:8080/",
          "height": 35
        },
        "outputId": "a560d3e4-1ce9-49d7-d59b-027584b19225"
      },
      "execution_count": 6,
      "outputs": [
        {
          "output_type": "execute_result",
          "data": {
            "text/plain": [
              "\"It's a nice day!\""
            ],
            "application/vnd.google.colaboratory.intrinsic+json": {
              "type": "string"
            }
          },
          "metadata": {},
          "execution_count": 6
        }
      ]
    },
    {
      "cell_type": "markdown",
      "source": [
        "* 큰따음표 포함시키기\n",
        "\n",
        "```\n",
        "a = 'he said, \"nice day!\"'\n",
        "print(a)\n",
        "```"
      ],
      "metadata": {
        "id": "MHzcVeyz5IzP"
      }
    },
    {
      "cell_type": "code",
      "source": [
        "a = 'He said, \"Nice day!\"'\n",
        "a"
      ],
      "metadata": {
        "id": "GZR3Ujq95QRk",
        "colab": {
          "base_uri": "https://localhost:8080/",
          "height": 35
        },
        "outputId": "5e1d12e2-8ff1-49b0-a230-912ac247e149"
      },
      "execution_count": 7,
      "outputs": [
        {
          "output_type": "execute_result",
          "data": {
            "text/plain": [
              "'He said, \"Nice day!\"'"
            ],
            "application/vnd.google.colaboratory.intrinsic+json": {
              "type": "string"
            }
          },
          "metadata": {},
          "execution_count": 7
        }
      ]
    },
    {
      "cell_type": "markdown",
      "source": [
        "#### **연속된 따옴표의 사용**\n",
        "\n",
        "연속된 따옴표는 표현의 자유도가 높습니다. 우선 여러줄의 문자열을 생성할 수 있습니다. \n",
        "\n",
        "* 작음 따옴표 / 큰 따옴표\n",
        "\n",
        "따옴표 한개를 사용할 때 줄 바꿈을 적용하면 에러 메시지가 뜹니다.\n",
        "\n",
        "```\n",
        "a = 'nice\n",
        "day !'\n",
        "```\n",
        "\n"
      ],
      "metadata": {
        "id": "opbfNksrAq4P"
      }
    },
    {
      "cell_type": "code",
      "source": [
        "#a = 'nice\n",
        "#day!'"
      ],
      "metadata": {
        "id": "8wPrBcJS5i5x"
      },
      "execution_count": 9,
      "outputs": []
    },
    {
      "cell_type": "markdown",
      "source": [
        "* 작음 따옴표 / 큰 따옴표 세개\n",
        "\n",
        "따음표 세개를 쓰면 줄 바꿈이 가능합니다.\n",
        "\n",
        "```\n",
        "a = '''\n",
        "nice\n",
        "day !\n",
        "'''\n",
        "```\n"
      ],
      "metadata": {
        "id": "cWLVpy9R5oEq"
      }
    },
    {
      "cell_type": "code",
      "source": [
        "a = '''\n",
        "nice \n",
        "day!\n",
        "'''\n",
        "a"
      ],
      "metadata": {
        "id": "ovhFYYpI5sd_",
        "colab": {
          "base_uri": "https://localhost:8080/",
          "height": 35
        },
        "outputId": "b3ab7f03-9a94-451c-cb3a-1074cd874fcd"
      },
      "execution_count": 14,
      "outputs": [
        {
          "output_type": "execute_result",
          "data": {
            "text/plain": [
              "'\\nnice \\nday!\\n'"
            ],
            "application/vnd.google.colaboratory.intrinsic+json": {
              "type": "string"
            }
          },
          "metadata": {},
          "execution_count": 14
        }
      ]
    },
    {
      "cell_type": "markdown",
      "source": [
        "또한 문자열 안에 큰따음표나 작은따옴표를 자유롭게 포함할 수 있습니다.\n",
        "\n",
        "```\n",
        "a = '''\n",
        "It's\n",
        "nice\n",
        "day !\n",
        "'''\n",
        "```"
      ],
      "metadata": {
        "id": "II4NczMb5yYl"
      }
    },
    {
      "cell_type": "code",
      "source": [
        "a = '''\n",
        "It's a\n",
        "nice\n",
        "day !\n",
        "'''\n",
        "a"
      ],
      "metadata": {
        "id": "cApA3Fwn5tbJ",
        "colab": {
          "base_uri": "https://localhost:8080/",
          "height": 35
        },
        "outputId": "6de2049c-c09d-44c8-c4a1-325fecd07ceb"
      },
      "execution_count": 15,
      "outputs": [
        {
          "output_type": "execute_result",
          "data": {
            "text/plain": [
              "\"\\nIt's a\\nnice\\nday !\\n\""
            ],
            "application/vnd.google.colaboratory.intrinsic+json": {
              "type": "string"
            }
          },
          "metadata": {},
          "execution_count": 15
        }
      ]
    },
    {
      "cell_type": "markdown",
      "source": [
        "### (2) 이스케이프 코드\n",
        "\n",
        "이스케이프 코드는 프로그래밍할 때 사용할 수 있도록 미리 만들어 둔 문자조합 입니다. 출력물을 보기 좋게 정렬하는 용도로 사용되며 주로 사용되는 이스케이프 코드를 정리하면 아래와 같습니다. \n",
        "\n",
        "* `\\n` : 문자열 내에서 줄을 바꿉니다.\n",
        "\n",
        "```\n",
        "a = 'nice\\nday!'\n",
        "print(a)\n",
        "```\n"
      ],
      "metadata": {
        "id": "8qoGgPDT55BR"
      }
    },
    {
      "cell_type": "code",
      "source": [
        "a = 'Nice\\nDay!' # \"출력물\"을 보기 좋게 정렬하는 용도로 사용된다.\n",
        "print(a)"
      ],
      "metadata": {
        "id": "4n7IDBuq5-hv",
        "colab": {
          "base_uri": "https://localhost:8080/"
        },
        "outputId": "10303a2c-37c5-49c6-ae4f-e2e1b1675280"
      },
      "execution_count": 18,
      "outputs": [
        {
          "output_type": "stream",
          "name": "stdout",
          "text": [
            "Nice\n",
            "Day!\n"
          ]
        }
      ]
    },
    {
      "cell_type": "markdown",
      "source": [
        "* `\\t` : 문자열 내에서 탭 간격만큼 띄어쓰기 합니다.\n",
        "\n",
        "```\n",
        "a = 'nice\\tday!'\n",
        "print(a)\n",
        "```"
      ],
      "metadata": {
        "id": "LcAJr9hK6Api"
      }
    },
    {
      "cell_type": "code",
      "source": [
        "a = 'Nice\\tday!'\n",
        "print(a)"
      ],
      "metadata": {
        "id": "esQ1Vclb6EPw",
        "colab": {
          "base_uri": "https://localhost:8080/"
        },
        "outputId": "bb7bfd7b-4f91-401d-f585-7d6f8d04f654"
      },
      "execution_count": 19,
      "outputs": [
        {
          "output_type": "stream",
          "name": "stdout",
          "text": [
            "Nice\tday!\n"
          ]
        }
      ]
    },
    {
      "cell_type": "markdown",
      "source": [
        "* `\\\\` : 문자열 내에서 `\\` 를 문자 그대로 표시합니다.\n",
        "\n",
        "```\n",
        "a = 'nice\\\\day!'\n",
        "print(a)\n",
        "```"
      ],
      "metadata": {
        "id": "WUaMrp516Gpt"
      }
    },
    {
      "cell_type": "code",
      "source": [
        "a = 'Nice\\day!'\n",
        "print(a)"
      ],
      "metadata": {
        "colab": {
          "base_uri": "https://localhost:8080/"
        },
        "id": "rTqEMFVmCp8w",
        "outputId": "302fae7a-c3e1-420b-f605-85e78125c653"
      },
      "execution_count": 21,
      "outputs": [
        {
          "output_type": "stream",
          "name": "stdout",
          "text": [
            "Nice\\day!\n"
          ]
        }
      ]
    },
    {
      "cell_type": "code",
      "source": [
        "a = \"nice\\\\day!\"\n",
        "print(a)"
      ],
      "metadata": {
        "id": "-dIGYh-k6FDJ",
        "colab": {
          "base_uri": "https://localhost:8080/"
        },
        "outputId": "540110c5-dd63-429a-d939-4eae68806de9"
      },
      "execution_count": 20,
      "outputs": [
        {
          "output_type": "stream",
          "name": "stdout",
          "text": [
            "nice\\day!\n"
          ]
        }
      ]
    },
    {
      "cell_type": "markdown",
      "source": [
        "* `\\'` : 문자열 내에서 작은 따음표 `'` 를 문자 그대로 표시합니다.\n",
        "\n",
        "```\n",
        "a = 'nice\\'day!'\n",
        "print(a)\n",
        "```"
      ],
      "metadata": {
        "id": "4xbxgNT06Pz6"
      }
    },
    {
      "cell_type": "code",
      "source": [
        "a= 'He\\'s chair'\n",
        "print(a)"
      ],
      "metadata": {
        "id": "89Fv1jo_6Pz7",
        "colab": {
          "base_uri": "https://localhost:8080/"
        },
        "outputId": "7e9f92a2-4404-45cf-fd99-8456a8aa7aa4"
      },
      "execution_count": 22,
      "outputs": [
        {
          "output_type": "stream",
          "name": "stdout",
          "text": [
            "He's chair\n"
          ]
        }
      ]
    },
    {
      "cell_type": "markdown",
      "source": [
        "* `\\\"` : 문자열 내에서 큰따음표 `\"` 를 문자 그대로 표시합니다.\n",
        "\n",
        "```\n",
        "a = 'nice\\\"day!'\n",
        "print(a)\n",
        "```"
      ],
      "metadata": {
        "id": "QSzXTGff7uw4"
      }
    },
    {
      "cell_type": "code",
      "source": [
        "a = \"I said \\\"Hello\\\"\"\n",
        "print(a)"
      ],
      "metadata": {
        "id": "R40_NPU47uw-",
        "colab": {
          "base_uri": "https://localhost:8080/"
        },
        "outputId": "ad553485-5a37-4834-c9e7-17c5d97685bb"
      },
      "execution_count": 23,
      "outputs": [
        {
          "output_type": "stream",
          "name": "stdout",
          "text": [
            "I said \"Hello\"\n"
          ]
        }
      ]
    },
    {
      "cell_type": "markdown",
      "source": [
        "### (3) 문자열 포매팅(Formatting)\n",
        "\n",
        "문자열 안에 변수가 포함된 경우를 생각해 보겠습니다. \n",
        "\n",
        "```\n",
        "It's nice day!\n",
        "It's good day!\n",
        "It's happy day!\n",
        "```\n",
        "\n",
        "위 문장들의 공통 값은 `It's --- day` 이고 변하는 값들은 `nice`, `good`, `happy` 가 됩니다. \n",
        "\n",
        "이 때 변하는 값들을 문장 내에서 처리해 주는 것이 포매팅 입니다. 아직까진 어떤 의미인지 잘 이해가 안갈 수 있습니다. 여러가지 방법들을 하나씩 따라하면서 감을 잡아 봅시다.\n",
        "\n"
      ],
      "metadata": {
        "id": "yKAeHMtt74ad"
      }
    },
    {
      "cell_type": "markdown",
      "source": [
        "####  **`%`  이용하기**\n",
        "\n",
        "변수는 `a` 이고 전체 문장은 `s`입니다. 문장내에 변수를 `%s`로 두고 문장 끝에 %s에 들어갈 것이 `a`임을 표시해 줍니다.\n",
        "\n",
        "```\n",
        "a = 'nice'\n",
        "s = \"It's %s day!\"%(a)\n",
        "print(s)\n",
        "```\n",
        "\n"
      ],
      "metadata": {
        "id": "QgMmtjem_VIT"
      }
    },
    {
      "cell_type": "code",
      "source": [
        "a = 'nice'\n",
        "s = \"It's %s day!\" % a\n",
        "print(s)"
      ],
      "metadata": {
        "id": "LOPlbk426N__",
        "colab": {
          "base_uri": "https://localhost:8080/"
        },
        "outputId": "034cc845-000a-49ae-fe58-175657d9a007"
      },
      "execution_count": 24,
      "outputs": [
        {
          "output_type": "stream",
          "name": "stdout",
          "text": [
            "It's nice day!\n"
          ]
        }
      ]
    },
    {
      "cell_type": "markdown",
      "source": [
        "변수 `b`와 `c`를 추가하고 각각 `good`, `happy`로 바인딩 합시다. 문자 끝에 무엇을 넣어줄지 정해 다양한 변수를 지정할 수 있습니다. \n",
        "\n",
        "```\n",
        "a = 'nice'\n",
        "b = 'good'\n",
        "c = 'happy'\n",
        "s = \"It's %s day!\"%(b)\n",
        "print(s)\n",
        "```"
      ],
      "metadata": {
        "id": "7kep77Ls__Q2"
      }
    },
    {
      "cell_type": "code",
      "source": [
        "a = 'nice'\n",
        "b = 'good'\n",
        "c = 'happy'\n",
        "s = \"It's %s day!\" % b\n",
        "print(s)"
      ],
      "metadata": {
        "id": "9edAonWp_6SH",
        "colab": {
          "base_uri": "https://localhost:8080/"
        },
        "outputId": "87859886-714f-484c-fbb8-1de564566f2f"
      },
      "execution_count": 26,
      "outputs": [
        {
          "output_type": "stream",
          "name": "stdout",
          "text": [
            "It's good day!\n"
          ]
        }
      ]
    },
    {
      "cell_type": "markdown",
      "source": [
        "두개 이상의 변수도 다룰 수 있습니다. \n",
        "\n",
        "```\n",
        "a = 'nice'\n",
        "b = 'good'\n",
        "c = 'happy'\n",
        "s = \"It's %s, %s, and %s day!\"%(a, b, c)\n",
        "print(s)\n",
        "```"
      ],
      "metadata": {
        "id": "CaR1T3S7Aaw3"
      }
    },
    {
      "cell_type": "code",
      "source": [
        "a = 'nice'\n",
        "b = 'good'\n",
        "c = 'happy'\n",
        "s = \"It's %s, %s, and %s day!\" %(a, b, c)\n",
        "print(s)"
      ],
      "metadata": {
        "id": "2hH45AgVAV03",
        "colab": {
          "base_uri": "https://localhost:8080/"
        },
        "outputId": "332043ab-e606-4f57-fd31-6d54a86a00ad"
      },
      "execution_count": 27,
      "outputs": [
        {
          "output_type": "stream",
          "name": "stdout",
          "text": [
            "It's nice, good, and happy day!\n"
          ]
        }
      ]
    },
    {
      "cell_type": "markdown",
      "source": [
        "이 때 문장 내에 `%s`로 변수를 지칭하는 것을 볼 수 있습니다. `s`가 뜻하는 것은 `string`입니다. 즉, 우리가 변수로 사용할 `a`, `b`, `c`가 문자열(string) 이기 때문에 `%s`로 문장 내에 변수를 표시합니다. \n",
        "\n",
        "그렇다면 문자열이 아닌 정수일 때는 어떻게 표시할까요? 이 때는 `%d`로 표시합니다.\n",
        "\n",
        "\n",
        "\n",
        "```\n",
        "a = 2\n",
        "s = '%d apples.'%(a)\n",
        "print(s)\n",
        "```\n",
        "\n"
      ],
      "metadata": {
        "id": "XXcIbOqRApxi"
      }
    },
    {
      "cell_type": "code",
      "source": [
        "a = 2\n",
        "s = '%d apples.' % a\n",
        "print(s)"
      ],
      "metadata": {
        "id": "cF5rP4FBAjpa",
        "colab": {
          "base_uri": "https://localhost:8080/"
        },
        "outputId": "398ca07e-30e6-4bec-f94f-e96978a85c3b"
      },
      "execution_count": 38,
      "outputs": [
        {
          "output_type": "stream",
          "name": "stdout",
          "text": [
            "2 apples.\n"
          ]
        }
      ]
    },
    {
      "cell_type": "markdown",
      "source": [
        "이 밖에 `a`의 자료형에 따라 적절한 코드를 사용합니다. \n",
        "\n",
        "| 코드 | 설명 |\n",
        "| --|-- |\n",
        "|%s|\t문자열(String)|\n",
        "|%c|\t문자 1개(character)|\n",
        "|%d|\t정수(Integer)|\n",
        "|%f\t|부동소수(floating-point)|\n",
        "|%o\t|8진수|\n",
        "|%x\t|16진수|\n",
        "|%%\t|Literal % (문자 % 자체)|\n",
        "\n",
        "이제 문자열 포매팅에 대한 기본적인 이해는 되었습니다. 더 많은 포매팅 방법을 알아보고 본인에게 가장 편리한 방법을 사용해 보도록 합시다."
      ],
      "metadata": {
        "id": "2dSPARaCBPIf"
      }
    },
    {
      "cell_type": "markdown",
      "source": [
        "#### **`.format()` 이용하기**\n",
        "\n",
        "\n",
        "이 방식에서 문자열 안의 변수는 `{}` 로 표현됩니다. 그리고 어떤 변수가 오는 지는 `.format()`을 이용합니다. 이 방식은 이전과 달리 변수의 타입에 관계없이 항상 `{}` 기호를 써서 나타냅니다. \n",
        "\n",
        "\n",
        "```\n",
        "a = 'nice'\n",
        "s = \"It's {} day!\".format(a)\n",
        "print(s)\n",
        "```\n"
      ],
      "metadata": {
        "id": "WbPuzriMBSsB"
      }
    },
    {
      "cell_type": "code",
      "source": [
        " a= \" nice\"\n",
        " s = \"It's {} day!\".format(a)\n",
        " print(s)"
      ],
      "metadata": {
        "id": "lU2dMDiNEFac",
        "colab": {
          "base_uri": "https://localhost:8080/"
        },
        "outputId": "7991d2cb-cf40-47d8-a410-7e1110e48273"
      },
      "execution_count": 36,
      "outputs": [
        {
          "output_type": "stream",
          "name": "stdout",
          "text": [
            "It's  nice day!\n"
          ]
        }
      ]
    },
    {
      "cell_type": "markdown",
      "source": [
        "* 여러개의 변수\n",
        "\n",
        "```\n",
        "a = 3\n",
        "b = 'apples'\n",
        "s = 'there are {} {}'.format(a, b)\n",
        "print(s)\n",
        "```\n"
      ],
      "metadata": {
        "id": "CiYaXRPVBSt-"
      }
    },
    {
      "cell_type": "code",
      "source": [
        "a = 3\n",
        "b = \"apples\"\n",
        "s = \"There are {} {}.\" .format(a,b)\n",
        "print(s)"
      ],
      "metadata": {
        "id": "8PiiujY3BK13",
        "colab": {
          "base_uri": "https://localhost:8080/"
        },
        "outputId": "501e96c7-9364-4351-de9c-ac812236b2fb"
      },
      "execution_count": 39,
      "outputs": [
        {
          "output_type": "stream",
          "name": "stdout",
          "text": [
            "There are 3 apples.\n"
          ]
        }
      ]
    },
    {
      "cell_type": "markdown",
      "source": [
        "* 괄호 인덱싱 : 변수를 나타내는 괄호 `{}` 안에 번호로 인덱싱을 할 수 있습니다.  \n",
        "\n",
        "\n",
        "```\n",
        "a = '3'\n",
        "b = 'apples'\n",
        "c = 'oranges'\n",
        "s = 'there are {0} {1} and {0} {2}'.format(a, b, c)\n",
        "print(s)\n",
        "``` \n",
        "이 때 `{0}`, `{1}`, `{2}` 는 차례대로 `a`, `b`, `c` 가 됩니다.\n"
      ],
      "metadata": {
        "id": "jnIYWLtfEcX0"
      }
    },
    {
      "cell_type": "code",
      "source": [
        "a = '3'\n",
        "b = 'apples'\n",
        "c = 'oranges'\n",
        "s = \"There are {0} {1} and {0} {2}\" .format(a,b,c)\n",
        "s"
      ],
      "metadata": {
        "id": "jVLUKFNmEX--",
        "colab": {
          "base_uri": "https://localhost:8080/",
          "height": 35
        },
        "outputId": "917336d5-23f3-4c2e-9726-613c6b361a5c"
      },
      "execution_count": 40,
      "outputs": [
        {
          "output_type": "execute_result",
          "data": {
            "text/plain": [
              "'There are 3 apples and 3 oranges'"
            ],
            "application/vnd.google.colaboratory.intrinsic+json": {
              "type": "string"
            }
          },
          "metadata": {},
          "execution_count": 40
        }
      ]
    },
    {
      "cell_type": "markdown",
      "source": [
        "* 괄호 태그 : 변수를 나타내는 괄호 `{}` 안에 태그로 인덱싱을 할 수 있습니다.\n",
        "\n",
        "```\n",
        "a = '3'\n",
        "b = 'apples'\n",
        "c = 'oranges'\n",
        "s = 'there are {num} {fruit1} and {num} {fruit2}'.format(num=a, fruit1=b, fruit2=c)\n",
        "print(s)\n",
        "``` \n"
      ],
      "metadata": {
        "id": "9kXyc4KFEwhD"
      }
    },
    {
      "cell_type": "code",
      "source": [
        "a = '3'\n",
        "b = 'apples'\n",
        "c = 'oranges'\n",
        "s = \"There are {num} {fr1} and {num} {fr2}.\" . format(num = a, fr1 = b, fr2 = c)\n",
        "s"
      ],
      "metadata": {
        "id": "7t4bGJuvEnRx",
        "colab": {
          "base_uri": "https://localhost:8080/",
          "height": 35
        },
        "outputId": "3a60d9d3-d837-4908-8d04-c9a3a3703f06"
      },
      "execution_count": 42,
      "outputs": [
        {
          "output_type": "execute_result",
          "data": {
            "text/plain": [
              "'There are 3 apples and 3 oranges.'"
            ],
            "application/vnd.google.colaboratory.intrinsic+json": {
              "type": "string"
            }
          },
          "metadata": {},
          "execution_count": 42
        }
      ]
    },
    {
      "cell_type": "markdown",
      "source": [
        "#### **f-string 문법**\n",
        "\n",
        "\n",
        "Python 3.6 이상의 버전부터 f-string 문법을 사용할 수 있게 되었습니다. 문자열 앞에 접두사 `f`를 붙이고 문장내에 변수를 중괄호 `{}`로 처리합니다. 그리고 어떤 변수가 들어갈지를 중괄호 `{}` 안에 바로 작성해줍니다. \n",
        "\n",
        " \n",
        "\n",
        "```\n",
        "a = '3'\n",
        "b = 'apples'\n",
        "c = 'oranges'\n",
        "s = f'there are {a} {b} and {a} {c}'\n",
        "print(s)\n",
        "```\n"
      ],
      "metadata": {
        "id": "bYUxh00NFHWZ"
      }
    },
    {
      "cell_type": "code",
      "source": [
        "a = '3'\n",
        "b = 'apples'\n",
        "c = 'oranges'\n",
        "s = f'There are {a} {b} and {a} {c}.'\n",
        "s"
      ],
      "metadata": {
        "id": "N1XFYDRfFHWZ",
        "colab": {
          "base_uri": "https://localhost:8080/",
          "height": 35
        },
        "outputId": "6d382361-6f40-4fcc-9e07-c8865da9f5fc"
      },
      "execution_count": 43,
      "outputs": [
        {
          "output_type": "execute_result",
          "data": {
            "text/plain": [
              "'There are 3 apples and 3 oranges.'"
            ],
            "application/vnd.google.colaboratory.intrinsic+json": {
              "type": "string"
            }
          },
          "metadata": {},
          "execution_count": 43
        }
      ]
    },
    {
      "cell_type": "markdown",
      "source": [
        "### (4) 인덱싱과 슬라이싱\n",
        "\n",
        "\n"
      ],
      "metadata": {
        "id": "OW5u5aPEIGIP"
      }
    },
    {
      "cell_type": "markdown",
      "source": [
        "#### **인덱싱 (indexing)**\n",
        "\n",
        "문자열의 인덱싱(indexing) 이란 주어진 문자열의 특정 값의 위치를 가리키는 것입니다. 파이썬은 `0`부터 시작함을 유의하세요. 아래 그림과 같이 첫번째 문자는 `0`번째 index를 가지고 순차적으로 증가합니다. \n",
        "\n",
        "![](https://github.com/yebiny/SkillTreePython/blob/main/imgs/2-2-1.PNG?raw=true)\n",
        "\n",
        "* 양수 인덱스 : 양수 값에 위치한 문자를 인덱싱합니다.\n",
        "\n",
        "```\n",
        "a = 'nice day!'\n",
        "print(a[5])\n",
        "```"
      ],
      "metadata": {
        "id": "CiCymDWPIJyd"
      }
    },
    {
      "cell_type": "code",
      "source": [
        "a = 'nice day!'\n",
        "print(a[5])\n",
        "print(a[7])"
      ],
      "metadata": {
        "id": "3zLNBfeRFATW",
        "colab": {
          "base_uri": "https://localhost:8080/"
        },
        "outputId": "d8eb3afb-476e-4381-b356-5f3b35167a91"
      },
      "execution_count": 45,
      "outputs": [
        {
          "output_type": "stream",
          "name": "stdout",
          "text": [
            "d\n",
            "y\n"
          ]
        }
      ]
    },
    {
      "cell_type": "markdown",
      "source": [
        "* 음수 인덱스 : 마지막 문자는 -1 이고 마지막에서 두번째는 -2 가 됩니다. \n",
        "\n",
        "```\n",
        "a = 'nice day!'\n",
        "print(a[-1])\n",
        "print(a[-4])\n",
        "```"
      ],
      "metadata": {
        "id": "vOiUFzc3IQOj"
      }
    },
    {
      "cell_type": "code",
      "source": [
        "print(a[-1])\n",
        "print(a[-4])"
      ],
      "metadata": {
        "id": "GoQLluZSIOpI",
        "colab": {
          "base_uri": "https://localhost:8080/"
        },
        "outputId": "9b57b1eb-c661-428c-ce75-59b8284542ab"
      },
      "execution_count": 47,
      "outputs": [
        {
          "output_type": "stream",
          "name": "stdout",
          "text": [
            "!\n",
            "d\n"
          ]
        }
      ]
    },
    {
      "cell_type": "markdown",
      "source": [
        "#### **슬라이싱 (Slicing)**\n",
        "\n",
        "문자열의 슬라이싱(Slicing) 은 문자열 내의 특정 구간을 잘라내는 것입니다. 슬라이싱에서의 순서는 인덱싱과 마찬가지로 0부터 시작합니다. 하지만 슬라이싱의 인덱스는 문자열의 위치를 가리키는게 아니라 문자열 사이사이의 칸막이를 가리키는 것으로 이해하셔야 헷갈리지 않습니다. 아래 그림을 참고하세요.\n",
        "\n",
        "![](https://github.com/yebiny/SkillTreePython/blob/main/imgs/2-2-2.PNG?raw=true)\n",
        "\n",
        "*  `a[start:end]` : 문자열 `a`의 `start` 부터 `end`까지 구간을 슬라이싱합니다.\n",
        "\n",
        "```\n",
        "a = 'nice day!'\n",
        "print(a[1:4])\n",
        "```\n"
      ],
      "metadata": {
        "id": "HkFYQ6riIswz"
      }
    },
    {
      "cell_type": "code",
      "source": [
        "a = 'nice day!'\n",
        "print(a[1:4])"
      ],
      "metadata": {
        "id": "CuP424IgIT5Q",
        "colab": {
          "base_uri": "https://localhost:8080/"
        },
        "outputId": "8ea54939-0de6-4435-9b08-6cf2f5267e5d"
      },
      "execution_count": 61,
      "outputs": [
        {
          "output_type": "stream",
          "name": "stdout",
          "text": [
            "ice\n"
          ]
        }
      ]
    },
    {
      "cell_type": "markdown",
      "source": [
        "만약  `start` 나 `end` 값을 적지 않으면 어떻게 될까요?\n",
        "\n",
        "```\n",
        "a = 'nice day!'\n",
        "print(a[:4])\n",
        "```\n",
        "\n",
        "`start` 값을 적지 않았지만 자동으로 `0`으로 인식하여 슬라이싱 합니다. 반대로 `end` 값을 적지 않으면 마지막(칸막이)을 뜻하는 `-1`이 인식됩니다."
      ],
      "metadata": {
        "id": "CG4gOxN8Iznp"
      }
    },
    {
      "cell_type": "code",
      "source": [
        "a = 'nice day!'\n",
        "print(a[:4]) # start 값을 안쓰면 start == 0 (0은 생략 가능)\n",
        "print(a[0:4])\n",
        "print(a[4:]) # end 값을 안쓰면  end == 9 (끝 생략 가능)\n",
        "# indexing 에서만 -1 이 끝 값이다. 슬라이싱에서는 조금 다름."
      ],
      "metadata": {
        "id": "uaoZZQFIIyZ2",
        "colab": {
          "base_uri": "https://localhost:8080/"
        },
        "outputId": "e58652c5-f6e8-41e9-8dd4-854717765770"
      },
      "execution_count": 64,
      "outputs": [
        {
          "output_type": "stream",
          "name": "stdout",
          "text": [
            "nice\n",
            "nice\n",
            " day!\n"
          ]
        }
      ]
    },
    {
      "cell_type": "markdown",
      "source": [
        "\n",
        "따라서 아래 코드는 처음부터 끝까지 슬라이싱 하라는 것과 동일합니다. \n",
        "\n",
        "```\n",
        "a = 'nice day!'\n",
        "print(a[:])\n",
        "```\n",
        "\n",
        "\n"
      ],
      "metadata": {
        "id": "W5j566GxI4hc"
      }
    },
    {
      "cell_type": "code",
      "source": [
        "print(a[:])"
      ],
      "metadata": {
        "id": "L9vlbxXuI2Fd",
        "colab": {
          "base_uri": "https://localhost:8080/"
        },
        "outputId": "43eee378-2fc9-44bf-966f-875b4f5d293a"
      },
      "execution_count": 65,
      "outputs": [
        {
          "output_type": "stream",
          "name": "stdout",
          "text": [
            "nice day!\n"
          ]
        }
      ]
    },
    {
      "cell_type": "markdown",
      "source": [
        "* `x[start:end:step]`"
      ],
      "metadata": {
        "id": "mvCQlzWyWrmK"
      }
    },
    {
      "cell_type": "code",
      "source": [
        "a = 'nice day!'\n",
        "print(a[::2])\n",
        "print(a[::3])\n",
        "print(a[::-1])"
      ],
      "metadata": {
        "colab": {
          "base_uri": "https://localhost:8080/"
        },
        "id": "l_Fc9ygNWvur",
        "outputId": "f492bb66-1016-4393-845b-a838600ff6fd"
      },
      "execution_count": 104,
      "outputs": [
        {
          "output_type": "stream",
          "name": "stdout",
          "text": [
            "nc a!\n",
            "nea\n",
            "!yad ecin\n"
          ]
        }
      ]
    },
    {
      "cell_type": "markdown",
      "source": [
        "### (5) 문자열 연산\n",
        "\n",
        "문자열도 수치자료형처럼 몇가지 연산이 가능합니다. 더하기 `+`와 곱셈 `*`을 사용할 수 있습니다.\n"
      ],
      "metadata": {
        "id": "I8LnkqP8KsaZ"
      }
    },
    {
      "cell_type": "markdown",
      "source": [
        "\n",
        "#### **더하기**\n",
        "\n",
        "* `a+b` : 문자열 `a`와 문자열 `b`를 하나의 문자열로 변환합니다.\n",
        "\n",
        "```\n",
        "a = 'nice'\n",
        "b = 'day!'\n",
        "print(a+b)\n",
        "```\n"
      ],
      "metadata": {
        "id": "8aUbNRGiKdE9"
      }
    },
    {
      "cell_type": "code",
      "source": [
        "a = 'nice'\n",
        "b = 'day!'\n",
        "print(a+b) "
      ],
      "metadata": {
        "id": "--dLtQdXKSb2",
        "colab": {
          "base_uri": "https://localhost:8080/"
        },
        "outputId": "b4a1ed69-1091-46f1-9ce6-ff08d2750768"
      },
      "execution_count": 66,
      "outputs": [
        {
          "output_type": "stream",
          "name": "stdout",
          "text": [
            "niceday!\n"
          ]
        }
      ]
    },
    {
      "cell_type": "markdown",
      "source": [
        "#### **곱하기**\n",
        "\n",
        "* `a*b` 문자열 `a`를 정수 `b`번 반복합니다. \n",
        "\n",
        "```\n",
        "a = 'nice'\n",
        "b = 'day!'\n",
        "print(a*3+b)\n",
        "```"
      ],
      "metadata": {
        "id": "kPmXu9HrKkak"
      }
    },
    {
      "cell_type": "code",
      "source": [
        "print(a*3 + b)"
      ],
      "metadata": {
        "id": "j029NDxLKjNQ",
        "colab": {
          "base_uri": "https://localhost:8080/"
        },
        "outputId": "60b50582-ea7d-4bbd-e3f6-b45aa8ac081b"
      },
      "execution_count": 67,
      "outputs": [
        {
          "output_type": "stream",
          "name": "stdout",
          "text": [
            "niceniceniceday!\n"
          ]
        }
      ]
    },
    {
      "cell_type": "markdown",
      "source": [
        "### (6) 문자열 메서드\n",
        "\n",
        "\n",
        "아래 표와 같이 문자열 메서드는 아주 다양합니다. 여기서는 자주 쓰이는 몇가지 함수만 간단히 배워보도록 합니다. 만약 코드를 작성하면서 더 다양한 문자열 메서드가 필요할 경우엔 표를 참고하고 해당 함수를 검색해보고 사용방법을 익혀가는 것도 좋습니다.\n",
        "\n",
        "|종류|함수|\n",
        "|--|--|\n",
        "|string calculation| `len()`, `min()`, `max()`, `count()`|\n",
        "|encoding/decoding| `encode()`, `decode()`|\n",
        "|string search|`startswith()`, `endswith()`, `find()`, `rfind()`, `index()`, `rindex()`|\n",
        "|number/character|`isalnum()`, `isalpha()`, `isdigit()`, `isnumeric()`, `isdecimal()`|\n",
        "|lower/upper| `islower()`, `isupper()`, `lower()`, `upper()`, `swapcase()`, `istitle()`, `title()`, `capitalize()`|\n",
        "|space/strip| `isstrip()`, `rstrip()`, `strip()`, `isspace()`, `center()`|\n",
        "|split/ join / fill | `split()`, `splitlines()`, `replace()`, `join()`, `zfill()`, `ljust()`, `rjust()`|\n"
      ],
      "metadata": {
        "id": "TqG0SPsMKybG"
      }
    },
    {
      "cell_type": "markdown",
      "source": [
        "#### **String calculation**\n",
        "\n",
        "* `len(x)` : 문자열 `x`의 **길이**를 반환합니다.\n",
        "\n",
        "```\n",
        "x  = 'abcde'\n",
        "print(len(x))\n",
        "```\n"
      ],
      "metadata": {
        "id": "ubTi__L8K6dR"
      }
    },
    {
      "cell_type": "code",
      "source": [
        "#string calculation 가장 중요.\n",
        "x = 'abcde'\n",
        "print(len(x))"
      ],
      "metadata": {
        "id": "33I4_rM3Ktv1",
        "colab": {
          "base_uri": "https://localhost:8080/"
        },
        "outputId": "4cab807c-8710-40bd-b0ab-8fbfe32e57c4"
      },
      "execution_count": 68,
      "outputs": [
        {
          "output_type": "stream",
          "name": "stdout",
          "text": [
            "5\n"
          ]
        }
      ]
    },
    {
      "cell_type": "markdown",
      "source": [
        "* `max(x)` : 문자열 `x`의 **최대값**을 반환합니다.\n",
        "\n",
        "\n",
        "문자열의 정렬 순서는 **기호-숫자-대문자-소문자** 입니다. 먼저 정렬 되는 문자가 최소값으로, 나중에 정렬되는 값이 최대값이 됩니다.\n",
        "\n",
        "\n",
        "```\n",
        "x  = 'abcde'\n",
        "print(max(x))\n",
        "```"
      ],
      "metadata": {
        "id": "0xOIdn0SK-vM"
      }
    },
    {
      "cell_type": "code",
      "source": [
        "x = '236$helloO'\n",
        "print(max(x)) # 문자에서는 최대값 최소값이 정렬 순서이다. \n",
        "print(min(x))"
      ],
      "metadata": {
        "id": "KbxFJGLbK9Rn",
        "colab": {
          "base_uri": "https://localhost:8080/"
        },
        "outputId": "a8307991-934b-42ba-f27b-37b1663b7e36"
      },
      "execution_count": 73,
      "outputs": [
        {
          "output_type": "stream",
          "name": "stdout",
          "text": [
            "o\n",
            "$\n"
          ]
        }
      ]
    },
    {
      "cell_type": "markdown",
      "source": [
        "#### **String search**\n",
        "\n",
        "* `x.startswith(w)`:  문자열 `x`가 특정 문자 `w`로 **시작되는지** 여부를 확인합니다.\n",
        "\n",
        "```\n",
        "a = 'abcde'\n",
        "print(a.startswith('abc'))\n",
        "```\n"
      ],
      "metadata": {
        "id": "9-mHMeV2NQvv"
      }
    },
    {
      "cell_type": "code",
      "source": [
        "a = 'abcde'\n",
        "print(a.startswith('abc'))"
      ],
      "metadata": {
        "id": "2jJJRswKNSaZ",
        "colab": {
          "base_uri": "https://localhost:8080/"
        },
        "outputId": "a3c9df76-8d25-46d1-98c4-78fa2034aee8"
      },
      "execution_count": 74,
      "outputs": [
        {
          "output_type": "stream",
          "name": "stdout",
          "text": [
            "True\n"
          ]
        }
      ]
    },
    {
      "cell_type": "markdown",
      "source": [
        "* `x.endswith(w)`:  문자열 `x`가 특정 문자 `w`로 **끝나는지 **여부를 확인합니다.\n",
        "\n",
        "```\n",
        "a = 'abcde'\n",
        "print(a.endswith('abc'))\n",
        "```\n"
      ],
      "metadata": {
        "id": "BkimuFv2NSeV"
      }
    },
    {
      "cell_type": "code",
      "source": [
        "print(a.endswith('ddd'))"
      ],
      "metadata": {
        "id": "o7cggDDmNM2l",
        "colab": {
          "base_uri": "https://localhost:8080/"
        },
        "outputId": "3023bdf9-1606-48ad-8e94-c7fcfc67ee5e"
      },
      "execution_count": 75,
      "outputs": [
        {
          "output_type": "stream",
          "name": "stdout",
          "text": [
            "False\n"
          ]
        }
      ]
    },
    {
      "cell_type": "markdown",
      "source": [
        "#### **Lower/upper**\n",
        "\n",
        "* `x.lower()` : 문자열 `x`의 모든 알파벳을 **소문자**로 변환합니다.\n",
        "\n",
        "```\n",
        "a = 'ABCDE'\n",
        "print(a.lower())\n",
        "```"
      ],
      "metadata": {
        "id": "P9dFMBGmNc_Q"
      }
    },
    {
      "cell_type": "code",
      "source": [
        "a = 'ABCDE'\n",
        "print(a.lower())"
      ],
      "metadata": {
        "id": "v-hdqCgUNXDe",
        "colab": {
          "base_uri": "https://localhost:8080/"
        },
        "outputId": "594ca660-1a24-4511-d0f5-d0a6a7b70497"
      },
      "execution_count": 79,
      "outputs": [
        {
          "output_type": "stream",
          "name": "stdout",
          "text": [
            "abcde\n"
          ]
        }
      ]
    },
    {
      "cell_type": "markdown",
      "source": [
        "* `x.upper()` : 문자열 `x`의 모든 알파벳을 **대문자**로 변환합니다.\n",
        "\n",
        "```\n",
        "a = 'abcde'\n",
        "print(a.upper())\n",
        "```"
      ],
      "metadata": {
        "id": "WVWQ5PVSNhcQ"
      }
    },
    {
      "cell_type": "code",
      "source": [
        "a = 'abcde'\n",
        "print(a.upper())"
      ],
      "metadata": {
        "id": "bQPMKC2tNgbF",
        "colab": {
          "base_uri": "https://localhost:8080/"
        },
        "outputId": "b2799111-c36e-45a4-a4bd-3a5bfbb8cd58"
      },
      "execution_count": 77,
      "outputs": [
        {
          "output_type": "stream",
          "name": "stdout",
          "text": [
            "ABCDE\n"
          ]
        }
      ]
    },
    {
      "cell_type": "markdown",
      "source": [
        "* `x.capitalize()` : 문자열 `x`의 **첫글자**를 **대문자**로 변환합니다.\n",
        "\n",
        "```\n",
        "a = 'abcde'\n",
        "print(a.capitalize())\n",
        "```"
      ],
      "metadata": {
        "id": "FMYVrryXNkfm"
      }
    },
    {
      "cell_type": "code",
      "source": [
        "a = 'abcde'\n",
        "print(a.capitalize())"
      ],
      "metadata": {
        "id": "49oaOV42NjiH",
        "colab": {
          "base_uri": "https://localhost:8080/"
        },
        "outputId": "b61ebab3-0a55-4088-84a9-cdd057323eed"
      },
      "execution_count": 80,
      "outputs": [
        {
          "output_type": "stream",
          "name": "stdout",
          "text": [
            "Abcde\n"
          ]
        }
      ]
    },
    {
      "cell_type": "markdown",
      "source": [
        "#### **split/join/replace**\n",
        "\n"
      ],
      "metadata": {
        "id": "9XBv4jlpNoTe"
      }
    },
    {
      "cell_type": "markdown",
      "source": [
        "* `x.split(sep=w)` : 문자열 `x`를 문자열 `w` 를 기준으로 분할하여 리스트 형태로 반환합니다. `sep` 의 디폴트 값은 '` `' (공백) 입니다.\n",
        "\n",
        "이 때 `리스트` 라는 타입은 아직 배우지 않았습니다. 파이썬의 여러가지 자료형 중 하나이며 이에 대한 자세한 내용은 다음 시간에 배우도록 합니다. \n",
        "\n",
        "```\n",
        "a ='nice day!'\n",
        "print(a.split())\n",
        "```"
      ],
      "metadata": {
        "id": "8wuaAaywN5hP"
      }
    },
    {
      "cell_type": "code",
      "source": [
        "a = 'nice day!'\n",
        "print(a.split())\n",
        "print(a.split('e')) #e는 없어졌다."
      ],
      "metadata": {
        "id": "POE--Jr0NnaF",
        "colab": {
          "base_uri": "https://localhost:8080/"
        },
        "outputId": "ac2fa96e-5e42-4062-c52a-80753c6a1481"
      },
      "execution_count": 84,
      "outputs": [
        {
          "output_type": "stream",
          "name": "stdout",
          "text": [
            "['nice', 'day!']\n",
            "['nic', ' day!']\n"
          ]
        }
      ]
    },
    {
      "cell_type": "markdown",
      "source": [
        "* `w.join(l)` : 리스트 `l`의 값들을 문자열로 변환합니다. 변환 시 값 사이에 문자열 `w`를 끼어 넣습니다.\n",
        "\n",
        "```\n",
        "l = ['nice', 'day!']\n",
        "print(' '.join(a))\n",
        "```"
      ],
      "metadata": {
        "id": "v66Jjj_AN6tG"
      }
    },
    {
      "cell_type": "code",
      "source": [
        "l = ['nice','day!']\n",
        "print(' '.join(l)) #리스트를 문자열로 변환\n",
        "\n",
        "x = \"Happy Birthday\"\n",
        "y = ' '.join(x)\n",
        "print(y)\n",
        "type(y)"
      ],
      "metadata": {
        "id": "qca8pvnfN-kN",
        "colab": {
          "base_uri": "https://localhost:8080/"
        },
        "outputId": "0f2f7709-c5d9-4705-fa32-57560a76326d"
      },
      "execution_count": 134,
      "outputs": [
        {
          "output_type": "stream",
          "name": "stdout",
          "text": [
            "nice day!\n",
            "H a p p y   B i r t h d a y\n"
          ]
        },
        {
          "output_type": "execute_result",
          "data": {
            "text/plain": [
              "str"
            ]
          },
          "metadata": {},
          "execution_count": 134
        }
      ]
    },
    {
      "cell_type": "markdown",
      "source": [
        "* `a.replace(w1, w2)` :  문자열 `a` 에 포함된 문자열 `w1`을 새로운 문자열 `w2`로 변경합니다. \n",
        "\n",
        "```\n",
        "a = 'nice day!'\n",
        "print(a.replace('nice', 'good'))\n",
        "```"
      ],
      "metadata": {
        "id": "qEtziwNZN9_u"
      }
    },
    {
      "cell_type": "code",
      "source": [
        "a = 'nice day!'\n",
        "print(a.replace('nice', 'good'))"
      ],
      "metadata": {
        "id": "cc0zT0VJNr7H",
        "colab": {
          "base_uri": "https://localhost:8080/"
        },
        "outputId": "2a15c6c7-47ba-43de-8549-d3a69911a10d"
      },
      "execution_count": 91,
      "outputs": [
        {
          "output_type": "stream",
          "name": "stdout",
          "text": [
            "good day!\n"
          ]
        }
      ]
    },
    {
      "cell_type": "markdown",
      "source": [
        "## 문제풀이\n",
        "---\n"
      ],
      "metadata": {
        "id": "8x1cuwCDOE6N"
      }
    },
    {
      "cell_type": "markdown",
      "source": [
        "**예제 01**\n",
        "\n",
        "아래 문장을 출력하는 코드를 작성하세요\n",
        "\n",
        "```\n",
        "/menu/ \"Americano\" : 1000\n",
        "```\n"
      ],
      "metadata": {
        "id": "ZRBYoVIVOFiZ"
      }
    },
    {
      "cell_type": "code",
      "source": [
        "print('''/menu/ \"Americano\" : 1000''')"
      ],
      "metadata": {
        "id": "MAVicogJOBj9",
        "colab": {
          "base_uri": "https://localhost:8080/"
        },
        "outputId": "d44d0085-7734-459e-d307-45e5427630fb"
      },
      "execution_count": 48,
      "outputs": [
        {
          "output_type": "stream",
          "name": "stdout",
          "text": [
            "/menu/ \"Americano\" : 1000\n"
          ]
        }
      ]
    },
    {
      "cell_type": "markdown",
      "source": [
        "**예제 02**\n",
        "\n",
        "아래 문장을 출력하는 코드를 **이스케이프 코드**를 사용하여 작성하세요\n",
        "\n",
        "```\n",
        "/menu/\n",
        "\"Americano\" : 1000\n",
        "\"Latte\" : 2000\n",
        "\"Ade\" : 2500\n",
        "```"
      ],
      "metadata": {
        "id": "XiTpBd3EOI29"
      }
    },
    {
      "cell_type": "code",
      "source": [
        "print('/menu/\\n\"Americano: : 1000\\n\"Latte\" : 2000\\n\"Ade : 2500')"
      ],
      "metadata": {
        "id": "hQWq7giVOLDN",
        "colab": {
          "base_uri": "https://localhost:8080/"
        },
        "outputId": "f6657610-9d54-40c8-bf69-8e0a23e2072c"
      },
      "execution_count": 49,
      "outputs": [
        {
          "output_type": "stream",
          "name": "stdout",
          "text": [
            "/menu/\n",
            "\"Americano: : 1000\n",
            "\"Latte\" : 2000\n",
            "\"Ade : 2500\n"
          ]
        }
      ]
    },
    {
      "cell_type": "markdown",
      "source": [
        "**예제 03**\n",
        "\n",
        "아래 문장을 출력하는 코드를 이스케이프 코드를 **사용하지 않고** 작성하세요\n",
        "\n",
        "```\n",
        "/menu/\n",
        "\"Americano\" : 1000\n",
        "\"Latte\" : 2000\n",
        "\"Ade\" : 2500\n",
        "```"
      ],
      "metadata": {
        "id": "TL9BXZKdOJ2R"
      }
    },
    {
      "cell_type": "code",
      "source": [
        "print('''/menu/\n",
        "\"Americano\" : 1000\n",
        "\"Latte\" : 2000\n",
        "\"Ade\" : 2500''')"
      ],
      "metadata": {
        "id": "20X88hqdOLYF",
        "colab": {
          "base_uri": "https://localhost:8080/"
        },
        "outputId": "5892f032-b9b1-46cf-adb8-514247376c2a"
      },
      "execution_count": 51,
      "outputs": [
        {
          "output_type": "stream",
          "name": "stdout",
          "text": [
            "/menu/\n",
            "\"Americano\" : 1000\n",
            "\"Latte\" : 2000\n",
            "\"Ade\" : 2500\n"
          ]
        }
      ]
    },
    {
      "cell_type": "markdown",
      "source": [
        "**예제 04**\n",
        "\n",
        "변수 `num`과 `menu`가 아래와 같이 바인딩 되어 있습니다. **문자열 연산**을 이용해서 코드를 작성하세요\n",
        "\n",
        "```\n",
        ">> num = 3\n",
        ">> menu = americano\n",
        ">> # 코드작성\n",
        "3 americano please.\n",
        "```"
      ],
      "metadata": {
        "id": "6Lhqf_OwOMll"
      }
    },
    {
      "cell_type": "code",
      "source": [
        "num = 3\n",
        "menu = 'americano'\n",
        "print(str(num) + ' ' + menu + ' please.')"
      ],
      "metadata": {
        "id": "sZpNXFJ9ONMf",
        "colab": {
          "base_uri": "https://localhost:8080/"
        },
        "outputId": "3ec26910-d154-4579-d2dc-e3b4c668ee3a"
      },
      "execution_count": 60,
      "outputs": [
        {
          "output_type": "stream",
          "name": "stdout",
          "text": [
            "3 americano please.\n"
          ]
        }
      ]
    },
    {
      "cell_type": "markdown",
      "source": [
        "**예제 05**\n",
        "\n",
        "변수 `num`과 `menu`가 아래와 같이 바인딩 되어 있습니다. **`%` 포맷팅**을 이용해서 코드를 작성하세요\n",
        "\n",
        "```\n",
        ">> num = 3\n",
        ">> menu = americano\n",
        ">> # 코드작성\n",
        "3 americano please.\n",
        "```"
      ],
      "metadata": {
        "id": "zh2HpYNEONgY"
      }
    },
    {
      "cell_type": "code",
      "source": [
        "num = 3\n",
        "menu = 'americano'\n",
        "print('%d %s please.' %(num, menu))"
      ],
      "metadata": {
        "id": "NA-xF7dROPo9",
        "colab": {
          "base_uri": "https://localhost:8080/"
        },
        "outputId": "bcd1a07a-0a5c-4a3c-928b-289d3a1079c3"
      },
      "execution_count": 56,
      "outputs": [
        {
          "output_type": "stream",
          "name": "stdout",
          "text": [
            "3 americano please.\n"
          ]
        }
      ]
    },
    {
      "cell_type": "markdown",
      "source": [
        "**예제 06**\n",
        "\n",
        "`예제 05` 문제를  **`.format()` 포맷팅** 을 이용해서 코드를 작성하세요\n"
      ],
      "metadata": {
        "id": "XQQ4qM7XORNP"
      }
    },
    {
      "cell_type": "code",
      "source": [
        "print('{} {} please.' .format(num, menu))"
      ],
      "metadata": {
        "id": "7swQ-a-COWWm",
        "colab": {
          "base_uri": "https://localhost:8080/"
        },
        "outputId": "a6fc064f-be7e-4a53-926a-e6523acc55d4"
      },
      "execution_count": 55,
      "outputs": [
        {
          "output_type": "stream",
          "name": "stdout",
          "text": [
            "3 americano please.\n"
          ]
        }
      ]
    },
    {
      "cell_type": "markdown",
      "source": [
        "**예제 07**\n",
        "\n",
        "`예제 05` 문제를  **`f-string` 문법** 을 이용해서 코드를 작성하세요\n"
      ],
      "metadata": {
        "id": "aH1WhRrtOYqP"
      }
    },
    {
      "cell_type": "code",
      "source": [
        "print(f'{num} {menu} please.')"
      ],
      "metadata": {
        "id": "Srb82g7TOYqQ",
        "colab": {
          "base_uri": "https://localhost:8080/"
        },
        "outputId": "bee8427e-385e-4e6d-810d-c7f8b86827f2"
      },
      "execution_count": 54,
      "outputs": [
        {
          "output_type": "stream",
          "name": "stdout",
          "text": [
            "3 americano please.\n"
          ]
        }
      ]
    },
    {
      "cell_type": "markdown",
      "source": [
        "**예제 08**\n",
        "\n",
        "다음 코드를 실행해보세요. 오류가 나는지 쓰고, 그 이유를 서술하세요.\n",
        "\n",
        "```\n",
        "color = 'red'\n",
        "w = '%i apples'%color\n",
        "print(w)\n",
        "```"
      ],
      "metadata": {
        "id": "QR5ZQDJDOiQ9"
      }
    },
    {
      "cell_type": "code",
      "source": [
        "# 오류가 난다. %i 대신에 %s 를 써야한다. \n",
        "\n",
        "color = 'red'\n",
        "w = '%s apples'%color\n",
        "print(w)"
      ],
      "metadata": {
        "id": "YbRl_5dhOizV",
        "colab": {
          "base_uri": "https://localhost:8080/"
        },
        "outputId": "cbc5a532-b4c5-4fa1-9aa2-90a372e55412"
      },
      "execution_count": 95,
      "outputs": [
        {
          "output_type": "stream",
          "name": "stdout",
          "text": [
            "red apples\n"
          ]
        }
      ]
    },
    {
      "cell_type": "markdown",
      "source": [
        "**예제 09**\n",
        "\n",
        "다음 코드를 실행해보세요. 오류가 나는지 쓰고, 그 이유를 서술하세요.\n",
        "\n",
        "```\n",
        "num = 5\n",
        "w = '%f apples'%num\n",
        "print(w)\n",
        "```"
      ],
      "metadata": {
        "id": "VQO77CJPOv_y"
      }
    },
    {
      "cell_type": "code",
      "source": [
        "num = 5\n",
        "w = '%f apples'%num\n",
        "print(w)\n",
        "\n",
        "\n",
        "# 실수는 정수를 포함하고 있기 때문에 오류는 나지 않는다. \n"
      ],
      "metadata": {
        "id": "feupkLYHOz9M",
        "colab": {
          "base_uri": "https://localhost:8080/"
        },
        "outputId": "983a9661-101d-4c3d-ae5f-7f4b6fb27a83"
      },
      "execution_count": 96,
      "outputs": [
        {
          "output_type": "stream",
          "name": "stdout",
          "text": [
            "5.000000 apples\n"
          ]
        }
      ]
    },
    {
      "cell_type": "markdown",
      "source": [
        "\n",
        "**예제 10**\n",
        "\n",
        "`a`가 바인딩한 문자열의 첫번째와 마지막 문자를 출력하세요\n",
        "```\n",
        "a = 'Birthday'\n",
        "```\n"
      ],
      "metadata": {
        "id": "2GYjJcAuRn_n"
      }
    },
    {
      "cell_type": "code",
      "source": [
        "a = 'Birthday'\n",
        "print(a[0], a[-1])"
      ],
      "metadata": {
        "id": "Q5gjeqAsRocT",
        "colab": {
          "base_uri": "https://localhost:8080/"
        },
        "outputId": "b58f2a9a-eac3-43bc-e469-8f525c022fe6"
      },
      "execution_count": 98,
      "outputs": [
        {
          "output_type": "stream",
          "name": "stdout",
          "text": [
            "B y\n"
          ]
        }
      ]
    },
    {
      "cell_type": "markdown",
      "source": [
        "**예제 11**\n",
        "\n",
        "`a`가 바인딩한 문자열의 뒤 3자리만 출력하세요\n",
        "\n",
        "```\n",
        "a = 'Birthday'\n",
        "```\n"
      ],
      "metadata": {
        "id": "iMrG4iPURpm6"
      }
    },
    {
      "cell_type": "code",
      "source": [
        "a = 'Birthday'\n",
        "print(a[-3:])"
      ],
      "metadata": {
        "id": "00VaouHfRqG8",
        "colab": {
          "base_uri": "https://localhost:8080/"
        },
        "outputId": "0b478fd3-514f-4f9b-bbcc-0beaf7a7b663"
      },
      "execution_count": 99,
      "outputs": [
        {
          "output_type": "stream",
          "name": "stdout",
          "text": [
            "day\n"
          ]
        }
      ]
    },
    {
      "cell_type": "markdown",
      "source": [
        "**예제 12**\n",
        "\n",
        "`a`가 바인딩한 문자열에서 `2`만 출력하세요\n",
        "\n",
        "\n",
        "```\n",
        "a = '123123123'\n",
        "```"
      ],
      "metadata": {
        "id": "Bhh_pmZ4RrVE"
      }
    },
    {
      "cell_type": "code",
      "source": [
        "a = '123123123'\n",
        "print(a[1::3])"
      ],
      "metadata": {
        "id": "i_fbxMUiRry3",
        "colab": {
          "base_uri": "https://localhost:8080/"
        },
        "outputId": "fab24bee-49d3-41c2-dc54-40bf48ae6f75"
      },
      "execution_count": 100,
      "outputs": [
        {
          "output_type": "stream",
          "name": "stdout",
          "text": [
            "222\n"
          ]
        }
      ]
    },
    {
      "cell_type": "markdown",
      "source": [
        "**예제 13**\n",
        "\n",
        "문자열을 입력하면 거꾸로 출력하는 코드를 작성하세요\n",
        "\n",
        "```\n",
        ">> Enter sentence : hello\n",
        "he said, olleh\n",
        "```"
      ],
      "metadata": {
        "id": "qmqSfVlgRr6O"
      }
    },
    {
      "cell_type": "code",
      "source": [
        "s = input(\"Enter sentence :\")\n",
        "print('he said, ' + s[::-1])"
      ],
      "metadata": {
        "id": "ft49uqD3Rt69",
        "colab": {
          "base_uri": "https://localhost:8080/"
        },
        "outputId": "afb2a538-aac3-4e35-b14e-ef5a48f03b29"
      },
      "execution_count": 136,
      "outputs": [
        {
          "output_type": "stream",
          "name": "stdout",
          "text": [
            "Enter sentence :hello\n",
            "he said, olleh\n"
          ]
        }
      ]
    },
    {
      "cell_type": "markdown",
      "source": [
        "**예제 14**\n",
        "\n",
        "다음과 같이  `input()` 함수를 이용해 변수를 적용하여 문장을 출력하는 코드를 작성하세요\n",
        "\n",
        "* 예시 1\n",
        "\n",
        "```\n",
        ">> how's the day? : nice\n",
        "It's nice day!\n",
        "```\n",
        "\n",
        "* 예시 2\n",
        "\n",
        "```\n",
        ">> how's the day? : sunny\n",
        "It's sunny day!\n",
        "```"
      ],
      "metadata": {
        "id": "zBsIZKl3O3XF"
      }
    },
    {
      "cell_type": "code",
      "source": [
        "s = input(\"how's the day? :\")\n",
        "print(f\"It's {s} day!\")"
      ],
      "metadata": {
        "id": "2gQPfgVpO4cU",
        "colab": {
          "base_uri": "https://localhost:8080/"
        },
        "outputId": "fc9f36f6-339e-47a6-b040-8908a76e43e5"
      },
      "execution_count": 105,
      "outputs": [
        {
          "output_type": "stream",
          "name": "stdout",
          "text": [
            "how's the day? :sunny\n",
            "It's sunny day!\n"
          ]
        }
      ]
    },
    {
      "cell_type": "markdown",
      "source": [
        "**예제 15**\n",
        "\n",
        "문자열을 입력하면 끝에서 2개 문자만 출력하는 \n",
        "코드를 작성하세요\n",
        "\n",
        "* 예시 1\n",
        "\n",
        "```{.python}\n",
        ">> Enter sentence : hello\n",
        "last 2  : lo\n",
        "```\n",
        "\n",
        "* 예시 2 \n",
        "\n",
        "```\n",
        ">> Enter sentence : nice day!\n",
        "last 2 : y!\n",
        "```"
      ],
      "metadata": {
        "id": "MbDaWjEbRxgv"
      }
    },
    {
      "cell_type": "code",
      "source": [
        "s = input(\"Enter sentence : \")\n",
        "print( \"last 2 :\", s[-2:] )\n",
        "print( f\"last 2 : {s[-2:]}\")"
      ],
      "metadata": {
        "colab": {
          "base_uri": "https://localhost:8080/"
        },
        "id": "vgUj3rdqXd65",
        "outputId": "eb7f999f-c18a-4ffd-9409-1e1acab5aa2c"
      },
      "execution_count": 135,
      "outputs": [
        {
          "output_type": "stream",
          "name": "stdout",
          "text": [
            "Enter sentence : nice day!\n",
            "last 2 : y!\n",
            "last 2 : y!\n"
          ]
        }
      ]
    },
    {
      "cell_type": "markdown",
      "source": [
        "**예제 16**\n",
        "\n",
        "아래 코드 결과를 예상해보고 직접 실행해보세요.\n",
        "\n",
        "```\n",
        "a = ''\n",
        "a = a+'what'\n",
        "a = a+'?'\n",
        "print(a)\n",
        "```"
      ],
      "metadata": {
        "id": "WHv2vcFKR9FU"
      }
    },
    {
      "cell_type": "code",
      "source": [
        "#what?\n",
        "a = ''\n",
        "a = a+'what'\n",
        "a = a+'?'\n",
        "print(a)"
      ],
      "metadata": {
        "id": "M-fdJu1gRx9j",
        "colab": {
          "base_uri": "https://localhost:8080/"
        },
        "outputId": "ff663273-a560-45e9-fb60-371dbc09b2ef"
      },
      "execution_count": 113,
      "outputs": [
        {
          "output_type": "stream",
          "name": "stdout",
          "text": [
            "what?\n"
          ]
        }
      ]
    },
    {
      "cell_type": "markdown",
      "source": [
        "**예제 17**\n",
        "\n",
        "아래 바인딩된 값 `a`, `b`를 이용해 아래와 같이 출력해보세요(**문자열 연산**을 이용하세요)\n",
        "```\n",
        ">> a = 'me'\n",
        ">> b = 'you'\n",
        ">> # 코드작성\n",
        "meyouyouyouyouyou\n",
        "```\n"
      ],
      "metadata": {
        "id": "49-zJvQaSABn"
      }
    },
    {
      "cell_type": "code",
      "source": [
        "a = 'me'\n",
        "b = 'you'\n",
        "print(a + b * 5 )"
      ],
      "metadata": {
        "id": "u6XeJo7jSA49",
        "colab": {
          "base_uri": "https://localhost:8080/"
        },
        "outputId": "255dff43-74df-4d2a-8dd6-4170592e5813"
      },
      "execution_count": 114,
      "outputs": [
        {
          "output_type": "stream",
          "name": "stdout",
          "text": [
            "meyouyouyouyouyou\n"
          ]
        }
      ]
    },
    {
      "cell_type": "markdown",
      "source": [
        "\n",
        "**예제 18**\n",
        "\n",
        "아래 바인딩된 값 `a`, `b`를 이용해 아래와 같이 출력해보세요(**문자열 연산**을 이용하세요)\n",
        "```\n",
        ">> a = 'me'\n",
        ">> b = 'you'\n",
        ">> # 코드작성\n",
        "youmeyoumeyoumeyoumeyoumeyoumeyoumeyoume\n",
        "```"
      ],
      "metadata": {
        "id": "-VADZMxcSCgq"
      }
    },
    {
      "cell_type": "code",
      "source": [
        "print((b + a)* 8 )"
      ],
      "metadata": {
        "id": "mnrvtva0SDI0",
        "colab": {
          "base_uri": "https://localhost:8080/"
        },
        "outputId": "cec7c2f0-2ab7-4ba5-f94b-ee7a71eff298"
      },
      "execution_count": 115,
      "outputs": [
        {
          "output_type": "stream",
          "name": "stdout",
          "text": [
            "youmeyoumeyoumeyoumeyoumeyoumeyoumeyoume\n"
          ]
        }
      ]
    },
    {
      "cell_type": "markdown",
      "source": [
        "**예제 19**\n",
        "\n",
        "코드번호는 숫자가 나열된 문자열의 **길이** 곱하기 **최대값**으로 만들어집니다.\n",
        "코드번호를 생성하는 코드를 작성하세요\n",
        "\n",
        "```\n",
        ">> 숫자를 입력하세요 : 123456\n",
        "코드번호는 36 입니다.\n",
        "```"
      ],
      "metadata": {
        "id": "RAxXJ4S4SErN"
      }
    },
    {
      "cell_type": "code",
      "source": [
        "x = input('숫자를 입력하세요 : ')\n",
        "print('코드번호는 ',len(x)* int(max(x)),'입니다.')"
      ],
      "metadata": {
        "id": "59mTGYRqSFd8",
        "colab": {
          "base_uri": "https://localhost:8080/"
        },
        "outputId": "65d52063-b7fe-4f6c-9f8a-d72becd1ee3c"
      },
      "execution_count": 117,
      "outputs": [
        {
          "output_type": "stream",
          "name": "stdout",
          "text": [
            "숫자를 입력하세요 : 123456\n",
            "코드번호는  36 입니다.\n"
          ]
        }
      ]
    },
    {
      "cell_type": "markdown",
      "source": [
        "**예제 20**\n",
        "\n",
        "파일들의 이름이 아래와 같이 바인딩 되어 있습니다. 확장자가 파이썬 `.py`로 끝나는 파일인지 확인하는 코드를 작성하세요\n",
        "\n",
        "```\n",
        "a = 'test.py'\n",
        "b = 'train.py`\n",
        "c = 'img.jpg'\n",
        "```\n"
      ],
      "metadata": {
        "id": "jroYBZMjSGxF"
      }
    },
    {
      "cell_type": "code",
      "source": [
        "a = 'test.py'\n",
        "b = 'train.py'\n",
        "c = 'img.jpg'\n",
        "print(a.endswith('.py'))\n",
        "print(b.endswith('.py'))\n",
        "print(c.endswith('.py'))"
      ],
      "metadata": {
        "id": "XMWt5kqnSHot",
        "colab": {
          "base_uri": "https://localhost:8080/"
        },
        "outputId": "a23b9c3c-6c5a-4511-ccbb-ce03fb71a378"
      },
      "execution_count": 118,
      "outputs": [
        {
          "output_type": "stream",
          "name": "stdout",
          "text": [
            "True\n",
            "True\n",
            "False\n"
          ]
        }
      ]
    },
    {
      "cell_type": "markdown",
      "source": [
        "**예제 21**\n",
        "\n",
        "아래 문자열을 **대문자**로 변경하세요\n",
        "\n",
        "```\n",
        "a = 'my_little_cat'\n",
        "```"
      ],
      "metadata": {
        "id": "iqBg4JWWSI7Z"
      }
    },
    {
      "cell_type": "code",
      "source": [
        "a = 'my_little_cat'\n",
        "print(a.upper())"
      ],
      "metadata": {
        "id": "g09gZVsSSJlE",
        "colab": {
          "base_uri": "https://localhost:8080/"
        },
        "outputId": "09429df4-a481-478c-8bf9-a41f46dd747e"
      },
      "execution_count": 119,
      "outputs": [
        {
          "output_type": "stream",
          "name": "stdout",
          "text": [
            "MY_LITTLE_CAT\n"
          ]
        }
      ]
    },
    {
      "cell_type": "markdown",
      "source": [
        "**예제 22**\n",
        "\n",
        "아래 문자열의 **첫글자만 대문자**로 변경하세요\n",
        "\n",
        "\n",
        "```\n",
        "a = 'my_little_cat'\n",
        "\n",
        "```"
      ],
      "metadata": {
        "id": "PZ880dpkS882"
      }
    },
    {
      "cell_type": "code",
      "source": [
        "print(a.capitalize())"
      ],
      "metadata": {
        "id": "V5IPhBgdS9p1",
        "colab": {
          "base_uri": "https://localhost:8080/"
        },
        "outputId": "969cc63b-ab48-432c-b6a3-e74051b22417"
      },
      "execution_count": 120,
      "outputs": [
        {
          "output_type": "stream",
          "name": "stdout",
          "text": [
            "My_little_cat\n"
          ]
        }
      ]
    },
    {
      "cell_type": "markdown",
      "source": [
        "**예제 23**\n",
        "\n",
        "금액이 아래와 같이 바인딩되어 있습니다. 쉼표`,`를 **제거 후** `int` 값으로 **변환**하세요\n",
        "\n",
        "```\n",
        "a = '542,322,000'\n",
        "```"
      ],
      "metadata": {
        "id": "rW1cjC4KS-ph"
      }
    },
    {
      "cell_type": "code",
      "source": [
        "a = '542,322,000'\n",
        "l = a.split(',')\n",
        "s = ''.join(l)\n",
        "s = int(s)\n",
        "print(s)"
      ],
      "metadata": {
        "id": "9xGbH5aoS_M1",
        "colab": {
          "base_uri": "https://localhost:8080/"
        },
        "outputId": "cc22b2b4-8c0a-4a12-801f-0a517e5ad2ef"
      },
      "execution_count": 122,
      "outputs": [
        {
          "output_type": "stream",
          "name": "stdout",
          "text": [
            "542322000\n"
          ]
        }
      ]
    },
    {
      "cell_type": "markdown",
      "source": [
        "**예제 24**\n",
        "\n",
        "`a`가 바인딩한 문자열에서 언더바 `_` 기준으로 단어를 나누어 **리스트에 저장**하세요.\n",
        "\n",
        "```\n",
        "a = 'today_is_my_birthday'\n",
        "```\n"
      ],
      "metadata": {
        "id": "sj2UCAFlTBBR"
      }
    },
    {
      "cell_type": "code",
      "source": [
        "a = 'today_is_my_birthday'\n",
        "l = a.split('_')\n",
        "l"
      ],
      "metadata": {
        "id": "PYVbWMYKTBh1",
        "colab": {
          "base_uri": "https://localhost:8080/"
        },
        "outputId": "a8213b8d-04b1-495a-fc5b-43a952d4d7ec"
      },
      "execution_count": 123,
      "outputs": [
        {
          "output_type": "execute_result",
          "data": {
            "text/plain": [
              "['today', 'is', 'my', 'birthday']"
            ]
          },
          "metadata": {},
          "execution_count": 123
        }
      ]
    },
    {
      "cell_type": "markdown",
      "source": [
        "**예제 25**\n",
        "\n",
        "휴대폰번호가 문자열로 저장이 되어있습니다. 이를 **번호 형식으로 변환**하는 코드를 작성하세요\n",
        "\n",
        "\n",
        "|번호|번호 형식 변환|\n",
        "|--|--|\n",
        "|'010,1234,5678'|'010-1234-5678'|\n",
        "|'010,3333,3333'|'010-3333-3333'|\n"
      ],
      "metadata": {
        "id": "4dKNxXGsTDDu"
      }
    },
    {
      "cell_type": "code",
      "source": [
        "num = input('번호 : ')\n",
        "num = num.split(',')\n",
        "num = \"-\".join(num)\n",
        "print(num)"
      ],
      "metadata": {
        "id": "-FESRkNhTD0E",
        "colab": {
          "base_uri": "https://localhost:8080/"
        },
        "outputId": "431da3c6-a4e6-497a-bb0e-030db2697dd9"
      },
      "execution_count": 126,
      "outputs": [
        {
          "output_type": "stream",
          "name": "stdout",
          "text": [
            "번호 : 010,1234,5678\n",
            "010-1234-5678\n"
          ]
        }
      ]
    },
    {
      "cell_type": "code",
      "source": [
        "num = input('번호 : ').split(',')\n",
        "num = \"-\".join(num)\n",
        "print(num)"
      ],
      "metadata": {
        "colab": {
          "base_uri": "https://localhost:8080/"
        },
        "id": "3VHUd51wbKPw",
        "outputId": "39b890ad-ddb9-4eca-d645-0ca1929f35ea"
      },
      "execution_count": 127,
      "outputs": [
        {
          "output_type": "stream",
          "name": "stdout",
          "text": [
            "번호 : 010,3333,3333\n",
            "010-3333-3333\n"
          ]
        }
      ]
    }
  ]
}