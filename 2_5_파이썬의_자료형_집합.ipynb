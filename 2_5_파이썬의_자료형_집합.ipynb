{
  "nbformat": 4,
  "nbformat_minor": 0,
  "metadata": {
    "colab": {
      "name": "2-5.파이썬의 자료형_집합.ipynb",
      "provenance": [],
      "collapsed_sections": [],
      "include_colab_link": true
    },
    "kernelspec": {
      "name": "python3",
      "display_name": "Python 3"
    },
    "language_info": {
      "name": "python"
    }
  },
  "cells": [
    {
      "cell_type": "markdown",
      "metadata": {
        "id": "view-in-github",
        "colab_type": "text"
      },
      "source": [
        "<a href=\"https://colab.research.google.com/github/PomesHouse/SkillTreePython/blob/main/2_5_%ED%8C%8C%EC%9D%B4%EC%8D%AC%EC%9D%98_%EC%9E%90%EB%A3%8C%ED%98%95_%EC%A7%91%ED%95%A9.ipynb\" target=\"_parent\"><img src=\"https://colab.research.google.com/assets/colab-badge.svg\" alt=\"Open In Colab\"/></a>"
      ]
    },
    {
      "cell_type": "markdown",
      "source": [
        "# 2-5.파이썬의 자료형:집합 \n",
        "---\n",
        "* 날짜:\n",
        "* 이름:"
      ],
      "metadata": {
        "id": "kB5IciXEm6o4"
      }
    },
    {
      "cell_type": "markdown",
      "source": [
        "## 개념정리\n",
        "---\n",
        "\n",
        "\n",
        "수학에서 쓰이는 집합의 개념과 비슷하게 파이썬에서도 집합 (set) 을 사용할 수 있습니다. "
      ],
      "metadata": {
        "id": "4iN8NFzHRJ2D"
      }
    },
    {
      "cell_type": "markdown",
      "source": [
        "### **(1) 생성**\n",
        "\n",
        "괄호 `{ }` 를 통해서 집합을 생성 할 수 있습니다. \n",
        "\n",
        "```\n",
        "a = {1,2,3}\n",
        "type(a)\n",
        "```"
      ],
      "metadata": {
        "id": "MAM8MDnfw68b"
      }
    },
    {
      "cell_type": "code",
      "source": [
        "a = {1,2,3}\n",
        "type(a)"
      ],
      "metadata": {
        "id": "GcyrxnDviDbz",
        "colab": {
          "base_uri": "https://localhost:8080/"
        },
        "outputId": "b09419fa-014b-4564-9f7c-99bee895591f"
      },
      "execution_count": 1,
      "outputs": [
        {
          "output_type": "execute_result",
          "data": {
            "text/plain": [
              "set"
            ]
          },
          "metadata": {},
          "execution_count": 1
        }
      ]
    },
    {
      "cell_type": "markdown",
      "source": [
        "#### **집합의 요소**\n",
        "\n",
        "집합의 요소로는 문자열, 수치자료형, 튜플이 가능합니다. \n",
        "\n",
        "```\n",
        "a = {'a', 1, 0.5, (2,3)}\n",
        "print(a)\n",
        "```"
      ],
      "metadata": {
        "id": "U6_8nueJiDlL"
      }
    },
    {
      "cell_type": "code",
      "source": [
        "a = {'a', 1, 0.5, (2,3), [2.3]} # TypeError: unhashable type: 'list'\n",
        "print(a)"
      ],
      "metadata": {
        "id": "RU88pe1yiGVH",
        "colab": {
          "base_uri": "https://localhost:8080/",
          "height": 193
        },
        "outputId": "82dc4ae6-a9d6-47ef-9212-14b75a592db2"
      },
      "execution_count": 2,
      "outputs": [
        {
          "output_type": "error",
          "ename": "TypeError",
          "evalue": "ignored",
          "traceback": [
            "\u001b[0;31m---------------------------------------------------------------------------\u001b[0m",
            "\u001b[0;31mTypeError\u001b[0m                                 Traceback (most recent call last)",
            "\u001b[0;32m<ipython-input-2-7862f797c123>\u001b[0m in \u001b[0;36m<module>\u001b[0;34m()\u001b[0m\n\u001b[0;32m----> 1\u001b[0;31m \u001b[0ma\u001b[0m \u001b[0;34m=\u001b[0m \u001b[0;34m{\u001b[0m\u001b[0;34m'a'\u001b[0m\u001b[0;34m,\u001b[0m \u001b[0;36m1\u001b[0m\u001b[0;34m,\u001b[0m \u001b[0;36m0.5\u001b[0m\u001b[0;34m,\u001b[0m \u001b[0;34m(\u001b[0m\u001b[0;36m2\u001b[0m\u001b[0;34m,\u001b[0m\u001b[0;36m3\u001b[0m\u001b[0;34m)\u001b[0m\u001b[0;34m,\u001b[0m \u001b[0;34m[\u001b[0m\u001b[0;36m2.3\u001b[0m\u001b[0;34m]\u001b[0m\u001b[0;34m}\u001b[0m\u001b[0;34m\u001b[0m\u001b[0;34m\u001b[0m\u001b[0m\n\u001b[0m\u001b[1;32m      2\u001b[0m \u001b[0mprint\u001b[0m\u001b[0;34m(\u001b[0m\u001b[0ma\u001b[0m\u001b[0;34m)\u001b[0m\u001b[0;34m\u001b[0m\u001b[0;34m\u001b[0m\u001b[0m\n",
            "\u001b[0;31mTypeError\u001b[0m: unhashable type: 'list'"
          ]
        }
      ]
    },
    {
      "cell_type": "markdown",
      "source": [
        "\n",
        "`bool` 자료형은 제외됩니다.\n",
        "\n",
        "```\n",
        "a = {'a', 1, 0.5, (2,3), True}\n",
        "print(a)\n",
        "```"
      ],
      "metadata": {
        "id": "o11x3vZLiIuL"
      }
    },
    {
      "cell_type": "code",
      "source": [
        "a = {'a', 1, 0.5, (2,3), True}\n",
        "print(a)"
      ],
      "metadata": {
        "id": "Y3bS0uiKiI8X",
        "colab": {
          "base_uri": "https://localhost:8080/"
        },
        "outputId": "7d1cf712-f849-49b1-d47d-84720d453b84"
      },
      "execution_count": 3,
      "outputs": [
        {
          "output_type": "stream",
          "name": "stdout",
          "text": [
            "{0.5, 1, (2, 3), 'a'}\n"
          ]
        }
      ]
    },
    {
      "cell_type": "markdown",
      "source": [
        "다른 군집 자료형 (리스트, 딕셔너리, 집합) 등은 에러 메시지가 뜹니다. \n",
        " \n",
        "```\n",
        "a = {'a', 1, 0.5, (2,3), [1,2]}\n",
        "print(a)\n",
        "```"
      ],
      "metadata": {
        "id": "don0VECoiNyT"
      }
    },
    {
      "cell_type": "code",
      "source": [
        "# a = {'a', 1, 0.5, (2,3), [1,2]}\n",
        "# print(a)"
      ],
      "metadata": {
        "id": "zOi241MJiMPv"
      },
      "execution_count": 5,
      "outputs": []
    },
    {
      "cell_type": "markdown",
      "source": [
        "### **(2) 집합의 특징**\n",
        "\n",
        "다른 군집자료형(문자열, 리스트, 튜플, 딕셔너리)과 다른 집합만의 특징은 두가지가 있습니다.\n",
        "\n",
        "* 중복을 불허용\n",
        "* 순서가 없음"
      ],
      "metadata": {
        "id": "CjyNzVr4jG2e"
      }
    },
    {
      "cell_type": "markdown",
      "source": [
        "#### **중복불허용**\n",
        "\n",
        "집합에는 중복되는 값이 존재 하지 않습니다. 따라서 아래와 같이 초기값으로 중복된 요소를 넣더라도 중복값은 자동적으로 제거됩니다. \n",
        "\n",
        "```\n",
        "a = {1,2,2,2,3}\n",
        "print(a)\n",
        "```"
      ],
      "metadata": {
        "id": "pljO0lepjKDT"
      }
    },
    {
      "cell_type": "code",
      "source": [
        " a = {1,2,2,2,3}\n",
        " print(a)"
      ],
      "metadata": {
        "id": "HKTb0NaAiPwH",
        "colab": {
          "base_uri": "https://localhost:8080/"
        },
        "outputId": "7488d89b-a9de-4c20-b5d5-ebf11e6891f4"
      },
      "execution_count": 11,
      "outputs": [
        {
          "output_type": "stream",
          "name": "stdout",
          "text": [
            "{1, 2, 3}\n"
          ]
        }
      ]
    },
    {
      "cell_type": "markdown",
      "source": [
        "이러한 특징을 가지고 있기 때문에 다른 군집 자료형에 대해 중복을 제거하기 위해 집합으로 바꾸기도 합니다. \n",
        "\n",
        "```\n",
        "a_list = [1,2,3,2]\n",
        "a = set(a_list)\n",
        "a_list = list(a)\n",
        "print(a_list)\n",
        "```"
      ],
      "metadata": {
        "id": "lx7A3mBmjN_U"
      }
    },
    {
      "cell_type": "code",
      "source": [
        "a_list = [1,2,3,2]\n",
        "a = set(a_list)\n",
        "a_list = list(a)\n",
        "print(a_list)\n",
        "# a = list(set(a_list))"
      ],
      "metadata": {
        "id": "eRDREQWHjMYY",
        "colab": {
          "base_uri": "https://localhost:8080/"
        },
        "outputId": "af7fd071-cdb8-4f70-b145-8371adf52a30"
      },
      "execution_count": 12,
      "outputs": [
        {
          "output_type": "stream",
          "name": "stdout",
          "text": [
            "[1, 2, 3]\n"
          ]
        }
      ]
    },
    {
      "cell_type": "markdown",
      "source": [
        "#### **순서없음**\n",
        "\n",
        "집합에는 순서 개념이 없습니다. 따라서 군집 자료형을 집합으로 만드는 순간 자동으로 정렬됩니다.\n",
        "\n",
        "```\n",
        "a = {3,2,1}\n",
        "print(a)\n",
        "```"
      ],
      "metadata": {
        "id": "MXueNG18jQt5"
      }
    },
    {
      "cell_type": "code",
      "source": [
        "a = {3,2,1}\n",
        "print(a)"
      ],
      "metadata": {
        "id": "ezV3TvM9jPJW",
        "colab": {
          "base_uri": "https://localhost:8080/"
        },
        "outputId": "adada3e1-c99c-4c21-981f-127d19bf3905"
      },
      "execution_count": 13,
      "outputs": [
        {
          "output_type": "stream",
          "name": "stdout",
          "text": [
            "{1, 2, 3}\n"
          ]
        }
      ]
    },
    {
      "cell_type": "markdown",
      "source": [
        "집합 자료형에는 순서가 없기 때문에 인덱싱과 슬라이싱을 사용 할 수 없습니다. \n",
        "\n",
        "\n",
        "```\n",
        "a = {1,2,3,4}\n",
        "a[0]\n",
        "```"
      ],
      "metadata": {
        "id": "iUERHQD4jUPy"
      }
    },
    {
      "cell_type": "code",
      "source": [
        "# a = {1,2,3,4}\n",
        "# a[0]\n",
        "# TypeError: 'set' object is not subscriptable"
      ],
      "metadata": {
        "id": "6TBShyXDjS3m"
      },
      "execution_count": 15,
      "outputs": []
    },
    {
      "cell_type": "markdown",
      "source": [
        "### **(3) 집합의 연산**\n",
        "\n",
        "리스트나 튜플과 달리 집합은 `+` 나 * 연산이 불가능 합니다. 하지만 수학적 집합 개념과 마찬가지로 교집합, 합집합 차집합의 연산을 할 수 있습니다. \n"
      ],
      "metadata": {
        "id": "WtdWHrXmjWoj"
      }
    },
    {
      "cell_type": "markdown",
      "source": [
        "\n",
        "#### **교집합**\n",
        "\n",
        "집합 `a`와 집합 `B`의 교집합을 구합니다. 참고로 `&`기호는 대부분의 언어에서 `and` 를 뜻합니다. \n",
        "\n",
        "* `a&b`  \n",
        "* `a.intersection(b)` \n",
        "\n",
        "\n",
        "```\n",
        "a = {1,2,3}\n",
        "b = {3,4,5}\n",
        "\n",
        "print(a & b, a.intersection(b), b.intersection(a))\n",
        "```"
      ],
      "metadata": {
        "id": "vM_yxOEljZiQ"
      }
    },
    {
      "cell_type": "code",
      "source": [
        "a = {1,2,3}\n",
        "b = {3,4,5}\n",
        "\n",
        "print(a & b, a.intersection(b), b.intersection(a))"
      ],
      "metadata": {
        "id": "qw6BYQxhjVP2",
        "colab": {
          "base_uri": "https://localhost:8080/"
        },
        "outputId": "3db78b59-724d-4915-ebf4-192c24168057"
      },
      "execution_count": 17,
      "outputs": [
        {
          "output_type": "stream",
          "name": "stdout",
          "text": [
            "{3} {3} {3}\n"
          ]
        }
      ]
    },
    {
      "cell_type": "markdown",
      "source": [
        "#### **합집합**\n",
        "\n",
        "집합 `a`와 집합 `B`의 합집합을 구합니다. 참고로 `|`기호는 대부분의 언어에서 `or` 를 뜻합니다. \n",
        "\n",
        "* `a|b`  \n",
        "* `a.union(b)` \n",
        "\n",
        "```\n",
        "a = set([1,2,3])\n",
        "b = set([3,4,5])\n",
        "a | b, a.union(b), b.union(a) # a U b\n",
        "```"
      ],
      "metadata": {
        "id": "ur-Z2CmSjg_o"
      }
    },
    {
      "cell_type": "code",
      "source": [
        "a = {1,2,3}\n",
        "b = {3,4,5}\n",
        "print(a|b, a.union(b), b.union(a))"
      ],
      "metadata": {
        "id": "Q_z2_tTnjfTr",
        "colab": {
          "base_uri": "https://localhost:8080/"
        },
        "outputId": "c1272f12-f903-4b6d-db3b-9122d6a3b7f8"
      },
      "execution_count": 18,
      "outputs": [
        {
          "output_type": "stream",
          "name": "stdout",
          "text": [
            "{1, 2, 3, 4, 5} {1, 2, 3, 4, 5} {1, 2, 3, 4, 5}\n"
          ]
        }
      ]
    },
    {
      "cell_type": "markdown",
      "source": [
        "#### **차집합**\n",
        "\n",
        "집합 `a`와 집합 `B`의 차집합을 구합니다.\n",
        "\n",
        "* `a-b`\n",
        "* `a.difference(b)`\n",
        "\n",
        "```\n",
        "a = set([1,2,3])\n",
        "b = set([3,4,5])\n",
        "print( a-b, a.difference(b) )\n",
        "print( b-a, b.difference(a) )\n",
        "```"
      ],
      "metadata": {
        "id": "QFxU957kjk00"
      }
    },
    {
      "cell_type": "code",
      "source": [
        "a = set([1,2,3])\n",
        "b = set((3,4,5))\n",
        "print(a-b, a.difference(b))\n",
        "print(b-a, b.difference(a))"
      ],
      "metadata": {
        "id": "0yL7BXWOjiLv",
        "colab": {
          "base_uri": "https://localhost:8080/"
        },
        "outputId": "cacd0eb6-7dc4-46de-9ec7-47933bf16cea"
      },
      "execution_count": 19,
      "outputs": [
        {
          "output_type": "stream",
          "name": "stdout",
          "text": [
            "{1, 2} {1, 2}\n",
            "{4, 5} {4, 5}\n"
          ]
        }
      ]
    },
    {
      "cell_type": "markdown",
      "source": [
        "### **(4) 관련 메서드**\n",
        "\n"
      ],
      "metadata": {
        "id": "aglgdX2Qjoi1"
      }
    },
    {
      "cell_type": "markdown",
      "source": [
        "#### **내장함수**\n",
        "\n",
        "다른 군집 자료형과 마찬가지로 내장함수를 사용할 수 있습니다.\n",
        "\n",
        "* `len()`: 길이를 구합니다.\n",
        "* `max()`: 최대값을 구합니다.\n",
        "* `min()`: 최소값을 구합니다.\n",
        "* `sum()`: 모든값을 더합니다.\n",
        "\n",
        "```\n",
        "a = {1,2,3,5}\n",
        "len(a), max(a), min(a), sum(a)\n",
        "```"
      ],
      "metadata": {
        "id": "2WWtO6sojr1d"
      }
    },
    {
      "cell_type": "code",
      "source": [
        ""
      ],
      "metadata": {
        "id": "ZHBd1xUJjnDQ"
      },
      "execution_count": null,
      "outputs": []
    },
    {
      "cell_type": "markdown",
      "source": [
        "* `set()`: 집합 자료형으로 변환합니다.\n",
        "\n",
        "```\n",
        "a = [1,2,2,2,3,4,4]\n",
        "set(a)\n",
        "```"
      ],
      "metadata": {
        "id": "h1xYZ6FSjvxD"
      }
    },
    {
      "cell_type": "code",
      "source": [
        ""
      ],
      "metadata": {
        "id": "6js5DFWMjtnw"
      },
      "execution_count": null,
      "outputs": []
    },
    {
      "cell_type": "markdown",
      "source": [
        "\n",
        "#### **기타 메서드**\n",
        "\n",
        "*  `a.add(b)` : 집합 `a` 에 요소 `b`를 추가합니다.\n",
        "\n",
        "리스트의 `append()` 기능과 유사합니다. 집합에 값을 하나 추가합니다. 다만 `append()`는 마지막에 값이 추가되는거와 달리 집합에서는 정렬된 위치에 값이 추가됩니다.\n",
        "\n",
        "```\n",
        "a ={1,2,3,5}\n",
        "a.add(4)\n",
        "print(a)\n",
        "```\n"
      ],
      "metadata": {
        "id": "_2N1aJN4j0D9"
      }
    },
    {
      "cell_type": "code",
      "source": [
        "a ={1,2,3,5}\n",
        "a.add(4) # 값만 넣어야한다.\n",
        "print(a)\n",
        "\n",
        "a.add('a')\n",
        "print(a)"
      ],
      "metadata": {
        "id": "iy-fvWdWjzKS",
        "colab": {
          "base_uri": "https://localhost:8080/"
        },
        "outputId": "0407795f-6486-477a-e6b5-ea407b29a3c5"
      },
      "execution_count": 21,
      "outputs": [
        {
          "output_type": "stream",
          "name": "stdout",
          "text": [
            "{1, 2, 3, 4, 5}\n",
            "{1, 2, 3, 4, 5, 'a'}\n"
          ]
        }
      ]
    },
    {
      "cell_type": "markdown",
      "source": [
        "* `a.update([b, c, ..])` : 집합 `a`에 여러개의 요소를 추가합니다.\n",
        "\n",
        "```\n",
        "a = {1,2,3,5}\n",
        "a.update([6,7,8])\n",
        "print(a)\n",
        "```\n"
      ],
      "metadata": {
        "id": "uc9fJRL4j74a"
      }
    },
    {
      "cell_type": "code",
      "source": [
        "\n",
        "a = {1,2,3,4,5}\n",
        "a.update('string') # 군집자료형은 다 된다.\n",
        "a.update({'set'})\n",
        "a.update(('tuple',)) # 만약 ('tuple') 이라고 했을때는 'tuple'이 스트링으로 인식이되므로 각 알파벳으로 분리된다.\n",
        "a.update(['list'])\n",
        "print(a)\n"
      ],
      "metadata": {
        "id": "T5nvduiKj4Pn",
        "colab": {
          "base_uri": "https://localhost:8080/"
        },
        "outputId": "ad13f92c-1bc8-4434-a3e8-5f0d60ab9a58"
      },
      "execution_count": 59,
      "outputs": [
        {
          "output_type": "stream",
          "name": "stdout",
          "text": [
            "{1, 2, 3, 4, 5, 'n', 's', 'r', 'tuple', 'g', 'list', 'i', 'set', 't'}\n"
          ]
        }
      ]
    },
    {
      "cell_type": "markdown",
      "source": [
        "* `a.remove(b)` : 집합 `a`에서 요소 `b`를 제거합니다.\n",
        "\n",
        "```\n",
        "a = {1,2,3,5}\n",
        "a.remove(2)\n",
        "print(a)\n",
        "```\n"
      ],
      "metadata": {
        "id": "34MpBFWsj_gM"
      }
    },
    {
      "cell_type": "code",
      "source": [
        "a = {1,2,3,5}\n",
        "a.remove(5)\n",
        "print(a)"
      ],
      "metadata": {
        "id": "zgbJdLQqj-GA",
        "colab": {
          "base_uri": "https://localhost:8080/"
        },
        "outputId": "3feebc03-b7f0-4dc6-96c9-96a6373b9e87"
      },
      "execution_count": 22,
      "outputs": [
        {
          "output_type": "stream",
          "name": "stdout",
          "text": [
            "{1, 2, 3}\n"
          ]
        }
      ]
    },
    {
      "cell_type": "markdown",
      "source": [
        "만약 `a`에 포함되어 있지 않은 요소를 제거하면 에러 메시지가 뜹니다.\n",
        "\n",
        "```\n",
        "a = {1,2,3,5}\n",
        "a.remove(4)\n",
        "print(a)\n",
        "```\n"
      ],
      "metadata": {
        "id": "RVd-1YE9kC3R"
      }
    },
    {
      "cell_type": "code",
      "source": [
        "# a = {1,2,3,5}\n",
        "# a.remove(4)\n",
        "# print(a)\n",
        "# KeyError: 4"
      ],
      "metadata": {
        "id": "sMprlxDhkBI4"
      },
      "execution_count": 24,
      "outputs": []
    },
    {
      "cell_type": "markdown",
      "source": [
        "## 문제풀이\n",
        "---\n",
        "\n"
      ],
      "metadata": {
        "id": "jKvwT4LbkHNv"
      }
    },
    {
      "cell_type": "markdown",
      "source": [
        "**예제 01**\n",
        "\n",
        "부분 집합 A,B,C가 아래와 같습니다. 집합 A,B,C를 정의하세요\n",
        "\n",
        "```\n",
        "A = {1,2,3,5}\n",
        "B = {1,2,3,4}\n",
        "C = {1,3,4,6}\n",
        "```"
      ],
      "metadata": {
        "id": "TtahL9hvkJNg"
      }
    },
    {
      "cell_type": "code",
      "source": [
        "A = {1,2,3,5}\n",
        "B = {1,2,3,4}\n",
        "C = {1,3,4,6}"
      ],
      "metadata": {
        "id": "0GjHzShIi9Ll"
      },
      "execution_count": 25,
      "outputs": []
    },
    {
      "cell_type": "markdown",
      "source": [
        "**예제 02**\n",
        "\n",
        "다음을 계산하세요.\n",
        "\n",
        "$$ A \\cup C$$ \n"
      ],
      "metadata": {
        "id": "3jDdurvlkL93"
      }
    },
    {
      "cell_type": "code",
      "source": [
        "print( A | C)\n",
        "print(A.union(C))"
      ],
      "metadata": {
        "colab": {
          "base_uri": "https://localhost:8080/"
        },
        "id": "Ry8JzO8BjHtu",
        "outputId": "32dbd75a-6777-41d5-e61c-bcc16f8dd3af"
      },
      "execution_count": 27,
      "outputs": [
        {
          "output_type": "stream",
          "name": "stdout",
          "text": [
            "{1, 2, 3, 4, 5, 6}\n",
            "{1, 2, 3, 4, 5, 6}\n"
          ]
        }
      ]
    },
    {
      "cell_type": "markdown",
      "source": [
        "**예제 03**\n",
        "\n",
        "다음을 계산하세요.\n",
        "\n",
        "$$ A-(B \\cap C)$$ \n"
      ],
      "metadata": {
        "id": "ZvybbZ5gkRp6"
      }
    },
    {
      "cell_type": "code",
      "source": [
        "print( A - (B & C ))\n",
        "print( A.difference(B.intersection(C)))"
      ],
      "metadata": {
        "colab": {
          "base_uri": "https://localhost:8080/"
        },
        "id": "894TfhgajPzM",
        "outputId": "30d20344-401c-4426-9239-f4c57b43fe69"
      },
      "execution_count": 28,
      "outputs": [
        {
          "output_type": "stream",
          "name": "stdout",
          "text": [
            "{2, 5}\n",
            "{2, 5}\n"
          ]
        }
      ]
    },
    {
      "cell_type": "markdown",
      "source": [
        "**예제 04**\n",
        "\n",
        "다음을 계산하세요.\n",
        "\n",
        "$$ (A-B) \\cup (B \\cup C)$$"
      ],
      "metadata": {
        "id": "zI0EYfOkkU1l"
      }
    },
    {
      "cell_type": "code",
      "source": [
        "print((A - B) | (B | C))\n",
        "print((A.difference(B)).union(B.union(C)))"
      ],
      "metadata": {
        "colab": {
          "base_uri": "https://localhost:8080/"
        },
        "id": "ZmLGB_B_jZvL",
        "outputId": "07cc947f-6905-4aab-805a-934ca3fe1cde"
      },
      "execution_count": 29,
      "outputs": [
        {
          "output_type": "stream",
          "name": "stdout",
          "text": [
            "{1, 2, 3, 4, 5, 6}\n",
            "{1, 2, 3, 4, 5, 6}\n"
          ]
        }
      ]
    },
    {
      "cell_type": "markdown",
      "source": [
        "**예제 05**\n",
        "\n",
        "아래 결과의 모든 요소의 개수를 구하세요\n",
        "\n",
        "$$(A \\cap B) \\cup (B \\cap C) $$"
      ],
      "metadata": {
        "id": "-f1gEYBLkXlX"
      }
    },
    {
      "cell_type": "code",
      "source": [
        "print((A & B) | (B & C ))\n",
        "print((A.intersection(B)).union(B.intersection(C)))"
      ],
      "metadata": {
        "colab": {
          "base_uri": "https://localhost:8080/"
        },
        "id": "4sozT_gpjtnb",
        "outputId": "3eff50e1-406e-4684-c4b2-db5660073e3a"
      },
      "execution_count": 30,
      "outputs": [
        {
          "output_type": "stream",
          "name": "stdout",
          "text": [
            "{1, 2, 3, 4}\n",
            "{1, 2, 3, 4}\n"
          ]
        }
      ]
    },
    {
      "cell_type": "markdown",
      "source": [
        "\n",
        "**예제 06**\n",
        "\n",
        "아래 결과의 모든 요소의 합을 구하세요\n",
        "\n",
        "$$(B - A) \\cup (A \\cup C) $$"
      ],
      "metadata": {
        "id": "--90FvFjkZe3"
      }
    },
    {
      "cell_type": "code",
      "source": [
        "D = ((B  - A) | (A | C))\n",
        "print(D)\n",
        "print((B.difference(A)).union(A.union(C)))\n",
        "print(sum(D))"
      ],
      "metadata": {
        "colab": {
          "base_uri": "https://localhost:8080/"
        },
        "id": "ZtSpEin1kC2s",
        "outputId": "b81cd8e8-e7e5-4902-cebf-fd6dcc1390a5"
      },
      "execution_count": 31,
      "outputs": [
        {
          "output_type": "stream",
          "name": "stdout",
          "text": [
            "{1, 2, 3, 4, 5, 6}\n",
            "{1, 2, 3, 4, 5, 6}\n",
            "21\n"
          ]
        }
      ]
    },
    {
      "cell_type": "markdown",
      "source": [
        "**예제 07**\n",
        "\n",
        "집합 `S` 가 아래와 같이 정의되어 있을 때 짝수를 제거하고 출력하세요.\n",
        "\n",
        "```\n",
        "S = {1,3,4,5,7,9,10}\n",
        "```"
      ],
      "metadata": {
        "id": "t_rpQcD6lNPF"
      }
    },
    {
      "cell_type": "code",
      "source": [
        "S = {1,3,4,5,7,9,10}\n",
        "S.difference({4,10})"
      ],
      "metadata": {
        "colab": {
          "base_uri": "https://localhost:8080/"
        },
        "id": "-BRhm3WjkXlU",
        "outputId": "fac89452-8592-4f22-c82b-a28803c39b24"
      },
      "execution_count": 32,
      "outputs": [
        {
          "output_type": "execute_result",
          "data": {
            "text/plain": [
              "{1, 3, 5, 7, 9}"
            ]
          },
          "metadata": {},
          "execution_count": 32
        }
      ]
    },
    {
      "cell_type": "code",
      "source": [
        "S = {1,3,4,5,7,9,10}\n",
        "S.remove(4)\n",
        "S.remove(10)\n",
        "S"
      ],
      "metadata": {
        "colab": {
          "base_uri": "https://localhost:8080/"
        },
        "id": "sZos0gM7kmgk",
        "outputId": "948e4a26-fe2a-46d6-cd9d-14605611b085"
      },
      "execution_count": 33,
      "outputs": [
        {
          "output_type": "execute_result",
          "data": {
            "text/plain": [
              "{1, 3, 5, 7, 9}"
            ]
          },
          "metadata": {},
          "execution_count": 33
        }
      ]
    },
    {
      "cell_type": "markdown",
      "source": [
        "**예제 08**\n",
        "\n",
        "`예제 07` 에서 얻은 `S`에 15까지의 모든 홀수를 추가하고 출력하세요.\n"
      ],
      "metadata": {
        "id": "RIu3NAg9ltsS"
      }
    },
    {
      "cell_type": "code",
      "source": [
        "S.update({1,3,5,7,9,11,13,15})\n",
        "S"
      ],
      "metadata": {
        "colab": {
          "base_uri": "https://localhost:8080/"
        },
        "id": "vVkawx8tkstc",
        "outputId": "1f8966e9-19a6-4f0b-97bf-8394361b5c8b"
      },
      "execution_count": 35,
      "outputs": [
        {
          "output_type": "execute_result",
          "data": {
            "text/plain": [
              "{1, 3, 5, 7, 9, 11, 13, 15}"
            ]
          },
          "metadata": {},
          "execution_count": 35
        }
      ]
    },
    {
      "cell_type": "code",
      "source": [
        "S = {1, 3, 5, 7, 9}\n",
        "S = S.union(set(range(1,16,2))) # 자체적으로 S의 값은 바꾸지 않는다.\n",
        "S"
      ],
      "metadata": {
        "colab": {
          "base_uri": "https://localhost:8080/"
        },
        "id": "IcGLET0-k6sE",
        "outputId": "ec96a8cc-1504-47cc-e616-d8c5ec3cd2f1"
      },
      "execution_count": 39,
      "outputs": [
        {
          "output_type": "execute_result",
          "data": {
            "text/plain": [
              "{1, 3, 5, 7, 9, 11, 13, 15}"
            ]
          },
          "metadata": {},
          "execution_count": 39
        }
      ]
    },
    {
      "cell_type": "code",
      "source": [
        "S = {1, 3, 5, 7, 9}\n",
        "S.update(range(1,16)[::2])\n",
        "S\n",
        "\n",
        "##### S.update(군집자료형)"
      ],
      "metadata": {
        "colab": {
          "base_uri": "https://localhost:8080/"
        },
        "id": "jmMJmtJJlhDn",
        "outputId": "920209a6-b244-4cbc-e4c9-ae429930429d"
      },
      "execution_count": 43,
      "outputs": [
        {
          "output_type": "execute_result",
          "data": {
            "text/plain": [
              "range"
            ]
          },
          "metadata": {},
          "execution_count": 43
        }
      ]
    },
    {
      "cell_type": "markdown",
      "source": [
        "**예제 09**\n",
        "\n",
        "아래와 같이 리스트가 정의되어 있습니다. 이 리스트에 포함된 숫자의 종류는 몇개인지 구하는 코드를 작성하세요\n",
        "\n",
        "```\n",
        "long_list = [5,3,2,3,4,3,4,5,6,67,7,5,3,4,32,24,42,5,6,8,5,5,5,5,3,3,3,56,3,3,6,7,5,8,8,7,34,55,682,232,7,87,8,5,4,32,12,21,2,2,5,4,5,355,2]\n",
        "```"
      ],
      "metadata": {
        "id": "gCewjsGckb6Q"
      }
    },
    {
      "cell_type": "code",
      "source": [
        "long_list = [5,3,2,3,4,3,4,5,6,67,7,5,3,4,32,24,42,5,6,8,5,5,5,5,3,3,3,56,3,3,6,7,5,8,8,7,34,55,682,232,7,87,8,5,4,32,12,21,2,2,5,4,5,355,2]\n",
        "l = set(long_list)\n",
        "len(l)"
      ],
      "metadata": {
        "colab": {
          "base_uri": "https://localhost:8080/"
        },
        "id": "OnRNPCCimQWM",
        "outputId": "4f0dbd28-f15a-4ea2-8c78-c046a1a8e4e0"
      },
      "execution_count": 44,
      "outputs": [
        {
          "output_type": "execute_result",
          "data": {
            "text/plain": [
              "20"
            ]
          },
          "metadata": {},
          "execution_count": 44
        }
      ]
    },
    {
      "cell_type": "markdown",
      "source": [
        "**예제 10**\n",
        "\n",
        "사용자가 정수 `n`을 입력하면 위에서 정의한 리스트에서 `n`번째로 큰 숫자를 출력하는 코드를 작성하세요 (0번째부터 시작, 중복 없이 `n`번째 큰 숫자를 출력합니다.)\n",
        "\n",
        "```\n",
        ">> n을 입력하세요:3  \n",
        "3 번째 작은 숫자는 9 입니다.\n",
        "```\n",
        "\n",
        "```\n",
        ">> n을 입력하세요:5  \n",
        "5 번째 작은 숫자는 20 입니다.\n",
        "```\n"
      ],
      "metadata": {
        "id": "M1GU1Hd3kenw"
      }
    },
    {
      "cell_type": "code",
      "source": [
        "#작은 숫자, 0 번째 부터\n",
        "long_list = [5,3,2,3,4,3,4,5,6,67,7,5,3,4,32,24,42,5,6,8,5,5,5,5,3,3,3,56,3,3,6,7,5,8,8,7,34,55,682,232,7,87,8,5,4,32,12,21,2,2,5,4,5,355,2]\n",
        "# l = list(set(long_list)).sort() None\n",
        "l = list(set(long_list))\n",
        "l.sort()\n",
        "print(l)\n",
        "n = int(input('n을 입력하세요 : ')) # input 은 값을 str으로 받는다는 점 잊지말자.\n",
        "print(f'{n} 번째 작은 숫자는 {l[n]} 입니다.')"
      ],
      "metadata": {
        "colab": {
          "base_uri": "https://localhost:8080/"
        },
        "id": "A54mxt-1mfsb",
        "outputId": "3e055cc1-3712-4d75-fee9-245a3c18be6a"
      },
      "execution_count": 50,
      "outputs": [
        {
          "output_type": "stream",
          "name": "stdout",
          "text": [
            "[2, 3, 4, 5, 6, 7, 8, 12, 21, 24, 32, 34, 42, 55, 56, 67, 87, 232, 355, 682]\n",
            "n을 입력하세요 : 5\n",
            "5 번째 작은 숫자는 7 입니다.\n"
          ]
        }
      ]
    },
    {
      "cell_type": "code",
      "source": [
        "# 작은 숫자, 1 번째 부터 \n",
        "long_list = [5,3,2,3,4,3,4,5,6,67,7,5,3,4,32,24,42,5,6,8,5,5,5,5,3,3,3,56,3,3,6,7,5,8,8,7,34,55,682,232,7,87,8,5,4,32,12,21,2,2,5,4,5,355,2]\n",
        "l = list(set(long_list))\n",
        "l.sort()\n",
        "print(l)\n",
        "n = int(input('n을 입력하세요 : ')) # input 은 값을 str으로 받는다는 점 잊지말자.\n",
        "print(f'{n} 번째 작은 숫자는 {l[n-1]} 입니다.')"
      ],
      "metadata": {
        "colab": {
          "base_uri": "https://localhost:8080/"
        },
        "id": "UmHrdAyZuiDy",
        "outputId": "650af17b-defc-4900-b600-0f6140a313db"
      },
      "execution_count": 66,
      "outputs": [
        {
          "output_type": "stream",
          "name": "stdout",
          "text": [
            "[2, 3, 4, 5, 6, 7, 8, 12, 21, 24, 32, 34, 42, 55, 56, 67, 87, 232, 355, 682]\n",
            "n을 입력하세요 : 1\n",
            "1 번째 작은 숫자는 2 입니다.\n"
          ]
        }
      ]
    },
    {
      "cell_type": "code",
      "source": [
        "# 큰 숫자 reverse 쓰고, 0 번째 부터 시작 \n",
        "long_list = [5,3,2,3,4,3,4,5,6,67,7,5,3,4,32,24,42,5,6,8,5,5,5,5,3,3,3,56,3,3,6,7,5,8,8,7,34,55,682,232,7,87,8,5,4,32,12,21,2,2,5,4,5,355,2]\n",
        "l = list(set(long_list))\n",
        "l.sort(reverse = True)\n",
        "print(l)\n",
        "n = int(input('n을 입력하세요 : ')) # input 은 값을 str으로 받는다는 점 잊지말자.\n",
        "print(f'{n} 번째 큰 숫자는 {l[n]} 입니다.')"
      ],
      "metadata": {
        "colab": {
          "base_uri": "https://localhost:8080/"
        },
        "id": "xhE37pJqtnOc",
        "outputId": "6f43e987-841e-4b98-9c15-7d4828dbb061"
      },
      "execution_count": 61,
      "outputs": [
        {
          "output_type": "stream",
          "name": "stdout",
          "text": [
            "[682, 355, 232, 87, 67, 56, 55, 42, 34, 32, 24, 21, 12, 8, 7, 6, 5, 4, 3, 2]\n",
            "n을 입력하세요 : 0\n",
            "0 번째 큰 숫자는 682 입니다.\n"
          ]
        }
      ]
    },
    {
      "cell_type": "code",
      "source": [
        "# 큰 숫자 다른 방법, 1번째 부터 시작 \n",
        "long_list = [5,3,2,3,4,3,4,5,6,67,7,5,3,4,32,24,42,5,6,8,5,5,5,5,3,3,3,56,3,3,6,7,5,8,8,7,34,55,682,232,7,87,8,5,4,32,12,21,2,2,5,4,5,355,2]\n",
        "l = list(set(long_list))\n",
        "l.sort()\n",
        "print(l)\n",
        "n = int(input('n을 입력하세요 : ')) # input 은 값을 str으로 받는다는 점 잊지말자.\n",
        "print(f'{n} 번째 큰 숫자는 {l[-n]} 입니다.')"
      ],
      "metadata": {
        "colab": {
          "base_uri": "https://localhost:8080/"
        },
        "id": "PpeTFgrkt_SB",
        "outputId": "491af81c-c6e0-4fde-cb5b-f378ba4328c0"
      },
      "execution_count": 65,
      "outputs": [
        {
          "output_type": "stream",
          "name": "stdout",
          "text": [
            "[2, 3, 4, 5, 6, 7, 8, 12, 21, 24, 32, 34, 42, 55, 56, 67, 87, 232, 355, 682]\n",
            "n을 입력하세요 : 1\n",
            "1 번째 큰 숫자는 682 입니다.\n"
          ]
        }
      ]
    },
    {
      "cell_type": "code",
      "source": [
        "# 큰 숫자 reverse 쓰지 않고, 0 번째 부터 시작 \n",
        "long_list = [5,3,2,3,4,3,4,5,6,67,7,5,3,4,32,24,42,5,6,8,5,5,5,5,3,3,3,56,3,3,6,7,5,8,8,7,34,55,682,232,7,87,8,5,4,32,12,21,2,2,5,4,5,355,2]\n",
        "l = list(set(long_list))\n",
        "l.sort()\n",
        "print(l)\n",
        "n = int(input('n을 입력하세요 : ')) # input 은 값을 str으로 받는다는 점 잊지말자.\n",
        "print(f'{n} 번째 큰 숫자는 {l[-(n + 1)]} 입니다.')"
      ],
      "metadata": {
        "colab": {
          "base_uri": "https://localhost:8080/"
        },
        "id": "LRdDC0cxv167",
        "outputId": "1ee245d4-c756-4d37-aed2-8304f8daf3d6"
      },
      "execution_count": 70,
      "outputs": [
        {
          "output_type": "stream",
          "name": "stdout",
          "text": [
            "[2, 3, 4, 5, 6, 7, 8, 12, 21, 24, 32, 34, 42, 55, 56, 67, 87, 232, 355, 682]\n",
            "n을 입력하세요 : 1\n",
            "1 번째 큰 숫자는 355 입니다.\n"
          ]
        }
      ]
    }
  ]
}