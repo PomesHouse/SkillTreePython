{
  "nbformat": 4,
  "nbformat_minor": 0,
  "metadata": {
    "colab": {
      "name": "2-1.파이썬의 자료형_숫자.ipynb",
      "provenance": [],
      "collapsed_sections": [],
      "include_colab_link": true
    },
    "kernelspec": {
      "name": "python3",
      "display_name": "Python 3"
    },
    "language_info": {
      "name": "python"
    }
  },
  "cells": [
    {
      "cell_type": "markdown",
      "metadata": {
        "id": "view-in-github",
        "colab_type": "text"
      },
      "source": [
        "<a href=\"https://colab.research.google.com/github/PomesHouse/SkillTreePython/blob/main/2_1_%ED%8C%8C%EC%9D%B4%EC%8D%AC%EC%9D%98_%EC%9E%90%EB%A3%8C%ED%98%95_%EC%88%AB%EC%9E%90.ipynb\" target=\"_parent\"><img src=\"https://colab.research.google.com/assets/colab-badge.svg\" alt=\"Open In Colab\"/></a>"
      ]
    },
    {
      "cell_type": "markdown",
      "source": [
        "# 2-1.파이썬의 자료형:숫자\n",
        "---\n",
        "* 날짜:\n",
        "* 이름:"
      ],
      "metadata": {
        "id": "kB5IciXEm6o4"
      }
    },
    {
      "cell_type": "markdown",
      "source": [
        "## 개념정리\n",
        "---\n",
        "\n",
        "\n",
        "코드를 작성하면서 우리는 다양한 데이터 자료형을 접하게 됩니다. 그 중 수치 자료형은 개수, 가격, 날짜 등 여러가지 데이터를 효과적으로 처리할 수 있습니다. 수치 자료형에 대해 알아보고 데이터 타입이 수치 자료형일 때 어떤 부가적인 연산들을 수행할 수 있는지 알아보도록 합니다. "
      ],
      "metadata": {
        "id": "4iN8NFzHRJ2D"
      }
    },
    {
      "cell_type": "markdown",
      "source": [
        "### (1) 수치자료형의 종류\n",
        "\n",
        "\n",
        "\n"
      ],
      "metadata": {
        "id": "UKlkHH0IRL5h"
      }
    },
    {
      "cell_type": "markdown",
      "source": [
        "#### **정수 `int`**\n",
        "정수형 자료형은 `int` 로 표시 됩니다. -1,-2, ... 0 , 1, 2 ,...  등 정수값을 나타냅니다. \n",
        "```\n",
        "num = 2\n",
        "print(num, type(num))\n",
        "```\n",
        "\n",
        "\n"
      ],
      "metadata": {
        "id": "opbfNksrAq4P"
      }
    },
    {
      "cell_type": "code",
      "source": [
        "num = 2\n",
        "print(num, type(num))"
      ],
      "metadata": {
        "id": "0LEqDvQhtLwP",
        "colab": {
          "base_uri": "https://localhost:8080/"
        },
        "outputId": "ef26c873-b593-4b05-f6e9-2ac711af43a4"
      },
      "execution_count": 1,
      "outputs": [
        {
          "output_type": "stream",
          "name": "stdout",
          "text": [
            "2 <class 'int'>\n"
          ]
        }
      ]
    },
    {
      "cell_type": "markdown",
      "source": [
        "#### **실수 `float`**\n",
        "실수값은 `float`으로 표히 됩니다. 3.0, 3.1 , ... 등 실수값을 나타냅니다. \n",
        "```\n",
        "num = -0.2\n",
        "print(num, type(num))\n",
        "```"
      ],
      "metadata": {
        "id": "DbjTishvtQNU"
      }
    },
    {
      "cell_type": "code",
      "source": [
        "num = -0.2\n",
        "print(num, type(num))"
      ],
      "metadata": {
        "id": "b2HTH0H1tS68",
        "colab": {
          "base_uri": "https://localhost:8080/"
        },
        "outputId": "64deb679-401c-4f2d-b5e7-3c25ea654c87"
      },
      "execution_count": 2,
      "outputs": [
        {
          "output_type": "stream",
          "name": "stdout",
          "text": [
            "-0.2 <class 'float'>\n"
          ]
        }
      ]
    },
    {
      "cell_type": "markdown",
      "source": [
        "#### **복소수 `complex`**\n",
        "복소수는 제곱했을 때 음수가 되는 수입니다. 아래와 같이 정의할 수 있습니다.\n",
        "```\n",
        "num = 1+4j\n",
        "print(num, type(num))\n",
        "```"
      ],
      "metadata": {
        "id": "X2i8usALtUJL"
      }
    },
    {
      "cell_type": "code",
      "source": [
        "num = 1 + 4j # 데이터분석에서는 복소수를 거의 쓸일이 없다. 실수 + 허수\n",
        "print(num, type(num))"
      ],
      "metadata": {
        "id": "I37szg1RtXXE",
        "colab": {
          "base_uri": "https://localhost:8080/"
        },
        "outputId": "18b9854c-d698-4bac-bead-15aae13d4f98"
      },
      "execution_count": 5,
      "outputs": [
        {
          "output_type": "stream",
          "name": "stdout",
          "text": [
            "(1+4j) <class 'complex'>\n"
          ]
        }
      ]
    },
    {
      "cell_type": "markdown",
      "source": [
        "복소수 자료형 경우  파이썬 내장 함수를 통해 실수값, 허수값, 컬례 복소수 등을 알 수 있습니다.\n",
        "\n",
        "* `.real` : 복소수의 실수값을 확인합니다.\n",
        "\n",
        "```\n",
        "print(num.real)\n",
        "```\n"
      ],
      "metadata": {
        "id": "7zHbFccVtaFY"
      }
    },
    {
      "cell_type": "code",
      "source": [
        "num.real"
      ],
      "metadata": {
        "id": "iLhCsBONdsam",
        "colab": {
          "base_uri": "https://localhost:8080/"
        },
        "outputId": "a3edc73c-8819-4f98-c8be-565ecd9324e6"
      },
      "execution_count": 7,
      "outputs": [
        {
          "output_type": "execute_result",
          "data": {
            "text/plain": [
              "1.0"
            ]
          },
          "metadata": {},
          "execution_count": 7
        }
      ]
    },
    {
      "cell_type": "markdown",
      "source": [
        "\n",
        "* `.image`: 복소수의 허수값을 확인합니다.\n",
        "\n",
        "```\n",
        "print(num.imag) # 허수값\n",
        "```\n"
      ],
      "metadata": {
        "id": "RR0Kdb6Ydsmt"
      }
    },
    {
      "cell_type": "code",
      "source": [
        "num.imag\n",
        "num."
      ],
      "metadata": {
        "id": "tD46aK3Ndtkr",
        "colab": {
          "base_uri": "https://localhost:8080/"
        },
        "outputId": "d2fa7522-37b0-4898-e18e-293cd55a00aa"
      },
      "execution_count": 8,
      "outputs": [
        {
          "output_type": "execute_result",
          "data": {
            "text/plain": [
              "4.0"
            ]
          },
          "metadata": {},
          "execution_count": 8
        }
      ]
    },
    {
      "cell_type": "markdown",
      "source": [
        "\n",
        "* `.conjugate()`: 복소수의 컬례복소수를 확인합니다.\n",
        "\n",
        "```\n",
        "print(num.conjugate()) # 컬례복소수\n",
        "```"
      ],
      "metadata": {
        "id": "0dLg3PeDdt-f"
      }
    },
    {
      "cell_type": "code",
      "source": [
        "num.conjugate()  #상자 나오면 () 필요"
      ],
      "metadata": {
        "id": "KTZ6dBVEta78",
        "colab": {
          "base_uri": "https://localhost:8080/"
        },
        "outputId": "e1fee787-d5ce-4530-c7dc-82266aa38300"
      },
      "execution_count": 9,
      "outputs": [
        {
          "output_type": "execute_result",
          "data": {
            "text/plain": [
              "(1-4j)"
            ]
          },
          "metadata": {},
          "execution_count": 9
        }
      ]
    },
    {
      "cell_type": "markdown",
      "source": [
        "### (2) 수치자료형의 타입 변환\n",
        "\n",
        "수치자료형의 타입을 변환 할 수 있습니다. 아래와 같이 `a`를 값 1인 정수값으로 정의합시다.\n",
        "\n",
        "```\n",
        "a=1\n",
        "a, type(a)\n",
        "```"
      ],
      "metadata": {
        "id": "tTuhebzSy8w8"
      }
    },
    {
      "cell_type": "code",
      "source": [
        "a = 1\n",
        "a, type(a)"
      ],
      "metadata": {
        "id": "mR3gG9It2SD3",
        "colab": {
          "base_uri": "https://localhost:8080/"
        },
        "outputId": "3d0df325-09b9-413a-fb6c-956f7b5f432e"
      },
      "execution_count": 10,
      "outputs": [
        {
          "output_type": "execute_result",
          "data": {
            "text/plain": [
              "(1, int)"
            ]
          },
          "metadata": {},
          "execution_count": 10
        }
      ]
    },
    {
      "cell_type": "markdown",
      "source": [
        "현재 `int` 타입인 값을 `float`으로 변환해보도록 합시다.\n",
        "\n",
        "```\n",
        "a = float(a)\n",
        "print(a, type(a))\n",
        "```"
      ],
      "metadata": {
        "id": "kfSac_Bj_ttS"
      }
    },
    {
      "cell_type": "code",
      "source": [
        "a = float(a)\n",
        "a, type(a)"
      ],
      "metadata": {
        "id": "RScoLai_4UA9",
        "colab": {
          "base_uri": "https://localhost:8080/"
        },
        "outputId": "8b4d4773-e507-41b6-ef83-de7d87391290"
      },
      "execution_count": 11,
      "outputs": [
        {
          "output_type": "execute_result",
          "data": {
            "text/plain": [
              "(1.0, float)"
            ]
          },
          "metadata": {},
          "execution_count": 11
        }
      ]
    },
    {
      "cell_type": "markdown",
      "source": [
        "다시 `int` 로 변환 해봅시다.\n",
        "\n",
        "```\n",
        "a = int(a)\n",
        "print(a, type(a))\n",
        "```"
      ],
      "metadata": {
        "id": "yCd_3r26_3ik"
      }
    },
    {
      "cell_type": "code",
      "source": [
        "a = int(a)\n",
        "a, type(a)"
      ],
      "metadata": {
        "id": "HIuhv_bv_3in",
        "colab": {
          "base_uri": "https://localhost:8080/"
        },
        "outputId": "155b5db5-4cfa-4ea2-e6bd-cab935d37201"
      },
      "execution_count": 12,
      "outputs": [
        {
          "output_type": "execute_result",
          "data": {
            "text/plain": [
              "(1, int)"
            ]
          },
          "metadata": {},
          "execution_count": 12
        }
      ]
    },
    {
      "cell_type": "markdown",
      "source": [
        "참고로 문자형과도 변환이 가능합니다.\n",
        "\n",
        "```\n",
        "a = str(a)\n",
        "print(a, type(a))\n",
        "```"
      ],
      "metadata": {
        "id": "eY5X8k7nCDpL"
      }
    },
    {
      "cell_type": "code",
      "source": [
        "a = str(a)\n",
        "a, type(a)"
      ],
      "metadata": {
        "id": "0AhlUfUvCDpL",
        "colab": {
          "base_uri": "https://localhost:8080/"
        },
        "outputId": "17e645cc-37b5-4f38-f6ee-7973a0f46801"
      },
      "execution_count": 13,
      "outputs": [
        {
          "output_type": "execute_result",
          "data": {
            "text/plain": [
              "('1', str)"
            ]
          },
          "metadata": {},
          "execution_count": 13
        }
      ]
    },
    {
      "cell_type": "markdown",
      "source": [
        "### (3) 산술연산자\n",
        "\n",
        "수치 자료형은 각종 산술연산이 가능합니다. 우리가 일반적으로 쓰는 덧셈, 뺄셈, 곱셉, 나눈셈을 수행해 보겠습니다. 아래 코드를 따라 쓰고 무엇이 나오는지 예측해 봅니다"
      ],
      "metadata": {
        "id": "PtSek8BAtiOx"
      }
    },
    {
      "cell_type": "markdown",
      "source": [
        "*  `+` 더하기\n",
        "\n",
        "```\n",
        "2+2\n",
        "```"
      ],
      "metadata": {
        "id": "EbG9oc_5tmB8"
      }
    },
    {
      "cell_type": "code",
      "source": [
        "2 + 2 # int\n",
        "2+ 2.0 # int + float 가능 "
      ],
      "metadata": {
        "id": "o8tsqP0XtmVT",
        "colab": {
          "base_uri": "https://localhost:8080/"
        },
        "outputId": "0fcfdf6c-1d1d-44fc-fe37-eec8ca90eae4"
      },
      "execution_count": 17,
      "outputs": [
        {
          "output_type": "execute_result",
          "data": {
            "text/plain": [
              "4.0"
            ]
          },
          "metadata": {},
          "execution_count": 17
        }
      ]
    },
    {
      "cell_type": "markdown",
      "source": [
        "*   `-` 빼기\n",
        "\n",
        "```\n",
        "2-2\n",
        "```\n"
      ],
      "metadata": {
        "id": "73VOGRGqtpHM"
      }
    },
    {
      "cell_type": "code",
      "source": [
        "2-2"
      ],
      "metadata": {
        "id": "5pVh9h6rtyNN",
        "colab": {
          "base_uri": "https://localhost:8080/"
        },
        "outputId": "3d2b5666-8c9a-4c75-8e0d-234fce036e34"
      },
      "execution_count": 69,
      "outputs": [
        {
          "output_type": "execute_result",
          "data": {
            "text/plain": [
              "0"
            ]
          },
          "metadata": {},
          "execution_count": 69
        }
      ]
    },
    {
      "cell_type": "markdown",
      "source": [
        "*  `*` 곱하기\n",
        "  \n",
        "```\n",
        "2*2\n",
        "```"
      ],
      "metadata": {
        "id": "WfjAvOO_t1Sn"
      }
    },
    {
      "cell_type": "code",
      "source": [
        "2*2"
      ],
      "metadata": {
        "id": "rKG3lqZJt6aD",
        "colab": {
          "base_uri": "https://localhost:8080/"
        },
        "outputId": "9bf35ccb-afe4-4343-a7d9-5d3efa44b2d0"
      },
      "execution_count": 67,
      "outputs": [
        {
          "output_type": "execute_result",
          "data": {
            "text/plain": [
              "4.0"
            ]
          },
          "metadata": {},
          "execution_count": 67
        }
      ]
    },
    {
      "cell_type": "markdown",
      "source": [
        "*  `**` 제곱\n",
        "\n",
        "```\n",
        "2**2\n",
        "```\n"
      ],
      "metadata": {
        "id": "htPsV_JAt2hb"
      }
    },
    {
      "cell_type": "code",
      "source": [
        "2**2"
      ],
      "metadata": {
        "id": "4kbSrnvNt6zp",
        "colab": {
          "base_uri": "https://localhost:8080/"
        },
        "outputId": "cc9e59a2-c8dc-4a19-c881-b1bf6a62dc90"
      },
      "execution_count": 18,
      "outputs": [
        {
          "output_type": "execute_result",
          "data": {
            "text/plain": [
              "4"
            ]
          },
          "metadata": {},
          "execution_count": 18
        }
      ]
    },
    {
      "cell_type": "markdown",
      "source": [
        "\n",
        "*  `/` 나누기\n",
        "\n",
        "```\n",
        "2/2\n",
        "```"
      ],
      "metadata": {
        "id": "rqGwmZiut3aV"
      }
    },
    {
      "cell_type": "code",
      "source": [
        "print(2/2)  #실수\n",
        "10/3"
      ],
      "metadata": {
        "id": "6ontYOp7t7Mb",
        "colab": {
          "base_uri": "https://localhost:8080/"
        },
        "outputId": "5881dc48-c989-441d-fdcc-d728957440de"
      },
      "execution_count": 30,
      "outputs": [
        {
          "output_type": "stream",
          "name": "stdout",
          "text": [
            "1.0\n"
          ]
        },
        {
          "output_type": "execute_result",
          "data": {
            "text/plain": [
              "3.3333333333333335"
            ]
          },
          "metadata": {},
          "execution_count": 30
        }
      ]
    },
    {
      "cell_type": "markdown",
      "source": [
        "*  `//` 몫\n",
        "\n",
        "```\n",
        "2//2\n",
        "```"
      ],
      "metadata": {
        "id": "cGP6uK5mt4dm"
      }
    },
    {
      "cell_type": "code",
      "source": [
        "10//3"
      ],
      "metadata": {
        "id": "7LiMjLh5t7pD",
        "colab": {
          "base_uri": "https://localhost:8080/"
        },
        "outputId": "c0394bc3-73e6-4b0f-d5f5-8219fc1ba900"
      },
      "execution_count": 28,
      "outputs": [
        {
          "output_type": "execute_result",
          "data": {
            "text/plain": [
              "3"
            ]
          },
          "metadata": {},
          "execution_count": 28
        }
      ]
    },
    {
      "cell_type": "markdown",
      "source": [
        "* `%` 나머지\n",
        "\n",
        "```\n",
        "2%2\n",
        "```\n"
      ],
      "metadata": {
        "id": "SRudXVcNt5GW"
      }
    },
    {
      "cell_type": "code",
      "source": [
        "10%3"
      ],
      "metadata": {
        "id": "f6CZv0bFt79-",
        "colab": {
          "base_uri": "https://localhost:8080/"
        },
        "outputId": "dfdcf351-b86d-426b-f3bc-b46df4865fbc"
      },
      "execution_count": 29,
      "outputs": [
        {
          "output_type": "execute_result",
          "data": {
            "text/plain": [
              "1"
            ]
          },
          "metadata": {},
          "execution_count": 29
        }
      ]
    },
    {
      "cell_type": "markdown",
      "source": [
        "### **(4) 할당 연산자**\n",
        "\n",
        "할당연산자는 값을 변수에 바로 할당하는 연산자 입니다. 할당이란 것은 바인딩과 동일한 의미입니다. 따라서 `=` 이 기호는 할당연산자 라고 할 수 있습니다. 그러나 `=` 말고도 할당연산자는 몇개 더 있습니다. \n",
        "\n",
        "| 기호 | 뜻 |\n",
        "|--|--|\n",
        "|`+=`| 더한 후 대입 |\n",
        "|`-=`| 뺀 후  대입 |\n",
        "|`*=`| 곱한 후 대입 |\n",
        "|`**=`| 제곱 후 대입 |\n",
        "|`/=`| 나눈 후 대입 |\n",
        "|`//=`| 나눈 후 몫을 대입 |\n",
        "|`%=`| 나눈 후 나머지 대입 |\n"
      ],
      "metadata": {
        "id": "URp5HnPyAUf-"
      }
    },
    {
      "cell_type": "markdown",
      "source": [
        "#### **더한 후 대입하기**\n",
        "\n",
        "\n",
        "* `+=`\n",
        "\n",
        "```\n",
        "a = 5\n",
        "b = 2\n",
        "a += b # 할당연산자 사용  `a = a+b` 과 동일\n",
        "print(a)\n",
        "```\n"
      ],
      "metadata": {
        "id": "evZqLrJBAX8z"
      }
    },
    {
      "cell_type": "code",
      "source": [
        "a = 5\n",
        "b = 2\n",
        "a += b\n",
        "print(a)"
      ],
      "metadata": {
        "id": "66psqHA-Aduu",
        "colab": {
          "base_uri": "https://localhost:8080/"
        },
        "outputId": "a20939f9-2047-4536-c936-cbce680d392b"
      },
      "execution_count": 31,
      "outputs": [
        {
          "output_type": "stream",
          "name": "stdout",
          "text": [
            "7\n"
          ]
        }
      ]
    },
    {
      "cell_type": "markdown",
      "source": [
        "#### **뺀 후 대입하기**\n",
        "\n",
        "* `-=`\n",
        "\n",
        "```\n",
        "a = 5\n",
        "b = 2\n",
        "a -= b # 할당연산자 사용  `a = a-b` 과 동일\n",
        "print(a)\n",
        "```"
      ],
      "metadata": {
        "id": "mX3PEz11Afq_"
      }
    },
    {
      "cell_type": "code",
      "source": [
        "a = 5\n",
        "b = 2\n",
        "a -= b\n",
        "print(a)"
      ],
      "metadata": {
        "id": "OGWSGrzNAfb6",
        "colab": {
          "base_uri": "https://localhost:8080/"
        },
        "outputId": "fcb757c2-e798-4ebe-a9e5-f6a1f26619a9"
      },
      "execution_count": 34,
      "outputs": [
        {
          "output_type": "stream",
          "name": "stdout",
          "text": [
            "3\n"
          ]
        }
      ]
    },
    {
      "cell_type": "markdown",
      "source": [
        "#### **곱한 후 대입하기**\n",
        "\n",
        "* `*=`\n",
        "\n",
        "```\n",
        "a = 5\n",
        "b = 2\n",
        "a *= b # 할당연산자 사용  `a = a*b` 과 동일\n",
        "print(a)\n",
        "```"
      ],
      "metadata": {
        "id": "SNkIoHeHDIUM"
      }
    },
    {
      "cell_type": "code",
      "source": [
        "a = 5\n",
        "b = 2\n",
        "a *= b\n",
        "print(a)"
      ],
      "metadata": {
        "id": "az6FzkQuDKym",
        "colab": {
          "base_uri": "https://localhost:8080/"
        },
        "outputId": "e7b5fbfd-44d8-42a5-e136-e2f70cc38147"
      },
      "execution_count": 35,
      "outputs": [
        {
          "output_type": "stream",
          "name": "stdout",
          "text": [
            "10\n"
          ]
        }
      ]
    },
    {
      "cell_type": "markdown",
      "source": [
        "#### **제곱 후 대입하기**\n",
        "\n",
        "* `**=`\n",
        "\n",
        "```\n",
        "a = 5\n",
        "b = 2\n",
        "a **= b # 할당연산자 사용  `a = a**b` 과 동일\n",
        "print(a)\n",
        "```"
      ],
      "metadata": {
        "id": "Evcg80s5DPC4"
      }
    },
    {
      "cell_type": "code",
      "source": [
        "a = 5\n",
        "b = 2\n",
        "a **= 2\n",
        "print(a)"
      ],
      "metadata": {
        "id": "hpE25qg0DPyP",
        "colab": {
          "base_uri": "https://localhost:8080/"
        },
        "outputId": "954e23e0-52a9-4822-e641-4c0d094ef56d"
      },
      "execution_count": 36,
      "outputs": [
        {
          "output_type": "stream",
          "name": "stdout",
          "text": [
            "25\n"
          ]
        }
      ]
    },
    {
      "cell_type": "markdown",
      "source": [
        "#### **나눈 후 대입하기**\n",
        "\n",
        "* `/=`\n",
        "\n",
        "```\n",
        "a = 5\n",
        "b = 2\n",
        "a /= b # 할당연산자 사용  `a = a/b` 과 동일\n",
        "print(a)\n",
        "```"
      ],
      "metadata": {
        "id": "20DMtEcLDTMm"
      }
    },
    {
      "cell_type": "code",
      "source": [
        "a = 5\n",
        "b = 2\n",
        "a /= b\n",
        "print(a)"
      ],
      "metadata": {
        "id": "RyR5M61DDVPv",
        "colab": {
          "base_uri": "https://localhost:8080/"
        },
        "outputId": "1c3f1608-fcf0-4a05-d84d-30735819757a"
      },
      "execution_count": 37,
      "outputs": [
        {
          "output_type": "stream",
          "name": "stdout",
          "text": [
            "2.5\n"
          ]
        }
      ]
    },
    {
      "cell_type": "markdown",
      "source": [
        "#### **나눈 후 몫을 대입하기**\n",
        "\n",
        "* `//=`\n",
        "\n",
        "```\n",
        "a = 5\n",
        "b = 2\n",
        "a //= b # 할당연산자 사용  `a = a//b` 과 동일\n",
        "print(a)\n",
        "```"
      ],
      "metadata": {
        "id": "hbXeSlqoD8o3"
      }
    },
    {
      "cell_type": "code",
      "source": [
        "a = 5.0\n",
        "b = 2\n",
        "a //= b\n",
        "print(a) \n",
        "#하나라도 실수이면 결괏값도 실수"
      ],
      "metadata": {
        "id": "umWFbBJBEBBt",
        "colab": {
          "base_uri": "https://localhost:8080/"
        },
        "outputId": "22759112-72ea-483a-fcfa-9e8de89ee48d"
      },
      "execution_count": 64,
      "outputs": [
        {
          "output_type": "stream",
          "name": "stdout",
          "text": [
            "2.0\n"
          ]
        }
      ]
    },
    {
      "cell_type": "markdown",
      "source": [
        "### 나눈 후 나머지를 대입하기\n",
        "\n",
        "* `%=`\n",
        "\n",
        "```\n",
        "a = 5\n",
        "b = 2\n",
        "a %= b # 할당연산자 사용  `a = a%b` 과 동일\n",
        "print(a)\n",
        "```"
      ],
      "metadata": {
        "id": "27IOeqppEBRj"
      }
    },
    {
      "cell_type": "code",
      "source": [
        "a = 5\n",
        "b = 2\n",
        "a %= b\n",
        "print(a)"
      ],
      "metadata": {
        "id": "bShKWVX-EDNf",
        "colab": {
          "base_uri": "https://localhost:8080/"
        },
        "outputId": "9c8fdbed-b68f-451b-a8c2-447400990f6a"
      },
      "execution_count": 66,
      "outputs": [
        {
          "output_type": "stream",
          "name": "stdout",
          "text": [
            "1\n"
          ]
        }
      ]
    },
    {
      "cell_type": "markdown",
      "source": [
        "## 문제풀이\n",
        "---\n",
        "\n",
        "**예제 01**\n",
        "\n",
        "아래 코드의 실행 결과를 예상하고 출력해보세요\n",
        "\n",
        "```\n",
        "2+5-3*5\n",
        "```\n"
      ],
      "metadata": {
        "id": "HgrXNsFnwp_m"
      }
    },
    {
      "cell_type": "code",
      "source": [
        "2 + 5 - 3 * 5\n",
        "# -8"
      ],
      "metadata": {
        "id": "U8ehercCwsP8",
        "colab": {
          "base_uri": "https://localhost:8080/"
        },
        "outputId": "cf2e685b-3701-46cb-face-3925c8974824"
      },
      "execution_count": 41,
      "outputs": [
        {
          "output_type": "execute_result",
          "data": {
            "text/plain": [
              "-8"
            ]
          },
          "metadata": {},
          "execution_count": 41
        }
      ]
    },
    {
      "cell_type": "markdown",
      "source": [
        "**예제 02**\n",
        "\n",
        "아래 코드의 실행 결과를 예상하고 출력해보세요\n",
        "```\n",
        "print(10/2)\n",
        "print(10%2)\n",
        "print(11%2)\n",
        "print(12%2)\n",
        "print(13%2)\n",
        "print(14%2)\n",
        "```"
      ],
      "metadata": {
        "id": "Bd7MAhfZwuYL"
      }
    },
    {
      "cell_type": "code",
      "source": [
        "# 5.0\n",
        "# 0\n",
        "# 1\n",
        "# 0\n",
        "# 1\n",
        "# 0\n",
        "print(10/2)\n",
        "print(10%2)\n",
        "print(11%2)\n",
        "print(12%2)\n",
        "print(13%2)\n",
        "print(14%2)"
      ],
      "metadata": {
        "id": "04JSAGa2wvXN",
        "colab": {
          "base_uri": "https://localhost:8080/"
        },
        "outputId": "6d8df785-a172-4f9a-b631-3878f7defdfc"
      },
      "execution_count": 42,
      "outputs": [
        {
          "output_type": "stream",
          "name": "stdout",
          "text": [
            "5.0\n",
            "0\n",
            "1\n",
            "0\n",
            "1\n",
            "0\n"
          ]
        }
      ]
    },
    {
      "cell_type": "markdown",
      "source": [
        "**예제 03**\n",
        "\n",
        "`예제 02` 를 기반으로 `int` 값중 짝수와 홀수를 판별하는 방법을 제안하세요\n"
      ],
      "metadata": {
        "id": "ndVmQUdcwwbH"
      }
    },
    {
      "cell_type": "code",
      "source": [
        "# num%2 값이 0과 같으면 num이 짝수, 1이면 num은 홀수이다.  "
      ],
      "metadata": {
        "id": "BA7Glui4wyJx"
      },
      "execution_count": null,
      "outputs": []
    },
    {
      "cell_type": "markdown",
      "source": [
        "**예제 04**\n",
        "\n",
        "정수기가 월 30,000원에 무이자할부 5년 조건으로 판매되고 있습니다. 총 금액을 계산한 후 이를 화면에 출력해보세요. (변수사용하기)"
      ],
      "metadata": {
        "id": "BiJgJpfvwwdj"
      }
    },
    {
      "cell_type": "code",
      "source": [
        "cost_month = 30000\n",
        "print(cost_month * 12 * 5, '원', sep = '')"
      ],
      "metadata": {
        "id": "e_RllwoewzQs",
        "colab": {
          "base_uri": "https://localhost:8080/"
        },
        "outputId": "d4cffa82-1ec9-40a0-c4c2-71bd52825199"
      },
      "execution_count": 44,
      "outputs": [
        {
          "output_type": "stream",
          "name": "stdout",
          "text": [
            "1800000원\n"
          ]
        }
      ]
    },
    {
      "cell_type": "markdown",
      "source": [
        "**예제 05** \n",
        "\n",
        "변수가 아래와 같이 선언되어 있습니다. 각 변수들끼리 서로 더한 결과를 정리하세요\n",
        "\n",
        "```\n",
        "a = 5 \n",
        "b = 3.14 \n",
        "c = 3 + 4j\n",
        "```"
      ],
      "metadata": {
        "id": "wP9-y-apw030"
      }
    },
    {
      "cell_type": "code",
      "source": [
        "# a + b = 8.14\n",
        "# a + c = 8 + 4j\n",
        "# b + c = 6.14 + 4j\n",
        "a = 5 \n",
        "b = 3.14 \n",
        "c = 3 + 4j\n",
        "print(a + b)\n",
        "print(a + c)\n",
        "print(b + c)"
      ],
      "metadata": {
        "id": "CQRbhmUMyq69",
        "colab": {
          "base_uri": "https://localhost:8080/"
        },
        "outputId": "f4fdd977-daac-4273-d6c3-496f783eeda2"
      },
      "execution_count": 45,
      "outputs": [
        {
          "output_type": "stream",
          "name": "stdout",
          "text": [
            "8.14\n",
            "(8+4j)\n",
            "(6.140000000000001+4j)\n"
          ]
        }
      ]
    },
    {
      "cell_type": "markdown",
      "source": [
        "**예제 06**\n",
        "\n",
        "아래 결과를 예측하세요\n",
        "\n",
        "\n",
        "```\n",
        "a= 1\n",
        "a= a+1\n",
        "a= a**3\n",
        "print(a)\n",
        "```"
      ],
      "metadata": {
        "id": "AqR7zhPaw145"
      }
    },
    {
      "cell_type": "code",
      "source": [
        "# 8\n",
        "a= 1\n",
        "a= a+1\n",
        "a= a**3\n",
        "print(a)"
      ],
      "metadata": {
        "id": "kIXwdd_nyrkR",
        "colab": {
          "base_uri": "https://localhost:8080/"
        },
        "outputId": "962f2a85-9bb9-45a9-f89d-1135805c8243"
      },
      "execution_count": 46,
      "outputs": [
        {
          "output_type": "stream",
          "name": "stdout",
          "text": [
            "8\n"
          ]
        }
      ]
    },
    {
      "cell_type": "markdown",
      "source": [
        "**예제 07**\n",
        "\n",
        "아래 결과를 예측하세요\n",
        "\n",
        "\n",
        "```\n",
        "a= 1+3j\n",
        "b= a.real\n",
        "print(b%2)\n",
        "```\n"
      ],
      "metadata": {
        "id": "ey2pYPv4yYBp"
      }
    },
    {
      "cell_type": "code",
      "source": [
        "#1\n",
        "a= 1+3j\n",
        "b= a.real\n",
        "print(b%2)\n",
        "#int가 아닌 float이 나온다.\n",
        "type(b) # float \n"
      ],
      "metadata": {
        "id": "yanJRKU-yr8r",
        "colab": {
          "base_uri": "https://localhost:8080/"
        },
        "outputId": "e8a9c083-96ad-4264-ff41-a04be2341921"
      },
      "execution_count": 49,
      "outputs": [
        {
          "output_type": "stream",
          "name": "stdout",
          "text": [
            "1.0\n"
          ]
        },
        {
          "output_type": "execute_result",
          "data": {
            "text/plain": [
              "float"
            ]
          },
          "metadata": {},
          "execution_count": 49
        }
      ]
    },
    {
      "cell_type": "markdown",
      "source": [
        "**예제 08**\n",
        "\n",
        "아래와 같이 주가와 주식개수를 인풋으로 받아 평가금액을 출력하는 코드를 작성하세요\n",
        "\n",
        "```\n",
        ">> 주가: 10000\n",
        ">> 주식개수: 3\n",
        "평가금액은 30000원 입니다.\n",
        "```"
      ],
      "metadata": {
        "id": "wyBij9C6yZDw"
      }
    },
    {
      "cell_type": "code",
      "source": [
        "stock = int(input('주가: '))\n",
        "num_stock = int(input('주식개수: '))\n",
        "print('평가금액은 ', stock * num_stock, '원 입니다.', sep = '')"
      ],
      "metadata": {
        "id": "M60QJ7V5ysav",
        "colab": {
          "base_uri": "https://localhost:8080/"
        },
        "outputId": "c881f7ac-6a74-4176-e9ae-0911e10761e5"
      },
      "execution_count": 62,
      "outputs": [
        {
          "output_type": "stream",
          "name": "stdout",
          "text": [
            "주가: 10000\n",
            "주식개수: 3\n",
            "평가금액은 30000원 입니다.\n"
          ]
        }
      ]
    },
    {
      "cell_type": "markdown",
      "source": [
        "**예제 09**\n",
        "\n",
        "아래와 같이 복소수(complex)를 입력하면 실수값과 허수값, 실수값과 허수값을 알려주는 코드를 작성하세요.\n",
        "\n",
        "```\n",
        ">> 복소수를 입력하세요: 1+5j\n",
        "실수값은 1, 허수값은 5입니다. \n",
        "```"
      ],
      "metadata": {
        "id": "HTFQuWVeyaS4"
      }
    },
    {
      "cell_type": "code",
      "source": [
        "comp = complex(input(\"복소수를 입력하세요: \"))\n",
        "print('실수값은 ', int(comp.real), ', ', '허수값은 ', int(comp.imag), '입니다.', sep = '')\n"
      ],
      "metadata": {
        "id": "2vGeOjbwys2C",
        "colab": {
          "base_uri": "https://localhost:8080/"
        },
        "outputId": "43c37d64-3b32-4528-c478-0eda15e285e1"
      },
      "execution_count": 56,
      "outputs": [
        {
          "output_type": "stream",
          "name": "stdout",
          "text": [
            "복소수를 입력하세요: 1+5j\n",
            "실수값은 1, 허수값은 5입니다.\n"
          ]
        }
      ]
    },
    {
      "cell_type": "markdown",
      "source": [
        "**예제 10**\n",
        "\n",
        "아래와 같이 정수(int)를 입력하면 제곱값과 세제곱값을 출력하는 코드를 작성하세요.\n",
        "\n",
        "```\n",
        ">> 숫자를 입력하세요: 5\n",
        "5의 제곱은 25이고 세제곱은 125 입니다.\n",
        "```\n"
      ],
      "metadata": {
        "id": "qrPmvCY7ybVA"
      }
    },
    {
      "cell_type": "code",
      "source": [
        "num = int(input('숫자를 입력하세요: '))\n",
        "print(num, '의 제곱은 ', num**2, '이고 세제곱은 ', num**3, ' 입니다.', sep = '')"
      ],
      "metadata": {
        "id": "PigOmcgwyyhj",
        "colab": {
          "base_uri": "https://localhost:8080/"
        },
        "outputId": "e672d541-745e-4833-d09a-199c20beddf3"
      },
      "execution_count": 59,
      "outputs": [
        {
          "output_type": "stream",
          "name": "stdout",
          "text": [
            "숫자를 입력하세요: 5\n",
            "5의 제곱은 25이고 세제곱은 125 입니다.\n"
          ]
        }
      ]
    },
    {
      "cell_type": "markdown",
      "source": [
        "**예제 11**\n",
        "\n",
        "실수값(float)을 입력하면 실수값에 5를 더한 값을 출력하는 코드를 작성하세요\n",
        "\n",
        "```\n",
        ">> 실수값을 입력하세요: 5.11\n",
        "5를 더한 값은 10.11 입니다.\n",
        "```\n"
      ],
      "metadata": {
        "id": "r-6cOE9Uyce4"
      }
    },
    {
      "cell_type": "code",
      "source": [
        "num = float(input('실수값을 입력하세요: '))\n",
        "print('5를 더한 값은', num + 5, '입니다.')"
      ],
      "metadata": {
        "id": "wkoF8LTzy0g2",
        "colab": {
          "base_uri": "https://localhost:8080/"
        },
        "outputId": "00621b68-5710-4b72-c4f2-2fbda2a87288"
      },
      "execution_count": 60,
      "outputs": [
        {
          "output_type": "stream",
          "name": "stdout",
          "text": [
            "실수값을 입력하세요: 5.11\n",
            "5를 더한 값은 10.11 입니다.\n"
          ]
        }
      ]
    },
    {
      "cell_type": "markdown",
      "source": [
        "\n",
        "**예제 12**\n",
        "\n",
        "첫번째 숫자와 두번째 숫자를 입력하면 첫번째 숫자를 두번째 숫자로 나눈 몫과 나머지를 구하는 코드를 작성하세요\n",
        "\n",
        "```\n",
        ">> 첫번째 숫자: 10\n",
        ">> 두번째 숫자: 3\n",
        "10 나누기 3은 몫이 3이고 나머지는 1입니다.\n",
        "```"
      ],
      "metadata": {
        "id": "PrS_rt0xydlV"
      }
    },
    {
      "cell_type": "code",
      "source": [
        "first = int(input('첫번째 숫자: '))\n",
        "second = int(input('두번째 숫자: '))\n",
        "print(first, ' 나누기 ', second, '은 몫이 ', 10//3, '이고 나머지는 ', 10%3, '입니다.', sep = '')"
      ],
      "metadata": {
        "id": "1O9-xigHCaqb",
        "colab": {
          "base_uri": "https://localhost:8080/"
        },
        "outputId": "d073907c-a169-4de4-b033-698cf67011a4"
      },
      "execution_count": 61,
      "outputs": [
        {
          "output_type": "stream",
          "name": "stdout",
          "text": [
            "첫번째 숫자: 10\n",
            "두번째 숫자: 3\n",
            "10 나누기 3은 몫이 3이고 나머지는 1입니다.\n"
          ]
        }
      ]
    }
  ]
}