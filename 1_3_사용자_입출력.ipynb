{
  "nbformat": 4,
  "nbformat_minor": 0,
  "metadata": {
    "colab": {
      "name": "1-3.사용자 입출력.ipynb",
      "provenance": [],
      "collapsed_sections": [],
      "include_colab_link": true
    },
    "kernelspec": {
      "name": "python3",
      "display_name": "Python 3"
    },
    "language_info": {
      "name": "python"
    }
  },
  "cells": [
    {
      "cell_type": "markdown",
      "metadata": {
        "id": "view-in-github",
        "colab_type": "text"
      },
      "source": [
        "<a href=\"https://colab.research.google.com/github/PomesHouse/SkillTreePython/blob/main/1_3_%EC%82%AC%EC%9A%A9%EC%9E%90_%EC%9E%85%EC%B6%9C%EB%A0%A5.ipynb\" target=\"_parent\"><img src=\"https://colab.research.google.com/assets/colab-badge.svg\" alt=\"Open In Colab\"/></a>"
      ]
    },
    {
      "cell_type": "markdown",
      "source": [
        "# 1-3. 변수 선언하기\n",
        "---\n",
        "* 날짜:\n",
        "* 이름:"
      ],
      "metadata": {
        "id": "kB5IciXEm6o4"
      }
    },
    {
      "cell_type": "markdown",
      "source": [
        "## 개념정리\n",
        "---\n",
        "\n",
        "\n",
        "사용자에게서 변수를 얻어서 그에 맞는 프로그램을 짜고 싶다면 입력기능이 필요합니다. 또한 원하는 기능을 실행 후 결과물을 확인하고 싶다면 출력기능이 필요합니다. 이번시간에서는 파이썬의 입출력기능을 알아보도록 합니다.\n",
        "\n"
      ],
      "metadata": {
        "id": "4iN8NFzHRJ2D"
      }
    },
    {
      "cell_type": "markdown",
      "source": [
        "### **(1) 입력**\n",
        "\n",
        "\n",
        "\n"
      ],
      "metadata": {
        "id": "UKlkHH0IRL5h"
      }
    },
    {
      "cell_type": "markdown",
      "source": [
        "사용자의 입력을 파이썬의 `input()` 함수를 이용해서 받을 수 있습니다. 아래 코드를 실행하면 사용자의 입력을 받는 창이 나타납니다.\n",
        "\n",
        "```\n",
        "input()\n",
        "```\n",
        "\n"
      ],
      "metadata": {
        "id": "opbfNksrAq4P"
      }
    },
    {
      "cell_type": "code",
      "source": [
        "input()"
      ],
      "metadata": {
        "id": "MMZ81oTLAsnC",
        "colab": {
          "base_uri": "https://localhost:8080/",
          "height": 54
        },
        "outputId": "1011658d-b9c1-4cd1-8d7e-7b86681fa43e"
      },
      "execution_count": 1,
      "outputs": [
        {
          "name": "stdout",
          "output_type": "stream",
          "text": [
            "python\n"
          ]
        },
        {
          "output_type": "execute_result",
          "data": {
            "text/plain": [
              "'python'"
            ],
            "application/vnd.google.colaboratory.intrinsic+json": {
              "type": "string"
            }
          },
          "metadata": {},
          "execution_count": 1
        }
      ]
    },
    {
      "cell_type": "markdown",
      "source": [
        "#### **설명 추가**\n",
        "\n",
        "입력을 받을 때 설명을 추가해주고 싶다면 아래와 같이 함수의 괄호 안에 문자열을 삽입합니다.\n",
        "```\n",
        "input(\"이름을 입력하세요:\")\n",
        "```"
      ],
      "metadata": {
        "id": "W5qe6MfoAr0T"
      }
    },
    {
      "cell_type": "code",
      "source": [
        "input('이름을 입력하세요: ')"
      ],
      "metadata": {
        "id": "cZ-eUn5WAs-f",
        "colab": {
          "base_uri": "https://localhost:8080/",
          "height": 54
        },
        "outputId": "46f86831-2981-44fd-e336-b50e0215eab7"
      },
      "execution_count": 2,
      "outputs": [
        {
          "name": "stdout",
          "output_type": "stream",
          "text": [
            "이름을 입력하세요: Python\n"
          ]
        },
        {
          "output_type": "execute_result",
          "data": {
            "text/plain": [
              "'Python'"
            ],
            "application/vnd.google.colaboratory.intrinsic+json": {
              "type": "string"
            }
          },
          "metadata": {},
          "execution_count": 2
        }
      ]
    },
    {
      "cell_type": "markdown",
      "source": [
        "#### **바인딩**\n",
        "\n",
        "`input()` 함수로 받은 값을 바인딩 하여 저장할 수 있습니다.\n",
        "```\n",
        "my_name = input('이름을 입력하세요:')\n",
        "```\n"
      ],
      "metadata": {
        "id": "6e0WFOgKBIXo"
      }
    },
    {
      "cell_type": "code",
      "source": [
        "my_name = input('이름을 입력하세요: ')"
      ],
      "metadata": {
        "id": "21s6EP4QFU6s",
        "colab": {
          "base_uri": "https://localhost:8080/"
        },
        "outputId": "3928faed-b399-47b0-984f-4977ef59b1c1"
      },
      "execution_count": 3,
      "outputs": [
        {
          "name": "stdout",
          "output_type": "stream",
          "text": [
            "이름을 입력하세요: Suyoung Park\n"
          ]
        }
      ]
    },
    {
      "cell_type": "markdown",
      "source": [
        "\n",
        "위에서 선언한 `my_name`을 확인해 봅시다.\n",
        "\n",
        "```\n",
        "my_name, type(my_name)\n",
        "```\n",
        "\n"
      ],
      "metadata": {
        "id": "Fi-eRFJ_Dbog"
      }
    },
    {
      "cell_type": "code",
      "source": [
        "my_name, type(my_name)"
      ],
      "metadata": {
        "id": "XYu0SS3pFd5V",
        "colab": {
          "base_uri": "https://localhost:8080/"
        },
        "outputId": "e35cdf7a-477a-4600-e7ff-83f1a840871a"
      },
      "execution_count": 4,
      "outputs": [
        {
          "output_type": "execute_result",
          "data": {
            "text/plain": [
              "('Suyoung Park', str)"
            ]
          },
          "metadata": {},
          "execution_count": 4
        }
      ]
    },
    {
      "cell_type": "markdown",
      "source": [
        "\n",
        "`input()` 함수로 바인딩한 값은 모두 `문자열(str)` 임을 주의합니다. \n",
        "```\n",
        "my_age = input(\"나이를 입력하세요: \")\n",
        "type(my_age)\n",
        "```"
      ],
      "metadata": {
        "id": "3Cr--Bt7DcZ3"
      }
    },
    {
      "cell_type": "code",
      "source": [
        "my_age = input('나이를 입력하세요: ')\n",
        "type(my_age)"
      ],
      "metadata": {
        "id": "ond0nWOBRNlE",
        "colab": {
          "base_uri": "https://localhost:8080/"
        },
        "outputId": "24ecf772-f6c7-4e6a-94b8-f5bfaf5af51d"
      },
      "execution_count": 5,
      "outputs": [
        {
          "name": "stdout",
          "output_type": "stream",
          "text": [
            "나이를 입력하세요: 0\n"
          ]
        },
        {
          "output_type": "execute_result",
          "data": {
            "text/plain": [
              "str"
            ]
          },
          "metadata": {},
          "execution_count": 5
        }
      ]
    },
    {
      "cell_type": "markdown",
      "source": [
        "### **(2) 출력**\n",
        "---\n"
      ],
      "metadata": {
        "id": "sRuCgcK-JvNK"
      }
    },
    {
      "cell_type": "markdown",
      "source": [
        "* `print()` : 원하는 값을 출력 할 수 있습니다. \n",
        "\n",
        "```\n",
        "print(2)\n",
        "```\n"
      ],
      "metadata": {
        "id": "DTfxz37ERNu5"
      }
    },
    {
      "cell_type": "code",
      "source": [
        "print(2)"
      ],
      "metadata": {
        "id": "a7CnXb5sRf9R",
        "colab": {
          "base_uri": "https://localhost:8080/"
        },
        "outputId": "97728b58-c670-426e-c109-a66ad86e7751"
      },
      "execution_count": 6,
      "outputs": [
        {
          "output_type": "stream",
          "name": "stdout",
          "text": [
            "2\n"
          ]
        }
      ]
    },
    {
      "cell_type": "markdown",
      "source": [
        "문자 또한 출력 할 수 있습니다.\n",
        "\n",
        "```\n",
        "print(\"hello\")\n",
        "print('world')\n",
        "```\n"
      ],
      "metadata": {
        "id": "hP1Dg3r-RgFG"
      }
    },
    {
      "cell_type": "code",
      "source": [
        "print('hello')\n",
        "print('world')"
      ],
      "metadata": {
        "id": "_ZNiNuDdROf4",
        "colab": {
          "base_uri": "https://localhost:8080/"
        },
        "outputId": "65581b07-598b-4444-d331-7478a27c3675"
      },
      "execution_count": 7,
      "outputs": [
        {
          "output_type": "stream",
          "name": "stdout",
          "text": [
            "hello\n",
            "world\n"
          ]
        }
      ]
    },
    {
      "cell_type": "markdown",
      "source": [
        "여러개의 인풋을 함께 쉼표(  `,`  )를 이용해 출력할 수 있습니다.\n",
        "\n",
        "```\n",
        "print(5,  \"apples\")\n",
        "```"
      ],
      "metadata": {
        "id": "mZpdPQfzKCY-"
      }
    },
    {
      "cell_type": "code",
      "source": [
        "print(5, 'apples', my_age) # 중간에 space "
      ],
      "metadata": {
        "id": "AIZD4839KB1R",
        "colab": {
          "base_uri": "https://localhost:8080/"
        },
        "outputId": "acec3504-adfd-477d-f9eb-5227ea9f5394"
      },
      "execution_count": 9,
      "outputs": [
        {
          "output_type": "stream",
          "name": "stdout",
          "text": [
            "5 apples 0\n"
          ]
        }
      ]
    },
    {
      "cell_type": "markdown",
      "source": [
        "#### **옵션**\n",
        "\n",
        "* `sep` : 출력하는 값들 사이를 어떤 값으로 채울지 지정할 수 있습니다. 디폴트 값은 스페이스(' ') 입니다.\n",
        "\n",
        "```\n",
        "print(\"Hello\", \"world\", 1, 2, 3, sep='*')\n",
        "```\n",
        "\n"
      ],
      "metadata": {
        "id": "NBoLmg06ROrn"
      }
    },
    {
      "cell_type": "code",
      "source": [
        "print(\"Hello\",\"world\",1,2,3, sep = '*')"
      ],
      "metadata": {
        "id": "W3O4k_RPKF7g",
        "colab": {
          "base_uri": "https://localhost:8080/"
        },
        "outputId": "1b2dea90-46b2-4274-bd63-37940e11545e"
      },
      "execution_count": 10,
      "outputs": [
        {
          "output_type": "stream",
          "name": "stdout",
          "text": [
            "Hello*world*1*2*3\n"
          ]
        }
      ]
    },
    {
      "cell_type": "markdown",
      "source": [
        "* `end` : 문장이 끝날 때 어떤 문자로 끝날 지 지정해 줍니다. 기본값은 줄바꿈(`\\`) 입니다.\n",
        "\n",
        "```\n",
        "print(\"Hello\", \"world\", 1, 2, 3, end='*')\n",
        "```"
      ],
      "metadata": {
        "id": "-kjP5YIuKGMl"
      }
    },
    {
      "cell_type": "code",
      "source": [
        "print('Hello','world',1,2,3, end = '*') "
      ],
      "metadata": {
        "id": "FiKhVqs4RX1Q",
        "colab": {
          "base_uri": "https://localhost:8080/"
        },
        "outputId": "62080f7b-fca2-4283-bcb6-9734bec3626b"
      },
      "execution_count": 11,
      "outputs": [
        {
          "output_type": "stream",
          "name": "stdout",
          "text": [
            "Hello world 1 2 3*"
          ]
        }
      ]
    },
    {
      "cell_type": "code",
      "source": [
        "print('Hello', end = '\\n')\n",
        "print('World')  # 디폴트는 줄바꿈 \\n"
      ],
      "metadata": {
        "colab": {
          "base_uri": "https://localhost:8080/"
        },
        "id": "Gk0GDqwESwre",
        "outputId": "728fa430-1edf-4457-8191-985c328757b4"
      },
      "execution_count": 16,
      "outputs": [
        {
          "output_type": "stream",
          "name": "stdout",
          "text": [
            "Hello\n",
            "World\n"
          ]
        }
      ]
    },
    {
      "cell_type": "markdown",
      "source": [
        "## 문제풀이\n",
        "---"
      ],
      "metadata": {
        "id": "JPZeQrxgxJJF"
      }
    },
    {
      "cell_type": "markdown",
      "source": [
        "**예제 01**\n",
        "\n",
        "아래와 같이 직업을 입력하는 코드를 작성하세요\n",
        "\n",
        "```\n",
        ">> 직업을 입력하세요: \n",
        "```"
      ],
      "metadata": {
        "id": "4Hptj9hUxPr3"
      }
    },
    {
      "cell_type": "code",
      "source": [
        "input('직업을 입력하세요:')"
      ],
      "metadata": {
        "id": "yvAcIx4L8Zwt",
        "colab": {
          "base_uri": "https://localhost:8080/",
          "height": 54
        },
        "outputId": "04715a0c-0ce9-423b-e5a4-a376877a8c9d"
      },
      "execution_count": 12,
      "outputs": [
        {
          "name": "stdout",
          "output_type": "stream",
          "text": [
            "직업을 입력하세요:넵\n"
          ]
        },
        {
          "output_type": "execute_result",
          "data": {
            "text/plain": [
              "'넵'"
            ],
            "application/vnd.google.colaboratory.intrinsic+json": {
              "type": "string"
            }
          },
          "metadata": {},
          "execution_count": 12
        }
      ]
    },
    {
      "cell_type": "markdown",
      "source": [
        "\n",
        "**예제 02**\n",
        "\n",
        "아래와 같이 직업을 입력하면 소개글을 출력하는 코드를 작성하세요\n",
        "\n",
        "\n",
        "```\n",
        ">> 직업을 입력하세요: \n",
        ">> 당신의 직업은 강사 입니다.\n",
        "```\n"
      ],
      "metadata": {
        "id": "S6NDuF_TxNsj"
      }
    },
    {
      "cell_type": "code",
      "source": [
        "job = input('직업을 입력하세요:')\n",
        "print('당신의 직업은', job, '입니다.')"
      ],
      "metadata": {
        "id": "IUQi5TpfxLwc",
        "colab": {
          "base_uri": "https://localhost:8080/"
        },
        "outputId": "521f2650-4a6f-4060-b285-5f1de7111c6f"
      },
      "execution_count": 18,
      "outputs": [
        {
          "output_type": "stream",
          "name": "stdout",
          "text": [
            "직업을 입력하세요:강사\n",
            "당신의 직업은 강사 입니다.\n"
          ]
        }
      ]
    },
    {
      "cell_type": "markdown",
      "source": [
        "**예제 03**\n",
        "\n",
        "아래와 같이 직업을 입력하면 소개글을 출력하는 코드를 작성하세요\n",
        "\n",
        "```\n",
        ">> 직업을 입력하세요: \n",
        ">> 당신의 직업은 '강사' 입니다.\n",
        "```"
      ],
      "metadata": {
        "id": "stz9gemAxRNI"
      }
    },
    {
      "cell_type": "code",
      "source": [
        "job = input('직업을 입력하세요:')\n",
        "print('당신의 직업은 ', job, ' 입니다.', sep = \"'\")"
      ],
      "metadata": {
        "id": "pBWMoVPC8aJ8",
        "colab": {
          "base_uri": "https://localhost:8080/"
        },
        "outputId": "d5139972-b6c8-41b9-9851-aa3fcc319e60"
      },
      "execution_count": 43,
      "outputs": [
        {
          "output_type": "stream",
          "name": "stdout",
          "text": [
            "직업을 입력하세요:강사\n",
            "당신의 직업은 '강사' 입니다.\n",
            "당신의 직업은 '강사' 입니다.\n"
          ]
        }
      ]
    },
    {
      "cell_type": "markdown",
      "source": [
        "**예제 04**\n",
        "\n",
        "아래와 같이 좋아하는 숫자를 출력하는 코드를 작성하세요\n",
        "\n",
        "```\n",
        ">> 내가 좋아하는 숫자: 7 \n",
        ">> 내가 좋아하는 숫자는 7 이다.\n",
        "```"
      ],
      "metadata": {
        "id": "107E31VkzTfm"
      }
    },
    {
      "cell_type": "code",
      "source": [
        "num = input('내가 좋아하는 숫자:')\n",
        "print('내가 좋아하는 숫자는', num, '이다.')"
      ],
      "metadata": {
        "id": "Hx0Ag-aAzTfm",
        "colab": {
          "base_uri": "https://localhost:8080/"
        },
        "outputId": "30b2f47d-da19-4a1a-9cc6-d28d3ad41860"
      },
      "execution_count": 20,
      "outputs": [
        {
          "output_type": "stream",
          "name": "stdout",
          "text": [
            "내가 좋아하는 숫자:7\n",
            "내가 좋아하는 숫자는 7 이다.\n"
          ]
        }
      ]
    },
    {
      "cell_type": "markdown",
      "source": [
        "**예제 04**\n",
        "\n",
        "아래와 같이 코드를 작성하였는데 오류가 떴습니다. 이유를 설명하세요.\n",
        "\n",
        "```\n",
        "my_num = input(\"내가 좋아하는 숫자: \") \n",
        "print(my_num+10)\n",
        "```"
      ],
      "metadata": {
        "id": "optdPkAtzgjt"
      }
    },
    {
      "cell_type": "code",
      "source": [
        "#my_num = input(\"내가 좋아하는 숫자: \") \n",
        "#print(my_num+10)\n",
        "#input의 경우 입력값을 str으로 받는다"
      ],
      "metadata": {
        "id": "4ioxaMK0zgjt"
      },
      "execution_count": 22,
      "outputs": []
    },
    {
      "cell_type": "markdown",
      "source": [
        "**예제 05**\n",
        "\n",
        "화면에 아래 문장을 출력하세요.\n",
        "\n",
        "```\n",
        "nice day!\n",
        "```"
      ],
      "metadata": {
        "id": "BKug_5lN7NAS"
      }
    },
    {
      "cell_type": "code",
      "source": [
        "print('nice day!')"
      ],
      "metadata": {
        "id": "4kuhxl6K8aiO",
        "colab": {
          "base_uri": "https://localhost:8080/"
        },
        "outputId": "5c32a042-ff6e-4a1d-defe-8ea3ec6a7359"
      },
      "execution_count": 23,
      "outputs": [
        {
          "output_type": "stream",
          "name": "stdout",
          "text": [
            "nice day!\n"
          ]
        }
      ]
    },
    {
      "cell_type": "markdown",
      "source": [
        "\n",
        "**예제 06**\n",
        "\n",
        "아래 출력이 나오도록 `#코드작성` 부분을 채워 넣으세요  (코드 한줄로 완성하세요) \n",
        "\n",
        "```\n",
        ">> w1 = \"hello\"\n",
        ">> w2 = \"python\"\n",
        ">> w3 = 2\n",
        ">> #코드작성\n",
        ">> hello! python 2\n",
        "```"
      ],
      "metadata": {
        "id": "gqns5it27OZk"
      }
    },
    {
      "cell_type": "code",
      "source": [
        "w1 = \"hello\"\n",
        "w2 = \"python\"\n",
        "w3 = 2\n",
        "print(w1 + '!', w2, w3)"
      ],
      "metadata": {
        "id": "HdB-Ptk58jNc",
        "colab": {
          "base_uri": "https://localhost:8080/"
        },
        "outputId": "533cd991-46d8-4a5f-c540-7e6149e0e057"
      },
      "execution_count": 25,
      "outputs": [
        {
          "output_type": "stream",
          "name": "stdout",
          "text": [
            "hello! python 2\n"
          ]
        }
      ]
    },
    {
      "cell_type": "markdown",
      "source": [
        "**예제 07**\n",
        "\n",
        "아래 출력이 나오도록 `#코드작성` 부분을 채워 넣으세요  (코드 한줄로 완성하세요) \n",
        "\n",
        "```\n",
        ">> w1 = '나의'\n",
        ">> w2 = '살던'\n",
        ">> w3 = '고향은'\n",
        ">> #코드작성\n",
        "나의~살던~고향은~\n",
        "```"
      ],
      "metadata": {
        "id": "ImHI8rZa7Ri2"
      }
    },
    {
      "cell_type": "code",
      "source": [
        "w1 = '나의'\n",
        "w2 = '살던'\n",
        "w3 = '고향은'\n",
        "print(w1, w2, w3, sep = '~', end = '~')"
      ],
      "metadata": {
        "id": "drP2EGod8jh3",
        "colab": {
          "base_uri": "https://localhost:8080/"
        },
        "outputId": "4022880c-522e-48e8-dd60-162fcfd48f4c"
      },
      "execution_count": 27,
      "outputs": [
        {
          "output_type": "stream",
          "name": "stdout",
          "text": [
            "나의~살던~고향은~"
          ]
        }
      ]
    },
    {
      "cell_type": "markdown",
      "source": [
        "**예제 08**\n",
        "\n",
        "아래 출력이 나오도록 `#코드작성` 부분을 채워 넣으세요 \n",
        "\n",
        "```\n",
        ">> w1 = '나의'\n",
        ">> w2 = '살던'\n",
        ">> w3 = '고향은'\n",
        ">> print(w1, end=#코드작성)\n",
        ">> print(w2, end=#코드작성)\n",
        ">> print(w3, end=#코드작성)\n",
        "나의 살던 고향은~\n",
        "```"
      ],
      "metadata": {
        "id": "IrIAl7T67TuF"
      }
    },
    {
      "cell_type": "code",
      "source": [
        "w1 = '나의'\n",
        "w2 = '살던'\n",
        "w3 = '고향은'\n",
        "print(w1, end=' ')\n",
        "print(w2, end=' ')\n",
        "print(w3, end='~')"
      ],
      "metadata": {
        "id": "TeaQAuiM8j3T",
        "colab": {
          "base_uri": "https://localhost:8080/"
        },
        "outputId": "8a140307-d2ff-4d71-a419-671e2a6d3659"
      },
      "execution_count": 28,
      "outputs": [
        {
          "output_type": "stream",
          "name": "stdout",
          "text": [
            "나의 살던 고향은~"
          ]
        }
      ]
    },
    {
      "cell_type": "markdown",
      "source": [
        "**예제 09**\n",
        "\n",
        "아래 출력이 나오도록 `#코드작성` 부분을 채워 넣으세요  (코드 한줄로 완성하세요) \n",
        "\n",
        "```\n",
        ">> w1 = '나의'\n",
        ">> w2 = '살던'\n",
        ">> w3 = '고향은'\n",
        ">> #코드작성\n",
        "나의**살던**고향은\n",
        "```\n"
      ],
      "metadata": {
        "id": "-Uw0J0yZ8WC8"
      }
    },
    {
      "cell_type": "code",
      "source": [
        "w1 = '나의'\n",
        "w2 = '살던'\n",
        "w3 = '고향은'\n",
        "print(w1, w2, w3, sep = \"**\")"
      ],
      "metadata": {
        "id": "uxf3akTY8kOg",
        "colab": {
          "base_uri": "https://localhost:8080/"
        },
        "outputId": "2346d74f-2f82-43f7-9063-056b07906a2c"
      },
      "execution_count": 29,
      "outputs": [
        {
          "output_type": "stream",
          "name": "stdout",
          "text": [
            "나의**살던**고향은\n"
          ]
        }
      ]
    },
    {
      "cell_type": "markdown",
      "source": [
        "**예제 10**\n",
        "\n",
        "아래 출력이 나오도록  `#코드작성` 부분을 채워 넣으세요 (코드 한줄로 완성하세요) \n",
        "\n",
        "```\n",
        ">> w1 = '나의'\n",
        ">> w2 = '살던'\n",
        ">> w3 = '고향은'\n",
        ">> #코드작성\n",
        "나의  \n",
        "살던    \n",
        "고향은  \n",
        "```"
      ],
      "metadata": {
        "id": "2mg9MMwq8W9Y"
      }
    },
    {
      "cell_type": "code",
      "source": [
        "print(w1, w2, w3, sep = '\\n')"
      ],
      "metadata": {
        "id": "AVd52M5n8kkS",
        "colab": {
          "base_uri": "https://localhost:8080/"
        },
        "outputId": "a9b0aa9d-d32c-47b6-a425-2a41b31c8811"
      },
      "execution_count": 30,
      "outputs": [
        {
          "output_type": "stream",
          "name": "stdout",
          "text": [
            "나의\n",
            "살던\n",
            "고향은\n"
          ]
        }
      ]
    },
    {
      "cell_type": "markdown",
      "source": [
        "**예제 11**\n",
        "\n",
        "아래 코드의 결과를 예측하고 그 이유를 해설하세요\n",
        "\n",
        "```\n",
        "print('hello python\")\n",
        "```\n"
      ],
      "metadata": {
        "id": "HtnfpWOF8YV_"
      }
    },
    {
      "cell_type": "code",
      "source": [
        "print('hello python')\n",
        "#hello python"
      ],
      "metadata": {
        "id": "FrRPaGaGj2qd",
        "colab": {
          "base_uri": "https://localhost:8080/"
        },
        "outputId": "a0555d46-e03e-4778-dbd7-64675d9ee94e"
      },
      "execution_count": 31,
      "outputs": [
        {
          "output_type": "stream",
          "name": "stdout",
          "text": [
            "hello python\n"
          ]
        }
      ]
    },
    {
      "cell_type": "markdown",
      "source": [
        "**예제 12**\n",
        "\n",
        "아래와 같이 이름과 나이를 `input()`으로 받고 소개글을 출력하는 코드를 작성하세요\n",
        "\n",
        "```\n",
        ">> 이름 : 홍길동\n",
        ">> 나이: 20\n",
        "반갑습니다. 20살 홍길동 이라고 합니다. 잘 부탁드립니다!\n",
        "```"
      ],
      "metadata": {
        "id": "ZGtma_5Ej210"
      }
    },
    {
      "cell_type": "code",
      "source": [
        "name = input('이름 : ')\n",
        "age = input('나이: ')\n",
        "print('반갑습니다.', age, end = '')\n",
        "print('살', name, end = ' ')\n",
        "print('이라고 합니다. 잘 부탁드립니다!')"
      ],
      "metadata": {
        "id": "qEfBFeNRj9ho",
        "colab": {
          "base_uri": "https://localhost:8080/"
        },
        "outputId": "0045c0ae-7745-4553-fae9-f46986fed248"
      },
      "execution_count": 40,
      "outputs": [
        {
          "output_type": "stream",
          "name": "stdout",
          "text": [
            "이름 : 홍길동\n",
            "나이: 20\n",
            "반갑습니다. 20살 홍길동 이라고 합니다. 잘 부탁드립니다!\n",
            "반갑습니다. 20살 홍길동 이라고 합니다. 잘 부탁드립니다!\n"
          ]
        }
      ]
    },
    {
      "cell_type": "markdown",
      "source": [
        "**예제 13**\n",
        "\n",
        "아래와 같이 특정 메뉴를 고르는 코드를 작성하세요\n",
        "\n",
        "```\n",
        ">> 아메리카노    라떼   에스프레소\n",
        ">> 메뉴를 선택하세요 : 라떼\n",
        "라떼를 선택하였습니다.\n",
        "```\n"
      ],
      "metadata": {
        "id": "jXwMlnnAj9uz"
      }
    },
    {
      "cell_type": "code",
      "source": [
        "print('아메리카노', '라떼','에스프레소', sep = '    ')\n",
        "menu = input('메뉴를 선택하세요 : ')\n",
        "print(menu, '를 선택하였습니다.', sep = '')\n"
      ],
      "metadata": {
        "id": "nK_NWWQ8kAPZ",
        "colab": {
          "base_uri": "https://localhost:8080/"
        },
        "outputId": "fc888831-be91-4c6b-ceea-accfc58abfe7"
      },
      "execution_count": 41,
      "outputs": [
        {
          "output_type": "stream",
          "name": "stdout",
          "text": [
            "아메리카노    라떼    에스프레소\n",
            "메뉴를 선택하세요 : 라뗴\n",
            "라뗴를 선택하였습니다.\n",
            "라뗴를 선택하였습니다.\n"
          ]
        }
      ]
    },
    {
      "cell_type": "markdown",
      "source": [
        "\n",
        "**예제 14**\n",
        "\n",
        "아래와 같이 휴대폰 번호를 입력하면 전체 번호를 출력하는 코드를 작성하세요\n",
        "\n",
        "```\n",
        ">> 휴대폰 앞자리 : 010\n",
        ">> 휴대폰 중간자리: 1111\n",
        ">> 휴대폰 뒷자리: 1111\n",
        "제 번호는 010-1111-1111 입니다.\n",
        "```\n"
      ],
      "metadata": {
        "id": "QnVuK29mkBfo"
      }
    },
    {
      "cell_type": "code",
      "source": [
        "front = input('휴대폰 앞자리 : ')\n",
        "middle = input('휴대폰 중간자리: ')\n",
        "end = input('휴대폰 뒷자리 :')\n",
        "print('제 번호는 ', end = '')\n",
        "print(front, middle, end, sep = '-', end = ' ')\n",
        "print('입니다.')"
      ],
      "metadata": {
        "id": "MTF9BCKnkGFN",
        "colab": {
          "base_uri": "https://localhost:8080/"
        },
        "outputId": "a80f945e-f4ab-4767-a86d-9b29ded2a03f"
      },
      "execution_count": 37,
      "outputs": [
        {
          "output_type": "stream",
          "name": "stdout",
          "text": [
            "휴대폰 앞자리 : 101\n",
            "휴대폰 주간자리: 1111\n",
            "휴대폰 뒷자리 :1111\n",
            "제 번호는 101-1111-1111 입니다.\n"
          ]
        }
      ]
    },
    {
      "cell_type": "markdown",
      "source": [
        "**예제 15**\n",
        "\n",
        "아래와 같이 두개의 값을 받아서 더하고 뺀 값을 알려주는 코드를 작성하세요\n",
        "\n",
        "```\n",
        ">> 첫번째 숫자를 입력하세요: 2\n",
        ">> 두번째 숫자를 입력하세요: 3\n",
        "두개의 숫자를 더한 값은 5 이고 뺀값은 -1 입니다.\n",
        "```"
      ],
      "metadata": {
        "id": "2h4D1hI1kIn-"
      }
    },
    {
      "cell_type": "code",
      "source": [
        "first = input('첫번째 숫자를 입력하세요: ')\n",
        "second = input('두번째 숫자를 입력하세요: ')\n",
        "print('두개의 숫자를 더한 값은', int(first)+ int(second), '이고 뺀값은', int(first)-int(second), '입니다.')\n",
        "#또는 input 앞에 int(input('~~~')) 라고 해도 된다. "
      ],
      "metadata": {
        "id": "zeG6ZZfqnuSM",
        "colab": {
          "base_uri": "https://localhost:8080/"
        },
        "outputId": "fa26828e-c7a7-4208-f5a4-55fbbb34b393"
      },
      "execution_count": 39,
      "outputs": [
        {
          "output_type": "stream",
          "name": "stdout",
          "text": [
            "첫번째 숫자를 입력하세요: 3\n",
            "두번쨰 숫자를 입력하세요: 4\n",
            "두개의 숫자를 더한 값은 7 이고 뺸값은 -1 입니다.\n"
          ]
        }
      ]
    },
    {
      "cell_type": "code",
      "source": [
        "first = int(input('첫번째 숫자를 입력하세요: '))\n",
        "second = int(input('두번쨰 숫자를 입력하세요: '))\n",
        "print('두개의 숫자를 더한 값은', first + second, '이고 뺀값은', first - second, '입니다.')\n"
      ],
      "metadata": {
        "colab": {
          "base_uri": "https://localhost:8080/"
        },
        "id": "SQjc3NWnW1oj",
        "outputId": "6e1ec5bf-d6ab-43f2-ec2a-5e31ebbcfcfe"
      },
      "execution_count": 44,
      "outputs": [
        {
          "output_type": "stream",
          "name": "stdout",
          "text": [
            "첫번째 숫자를 입력하세요: 2\n",
            "두번쨰 숫자를 입력하세요: 3\n",
            "두개의 숫자를 더한 값은 5 이고 뺀값은 -1 입니다.\n"
          ]
        }
      ]
    },
    {
      "cell_type": "code",
      "source": [
        ""
      ],
      "metadata": {
        "id": "jNs-cHRdbtTU"
      },
      "execution_count": null,
      "outputs": []
    }
  ]
}