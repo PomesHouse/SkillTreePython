{
  "nbformat": 4,
  "nbformat_minor": 0,
  "metadata": {
    "colab": {
      "name": "코테 정렬  + 해시.ipynb",
      "private_outputs": true,
      "provenance": [],
      "authorship_tag": "ABX9TyPlHKptVm2PAZ4Y9JL+OeAm",
      "include_colab_link": true
    },
    "kernelspec": {
      "name": "python3",
      "display_name": "Python 3"
    },
    "language_info": {
      "name": "python"
    }
  },
  "cells": [
    {
      "cell_type": "markdown",
      "metadata": {
        "id": "view-in-github",
        "colab_type": "text"
      },
      "source": [
        "<a href=\"https://colab.research.google.com/github/PomesHouse/SkillTreePython/blob/main/%EC%BD%94%ED%85%8C_%EC%A0%95%EB%A0%AC_%2B_%ED%95%B4%EC%8B%9C.ipynb\" target=\"_parent\"><img src=\"https://colab.research.google.com/assets/colab-badge.svg\" alt=\"Open In Colab\"/></a>"
      ]
    },
    {
      "cell_type": "markdown",
      "source": [
        "#정렬 "
      ],
      "metadata": {
        "id": "laiBage4_SAr"
      }
    },
    {
      "cell_type": "markdown",
      "source": [
        "##K번째수\n",
        "####문제 설명\n",
        "배열 array의 i번째 숫자부터 j번째 숫자까지 자르고 정렬했을 때, k번째에 있는 수를 구하려 합니다.\n",
        "\n",
        "~~~\n",
        "예를 들어 array가 [1, 5, 2, 6, 3, 7, 4], i = 2, j = 5, k = 3이라면\n",
        "~~~\n",
        "\n",
        "1. array의 2번째부터 5번째까지 자르면 [5, 2, 6, 3]입니다.\n",
        "2. 1에서 나온 배열을 정렬하면 [2, 3, 5, 6]입니다.\n",
        "3. 2에서 나온 배열의 3번째 숫자는 5입니다.\n",
        "\n",
        "배열 array, [i, j, k]를 원소로 가진 2차원 배열 commands가 매개변수로 주어질 때, commands의 모든 원소에 대해 앞서 설명한 연산을 적용했을 때 나온 결과를 배열에 담아 return 하도록 solution 함수를 작성해주세요.\n",
        "\n",
        "제한사항\n",
        "* array의 길이는 1 이상 100 이하입니다.\n",
        "* array의 각 원소는 1 이상 100 이하입니다.\n",
        "* commands의 길이는 1 이상 50 이하입니다.\n",
        "* commands의 각 원소는 길이가 3입니다.\n",
        "\n",
        "입출력 예\n",
        "~~~\n",
        "array\t                commands\t                         return\n",
        "[1, 5, 2, 6, 3, 7, 4]\t[[2, 5, 3], [4, 4, 1], [1, 7, 3]]\t[5, 6, 3]\n",
        "~~~\n",
        "\n",
        "입출력 예 설명\n",
        "~~~\n",
        "[1, 5, 2, 6, 3, 7, 4]를 2번째부터 5번째까지 자른 후 정렬합니다. [2, 3, 5, 6]의 세 번째 숫자는 5입니다.\n",
        "[1, 5, 2, 6, 3, 7, 4]를 4번째부터 4번째까지 자른 후 정렬합니다. [6]의 첫 번째 숫자는 6입니다.\n",
        "[1, 5, 2, 6, 3, 7, 4]를 1번째부터 7번째까지 자릅니다. [1, 2, 3, 4, 5, 6, 7]의 세 번째 숫자는 3입니다.\n",
        "~~~"
      ],
      "metadata": {
        "id": "yP-xG6czauhK"
      }
    },
    {
      "cell_type": "code",
      "source": [
        "def solution(array, commands):\n",
        "#[[start, end, th],[],[],[],...]\n",
        "    answer = []\n",
        "    for command in commands:\n",
        "        start, end, th = command\n",
        "        new_array = array[start-1:end]\n",
        "        new_array.sort()\n",
        "        print(new_array[th-1])\n",
        "        answer.append(new_array[th-1])\n",
        "        \n",
        "    return answer\n",
        "solution([1, 5, 2, 6, 3, 7, 4], [[2, 5, 3], [4, 4, 1], [1, 7, 3]])"
      ],
      "metadata": {
        "id": "BWhtaLOa_P3s"
      },
      "execution_count": null,
      "outputs": []
    },
    {
      "cell_type": "code",
      "source": [
        "#1 different answer\n",
        "def solution(array, commands):\n",
        "    return list(map(lambda x:sorted(array[x[0]-1:x[1]])[x[2]-1], commands))\n"
      ],
      "metadata": {
        "id": "P40Ay7J8bzTC"
      },
      "execution_count": null,
      "outputs": []
    },
    {
      "cell_type": "code",
      "source": [
        "#2 different answer\n",
        "def solution(array, commands):\n",
        "    answer = []\n",
        "    for command in commands:\n",
        "        i,j,k = command\n",
        "        answer.append(list(sorted(array[i-1:j]))[k-1])\n",
        "    return answer"
      ],
      "metadata": {
        "id": "omm2tN8Ib7Sx"
      },
      "execution_count": null,
      "outputs": []
    },
    {
      "cell_type": "markdown",
      "source": [
        "# 해시"
      ],
      "metadata": {
        "id": "q12C3UU7r19G"
      }
    },
    {
      "cell_type": "markdown",
      "source": [
        "##완주하지 못한 선수 \n",
        "####문제 설명\n",
        "수많은 마라톤 선수들이 마라톤에 참여하였습니다. 단 한 명의 선수를 제외하고는 모든 선수가 마라톤을 완주하였습니다.\n",
        "\n",
        "마라톤에 참여한 선수들의 이름이 담긴 배열 participant와 완주한 선수들의 이름이 담긴 배열 completion이 주어질 때, 완주하지 못한 선수의 이름을 return 하도록 solution 함수를 작성해주세요.\n",
        "\n",
        "제한사항\n",
        "* 마라톤 경기에 참여한 선수의 수는 1명 이상 100,000명 이하입니다.\n",
        "* completion의 길이는 participant의 길이보다 1 작습니다.\n",
        "* 참가자의 이름은 1개 이상 20개 이하의 알파벳 소문자로 이루어져 있습니다.\n",
        "* 참가자 중에는 동명이인이 있을 수 있습니다.\n",
        "\n",
        "입출력 예\n",
        "```\n",
        "participant\t                                        completion                                  return\n",
        "[\"leo\", \"kiki\", \"eden\"]\t                            [\"eden\", \"kiki\"]\t                        \"leo\"\n",
        "[\"marina\", \"josipa\", \"nikola\", \"vinko\", \"filipa\"]\t  [\"josipa\", \"filipa\", \"marina\", \"nikola\"]\t\"vinko\"\n",
        "[\"mislav\", \"stanko\", \"mislav\", \"ana\"]\t              [\"stanko\", \"ana\", \"mislav\"]\t             \"mislav\"\n",
        "```\n",
        "입출력 예 설명\n",
        "```\n",
        "예제 #1\n",
        "\"leo\"는 참여자 명단에는 있지만, 완주자 명단에는 없기 때문에 완주하지 못했습니다.\n",
        "\n",
        "예제 #2\n",
        "\"vinko\"는 참여자 명단에는 있지만, 완주자 명단에는 없기 때문에 완주하지 못했습니다.\n",
        "\n",
        "예제 #3\n",
        "\"mislav\"는 참여자 명단에는 두 명이 있지만, 완주자 명단에는 한 명밖에 없기 때문에 한명은 완주하지 못했습니다\n",
        "```"
      ],
      "metadata": {
        "id": "ovtVSRzSC4M5"
      }
    },
    {
      "cell_type": "code",
      "source": [
        "# 나쁜 내 풀이\n",
        "\n",
        "def solution(participant, completion):\n",
        "    for p in participant:\n",
        "        if p in completion:\n",
        "            completion.remove(p)\n",
        "        else:\n",
        "            return p\n",
        "\n",
        "answer = solution([\"mislav\", \"stanko\", \"mislav\", \"ana\"],[\"stanko\", \"ana\", \"mislav\"])\n",
        "print(answer)"
      ],
      "metadata": {
        "id": "GAZyw-7HC64H"
      },
      "execution_count": null,
      "outputs": []
    },
    {
      "cell_type": "code",
      "source": [
        "# Final Solution (통과했다....) \n",
        "def solution(participant, completion):\n",
        "    participant.sort()\n",
        "    completion.sort()\n",
        "    answer = participant[-1]\n",
        "    for p, c in zip(participant, completion):\n",
        "        if p != c:\n",
        "            answer = p\n",
        "            break\n",
        "    return answer\n",
        "            "
      ],
      "metadata": {
        "id": "1sm_lSnib56m"
      },
      "execution_count": null,
      "outputs": []
    },
    {
      "cell_type": "code",
      "source": [
        "## Shortest answer from the answer pool\n",
        "import collections\n",
        "\n",
        "\n",
        "def solution(participant, completion):\n",
        "    answer = collections.Counter(participant) - collections.Counter(completion)\n",
        "    return list(answer.keys())[0]\n",
        "answer = solution([\"mislav\", \"stanko\", \"mislav\", \"ana\"],[\"stanko\", \"ana\", \"mislav\"])\n",
        "print(answer)"
      ],
      "metadata": {
        "id": "j_rkHAmhf2wr"
      },
      "execution_count": null,
      "outputs": []
    },
    {
      "cell_type": "markdown",
      "source": [
        "## 전화번호 목록\n",
        "\n",
        "####문제 설명\n",
        "전화번호부에 적힌 전화번호 중, 한 번호가 다른 번호의 접두어인 경우가 있는지 확인하려 합니다.\n",
        "\n",
        "전화번호가 다음과 같을 경우, 구조대 전화번호는 영석이의 전화번호의 접두사입니다.\n",
        "* 구조대 : 119\n",
        "* 박준영 : 97 674 223\n",
        "* 지영석 : 11 9552 4421\n",
        "전화번호부에 적힌 전화번호를 담은 배열 phone_book 이 solution 함수의 매개변수로 주어질 때, 어떤 번호가 다른 번호의 접두어인 경우가 있으면 false를 그렇지 않으면 true를 return 하도록 solution 함수를 작성해주세요.\n",
        "\n",
        "제한 사항\n",
        "* phone_book의 길이는 1 이상 1,000,000 이하입니다.\n",
        "* 각 전화번호의 길이는 1 이상 20 이하입니다.\n",
        "* 같은 전화번호가 중복해서 들어있지 않습니다.\n",
        "\n",
        "입출력 예제\n",
        "```\n",
        "phone_book\t                      return\n",
        "[\"119\", \"97674223\", \"1195524421\"]\tfalse\n",
        "[\"123\",\"456\",\"789\"]\t              true\n",
        "[\"12\",\"123\",\"1235\",\"567\",\"88\"]\t   false\n",
        "```\n",
        "입출력 예 설명\n",
        "```\n",
        "입출력 예 #1\n",
        "앞에서 설명한 예와 같습니다.\n",
        "\n",
        "입출력 예 #2\n",
        "한 번호가 다른 번호의 접두사인 경우가 없으므로, 답은 true입니다.\n",
        "\n",
        "입출력 예 #3\n",
        "첫 번째 전화번호, “12”가 두 번째 전화번호 “123”의 접두사입니다. 따라서 답은 false입니다.\n",
        "```"
      ],
      "metadata": {
        "id": "8B2DGG_zfeaV"
      }
    },
    {
      "cell_type": "code",
      "source": [
        "### 내 풀이\n",
        "%time\n",
        "def solution(phone_book):\n",
        "    phone_book.sort()\n",
        "    answer = True\n",
        "    for i in range(len(phone_book)-1):\n",
        "        if phone_book[i + 1].startswith(phone_book[i]):\n",
        "            answer = False\n",
        "            break\n",
        "    return answer"
      ],
      "metadata": {
        "id": "q7ogfNn0UkjW"
      },
      "execution_count": null,
      "outputs": []
    },
    {
      "cell_type": "code",
      "source": [
        "### most voted answer\n",
        "%time\n",
        "def solution(phoneBook):\n",
        "    phoneBook = sorted(phoneBook)\n",
        "\n",
        "    for p1, p2 in zip(phoneBook, phoneBook[1:]):\n",
        "        if p2.startswith(p1):\n",
        "            return False\n",
        "    return True"
      ],
      "metadata": {
        "id": "vaqyJHNntvYh"
      },
      "execution_count": null,
      "outputs": []
    },
    {
      "cell_type": "markdown",
      "source": [
        "##위장\n",
        "\n",
        "####문제 설명\n",
        "스파이들은 매일 다른 옷을 조합하여 입어 자신을 위장합니다.\n",
        "\n",
        "예를 들어 스파이가 가진 옷이 아래와 같고 오늘 스파이가 동그란 안경, 긴 코트, 파란색 티셔츠를 입었다면 다음날은 청바지를 추가로 입거나 동그란 안경 대신 검정 선글라스를 착용하거나 해야 합니다.\n",
        "```\n",
        "종류\t이름\n",
        "얼굴\t동그란 안경, 검정 선글라스\n",
        "상의\t파란색 티셔츠\n",
        "하의\t청바지\n",
        "겉옷\t긴 코트\n",
        "```\n",
        "스파이가 가진 의상들이 담긴 2차원 배열 clothes가 주어질 때 서로 다른 옷의 조합의 수를 return 하도록 solution 함수를 작성해주세요.\n",
        "\n",
        "제한사항\n",
        "* clothes의 각 행은 [의상의 이름, 의상의 종류]로 이루어져 있습니다.\n",
        "* 스파이가 가진 의상의 수는 1개 이상 30개 이하입니다.\n",
        "* 같은 이름을 가진 의상은 존재하지 않습니다.\n",
        "* clothes의 모든 원소는 문자열로 이루어져 있습니다.\n",
        "* 모든 문자열의 길이는 1 이상 20 이하인 자연수이고 알파벳 소문자 또는 '_' 로만 이루어져 있습니다.\n",
        "*스파이는 하루에 최소 한 개의 의상은 입습니다.\n",
        "\n",
        "입출력 예\n",
        "clothes\treturn\n",
        "[[\"yellowhat\", \"headgear\"], [\"bluesunglasses\", \"eyewear\"], [\"green_turban\", \"headgear\"]]\t5\n",
        "[[\"crowmask\", \"face\"], [\"bluesunglasses\", \"face\"], [\"smoky_makeup\", \"face\"]]\t3\n",
        "입출력 예 설명\n",
        "```\n",
        "예제 #1\n",
        "headgear에 해당하는 의상이 yellow_hat, green_turban이고 eyewear에 해당하는 의상이 blue_sunglasses이므로 아래와 같이 5개의 조합이 가능합니다.\n",
        "1. yellow_hat\n",
        "2. blue_sunglasses\n",
        "3. green_turban\n",
        "4. yellow_hat + blue_sunglasses\n",
        "5. green_turban + blue_sunglasses\n",
        "\n",
        "\n",
        "예제 #2\n",
        "face에 해당하는 의상이 crow_mask, blue_sunglasses, smoky_makeup이므로 아래와 같이 3개의 조합이 가능합니다.\n",
        "1. crow_mask\n",
        "2. blue_sunglasses\n",
        "3. smoky_makeup\n",
        "\n",
        "```"
      ],
      "metadata": {
        "id": "rT5wUGdRpGUR"
      }
    },
    {
      "cell_type": "code",
      "source": [
        "# 겹치는거 없을 경우. (답 아님)\n",
        "\n",
        "def solution(clothes):\n",
        "    l = []\n",
        "    for i in range (0, len(clothes)):\n",
        "        total = 1\n",
        "        total *= (len(clothes) - i ) \n",
        "        l.append(total)\n",
        "    answer= sum(l)\n",
        "    return answer\n",
        "\n",
        "print(solution([[\"yellowhat\", \"headgear\"], [\"bluesunglasses\", \"eyewear\"], [\"green_turban\", \"headgear\"]]))\n",
        "print(solution([[\"crowmask\", \"face\"], [\"bluesunglasses\", \"face\"], [\"smoky_makeup\", \"face\"]]))\n",
        "\n",
        "\n",
        "## 하나라도 겹치는 경우 구해서 빼자.\n"
      ],
      "metadata": {
        "id": "O68MR1Fg_VpO"
      },
      "execution_count": null,
      "outputs": []
    },
    {
      "cell_type": "code",
      "source": [
        "# 답 \n",
        "def solution(clothes):\n",
        "    \n",
        "    dic_clothes = {}\n",
        "    for i in clothes:\n",
        "        v,k = i  # i 는 2개의 밸류를 가지고 있는 리스트 [v, k]\n",
        "        if k in dic_clothes.keys():\n",
        "            dic_clothes[k] = dic_clothes[k] + [v]\n",
        "        else:    \n",
        "            dic_clothes[k] = [v]\n",
        "    \n",
        "    total = 1\n",
        "    for key in dic_clothes:\n",
        "        total *= (len(dic_clothes[key]) + 1)\n",
        "    result = total - 1\n",
        "    return result \n",
        "\n",
        "# wardrobe = list(map(lambda x : x, dic_clothes.values())) # dic_clothes 대신 이중 리스트 [['bluesunglasses'], ['yellowhat', 'green_turban']]\n",
        "  \n",
        "\n",
        "print(solution([[\"yellowhat\", \"headgear\"], [\"bluesunglasses\", \"eyewear\"], [\"green_turban\", \"headgear\"]]))\n",
        "print(solution([[\"crowmask\", \"face\"], [\"bluesunglasses\", \"face\"], [\"smoky_makeup\", \"face\"]]))"
      ],
      "metadata": {
        "id": "RC572uSIpH6w"
      },
      "execution_count": null,
      "outputs": []
    },
    {
      "cell_type": "markdown",
      "source": [
        "## 잡동산이 (문제 아님)"
      ],
      "metadata": {
        "id": "7DteM3EAqmgf"
      }
    },
    {
      "cell_type": "code",
      "source": [
        "def solution(s):\n",
        "    s = s.split()\n",
        "    s = list(map(lambda x : list(x), s))\n",
        "    new_s = []\n",
        "    print(s)\n",
        "    for word in s:\n",
        "        for i in range(0, len(word)):\n",
        "            if i%2 == 0:\n",
        "                word[i] = word[i].upper()\n",
        "            else:\n",
        "                word[i] = word[i].lower()\n",
        "        word = ''.join(word)\n",
        "        new_s.append(word)\n",
        "    answer = ' '.join(new_s)\n",
        "    return answer\n",
        "\n",
        "print(solution(\"try hello world\"))\n",
        "print(solution(\"This is poxis world\"))\n"
      ],
      "metadata": {
        "id": "EQ79cx696Nbt"
      },
      "execution_count": null,
      "outputs": []
    },
    {
      "cell_type": "code",
      "source": [
        "print(['word', 'hello']) \n",
        "print(list('word', 'hello')) "
      ],
      "metadata": {
        "id": "_kgem4DL6tO9"
      },
      "execution_count": null,
      "outputs": []
    },
    {
      "cell_type": "code",
      "source": [
        "#변수 자동생성 \n",
        "df_num=5\n",
        "\n",
        "for i in range(1,df_num+1):\n",
        "\tglobals()['clothes{}'.format(i)]=[]\n",
        " \n",
        "for i in range(1,df_num+1):\n",
        " \tprint(globals()['clothes{}'.format(i)])\n",
        "\n",
        "for i in range(1,df_)\n",
        "\n",
        "\n"
      ],
      "metadata": {
        "id": "G8MMQxbBlcEB"
      },
      "execution_count": null,
      "outputs": []
    },
    {
      "cell_type": "code",
      "source": [
        "########## 변수 자동 생성 ###########\n",
        "\n",
        "# 데이터 분석을 하다보면 가끔 for문 안에서 계산되는 값들을 각각의 변수에 담고 싶을 때가 있다. (나만 그런가?)\n",
        "\n",
        "# 그때, 쓸 수 있는 방법이다.\n",
        "\n",
        "for i in range():\n",
        "    globals()['변수명'+str(i)] = 계산식\n",
        "\n",
        "# 또는\n",
        "\n",
        "for i in range():\n",
        "    locals()['변수명'+str(i)] = 계산식\n",
        "\n",
        "\n",
        "# globals() 함수는 전역 변수들을 딕셔너리 형태로, locals() 함수는 지역 변수들을 딕셔너리 형태로 반환한다.\n",
        "\n",
        "# 'globals()['변수명']  = x' / 'locals()['변수명'] = x' 을 이용하면 해당 딕셔너리에 키와 값을 추가할 수 있다.\n",
        "\n",
        "# 필요에 맞게 전역(globals) / 지역(locals)을 골라 쓰면 될 것 같다.\n",
        "\n",
        "for i in range(1, 5):\n",
        "    globals()['var_'+str(i)] = i + 3"
      ],
      "metadata": {
        "id": "xBLyc0j79Y1-"
      },
      "execution_count": null,
      "outputs": []
    }
  ]
}