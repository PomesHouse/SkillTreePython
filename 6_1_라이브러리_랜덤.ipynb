{
  "nbformat": 4,
  "nbformat_minor": 0,
  "metadata": {
    "colab": {
      "name": "6-1.라이브러리_랜덤.ipynb",
      "provenance": [],
      "collapsed_sections": [],
      "include_colab_link": true
    },
    "kernelspec": {
      "name": "python3",
      "display_name": "Python 3"
    },
    "language_info": {
      "name": "python"
    }
  },
  "cells": [
    {
      "cell_type": "markdown",
      "metadata": {
        "id": "view-in-github",
        "colab_type": "text"
      },
      "source": [
        "<a href=\"https://colab.research.google.com/github/PomesHouse/SkillTreePython/blob/main/6_1_%EB%9D%BC%EC%9D%B4%EB%B8%8C%EB%9F%AC%EB%A6%AC_%EB%9E%9C%EB%8D%A4.ipynb\" target=\"_parent\"><img src=\"https://colab.research.google.com/assets/colab-badge.svg\" alt=\"Open In Colab\"/></a>"
      ]
    },
    {
      "cell_type": "markdown",
      "metadata": {
        "id": "jgFAOz-Tw1VI"
      },
      "source": [
        "# 6-1.라이브러리: 랜덤\n",
        "---\n",
        "* 날짜:\n",
        "* 이름:\n"
      ]
    },
    {
      "cell_type": "markdown",
      "metadata": {
        "id": "roC8A6Ro6THT"
      },
      "source": [
        "## 개념정리\n",
        "---\n",
        "\n",
        "전세계의 파이썬 사용자들이 유용한 라이브러리를 만들어 놓았습니다. 수많은 파이썬 라이브러리가 있지만 그중에서도 유용하고 기본적인 라이브러리를 알아보도록 하겠습니다. \n",
        "\n",
        "주사위를 던지거나 복권추첨 등 난수를 이용해서 코드를 짜야할 때가 종종 있습니다. 파이썬에서 난수를 만드는 방법을 알아보도록 하겠습니다. 난수를 만드는 모듈은 **random** 을 이용합니다. "
      ]
    },
    {
      "cell_type": "markdown",
      "metadata": {
        "id": "HjPXsM8C5ULZ"
      },
      "source": [
        "### **(1) 라이브러리 임포트(import)**\n",
        "\n",
        "아래와 같이 `random` 모듈을 `import` 해줍니다.\n",
        "\n",
        "```\n",
        "import random\n",
        "```\n"
      ]
    },
    {
      "cell_type": "code",
      "metadata": {
        "id": "9pxx7Zy53xFz"
      },
      "source": [
        "import random"
      ],
      "execution_count": null,
      "outputs": []
    },
    {
      "cell_type": "markdown",
      "source": [
        "### **(2) 기본 사용 : `random`**"
      ],
      "metadata": {
        "id": "4hBv297VxWGr"
      }
    },
    {
      "cell_type": "markdown",
      "metadata": {
        "id": "o4Y67BgLKmxO"
      },
      "source": [
        "#### **랜덤값 생성**\n",
        "\n"
      ]
    },
    {
      "cell_type": "markdown",
      "metadata": {
        "id": "zD6gfuVD3xwx"
      },
      "source": [
        "* `random.random` : 0과 1사이의 난수를 무작위로 생성합니다.\n",
        "\n",
        "```\n",
        "random.random()\n",
        "```\n",
        "\n"
      ]
    },
    {
      "cell_type": "code",
      "metadata": {
        "id": "OaowHk_83leh",
        "colab": {
          "base_uri": "https://localhost:8080/"
        },
        "outputId": "3c949c8a-7328-4e06-fb2f-7fa52b83e113"
      },
      "source": [
        "random.random()"
      ],
      "execution_count": null,
      "outputs": [
        {
          "output_type": "execute_result",
          "data": {
            "text/plain": [
              "0.1734282384039375"
            ]
          },
          "metadata": {},
          "execution_count": 2
        }
      ]
    },
    {
      "cell_type": "markdown",
      "metadata": {
        "id": "BOwMgkiC4RqB"
      },
      "source": [
        "* `random.randint`: 특정 범위 랜덤한 정수를 무작위로 생성합니다. (a이상 b 이하)\n",
        "\n",
        "```\n",
        "random.randint(a, b)\n",
        "```\n",
        "\n"
      ]
    },
    {
      "cell_type": "code",
      "metadata": {
        "id": "_zG33m-S4RqI",
        "colab": {
          "base_uri": "https://localhost:8080/"
        },
        "outputId": "6cf65203-2d63-4430-94ea-187bf8b7db80"
      },
      "source": [
        "random.randint(1,10)"
      ],
      "execution_count": null,
      "outputs": [
        {
          "output_type": "execute_result",
          "data": {
            "text/plain": [
              "4"
            ]
          },
          "metadata": {},
          "execution_count": 3
        }
      ]
    },
    {
      "cell_type": "markdown",
      "metadata": {
        "id": "CbpP-qatLAmI"
      },
      "source": [
        "#### **랜덤값 추출**"
      ]
    },
    {
      "cell_type": "markdown",
      "metadata": {
        "id": "uETLiTpC5OQd"
      },
      "source": [
        "* `random.choice`: 주어진 sequence 에서 랜덤으로 한개의 요소를 뽑습니다.\n",
        "\n",
        "```\n",
        "a = [1,2,3] # 리스트 a가 주어졌을 때 \n",
        "b = random.choice(a) # a의 요소 중 한개를 뽑아 b로 바인딩\n",
        "print(b)\n",
        "```\n",
        "\n"
      ]
    },
    {
      "cell_type": "code",
      "metadata": {
        "id": "MKMHr7p651mJ",
        "colab": {
          "base_uri": "https://localhost:8080/"
        },
        "outputId": "6d7cf773-f1bb-4c75-c665-98f86a13608d"
      },
      "source": [
        "a = ['Posix',1,2,3,'뽀메']\n",
        "b = random.choice(a)\n",
        "print(b)"
      ],
      "execution_count": null,
      "outputs": [
        {
          "output_type": "stream",
          "name": "stdout",
          "text": [
            "뽀메\n"
          ]
        }
      ]
    },
    {
      "cell_type": "markdown",
      "metadata": {
        "id": "PbidqOm3z7sn"
      },
      "source": [
        "* `random.choices` : 주어진 sequence 에서 랜덤으로 k개의 요소를 뽑습니다. 중복이 가능합니다.\n",
        "\n",
        "```\n",
        "a = [1,2,3] # 리스트 a가 주어졌을 때 \n",
        "b = random.choices(a, k=2) # a의 요소 중 k개를 뽑아 b로 바인딩\n",
        "print(b)\n",
        "```\n",
        "\n"
      ]
    },
    {
      "cell_type": "code",
      "metadata": {
        "id": "sgyxjWvLz7sv",
        "colab": {
          "base_uri": "https://localhost:8080/"
        },
        "outputId": "1e09b890-130d-4d4d-b99b-2dd5e106580a"
      },
      "source": [
        "a = [1,2,3] # 리스트 a가 주어졌을 때 \n",
        "b = random.choices(a, k=2) # a의 요소 중 k개를 뽑아 b로 바인딩\n",
        "print(b)\n",
        "type(b)"
      ],
      "execution_count": null,
      "outputs": [
        {
          "output_type": "stream",
          "name": "stdout",
          "text": [
            "[2, 3]\n"
          ]
        },
        {
          "output_type": "execute_result",
          "data": {
            "text/plain": [
              "list"
            ]
          },
          "metadata": {},
          "execution_count": 8
        }
      ]
    },
    {
      "cell_type": "markdown",
      "metadata": {
        "id": "A17ZgbqfK3lr"
      },
      "source": [
        "#### **기타**"
      ]
    },
    {
      "cell_type": "markdown",
      "metadata": {
        "id": "9od_vtK84u_4"
      },
      "source": [
        "* `random.shuffle` : 특정 시퀀스를 랜덤하게 섞는 함수입니다.\n",
        "\n",
        "```\n",
        "a = [1,2,3]\n",
        "random.shuffle(a)\n",
        "print(a)\n",
        "```\n",
        "\n"
      ]
    },
    {
      "cell_type": "code",
      "metadata": {
        "id": "_srXvBaG4Xmi",
        "colab": {
          "base_uri": "https://localhost:8080/"
        },
        "outputId": "036180cc-1a50-4b95-df7a-59db9e50f1f2"
      },
      "source": [
        "a = [1,2,3]\n",
        "random.shuffle(a)\n",
        "print(a)"
      ],
      "execution_count": null,
      "outputs": [
        {
          "output_type": "stream",
          "name": "stdout",
          "text": [
            "[2, 3, 1]\n"
          ]
        }
      ]
    },
    {
      "cell_type": "markdown",
      "metadata": {
        "id": "qgwblcg16Qb7"
      },
      "source": [
        "# 예제\n",
        "---"
      ]
    },
    {
      "cell_type": "markdown",
      "metadata": {
        "id": "wEh21CAlIF5M"
      },
      "source": [
        "####**예제 01 여러번의 주사위**\n",
        "\n",
        "\n",
        "    - 주사위를 던지면 1에서 6까지 숫자가 랜덤으로 나옵니다.\n",
        "    - 주사위를 사용하가 입력한 만큼 돌리고 각숫자가 몇번씩 나왔는지 알려주는 함수를 작성하세요\n"
      ]
    },
    {
      "cell_type": "code",
      "metadata": {
        "id": "kv4kbTMuAoLN",
        "colab": {
          "base_uri": "https://localhost:8080/"
        },
        "outputId": "4c34cca3-355f-408c-81f9-d5ae95f7a531"
      },
      "source": [
        "%%time \n",
        "def dice():\n",
        "    trial = int(input())\n",
        "    result = []\n",
        "    for t in range(trial):\n",
        "        result.append(random.randint(1,6))\n",
        "\n",
        "    print(f'1: {result.count(1)}번')\n",
        "    print(f'2: {result.count(2)}번')\n",
        "    print(f'3: {result.count(3)}번')\n",
        "    print(f'4: {result.count(4)}번')\n",
        "    print(f'5: {result.count(5)}번')\n",
        "    print(f'6: {result.count(6)}번')\n",
        "    \n",
        "\n",
        "dice()\n",
        "\n"
      ],
      "execution_count": 88,
      "outputs": [
        {
          "output_type": "stream",
          "name": "stdout",
          "text": [
            "1000000\n",
            "1: 166577번\n",
            "2: 166254번\n",
            "3: 166755번\n",
            "4: 167168번\n",
            "5: 166396번\n",
            "6: 166850번\n",
            "CPU times: user 1.52 s, sys: 2.82 ms, total: 1.52 s\n",
            "Wall time: 4.85 s\n"
          ]
        }
      ]
    },
    {
      "cell_type": "markdown",
      "metadata": {
        "id": "R_v3MPkG6zci"
      },
      "source": [
        "####**예제 02 업다운게임**\n",
        "\n",
        "    - 1~100까지 값이 랜덤하게 지정됩니다.\n",
        "    - 랜덤값(정답)이 사용자가 찍은 답보다 높으면 UP\n",
        "    - 랜덤값이 낮으면 DOWN\n",
        "    - 랜덤값을 맞추면 \"CORRECT\"를 출력합니다.\n",
        "    - 사용자가 랜덤값을 맞출 때까지 진행됩니다.\n"
      ]
    },
    {
      "cell_type": "code",
      "metadata": {
        "id": "rchkDnZE6y10",
        "colab": {
          "base_uri": "https://localhost:8080/"
        },
        "outputId": "50b03069-2555-4c9e-cd87-0af801df620a"
      },
      "source": [
        "n = random.randint(1,100)\n",
        "\n",
        "while True:\n",
        "    guess = int(input())\n",
        "    if guess < n:\n",
        "        print('\"UP\"')\n",
        "    elif guess > n:\n",
        "        print('\"Down\"')\n",
        "    else:\n",
        "        print('\"CORRECT\"')\n",
        "        break"
      ],
      "execution_count": null,
      "outputs": [
        {
          "output_type": "stream",
          "name": "stdout",
          "text": [
            "50\n",
            "\"UP\"\n",
            "75\n",
            "\"UP\"\n",
            "80\n",
            "\"UP\"\n",
            "90\n",
            "\"UP\"\n",
            "95\n",
            "\"Down\"\n",
            "93\n",
            "\"Down\"\n",
            "92\n",
            "\"CORRECT\"\n"
          ]
        }
      ]
    },
    {
      "cell_type": "markdown",
      "metadata": {
        "id": "l3NBAKiG7sD8"
      },
      "source": [
        "####**예제 03 숫자야구**\n",
        "\n",
        "    - 0~9까지 값을 지닌 3자리 숫자가 랜덤하게 지정됩니다.\n",
        "    - 각 자리 숫자는 중복되지 않아야 합니다.\n",
        "    - 맞춰야할 랜덤값 3개중 자리수에 상관없이 맞추면 \"볼\", 자리수까지 맞추면 \"홈런\" 입니다.\n",
        "    - 사용자가 지정된 랜덤값을 맞출 때까지 진행됩니다.\n",
        "\n",
        "\n",
        "\n",
        "* 아래 표는 랜덤값이 123일 때 사용자의 입력과 그에 따른 출력을 나타낸 표입니다. \n",
        "\n",
        "입력|출력\n",
        "---|---\n",
        "123| 3볼 3홈런\n",
        "132| 3볼 1홈런\n",
        "231| 3볼 0홈런 \n",
        "125| 2볼 2홈런\n",
        "\n"
      ]
    },
    {
      "cell_type": "code",
      "metadata": {
        "id": "T6yhNpAT6RsJ",
        "colab": {
          "base_uri": "https://localhost:8080/"
        },
        "outputId": "88c686d6-99ef-44e5-b4bb-6f809e21d6aa"
      },
      "source": [
        "import random\n",
        "\n",
        "# 0~9까지 값을 지닌 3자리 숫자가 랜덤하게 지정됩니다.\n",
        "# 각 자리 숫자는 중복되지 않아야 합니다.\n",
        "while True:\n",
        "    number = random.randint(100,999)\n",
        "    if str(number)[0] != str(number)[1] != str(number)[2]:\n",
        "        break\n",
        "\n",
        "# 맞춰야할 랜덤값 3개중 자리수에 상관없이 맞추면 \"볼\", 자리수까지 맞추면 \"홈런\" 입니다.\n",
        "while True:\n",
        "    guess = input() #guess를 str으로 받아온다. \n",
        "    ball  = 0\n",
        "    homerun = 0 \n",
        "    if guess == str(number): #만약 3볼 3홈런을 출력하고 싶지 않다면 이렇게 앞에, 하고 싶다면 가장 뒤에 넣으면 된다. \n",
        "        print(\"CORRECT!\")\n",
        "        break\n",
        "    for g in guess:\n",
        "        if g in str(number):\n",
        "            ball += 1\n",
        "    for g, n in zip(guess, str(number)):\n",
        "        if g == n:\n",
        "            homerun += 1\n",
        "    print(f'{ball}볼 {homerun}홈런')\n",
        "\n",
        "\n",
        "# 사용자가 지정된 랜덤값을 맞출 때까지 진행됩니다.\n",
        "    \n"
      ],
      "execution_count": null,
      "outputs": [
        {
          "output_type": "stream",
          "name": "stdout",
          "text": [
            "100\n",
            "0볼 0홈런\n",
            "200\n",
            "1볼 1홈런\n",
            "234\n",
            "2볼 1홈런\n",
            "235\n",
            "2볼 1홈런\n",
            "236\n",
            "2볼 1홈런\n",
            "237\n",
            "2볼 1홈런\n",
            "238\n",
            "2볼 1홈런\n",
            "239\n",
            "3볼 1홈런\n",
            "293\n",
            "CORRECT!\n"
          ]
        }
      ]
    },
    {
      "cell_type": "markdown",
      "metadata": {
        "id": "Mal9fB6ZmXXV"
      },
      "source": [
        "####**예제 04 같은 그림 맞추기**\n",
        "\n",
        "    - 숫자가 1부터 16까지 순서대로 나열됩니다. (4x4 크기).\n",
        "    - 숫자 두개를 고르면 고른 숫자카드 두개는 알파벳이 보여집니다. \n",
        "    - 두 알파벳이 동일하면 알파벳이 보여진채로 다음 숫자 두개를 고릅니다.\n",
        "    - 두 알파벳이 다르면 다시 숫자카드가 보인채로 다음 숫자 두개를 고릅니다.\n",
        "    - 알파벳이 모두 보여지면 게임이 끝납니다.\n",
        "\n",
        "* 예시\n",
        "\n",
        "```\n",
        ">> 같은그림 맞추기 시작! \n",
        "\n",
        "| 1| 2| 3| 4|\n",
        "| 5| 6| 7| 8|\n",
        "| 9|10|11|12|\n",
        "|13|14|15|16|\n",
        "\n",
        ">> 숫자1: 5\n",
        ">> 숫자2: 10\n",
        "\n",
        "| 1| 2| 3| 4|\n",
        "| A| 6| 7| 8|\n",
        "| 9| A|11|12|\n",
        "|13|14|15|16|\n",
        "\n",
        "```\n"
      ]
    },
    {
      "cell_type": "code",
      "source": [
        "board = [[1, 2, 3, 4],\n",
        "         [5, 6, 7, 8],\n",
        "         [9,10,11,12],\n",
        "         [13,14,15,16]]\n",
        "alphabet = ['A','A','B','B','C','C','D','D','E','E','F','F','G','G','H','H']\n",
        "random.shuffle(alphabet)\n",
        "alphabet = [[alphabet[i] for i in range(4)],[alphabet[i] for i in range(4,8)],[alphabet[i] for i in range(8,12)],[alphabet[i] for i in range(12,16)]]\n",
        "print(\"같은그림 맞추기 시작!\")\n",
        "for i in range(4):\n",
        "        print(board[i])\n",
        "\n",
        "while board != alphabet:\n",
        "    num1 = int(input('숫자1: '))\n",
        "    num2 = int(input('숫자2: '))\n",
        "    board[(num1-1)//4][(num1-1)%4] = alphabet[(num1-1)//4][(num1-1)%4]\n",
        "    board[(num2-1)//4][(num2-1)%4] = alphabet[(num2-1)//4][(num2-1)%4]\n",
        "    for i in range(4):\n",
        "        print(board[i])\n",
        "    if board[(num1-1)//4][(num1-1)%4] == board[(num2-1)//4][(num2-1)%4]:\n",
        "        continue\n",
        "    else:\n",
        "        board[(num1-1)//4][(num1-1)%4] = num1\n",
        "        board[(num2-1)//4][(num2-1)%4] = num2\n",
        "        for i in range(4):\n",
        "            print(board[i])"
      ],
      "metadata": {
        "colab": {
          "base_uri": "https://localhost:8080/",
          "height": 660
        },
        "id": "VPI9-hizdc7m",
        "outputId": "441cb5fc-d29e-45da-ce7e-931bd186fb77"
      },
      "execution_count": null,
      "outputs": [
        {
          "output_type": "stream",
          "name": "stdout",
          "text": [
            "같은그림 맞추기 시작!\n",
            "[1, 2, 3, 4]\n",
            "[5, 6, 7, 8]\n",
            "[9, 10, 11, 12]\n",
            "[13, 14, 15, 16]\n"
          ]
        },
        {
          "output_type": "error",
          "ename": "KeyboardInterrupt",
          "evalue": "ignored",
          "traceback": [
            "\u001b[0;31m---------------------------------------------------------------------------\u001b[0m",
            "\u001b[0;31mKeyboardInterrupt\u001b[0m                         Traceback (most recent call last)",
            "\u001b[0;32m/usr/local/lib/python3.7/dist-packages/ipykernel/kernelbase.py\u001b[0m in \u001b[0;36m_input_request\u001b[0;34m(self, prompt, ident, parent, password)\u001b[0m\n\u001b[1;32m    728\u001b[0m             \u001b[0;32mtry\u001b[0m\u001b[0;34m:\u001b[0m\u001b[0;34m\u001b[0m\u001b[0;34m\u001b[0m\u001b[0m\n\u001b[0;32m--> 729\u001b[0;31m                 \u001b[0mident\u001b[0m\u001b[0;34m,\u001b[0m \u001b[0mreply\u001b[0m \u001b[0;34m=\u001b[0m \u001b[0mself\u001b[0m\u001b[0;34m.\u001b[0m\u001b[0msession\u001b[0m\u001b[0;34m.\u001b[0m\u001b[0mrecv\u001b[0m\u001b[0;34m(\u001b[0m\u001b[0mself\u001b[0m\u001b[0;34m.\u001b[0m\u001b[0mstdin_socket\u001b[0m\u001b[0;34m,\u001b[0m \u001b[0;36m0\u001b[0m\u001b[0;34m)\u001b[0m\u001b[0;34m\u001b[0m\u001b[0;34m\u001b[0m\u001b[0m\n\u001b[0m\u001b[1;32m    730\u001b[0m             \u001b[0;32mexcept\u001b[0m \u001b[0mException\u001b[0m\u001b[0;34m:\u001b[0m\u001b[0;34m\u001b[0m\u001b[0;34m\u001b[0m\u001b[0m\n",
            "\u001b[0;32m/usr/local/lib/python3.7/dist-packages/jupyter_client/session.py\u001b[0m in \u001b[0;36mrecv\u001b[0;34m(self, socket, mode, content, copy)\u001b[0m\n\u001b[1;32m    802\u001b[0m         \u001b[0;32mtry\u001b[0m\u001b[0;34m:\u001b[0m\u001b[0;34m\u001b[0m\u001b[0;34m\u001b[0m\u001b[0m\n\u001b[0;32m--> 803\u001b[0;31m             \u001b[0mmsg_list\u001b[0m \u001b[0;34m=\u001b[0m \u001b[0msocket\u001b[0m\u001b[0;34m.\u001b[0m\u001b[0mrecv_multipart\u001b[0m\u001b[0;34m(\u001b[0m\u001b[0mmode\u001b[0m\u001b[0;34m,\u001b[0m \u001b[0mcopy\u001b[0m\u001b[0;34m=\u001b[0m\u001b[0mcopy\u001b[0m\u001b[0;34m)\u001b[0m\u001b[0;34m\u001b[0m\u001b[0;34m\u001b[0m\u001b[0m\n\u001b[0m\u001b[1;32m    804\u001b[0m         \u001b[0;32mexcept\u001b[0m \u001b[0mzmq\u001b[0m\u001b[0;34m.\u001b[0m\u001b[0mZMQError\u001b[0m \u001b[0;32mas\u001b[0m \u001b[0me\u001b[0m\u001b[0;34m:\u001b[0m\u001b[0;34m\u001b[0m\u001b[0;34m\u001b[0m\u001b[0m\n",
            "\u001b[0;32m/usr/local/lib/python3.7/dist-packages/zmq/sugar/socket.py\u001b[0m in \u001b[0;36mrecv_multipart\u001b[0;34m(self, flags, copy, track)\u001b[0m\n\u001b[1;32m    624\u001b[0m         \"\"\"\n\u001b[0;32m--> 625\u001b[0;31m         \u001b[0mparts\u001b[0m \u001b[0;34m=\u001b[0m \u001b[0;34m[\u001b[0m\u001b[0mself\u001b[0m\u001b[0;34m.\u001b[0m\u001b[0mrecv\u001b[0m\u001b[0;34m(\u001b[0m\u001b[0mflags\u001b[0m\u001b[0;34m,\u001b[0m \u001b[0mcopy\u001b[0m\u001b[0;34m=\u001b[0m\u001b[0mcopy\u001b[0m\u001b[0;34m,\u001b[0m \u001b[0mtrack\u001b[0m\u001b[0;34m=\u001b[0m\u001b[0mtrack\u001b[0m\u001b[0;34m)\u001b[0m\u001b[0;34m]\u001b[0m\u001b[0;34m\u001b[0m\u001b[0;34m\u001b[0m\u001b[0m\n\u001b[0m\u001b[1;32m    626\u001b[0m         \u001b[0;31m# have first part already, only loop while more to receive\u001b[0m\u001b[0;34m\u001b[0m\u001b[0;34m\u001b[0m\u001b[0;34m\u001b[0m\u001b[0m\n",
            "\u001b[0;32mzmq/backend/cython/socket.pyx\u001b[0m in \u001b[0;36mzmq.backend.cython.socket.Socket.recv\u001b[0;34m()\u001b[0m\n",
            "\u001b[0;32mzmq/backend/cython/socket.pyx\u001b[0m in \u001b[0;36mzmq.backend.cython.socket.Socket.recv\u001b[0;34m()\u001b[0m\n",
            "\u001b[0;32mzmq/backend/cython/socket.pyx\u001b[0m in \u001b[0;36mzmq.backend.cython.socket._recv_copy\u001b[0;34m()\u001b[0m\n",
            "\u001b[0;32m/usr/local/lib/python3.7/dist-packages/zmq/backend/cython/checkrc.pxd\u001b[0m in \u001b[0;36mzmq.backend.cython.checkrc._check_rc\u001b[0;34m()\u001b[0m\n",
            "\u001b[0;31mKeyboardInterrupt\u001b[0m: ",
            "\nDuring handling of the above exception, another exception occurred:\n",
            "\u001b[0;31mKeyboardInterrupt\u001b[0m                         Traceback (most recent call last)",
            "\u001b[0;32m<ipython-input-41-17e66b02c008>\u001b[0m in \u001b[0;36m<module>\u001b[0;34m()\u001b[0m\n\u001b[1;32m     11\u001b[0m \u001b[0;34m\u001b[0m\u001b[0m\n\u001b[1;32m     12\u001b[0m \u001b[0;32mwhile\u001b[0m \u001b[0mboard\u001b[0m \u001b[0;34m!=\u001b[0m \u001b[0malphabet\u001b[0m\u001b[0;34m:\u001b[0m\u001b[0;34m\u001b[0m\u001b[0;34m\u001b[0m\u001b[0m\n\u001b[0;32m---> 13\u001b[0;31m     \u001b[0mnum1\u001b[0m \u001b[0;34m=\u001b[0m \u001b[0mint\u001b[0m\u001b[0;34m(\u001b[0m\u001b[0minput\u001b[0m\u001b[0;34m(\u001b[0m\u001b[0;34m'숫자1: '\u001b[0m\u001b[0;34m)\u001b[0m\u001b[0;34m)\u001b[0m\u001b[0;34m\u001b[0m\u001b[0;34m\u001b[0m\u001b[0m\n\u001b[0m\u001b[1;32m     14\u001b[0m     \u001b[0mnum2\u001b[0m \u001b[0;34m=\u001b[0m \u001b[0mint\u001b[0m\u001b[0;34m(\u001b[0m\u001b[0minput\u001b[0m\u001b[0;34m(\u001b[0m\u001b[0;34m'숫자2: '\u001b[0m\u001b[0;34m)\u001b[0m\u001b[0;34m)\u001b[0m\u001b[0;34m\u001b[0m\u001b[0;34m\u001b[0m\u001b[0m\n\u001b[1;32m     15\u001b[0m     \u001b[0mboard\u001b[0m\u001b[0;34m[\u001b[0m\u001b[0;34m(\u001b[0m\u001b[0mnum1\u001b[0m\u001b[0;34m-\u001b[0m\u001b[0;36m1\u001b[0m\u001b[0;34m)\u001b[0m\u001b[0;34m//\u001b[0m\u001b[0;36m4\u001b[0m\u001b[0;34m]\u001b[0m\u001b[0;34m[\u001b[0m\u001b[0;34m(\u001b[0m\u001b[0mnum1\u001b[0m\u001b[0;34m-\u001b[0m\u001b[0;36m1\u001b[0m\u001b[0;34m)\u001b[0m\u001b[0;34m%\u001b[0m\u001b[0;36m4\u001b[0m\u001b[0;34m]\u001b[0m \u001b[0;34m=\u001b[0m \u001b[0malphabet\u001b[0m\u001b[0;34m[\u001b[0m\u001b[0;34m(\u001b[0m\u001b[0mnum1\u001b[0m\u001b[0;34m-\u001b[0m\u001b[0;36m1\u001b[0m\u001b[0;34m)\u001b[0m\u001b[0;34m//\u001b[0m\u001b[0;36m4\u001b[0m\u001b[0;34m]\u001b[0m\u001b[0;34m[\u001b[0m\u001b[0;34m(\u001b[0m\u001b[0mnum1\u001b[0m\u001b[0;34m-\u001b[0m\u001b[0;36m1\u001b[0m\u001b[0;34m)\u001b[0m\u001b[0;34m%\u001b[0m\u001b[0;36m4\u001b[0m\u001b[0;34m]\u001b[0m\u001b[0;34m\u001b[0m\u001b[0;34m\u001b[0m\u001b[0m\n",
            "\u001b[0;32m/usr/local/lib/python3.7/dist-packages/ipykernel/kernelbase.py\u001b[0m in \u001b[0;36mraw_input\u001b[0;34m(self, prompt)\u001b[0m\n\u001b[1;32m    702\u001b[0m             \u001b[0mself\u001b[0m\u001b[0;34m.\u001b[0m\u001b[0m_parent_ident\u001b[0m\u001b[0;34m,\u001b[0m\u001b[0;34m\u001b[0m\u001b[0;34m\u001b[0m\u001b[0m\n\u001b[1;32m    703\u001b[0m             \u001b[0mself\u001b[0m\u001b[0;34m.\u001b[0m\u001b[0m_parent_header\u001b[0m\u001b[0;34m,\u001b[0m\u001b[0;34m\u001b[0m\u001b[0;34m\u001b[0m\u001b[0m\n\u001b[0;32m--> 704\u001b[0;31m             \u001b[0mpassword\u001b[0m\u001b[0;34m=\u001b[0m\u001b[0;32mFalse\u001b[0m\u001b[0;34m,\u001b[0m\u001b[0;34m\u001b[0m\u001b[0;34m\u001b[0m\u001b[0m\n\u001b[0m\u001b[1;32m    705\u001b[0m         )\n\u001b[1;32m    706\u001b[0m \u001b[0;34m\u001b[0m\u001b[0m\n",
            "\u001b[0;32m/usr/local/lib/python3.7/dist-packages/ipykernel/kernelbase.py\u001b[0m in \u001b[0;36m_input_request\u001b[0;34m(self, prompt, ident, parent, password)\u001b[0m\n\u001b[1;32m    732\u001b[0m             \u001b[0;32mexcept\u001b[0m \u001b[0mKeyboardInterrupt\u001b[0m\u001b[0;34m:\u001b[0m\u001b[0;34m\u001b[0m\u001b[0;34m\u001b[0m\u001b[0m\n\u001b[1;32m    733\u001b[0m                 \u001b[0;31m# re-raise KeyboardInterrupt, to truncate traceback\u001b[0m\u001b[0;34m\u001b[0m\u001b[0;34m\u001b[0m\u001b[0;34m\u001b[0m\u001b[0m\n\u001b[0;32m--> 734\u001b[0;31m                 \u001b[0;32mraise\u001b[0m \u001b[0mKeyboardInterrupt\u001b[0m\u001b[0;34m\u001b[0m\u001b[0;34m\u001b[0m\u001b[0m\n\u001b[0m\u001b[1;32m    735\u001b[0m             \u001b[0;32melse\u001b[0m\u001b[0;34m:\u001b[0m\u001b[0;34m\u001b[0m\u001b[0;34m\u001b[0m\u001b[0m\n\u001b[1;32m    736\u001b[0m                 \u001b[0;32mbreak\u001b[0m\u001b[0;34m\u001b[0m\u001b[0;34m\u001b[0m\u001b[0m\n",
            "\u001b[0;31mKeyboardInterrupt\u001b[0m: "
          ]
        }
      ]
    },
    {
      "cell_type": "code",
      "source": [
        "# 2 by 2 mini game \n",
        "board = [[1,2],[3,4]]\n",
        "alphabet = ['A','A','B','B']\n",
        "random.shuffle(alphabet)\n",
        "alphabet = [[alphabet[i] for i in range(2)],[alphabet[i] for i in range(2,4)]]\n",
        "print(\"같은그림 맞추기 시작!\")\n",
        "print(board)\n",
        "\n",
        "\n",
        "while board != alphabet:\n",
        "    num1 = int(input('숫자1: '))\n",
        "    num2 = int(input('숫자2: '))\n",
        "    board[(num1-1)//2][(num1-1)%2] = alphabet[(num1-1)//2][(num1-1)%2]\n",
        "    board[(num2-1)//2][(num2-1)%2] = alphabet[(num2-1)//2][(num2-1)%2]\n",
        "    for i in range(2):\n",
        "            print(board[i])\n",
        "    if board[(num1-1)//2][(num1-1)%2] == board[(num2-1)//2][(num2-1)%2]:\n",
        "        continue\n",
        "    else:\n",
        "        board[(num1-1)//2][(num1-1)%2] = num1\n",
        "        board[(num2-1)//2][(num2-1)%2] = num2\n",
        "        for i in range(2):\n",
        "            print(board[i])"
      ],
      "metadata": {
        "colab": {
          "base_uri": "https://localhost:8080/"
        },
        "id": "HwUbxYZDgyUv",
        "outputId": "3622d9f9-dada-492d-b2ef-99c6fce8be3c"
      },
      "execution_count": null,
      "outputs": [
        {
          "output_type": "stream",
          "name": "stdout",
          "text": [
            "같은그림 맞추기 시작!\n",
            "[[1, 2], [3, 4]]\n",
            "숫자1: 1\n",
            "숫자2: 4\n",
            "['B', 2]\n",
            "[3, 'B']\n",
            "숫자1: 2\n",
            "숫자2: 3\n",
            "['B', 'A']\n",
            "['A', 'B']\n"
          ]
        }
      ]
    },
    {
      "cell_type": "code",
      "source": [
        "#딕셔너리 사용해서 \n",
        "\n",
        "values = list(range(1,17))\n",
        "alphabet = ['A','A','B','B','C','C','D','D','E','E','F','F','G','G','H','H']\n",
        "random.shuffle(alphabet)\n",
        "board = dict()\n",
        "for key, value in zip(values, alphabet):\n",
        "    board[key] = value\n",
        " # 여기까지 board 완성\n",
        "\n",
        " # board image\n",
        "\n",
        "def floor_open():\n",
        "    for i in range (1,17):\n",
        "        if i in done or i == num1 or i == num2:\n",
        "            if i%4 == 0:\n",
        "                print('''|  %s |''' % board[i])\n",
        "            else:\n",
        "                print('''|  %s ''' % board[i] , end = '')\n",
        "        else:\n",
        "            if i%4 == 0:\n",
        "                print('''| %02d |''' % i)\n",
        "            else:\n",
        "                print('''| %02d ''' % i , end = '')\n",
        "    print('-----------------')\n",
        "def floor_close():\n",
        "    for i in range (1,17):\n",
        "        if i in done:\n",
        "            if i%4 == 0:\n",
        "                print('''|  %s |''' % board[i])\n",
        "            else:\n",
        "                print('''|  %s ''' % board[i] , end = '')\n",
        "        else:\n",
        "            if i%4 == 0:\n",
        "                print('''| %02d |''' % i)\n",
        "            else:\n",
        "                print('''| %02d ''' % i , end = '')\n",
        "    print('-----------------')\n",
        "\n",
        "done = []\n",
        "num1 = 0\n",
        "num2 = 0\n",
        "floor_close()\n",
        "while  True:\n",
        "    num1 = int(input('숫자1 : '))\n",
        "    num2 = int(input('숫자2 : '))\n",
        "    if len(done) == 16:\n",
        "        print(\"It's Over!!!\")\n",
        "        break\n",
        "    if board[num1]  == board[num2]:\n",
        "        done.extend([num1, num2])\n",
        "    floor_open()\n",
        "    \n"
      ],
      "metadata": {
        "colab": {
          "base_uri": "https://localhost:8080/",
          "height": 1000
        },
        "id": "qP-vvG46f7k_",
        "outputId": "98360a30-7ed3-4d5f-c95f-27e2b9b11d63"
      },
      "execution_count": null,
      "outputs": [
        {
          "output_type": "stream",
          "name": "stdout",
          "text": [
            "| 01 | 02 | 03 | 04 |\n",
            "| 05 | 06 | 07 | 08 |\n",
            "| 09 | 10 | 11 | 12 |\n",
            "| 13 | 14 | 15 | 16 |\n",
            "-----------------\n",
            "숫자1 : 1\n",
            "숫자2 : 2\n",
            "|  G |  B | 03 | 04 |\n",
            "| 05 | 06 | 07 | 08 |\n",
            "| 09 | 10 | 11 | 12 |\n",
            "| 13 | 14 | 15 | 16 |\n",
            "-----------------\n",
            "숫자1 : 3\n",
            "숫자2 : 4\n",
            "| 01 | 02 |  C |  A |\n",
            "| 05 | 06 | 07 | 08 |\n",
            "| 09 | 10 | 11 | 12 |\n",
            "| 13 | 14 | 15 | 16 |\n",
            "-----------------\n",
            "숫자1 : 5\n",
            "숫자2 : 6\n",
            "| 01 | 02 | 03 | 04 |\n",
            "|  D |  H | 07 | 08 |\n",
            "| 09 | 10 | 11 | 12 |\n",
            "| 13 | 14 | 15 | 16 |\n",
            "-----------------\n",
            "숫자1 : 7\n",
            "숫자2 : 8\n",
            "| 01 | 02 | 03 | 04 |\n",
            "| 05 | 06 |  B |  H |\n",
            "| 09 | 10 | 11 | 12 |\n",
            "| 13 | 14 | 15 | 16 |\n",
            "-----------------\n",
            "숫자1 : 6\n",
            "숫자2 : 8\n",
            "| 01 | 02 | 03 | 04 |\n",
            "| 05 |  H | 07 |  H |\n",
            "| 09 | 10 | 11 | 12 |\n",
            "| 13 | 14 | 15 | 16 |\n",
            "-----------------\n",
            "숫자1 : 9\n",
            "숫자2 : 10\n",
            "| 01 | 02 | 03 | 04 |\n",
            "| 05 |  H | 07 |  H |\n",
            "|  F |  E | 11 | 12 |\n",
            "| 13 | 14 | 15 | 16 |\n",
            "-----------------\n"
          ]
        },
        {
          "output_type": "error",
          "ename": "KeyboardInterrupt",
          "evalue": "ignored",
          "traceback": [
            "\u001b[0;31m---------------------------------------------------------------------------\u001b[0m",
            "\u001b[0;31mKeyboardInterrupt\u001b[0m                         Traceback (most recent call last)",
            "\u001b[0;32m/usr/local/lib/python3.7/dist-packages/ipykernel/kernelbase.py\u001b[0m in \u001b[0;36m_input_request\u001b[0;34m(self, prompt, ident, parent, password)\u001b[0m\n\u001b[1;32m    728\u001b[0m             \u001b[0;32mtry\u001b[0m\u001b[0;34m:\u001b[0m\u001b[0;34m\u001b[0m\u001b[0;34m\u001b[0m\u001b[0m\n\u001b[0;32m--> 729\u001b[0;31m                 \u001b[0mident\u001b[0m\u001b[0;34m,\u001b[0m \u001b[0mreply\u001b[0m \u001b[0;34m=\u001b[0m \u001b[0mself\u001b[0m\u001b[0;34m.\u001b[0m\u001b[0msession\u001b[0m\u001b[0;34m.\u001b[0m\u001b[0mrecv\u001b[0m\u001b[0;34m(\u001b[0m\u001b[0mself\u001b[0m\u001b[0;34m.\u001b[0m\u001b[0mstdin_socket\u001b[0m\u001b[0;34m,\u001b[0m \u001b[0;36m0\u001b[0m\u001b[0;34m)\u001b[0m\u001b[0;34m\u001b[0m\u001b[0;34m\u001b[0m\u001b[0m\n\u001b[0m\u001b[1;32m    730\u001b[0m             \u001b[0;32mexcept\u001b[0m \u001b[0mException\u001b[0m\u001b[0;34m:\u001b[0m\u001b[0;34m\u001b[0m\u001b[0;34m\u001b[0m\u001b[0m\n",
            "\u001b[0;32m/usr/local/lib/python3.7/dist-packages/jupyter_client/session.py\u001b[0m in \u001b[0;36mrecv\u001b[0;34m(self, socket, mode, content, copy)\u001b[0m\n\u001b[1;32m    802\u001b[0m         \u001b[0;32mtry\u001b[0m\u001b[0;34m:\u001b[0m\u001b[0;34m\u001b[0m\u001b[0;34m\u001b[0m\u001b[0m\n\u001b[0;32m--> 803\u001b[0;31m             \u001b[0mmsg_list\u001b[0m \u001b[0;34m=\u001b[0m \u001b[0msocket\u001b[0m\u001b[0;34m.\u001b[0m\u001b[0mrecv_multipart\u001b[0m\u001b[0;34m(\u001b[0m\u001b[0mmode\u001b[0m\u001b[0;34m,\u001b[0m \u001b[0mcopy\u001b[0m\u001b[0;34m=\u001b[0m\u001b[0mcopy\u001b[0m\u001b[0;34m)\u001b[0m\u001b[0;34m\u001b[0m\u001b[0;34m\u001b[0m\u001b[0m\n\u001b[0m\u001b[1;32m    804\u001b[0m         \u001b[0;32mexcept\u001b[0m \u001b[0mzmq\u001b[0m\u001b[0;34m.\u001b[0m\u001b[0mZMQError\u001b[0m \u001b[0;32mas\u001b[0m \u001b[0me\u001b[0m\u001b[0;34m:\u001b[0m\u001b[0;34m\u001b[0m\u001b[0;34m\u001b[0m\u001b[0m\n",
            "\u001b[0;32m/usr/local/lib/python3.7/dist-packages/zmq/sugar/socket.py\u001b[0m in \u001b[0;36mrecv_multipart\u001b[0;34m(self, flags, copy, track)\u001b[0m\n\u001b[1;32m    624\u001b[0m         \"\"\"\n\u001b[0;32m--> 625\u001b[0;31m         \u001b[0mparts\u001b[0m \u001b[0;34m=\u001b[0m \u001b[0;34m[\u001b[0m\u001b[0mself\u001b[0m\u001b[0;34m.\u001b[0m\u001b[0mrecv\u001b[0m\u001b[0;34m(\u001b[0m\u001b[0mflags\u001b[0m\u001b[0;34m,\u001b[0m \u001b[0mcopy\u001b[0m\u001b[0;34m=\u001b[0m\u001b[0mcopy\u001b[0m\u001b[0;34m,\u001b[0m \u001b[0mtrack\u001b[0m\u001b[0;34m=\u001b[0m\u001b[0mtrack\u001b[0m\u001b[0;34m)\u001b[0m\u001b[0;34m]\u001b[0m\u001b[0;34m\u001b[0m\u001b[0;34m\u001b[0m\u001b[0m\n\u001b[0m\u001b[1;32m    626\u001b[0m         \u001b[0;31m# have first part already, only loop while more to receive\u001b[0m\u001b[0;34m\u001b[0m\u001b[0;34m\u001b[0m\u001b[0;34m\u001b[0m\u001b[0m\n",
            "\u001b[0;32mzmq/backend/cython/socket.pyx\u001b[0m in \u001b[0;36mzmq.backend.cython.socket.Socket.recv\u001b[0;34m()\u001b[0m\n",
            "\u001b[0;32mzmq/backend/cython/socket.pyx\u001b[0m in \u001b[0;36mzmq.backend.cython.socket.Socket.recv\u001b[0;34m()\u001b[0m\n",
            "\u001b[0;32mzmq/backend/cython/socket.pyx\u001b[0m in \u001b[0;36mzmq.backend.cython.socket._recv_copy\u001b[0;34m()\u001b[0m\n",
            "\u001b[0;32m/usr/local/lib/python3.7/dist-packages/zmq/backend/cython/checkrc.pxd\u001b[0m in \u001b[0;36mzmq.backend.cython.checkrc._check_rc\u001b[0;34m()\u001b[0m\n",
            "\u001b[0;31mKeyboardInterrupt\u001b[0m: ",
            "\nDuring handling of the above exception, another exception occurred:\n",
            "\u001b[0;31mKeyboardInterrupt\u001b[0m                         Traceback (most recent call last)",
            "\u001b[0;32m<ipython-input-76-4a993e2d12d9>\u001b[0m in \u001b[0;36m<module>\u001b[0;34m()\u001b[0m\n\u001b[1;32m     43\u001b[0m \u001b[0mfloor_close\u001b[0m\u001b[0;34m(\u001b[0m\u001b[0;34m)\u001b[0m\u001b[0;34m\u001b[0m\u001b[0;34m\u001b[0m\u001b[0m\n\u001b[1;32m     44\u001b[0m \u001b[0;32mwhile\u001b[0m  \u001b[0;32mTrue\u001b[0m\u001b[0;34m:\u001b[0m\u001b[0;34m\u001b[0m\u001b[0;34m\u001b[0m\u001b[0m\n\u001b[0;32m---> 45\u001b[0;31m     \u001b[0mnum1\u001b[0m \u001b[0;34m=\u001b[0m \u001b[0mint\u001b[0m\u001b[0;34m(\u001b[0m\u001b[0minput\u001b[0m\u001b[0;34m(\u001b[0m\u001b[0;34m'숫자1 : '\u001b[0m\u001b[0;34m)\u001b[0m\u001b[0;34m)\u001b[0m\u001b[0;34m\u001b[0m\u001b[0;34m\u001b[0m\u001b[0m\n\u001b[0m\u001b[1;32m     46\u001b[0m     \u001b[0mnum2\u001b[0m \u001b[0;34m=\u001b[0m \u001b[0mint\u001b[0m\u001b[0;34m(\u001b[0m\u001b[0minput\u001b[0m\u001b[0;34m(\u001b[0m\u001b[0;34m'숫자2 : '\u001b[0m\u001b[0;34m)\u001b[0m\u001b[0;34m)\u001b[0m\u001b[0;34m\u001b[0m\u001b[0;34m\u001b[0m\u001b[0m\n\u001b[1;32m     47\u001b[0m     \u001b[0;32mif\u001b[0m \u001b[0mlen\u001b[0m\u001b[0;34m(\u001b[0m\u001b[0mdone\u001b[0m\u001b[0;34m)\u001b[0m \u001b[0;34m==\u001b[0m \u001b[0;36m16\u001b[0m\u001b[0;34m:\u001b[0m\u001b[0;34m\u001b[0m\u001b[0;34m\u001b[0m\u001b[0m\n",
            "\u001b[0;32m/usr/local/lib/python3.7/dist-packages/ipykernel/kernelbase.py\u001b[0m in \u001b[0;36mraw_input\u001b[0;34m(self, prompt)\u001b[0m\n\u001b[1;32m    702\u001b[0m             \u001b[0mself\u001b[0m\u001b[0;34m.\u001b[0m\u001b[0m_parent_ident\u001b[0m\u001b[0;34m,\u001b[0m\u001b[0;34m\u001b[0m\u001b[0;34m\u001b[0m\u001b[0m\n\u001b[1;32m    703\u001b[0m             \u001b[0mself\u001b[0m\u001b[0;34m.\u001b[0m\u001b[0m_parent_header\u001b[0m\u001b[0;34m,\u001b[0m\u001b[0;34m\u001b[0m\u001b[0;34m\u001b[0m\u001b[0m\n\u001b[0;32m--> 704\u001b[0;31m             \u001b[0mpassword\u001b[0m\u001b[0;34m=\u001b[0m\u001b[0;32mFalse\u001b[0m\u001b[0;34m,\u001b[0m\u001b[0;34m\u001b[0m\u001b[0;34m\u001b[0m\u001b[0m\n\u001b[0m\u001b[1;32m    705\u001b[0m         )\n\u001b[1;32m    706\u001b[0m \u001b[0;34m\u001b[0m\u001b[0m\n",
            "\u001b[0;32m/usr/local/lib/python3.7/dist-packages/ipykernel/kernelbase.py\u001b[0m in \u001b[0;36m_input_request\u001b[0;34m(self, prompt, ident, parent, password)\u001b[0m\n\u001b[1;32m    732\u001b[0m             \u001b[0;32mexcept\u001b[0m \u001b[0mKeyboardInterrupt\u001b[0m\u001b[0;34m:\u001b[0m\u001b[0;34m\u001b[0m\u001b[0;34m\u001b[0m\u001b[0m\n\u001b[1;32m    733\u001b[0m                 \u001b[0;31m# re-raise KeyboardInterrupt, to truncate traceback\u001b[0m\u001b[0;34m\u001b[0m\u001b[0;34m\u001b[0m\u001b[0;34m\u001b[0m\u001b[0m\n\u001b[0;32m--> 734\u001b[0;31m                 \u001b[0;32mraise\u001b[0m \u001b[0mKeyboardInterrupt\u001b[0m\u001b[0;34m\u001b[0m\u001b[0;34m\u001b[0m\u001b[0m\n\u001b[0m\u001b[1;32m    735\u001b[0m             \u001b[0;32melse\u001b[0m\u001b[0;34m:\u001b[0m\u001b[0;34m\u001b[0m\u001b[0;34m\u001b[0m\u001b[0m\n\u001b[1;32m    736\u001b[0m                 \u001b[0;32mbreak\u001b[0m\u001b[0;34m\u001b[0m\u001b[0;34m\u001b[0m\u001b[0m\n",
            "\u001b[0;31mKeyboardInterrupt\u001b[0m: "
          ]
        }
      ]
    },
    {
      "cell_type": "code",
      "source": [
        ""
      ],
      "metadata": {
        "id": "sb03ATTJJ2QA"
      },
      "execution_count": null,
      "outputs": []
    },
    {
      "cell_type": "code",
      "source": [
        "######## 해설지보고 한 번 따라해봤음.\n",
        "import random\n",
        "def board(mode = 'original'):\n",
        "    \n",
        "\n",
        "    if mode == 'process':\n",
        "        for i in range(1,17):\n",
        "            if i == num1 or i == num2 or i in done:\n",
        "                 if  i%4 == 0:\n",
        "                      print(f'''|  {alphabet[i-1]} |''')\n",
        "                 else:\n",
        "                    print(f'''|  {alphabet[i-1]} ''', end = '')\n",
        "\n",
        "            else:\n",
        "                if  i%4 == 0:\n",
        "                    print('| %02d |' % i) \n",
        "                else:\n",
        "                    print('| %02d ' % i, end = '')\n",
        "    else: \n",
        "        for i in range(1,17):\n",
        "            if i%4 == 0:\n",
        "                print('| %02d |' % i)\n",
        "            else:\n",
        "                print('| %02d ' % i, end = '')\n",
        "    print(\"  -----------  \")\n",
        "            \n",
        "  \n",
        "\n",
        "\n",
        "\n",
        "\n",
        "alphabet = ['A','A','B','B','C','C','D','D','E','E','F','F','G','G','H','H']\n",
        "random.shuffle(alphabet)\n",
        "done = []\n",
        "\n",
        "board(8)\n",
        "while True:\n",
        "    num1 = int(input(\"숫자1: \"))\n",
        "    num2 = int(input(\"숫자2: \"))\n",
        "    board(mode = 'process')\n",
        "    if alphabet[num1 - 1] == alphabet[num2 - 1]:\n",
        "        done.append(num1)\n",
        "        done.append(num2)\n",
        "    if len(done) == 16:\n",
        "        break\n",
        "\n",
        "\n",
        "\n",
        "\n"
      ],
      "metadata": {
        "colab": {
          "base_uri": "https://localhost:8080/"
        },
        "id": "kZLXsVWGVtvQ",
        "outputId": "c97a2c41-c6d9-44d6-b52f-fda0c161c8a2"
      },
      "execution_count": null,
      "outputs": [
        {
          "output_type": "stream",
          "name": "stdout",
          "text": [
            "| 01 | 02 | 03 | 04 |\n",
            "| 05 | 06 | 07 | 08 |\n",
            "| 09 | 10 | 11 | 12 |\n",
            "| 13 | 14 | 15 | 16 |\n",
            "  -----------  \n",
            "숫자1: 1\n",
            "숫자2: 2\n",
            "|  G |  A | 03 | 04 |\n",
            "| 05 | 06 | 07 | 08 |\n",
            "| 09 | 10 | 11 | 12 |\n",
            "| 13 | 14 | 15 | 16 |\n",
            "  -----------  \n",
            "숫자1: 3\n",
            "숫자2: 4\n",
            "| 01 | 02 |  F |  E |\n",
            "| 05 | 06 | 07 | 08 |\n",
            "| 09 | 10 | 11 | 12 |\n",
            "| 13 | 14 | 15 | 16 |\n",
            "  -----------  \n",
            "숫자1: 5\n",
            "숫자2: 6\n",
            "| 01 | 02 | 03 | 04 |\n",
            "|  C |  H | 07 | 08 |\n",
            "| 09 | 10 | 11 | 12 |\n",
            "| 13 | 14 | 15 | 16 |\n",
            "  -----------  \n",
            "숫자1: 7\n",
            "숫자2: 8\n",
            "| 01 | 02 | 03 | 04 |\n",
            "| 05 | 06 |  E |  G |\n",
            "| 09 | 10 | 11 | 12 |\n",
            "| 13 | 14 | 15 | 16 |\n",
            "  -----------  \n",
            "숫자1: 9\n",
            "숫자2: 10\n",
            "| 01 | 02 | 03 | 04 |\n",
            "| 05 | 06 | 07 | 08 |\n",
            "|  A |  D | 11 | 12 |\n",
            "| 13 | 14 | 15 | 16 |\n",
            "  -----------  \n",
            "숫자1: 11\n",
            "숫자2: 12\n",
            "| 01 | 02 | 03 | 04 |\n",
            "| 05 | 06 | 07 | 08 |\n",
            "| 09 | 10 |  F |  D |\n",
            "| 13 | 14 | 15 | 16 |\n",
            "  -----------  \n",
            "숫자1: 13\n",
            "숫자2: 14\n",
            "| 01 | 02 | 03 | 04 |\n",
            "| 05 | 06 | 07 | 08 |\n",
            "| 09 | 10 | 11 | 12 |\n",
            "|  B |  H | 15 | 16 |\n",
            "  -----------  \n",
            "숫자1: 15\n",
            "숫자2: 16\n",
            "| 01 | 02 | 03 | 04 |\n",
            "| 05 | 06 | 07 | 08 |\n",
            "| 09 | 10 | 11 | 12 |\n",
            "| 13 | 14 |  B |  C |\n",
            "  -----------  \n",
            "숫자1: 1\n",
            "숫자2: 8\n",
            "|  G | 02 | 03 | 04 |\n",
            "| 05 | 06 | 07 |  G |\n",
            "| 09 | 10 | 11 | 12 |\n",
            "| 13 | 14 | 15 | 16 |\n",
            "  -----------  \n",
            "숫자1: 2\n",
            "숫자2: 9\n",
            "|  G |  A | 03 | 04 |\n",
            "| 05 | 06 | 07 |  G |\n",
            "|  A | 10 | 11 | 12 |\n",
            "| 13 | 14 | 15 | 16 |\n",
            "  -----------  \n",
            "숫자1: 3\n",
            "숫자2: 11\n",
            "|  G |  A |  F | 04 |\n",
            "| 05 | 06 | 07 |  G |\n",
            "|  A | 10 |  F | 12 |\n",
            "| 13 | 14 | 15 | 16 |\n",
            "  -----------  \n",
            "숫자1: 4\n",
            "숫자2: 7\n",
            "|  G |  A |  F |  E |\n",
            "| 05 | 06 |  E |  G |\n",
            "|  A | 10 |  F | 12 |\n",
            "| 13 | 14 | 15 | 16 |\n",
            "  -----------  \n",
            "숫자1: 5\n",
            "숫자2: 16\n",
            "|  G |  A |  F |  E |\n",
            "|  C | 06 |  E |  G |\n",
            "|  A | 10 |  F | 12 |\n",
            "| 13 | 14 | 15 |  C |\n",
            "  -----------  \n",
            "숫자1: 6\n",
            "숫자2: 12\n",
            "|  G |  A |  F |  E |\n",
            "|  C |  H |  E |  G |\n",
            "|  A | 10 |  F |  D |\n",
            "| 13 | 14 | 15 |  C |\n",
            "  -----------  \n",
            "숫자1: 10\n",
            "숫자2: 15\n",
            "|  G |  A |  F |  E |\n",
            "|  C | 06 |  E |  G |\n",
            "|  A |  D |  F | 12 |\n",
            "| 13 | 14 |  B |  C |\n",
            "  -----------  \n",
            "숫자1: 6\n",
            "숫자2: 14\n",
            "|  G |  A |  F |  E |\n",
            "|  C |  H |  E |  G |\n",
            "|  A | 10 |  F | 12 |\n",
            "| 13 |  H | 15 |  C |\n",
            "  -----------  \n",
            "숫자1: 10\n",
            "숫자2: 12\n",
            "|  G |  A |  F |  E |\n",
            "|  C |  H |  E |  G |\n",
            "|  A |  D |  F |  D |\n",
            "| 13 |  H | 15 |  C |\n",
            "  -----------  \n",
            "숫자1: 13\n",
            "숫자2: 15\n",
            "|  G |  A |  F |  E |\n",
            "|  C |  H |  E |  G |\n",
            "|  A |  D |  F |  D |\n",
            "|  B |  H |  B |  C |\n",
            "  -----------  \n"
          ]
        }
      ]
    },
    {
      "cell_type": "code",
      "source": [
        "######################## from 해설지\n",
        "import random\n",
        "def show_cards(mode='open'):\n",
        "    for i in range(1,17):\n",
        "      s = str(i)\n",
        "      if i<10: s='0'+s\n",
        "      if i%4==0: end=' |\\n' \n",
        "      else: end=''\n",
        "\n",
        "      if mode=='choice':\n",
        "        cond = i in open_list or i==num1 or i==num2\n",
        "      else:\n",
        "        cond = i in open_list\n",
        "      \n",
        "      if cond:\n",
        "        print(\" | %s\"%card_list[i-1], end=end)\n",
        "      else:\n",
        "        print(\" | %s\"%s, end=end)\n",
        "    \n",
        "    print(\"  ===================\")\n",
        "\n",
        "card_list = [\"*A\", \"*B\", \"*C\", \"*D\", \"*E\", \"*F\", \"*G\",\"*H\"]*2\n",
        "random.shuffle(card_list)\n",
        "open_list = []\n",
        "\n",
        "while True:\n",
        "  show_cards()\n",
        "  num1 = int(input())\n",
        "  num2 = int(input())\n",
        "  if num1==num2 or (num1 in open_list) or (num2 in open_list) or num1>16 or num2>16 or num1<1 or num2<1: \n",
        "    print(\"숫자범위를 확인하세요\")\n",
        "    continue\n",
        "  \n",
        "  show_cards(mode='choice')\n",
        "  if card_list[num1-1]==card_list[num2-1]:\n",
        "    open_list.append(num1)\n",
        "    open_list.append(num2)\n",
        "  if len(open_list)==16: \n",
        "    print(\"축하합니다!\")\n",
        "    break"
      ],
      "metadata": {
        "colab": {
          "base_uri": "https://localhost:8080/",
          "height": 1000
        },
        "id": "AayEZXimRZIw",
        "outputId": "a73db7cf-7549-4aa5-f46c-47e08f4cb190"
      },
      "execution_count": null,
      "outputs": [
        {
          "output_type": "stream",
          "name": "stdout",
          "text": [
            " | 01 | 02 | 03 | 04 |\n",
            " | 05 | 06 | 07 | 08 |\n",
            " | 09 | 10 | 11 | 12 |\n",
            " | 13 | 14 | 15 | 16 |\n",
            "  ===================\n",
            "1\n",
            "2\n",
            " | *B | *D | 03 | 04 |\n",
            " | 05 | 06 | 07 | 08 |\n",
            " | 09 | 10 | 11 | 12 |\n",
            " | 13 | 14 | 15 | 16 |\n",
            "  ===================\n",
            " | 01 | 02 | 03 | 04 |\n",
            " | 05 | 06 | 07 | 08 |\n",
            " | 09 | 10 | 11 | 12 |\n",
            " | 13 | 14 | 15 | 16 |\n",
            "  ===================\n",
            "3\n",
            "4\n",
            " | 01 | 02 | *F | *E |\n",
            " | 05 | 06 | 07 | 08 |\n",
            " | 09 | 10 | 11 | 12 |\n",
            " | 13 | 14 | 15 | 16 |\n",
            "  ===================\n",
            " | 01 | 02 | 03 | 04 |\n",
            " | 05 | 06 | 07 | 08 |\n",
            " | 09 | 10 | 11 | 12 |\n",
            " | 13 | 14 | 15 | 16 |\n",
            "  ===================\n",
            "5\n",
            "6\n",
            " | 01 | 02 | 03 | 04 |\n",
            " | *E | *C | 07 | 08 |\n",
            " | 09 | 10 | 11 | 12 |\n",
            " | 13 | 14 | 15 | 16 |\n",
            "  ===================\n",
            " | 01 | 02 | 03 | 04 |\n",
            " | 05 | 06 | 07 | 08 |\n",
            " | 09 | 10 | 11 | 12 |\n",
            " | 13 | 14 | 15 | 16 |\n",
            "  ===================\n",
            "4\n",
            "5\n",
            " | 01 | 02 | 03 | *E |\n",
            " | *E | 06 | 07 | 08 |\n",
            " | 09 | 10 | 11 | 12 |\n",
            " | 13 | 14 | 15 | 16 |\n",
            "  ===================\n",
            " | 01 | 02 | 03 | *E |\n",
            " | *E | 06 | 07 | 08 |\n",
            " | 09 | 10 | 11 | 12 |\n",
            " | 13 | 14 | 15 | 16 |\n",
            "  ===================\n"
          ]
        },
        {
          "output_type": "error",
          "ename": "KeyboardInterrupt",
          "evalue": "ignored",
          "traceback": [
            "\u001b[0;31m---------------------------------------------------------------------------\u001b[0m",
            "\u001b[0;31mKeyboardInterrupt\u001b[0m                         Traceback (most recent call last)",
            "\u001b[0;32m/usr/local/lib/python3.7/dist-packages/ipykernel/kernelbase.py\u001b[0m in \u001b[0;36m_input_request\u001b[0;34m(self, prompt, ident, parent, password)\u001b[0m\n\u001b[1;32m    728\u001b[0m             \u001b[0;32mtry\u001b[0m\u001b[0;34m:\u001b[0m\u001b[0;34m\u001b[0m\u001b[0;34m\u001b[0m\u001b[0m\n\u001b[0;32m--> 729\u001b[0;31m                 \u001b[0mident\u001b[0m\u001b[0;34m,\u001b[0m \u001b[0mreply\u001b[0m \u001b[0;34m=\u001b[0m \u001b[0mself\u001b[0m\u001b[0;34m.\u001b[0m\u001b[0msession\u001b[0m\u001b[0;34m.\u001b[0m\u001b[0mrecv\u001b[0m\u001b[0;34m(\u001b[0m\u001b[0mself\u001b[0m\u001b[0;34m.\u001b[0m\u001b[0mstdin_socket\u001b[0m\u001b[0;34m,\u001b[0m \u001b[0;36m0\u001b[0m\u001b[0;34m)\u001b[0m\u001b[0;34m\u001b[0m\u001b[0;34m\u001b[0m\u001b[0m\n\u001b[0m\u001b[1;32m    730\u001b[0m             \u001b[0;32mexcept\u001b[0m \u001b[0mException\u001b[0m\u001b[0;34m:\u001b[0m\u001b[0;34m\u001b[0m\u001b[0;34m\u001b[0m\u001b[0m\n",
            "\u001b[0;32m/usr/local/lib/python3.7/dist-packages/jupyter_client/session.py\u001b[0m in \u001b[0;36mrecv\u001b[0;34m(self, socket, mode, content, copy)\u001b[0m\n\u001b[1;32m    802\u001b[0m         \u001b[0;32mtry\u001b[0m\u001b[0;34m:\u001b[0m\u001b[0;34m\u001b[0m\u001b[0;34m\u001b[0m\u001b[0m\n\u001b[0;32m--> 803\u001b[0;31m             \u001b[0mmsg_list\u001b[0m \u001b[0;34m=\u001b[0m \u001b[0msocket\u001b[0m\u001b[0;34m.\u001b[0m\u001b[0mrecv_multipart\u001b[0m\u001b[0;34m(\u001b[0m\u001b[0mmode\u001b[0m\u001b[0;34m,\u001b[0m \u001b[0mcopy\u001b[0m\u001b[0;34m=\u001b[0m\u001b[0mcopy\u001b[0m\u001b[0;34m)\u001b[0m\u001b[0;34m\u001b[0m\u001b[0;34m\u001b[0m\u001b[0m\n\u001b[0m\u001b[1;32m    804\u001b[0m         \u001b[0;32mexcept\u001b[0m \u001b[0mzmq\u001b[0m\u001b[0;34m.\u001b[0m\u001b[0mZMQError\u001b[0m \u001b[0;32mas\u001b[0m \u001b[0me\u001b[0m\u001b[0;34m:\u001b[0m\u001b[0;34m\u001b[0m\u001b[0;34m\u001b[0m\u001b[0m\n",
            "\u001b[0;32m/usr/local/lib/python3.7/dist-packages/zmq/sugar/socket.py\u001b[0m in \u001b[0;36mrecv_multipart\u001b[0;34m(self, flags, copy, track)\u001b[0m\n\u001b[1;32m    624\u001b[0m         \"\"\"\n\u001b[0;32m--> 625\u001b[0;31m         \u001b[0mparts\u001b[0m \u001b[0;34m=\u001b[0m \u001b[0;34m[\u001b[0m\u001b[0mself\u001b[0m\u001b[0;34m.\u001b[0m\u001b[0mrecv\u001b[0m\u001b[0;34m(\u001b[0m\u001b[0mflags\u001b[0m\u001b[0;34m,\u001b[0m \u001b[0mcopy\u001b[0m\u001b[0;34m=\u001b[0m\u001b[0mcopy\u001b[0m\u001b[0;34m,\u001b[0m \u001b[0mtrack\u001b[0m\u001b[0;34m=\u001b[0m\u001b[0mtrack\u001b[0m\u001b[0;34m)\u001b[0m\u001b[0;34m]\u001b[0m\u001b[0;34m\u001b[0m\u001b[0;34m\u001b[0m\u001b[0m\n\u001b[0m\u001b[1;32m    626\u001b[0m         \u001b[0;31m# have first part already, only loop while more to receive\u001b[0m\u001b[0;34m\u001b[0m\u001b[0;34m\u001b[0m\u001b[0;34m\u001b[0m\u001b[0m\n",
            "\u001b[0;32mzmq/backend/cython/socket.pyx\u001b[0m in \u001b[0;36mzmq.backend.cython.socket.Socket.recv\u001b[0;34m()\u001b[0m\n",
            "\u001b[0;32mzmq/backend/cython/socket.pyx\u001b[0m in \u001b[0;36mzmq.backend.cython.socket.Socket.recv\u001b[0;34m()\u001b[0m\n",
            "\u001b[0;32mzmq/backend/cython/socket.pyx\u001b[0m in \u001b[0;36mzmq.backend.cython.socket._recv_copy\u001b[0;34m()\u001b[0m\n",
            "\u001b[0;32m/usr/local/lib/python3.7/dist-packages/zmq/backend/cython/checkrc.pxd\u001b[0m in \u001b[0;36mzmq.backend.cython.checkrc._check_rc\u001b[0;34m()\u001b[0m\n",
            "\u001b[0;31mKeyboardInterrupt\u001b[0m: ",
            "\nDuring handling of the above exception, another exception occurred:\n",
            "\u001b[0;31mKeyboardInterrupt\u001b[0m                         Traceback (most recent call last)",
            "\u001b[0;32m<ipython-input-4-355ed1ba7bd1>\u001b[0m in \u001b[0;36m<module>\u001b[0;34m()\u001b[0m\n\u001b[1;32m     25\u001b[0m \u001b[0;32mwhile\u001b[0m \u001b[0;32mTrue\u001b[0m\u001b[0;34m:\u001b[0m\u001b[0;34m\u001b[0m\u001b[0;34m\u001b[0m\u001b[0m\n\u001b[1;32m     26\u001b[0m   \u001b[0mshow_cards\u001b[0m\u001b[0;34m(\u001b[0m\u001b[0;34m)\u001b[0m\u001b[0;34m\u001b[0m\u001b[0;34m\u001b[0m\u001b[0m\n\u001b[0;32m---> 27\u001b[0;31m   \u001b[0mnum1\u001b[0m \u001b[0;34m=\u001b[0m \u001b[0mint\u001b[0m\u001b[0;34m(\u001b[0m\u001b[0minput\u001b[0m\u001b[0;34m(\u001b[0m\u001b[0;34m)\u001b[0m\u001b[0;34m)\u001b[0m\u001b[0;34m\u001b[0m\u001b[0;34m\u001b[0m\u001b[0m\n\u001b[0m\u001b[1;32m     28\u001b[0m   \u001b[0mnum2\u001b[0m \u001b[0;34m=\u001b[0m \u001b[0mint\u001b[0m\u001b[0;34m(\u001b[0m\u001b[0minput\u001b[0m\u001b[0;34m(\u001b[0m\u001b[0;34m)\u001b[0m\u001b[0;34m)\u001b[0m\u001b[0;34m\u001b[0m\u001b[0;34m\u001b[0m\u001b[0m\n\u001b[1;32m     29\u001b[0m   \u001b[0;32mif\u001b[0m \u001b[0mnum1\u001b[0m\u001b[0;34m==\u001b[0m\u001b[0mnum2\u001b[0m \u001b[0;32mor\u001b[0m \u001b[0;34m(\u001b[0m\u001b[0mnum1\u001b[0m \u001b[0;32min\u001b[0m \u001b[0mopen_list\u001b[0m\u001b[0;34m)\u001b[0m \u001b[0;32mor\u001b[0m \u001b[0;34m(\u001b[0m\u001b[0mnum2\u001b[0m \u001b[0;32min\u001b[0m \u001b[0mopen_list\u001b[0m\u001b[0;34m)\u001b[0m \u001b[0;32mor\u001b[0m \u001b[0mnum1\u001b[0m\u001b[0;34m>\u001b[0m\u001b[0;36m16\u001b[0m \u001b[0;32mor\u001b[0m \u001b[0mnum2\u001b[0m\u001b[0;34m>\u001b[0m\u001b[0;36m16\u001b[0m \u001b[0;32mor\u001b[0m \u001b[0mnum1\u001b[0m\u001b[0;34m<\u001b[0m\u001b[0;36m1\u001b[0m \u001b[0;32mor\u001b[0m \u001b[0mnum2\u001b[0m\u001b[0;34m<\u001b[0m\u001b[0;36m1\u001b[0m\u001b[0;34m:\u001b[0m\u001b[0;34m\u001b[0m\u001b[0;34m\u001b[0m\u001b[0m\n",
            "\u001b[0;32m/usr/local/lib/python3.7/dist-packages/ipykernel/kernelbase.py\u001b[0m in \u001b[0;36mraw_input\u001b[0;34m(self, prompt)\u001b[0m\n\u001b[1;32m    702\u001b[0m             \u001b[0mself\u001b[0m\u001b[0;34m.\u001b[0m\u001b[0m_parent_ident\u001b[0m\u001b[0;34m,\u001b[0m\u001b[0;34m\u001b[0m\u001b[0;34m\u001b[0m\u001b[0m\n\u001b[1;32m    703\u001b[0m             \u001b[0mself\u001b[0m\u001b[0;34m.\u001b[0m\u001b[0m_parent_header\u001b[0m\u001b[0;34m,\u001b[0m\u001b[0;34m\u001b[0m\u001b[0;34m\u001b[0m\u001b[0m\n\u001b[0;32m--> 704\u001b[0;31m             \u001b[0mpassword\u001b[0m\u001b[0;34m=\u001b[0m\u001b[0;32mFalse\u001b[0m\u001b[0;34m,\u001b[0m\u001b[0;34m\u001b[0m\u001b[0;34m\u001b[0m\u001b[0m\n\u001b[0m\u001b[1;32m    705\u001b[0m         )\n\u001b[1;32m    706\u001b[0m \u001b[0;34m\u001b[0m\u001b[0m\n",
            "\u001b[0;32m/usr/local/lib/python3.7/dist-packages/ipykernel/kernelbase.py\u001b[0m in \u001b[0;36m_input_request\u001b[0;34m(self, prompt, ident, parent, password)\u001b[0m\n\u001b[1;32m    732\u001b[0m             \u001b[0;32mexcept\u001b[0m \u001b[0mKeyboardInterrupt\u001b[0m\u001b[0;34m:\u001b[0m\u001b[0;34m\u001b[0m\u001b[0;34m\u001b[0m\u001b[0m\n\u001b[1;32m    733\u001b[0m                 \u001b[0;31m# re-raise KeyboardInterrupt, to truncate traceback\u001b[0m\u001b[0;34m\u001b[0m\u001b[0;34m\u001b[0m\u001b[0;34m\u001b[0m\u001b[0m\n\u001b[0;32m--> 734\u001b[0;31m                 \u001b[0;32mraise\u001b[0m \u001b[0mKeyboardInterrupt\u001b[0m\u001b[0;34m\u001b[0m\u001b[0;34m\u001b[0m\u001b[0m\n\u001b[0m\u001b[1;32m    735\u001b[0m             \u001b[0;32melse\u001b[0m\u001b[0;34m:\u001b[0m\u001b[0;34m\u001b[0m\u001b[0;34m\u001b[0m\u001b[0m\n\u001b[1;32m    736\u001b[0m                 \u001b[0;32mbreak\u001b[0m\u001b[0;34m\u001b[0m\u001b[0;34m\u001b[0m\u001b[0m\n",
            "\u001b[0;31mKeyboardInterrupt\u001b[0m: "
          ]
        }
      ]
    }
  ]
}