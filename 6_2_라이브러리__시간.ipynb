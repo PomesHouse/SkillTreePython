{
  "nbformat": 4,
  "nbformat_minor": 0,
  "metadata": {
    "colab": {
      "name": "6-2.라이브러리_ 시간.ipynb",
      "provenance": [],
      "collapsed_sections": [],
      "include_colab_link": true
    },
    "kernelspec": {
      "name": "python3",
      "display_name": "Python 3"
    },
    "language_info": {
      "name": "python"
    }
  },
  "cells": [
    {
      "cell_type": "markdown",
      "metadata": {
        "id": "view-in-github",
        "colab_type": "text"
      },
      "source": [
        "<a href=\"https://colab.research.google.com/github/PomesHouse/SkillTreePython/blob/main/6_2_%EB%9D%BC%EC%9D%B4%EB%B8%8C%EB%9F%AC%EB%A6%AC__%EC%8B%9C%EA%B0%84.ipynb\" target=\"_parent\"><img src=\"https://colab.research.google.com/assets/colab-badge.svg\" alt=\"Open In Colab\"/></a>"
      ]
    },
    {
      "cell_type": "markdown",
      "metadata": {
        "id": "jgFAOz-Tw1VI"
      },
      "source": [
        "# 6-2.라이브러리: 시간\n",
        "---\n",
        "* 날짜:\n",
        "* 이름:\n"
      ]
    },
    {
      "cell_type": "markdown",
      "metadata": {
        "id": "roC8A6Ro6THT"
      },
      "source": [
        "## 개념정리\n",
        "---\n",
        "\n",
        "시간과 관련된 프로그램은 아주 많습니다. 이를 위해 유용한 라이브러리인 `time` 과 `calendar`을 알아봅니다. 두 라이브러리에는 시간 관련 함수가 굉장히 많습니다. 그 중 자주 사용되는 함수 몇가지 위주로 공부해봅니다.\n"
      ]
    },
    {
      "cell_type": "markdown",
      "metadata": {
        "id": "H2HY9CbXvBoB"
      },
      "source": [
        "### **(1) 라이브러리 임포트 : `time`**\n",
        "\n",
        "아래와 같이 `time` 모듈을 `import` 해줍니다.\n",
        "\n",
        "```\n",
        "import time\n",
        "```\n"
      ]
    },
    {
      "cell_type": "code",
      "metadata": {
        "id": "5mAKOlI-vBoD"
      },
      "source": [
        "import time"
      ],
      "execution_count": null,
      "outputs": []
    },
    {
      "cell_type": "markdown",
      "source": [
        "### **(2) 기본 사용 : `time`**\n"
      ],
      "metadata": {
        "id": "7tKI5oCovsJ5"
      }
    },
    {
      "cell_type": "markdown",
      "metadata": {
        "id": "UdnlqgsIvBoD"
      },
      "source": [
        "#### **시간확인**\n",
        "\n"
      ]
    },
    {
      "cell_type": "markdown",
      "metadata": {
        "id": "SjGX5RIJu7SG"
      },
      "source": [
        "* `time.time`\n",
        "\n",
        "`time.time()`은 UTC(Universal Time Coordinated 협정 세계 표준시)를 사용하여 1970년 1월 1일 0시 0분 0초를 기준으로 현재 시간을 초 단위로 돌려줍니다. 따라서 이 함수를 써서는 정확한 시간을 이해하기 힘듭니다. \n",
        "\n",
        "```\n",
        "time.time()\n",
        "```\n",
        "\n"
      ]
    },
    {
      "cell_type": "code",
      "metadata": {
        "id": "gERBDDc8u7SJ",
        "colab": {
          "base_uri": "https://localhost:8080/"
        },
        "outputId": "669f1ba3-0700-42ed-efc0-fc822de5bd5f"
      },
      "source": [
        "time.time() # time library 안에 time 함수"
      ],
      "execution_count": null,
      "outputs": [
        {
          "output_type": "execute_result",
          "data": {
            "text/plain": [
              "1649051056.424565"
            ]
          },
          "metadata": {},
          "execution_count": 2
        }
      ]
    },
    {
      "cell_type": "markdown",
      "metadata": {
        "id": "zD6gfuVD3xwx"
      },
      "source": [
        "* `time.ctime` \n",
        "\n",
        "현재 시간을 알아보기 쉬운 문자열 형식으로 반환합니다.\n",
        "\n",
        "```\n",
        "t = time.ctime()\n",
        "print(t)\n",
        "print(type(t))\n",
        "\n",
        "```\n",
        "\n"
      ]
    },
    {
      "cell_type": "code",
      "metadata": {
        "id": "OaowHk_83leh",
        "colab": {
          "base_uri": "https://localhost:8080/"
        },
        "outputId": "5f5c099b-3272-4c1f-9bcd-0cfdbe37898d"
      },
      "source": [
        "t = time.ctime()\n",
        "print(t)\n",
        "print(type(t))"
      ],
      "execution_count": null,
      "outputs": [
        {
          "output_type": "stream",
          "name": "stdout",
          "text": [
            "Mon Apr  4 05:45:21 2022\n",
            "<class 'str'>\n"
          ]
        }
      ]
    },
    {
      "cell_type": "markdown",
      "metadata": {
        "id": "DJsRofyYwcCG"
      },
      "source": [
        "#### **시간조절**\n",
        "\n"
      ]
    },
    {
      "cell_type": "markdown",
      "metadata": {
        "id": "ZywpY9IBwcCM"
      },
      "source": [
        "* `time.sleep`\n",
        "\n",
        "`time.sleep`은 코드를 일정 시간동안 멈출 수 있습니다. 주로 반복문 내에서 시간 간격을 두고 실행하고 싶을 때 쓰입니다.\n",
        "\n",
        "```\n",
        "for i in range(10):\n",
        "    print(i)\n",
        "    time.sleep(1)\n",
        "```\n",
        "\n"
      ]
    },
    {
      "cell_type": "code",
      "metadata": {
        "id": "M3D3N6rewcCM",
        "colab": {
          "base_uri": "https://localhost:8080/"
        },
        "outputId": "998d1a61-547a-4f9f-8b97-e87d245b99fe"
      },
      "source": [
        "for i in range(1, 6):\n",
        "    print(f'{i}초 지났습니다.')\n",
        "    time.sleep(1)"
      ],
      "execution_count": null,
      "outputs": [
        {
          "output_type": "stream",
          "name": "stdout",
          "text": [
            "1초 지났습니다.\n",
            "2초 지났습니다.\n",
            "3초 지났습니다.\n",
            "4초 지났습니다.\n",
            "5초 지났습니다.\n"
          ]
        }
      ]
    },
    {
      "cell_type": "markdown",
      "metadata": {
        "id": "a3YlZx2lOstl"
      },
      "source": [
        "### **(3) 라이브러리 임포트(import) : `calendar`**\n",
        "\n",
        "\n",
        "```\n",
        "import calendar\n",
        "```\n"
      ]
    },
    {
      "cell_type": "code",
      "metadata": {
        "id": "-KkhR9yaOstm"
      },
      "source": [
        "import calendar"
      ],
      "execution_count": null,
      "outputs": []
    },
    {
      "cell_type": "markdown",
      "source": [
        "### **(4) 기본 사용 : `calendar`**"
      ],
      "metadata": {
        "id": "x4b6XE2IwWCR"
      }
    },
    {
      "cell_type": "markdown",
      "metadata": {
        "id": "u0q6rzI-PA6i"
      },
      "source": [
        "#### **달력 보기**\n",
        "\n"
      ]
    },
    {
      "cell_type": "markdown",
      "metadata": {
        "id": "y6imlv3cPA6i"
      },
      "source": [
        "* `calendar.prmonth`\n",
        "\n",
        "`calendar.prmonth`는 연도와 월을 입력하면 해당 월의 달력을 출력해줍니다.\n",
        "\n",
        "```\n",
        "calendar.prmonth(연도, 월)\n",
        "```\n",
        "\n"
      ]
    },
    {
      "cell_type": "code",
      "metadata": {
        "id": "ofTbeRnIPA6j",
        "colab": {
          "base_uri": "https://localhost:8080/"
        },
        "outputId": "36abae12-1ee6-4919-dae7-e88be9e384db"
      },
      "source": [
        "calendar.prmonth(1000,12)"
      ],
      "execution_count": null,
      "outputs": [
        {
          "output_type": "stream",
          "name": "stdout",
          "text": [
            "   December 1000\n",
            "Mo Tu We Th Fr Sa Su\n",
            " 1  2  3  4  5  6  7\n",
            " 8  9 10 11 12 13 14\n",
            "15 16 17 18 19 20 21\n",
            "22 23 24 25 26 27 28\n",
            "29 30 31\n"
          ]
        }
      ]
    },
    {
      "cell_type": "markdown",
      "metadata": {
        "id": "BFHm6JKmPc2r"
      },
      "source": [
        "#### **날짜 반환**\n",
        "\n"
      ]
    },
    {
      "cell_type": "markdown",
      "metadata": {
        "id": "TfxqY2sIPc2s"
      },
      "source": [
        "* `calendar.weekday`\n",
        "\n",
        "`weekday` 함수는 연도, 월, 일을 입력하면 0에서 6까지의 정수 반환합니다. 각 숫자는 월요일 부터 일요일을 의미합니다. \n",
        "\n",
        "```\n",
        "정수 = calendar.weekday(연도, 월, 일)\n",
        "# 정수값은 0~6 이며, 월~일을 의미\n",
        "```\n",
        "\n"
      ]
    },
    {
      "cell_type": "code",
      "metadata": {
        "id": "dAgIvgfVPc2t",
        "colab": {
          "base_uri": "https://localhost:8080/"
        },
        "outputId": "1f406deb-e795-4e8d-b2c7-d11ded5b2bd1"
      },
      "source": [
        "calendar.weekday(2022,4,4)"
      ],
      "execution_count": null,
      "outputs": [
        {
          "output_type": "execute_result",
          "data": {
            "text/plain": [
              "0"
            ]
          },
          "metadata": {},
          "execution_count": 12
        }
      ]
    },
    {
      "cell_type": "markdown",
      "metadata": {
        "id": "5niolBqHPVLj"
      },
      "source": [
        "* `calendar.monthrange()`\n",
        "\n",
        "`calendar.monthrange`는 연도와 월을 입력하면 이달이 무슨 요일인지,그리고 며칠까지 있는지를 튜플 형태로 출력합니다. \n",
        "\n",
        "```\n",
        "첫번째요일, 일수 = calendar.monthrange(연도, 월)\n",
        "```\n",
        "\n"
      ]
    },
    {
      "cell_type": "code",
      "metadata": {
        "id": "nMGHfL0fPVLj",
        "colab": {
          "base_uri": "https://localhost:8080/"
        },
        "outputId": "b027b22a-96ea-4933-a38c-9774ab1fda80"
      },
      "source": [
        "calendar.monthrange(1000,12)"
      ],
      "execution_count": null,
      "outputs": [
        {
          "output_type": "execute_result",
          "data": {
            "text/plain": [
              "(0, 31)"
            ]
          },
          "metadata": {},
          "execution_count": 12
        }
      ]
    },
    {
      "cell_type": "markdown",
      "metadata": {
        "id": "Iflmv_G4M7Qs"
      },
      "source": [
        "## 예제\n",
        "---"
      ]
    },
    {
      "cell_type": "markdown",
      "metadata": {
        "id": "d9o7kBXoNlE3"
      },
      "source": [
        "**예제 01**\n",
        "\n",
        "타이머를 만듭시다. 이 타이머는 10초 단위로 알림을 하고 10 부터는 카운트 합니다. (실제로 초단위의 타이머를 만듭니다.)\n",
        "\n",
        "```\n",
        ">> 타이머(60)\n",
        "60\n",
        "50\n",
        "40\n",
        "30\n",
        "20\n",
        "10\n",
        "9!\n",
        "8!\n",
        "7!\n",
        "6!\n",
        "5!\n",
        "4!\n",
        "3!\n",
        "2!\n",
        "1!\n",
        "삐빅\n",
        "```\n",
        "\n",
        "\n",
        ">>\n",
        "\n"
      ]
    },
    {
      "cell_type": "code",
      "metadata": {
        "id": "Gwir0bafNlE9",
        "colab": {
          "base_uri": "https://localhost:8080/"
        },
        "outputId": "09b023b2-0eec-4c1d-d1bd-de5412bb74e3"
      },
      "source": [
        "import time\n",
        "def 타이머(n):\n",
        "        while n >= 10:\n",
        "            if n%10 == 0:\n",
        "                print(n)\n",
        "            n -=  1\n",
        "            time.sleep(1)\n",
        "        while 0 < n < 10:\n",
        "            print(f'{n}!')\n",
        "            time.sleep(1)\n",
        "            n-=1\n",
        "        print('삐빅 ')\n",
        "\n",
        "타이머(20)     \n",
        "            "
      ],
      "execution_count": 20,
      "outputs": [
        {
          "output_type": "stream",
          "name": "stdout",
          "text": [
            "20\n",
            "10\n",
            "9!\n",
            "8!\n",
            "7!\n",
            "6!\n",
            "5!\n",
            "4!\n",
            "3!\n",
            "2!\n",
            "1!\n",
            "삐빅 \n"
          ]
        }
      ]
    },
    {
      "cell_type": "markdown",
      "metadata": {
        "id": "xjss54fvOD3D"
      },
      "source": [
        "**예제 02**\n",
        "\n",
        "시간을 알려주는 챗봇을 만들어 봅시다. 사용자가 입력한 문장에서 다음과 같은 문장이 있으면 그에 따른 대답을 합니다.\n",
        "\n",
        "단어|대답|\n",
        "--|--\n",
        "몇시| 시간 출력\n",
        "몇분| 분 출력\n",
        "무슨요일| 요일 출력\n",
        "몇월| 월 출력\n",
        "며칠or 몇일 | 일 출력\n",
        "그만 | 종료\n",
        "\n",
        "```\n",
        ">> 시리()\n",
        ">> 질문해주세요: 지금몇시니?\n",
        "지금은 8시 입니다.\n",
        ">> 질문해주세요: 오늘 무슨요일이야\n",
        "오늘은 금요일 입니다.\n",
        ">> 질문해주세요: 그만\n",
        "종료되었습니다.\n",
        "```\n",
        "\n",
        "\n",
        ">>\n",
        "\n"
      ]
    },
    {
      "cell_type": "code",
      "source": [
        "import time \n",
        "import calendar\n",
        "date, month, day, time, year = time.ctime().split()\n",
        "# print(date, month, day, time, year)\n",
        "hour, minute, sec = map(int,time.split(':'))\n",
        "# print(hour, minute, sec)\n",
        "\n",
        "date_table = ('월요일', '화요일', '수요일', '목요일', '금요일', '토요일', '일요일')\n",
        "month_table = {'Jan':1,'Feb':2,'Mar':3,'Apr':4,'May':5,'Jun':6,'Jul':7,'Aug':8,'Sep':9,'Oct':10,'Nov':11,'Dec':12}\n",
        "# month부분은 이렇게 하는건가요????\n",
        "\n",
        "def 시리():\n",
        "    x = input(\"질문해주세요: \")\n",
        "    if '몇시' in x:\n",
        "        print(f'지금은 {hour}시 입니다.')\n",
        "    if '몇분'in x:\n",
        "        print(f'지금은 {minute}분 입니다.')\n",
        "    if '무슨요일'in x:\n",
        "        print(f'지금은 {date_table[calendar.weekday(int(year), month_table[month], int(day))]} 입니다.')\n",
        "    if '몇월'in x:\n",
        "        print(f'지금은 {month_table[month]}월 입니다.')\n",
        "    if '며칠'in x or '몇일' in x:\n",
        "        print(f'지금은 {day} 일 입니다.')\n",
        "    if '그만'in x:\n",
        "        print('종료되었습니다.')\n",
        "\n",
        "시리()"
      ],
      "metadata": {
        "colab": {
          "base_uri": "https://localhost:8080/"
        },
        "id": "AtfXsCij9XsD",
        "outputId": "553e84b8-235f-4a37-8a4e-03507dd10501"
      },
      "execution_count": 14,
      "outputs": [
        {
          "output_type": "stream",
          "name": "stdout",
          "text": [
            "Mon Apr 4 10:11:00 2022\n",
            "10 11 0\n",
            "질문해주세요: 그만\n",
            "종료되었습니다.\n"
          ]
        }
      ]
    },
    {
      "cell_type": "code",
      "metadata": {
        "id": "R-XoEQc7OG1T",
        "colab": {
          "base_uri": "https://localhost:8080/"
        },
        "outputId": "ec704950-14f4-4ec8-9bc9-5e349f209f21"
      },
      "source": [
        "from datetime import date, datetime \n",
        "import pytz\n",
        "# print(\"Today's date:\", date.today())\n",
        "#print(datetime.today().strftime('%A'))\n",
        "tz_Seoul = pytz.timezone('Japan') \n",
        "datetime_Seoul = datetime.now(tz_Seoul)\n",
        "# now = datetime.now()\n",
        "# print(now.year, now.month, now.day, now.hour, now.minute, now.second)\n",
        "# print(f\"--------- { datetime.now().year}\")\n",
        "\n",
        "date_table = { 0 :'월요일',\n",
        "              1:'화요일',\n",
        "              2: '수요일',\n",
        "             3: '목요일',\n",
        "              4: '금요일',\n",
        "             5:'토요일',\n",
        "              6: '일요일'}\n",
        "\n",
        "\n",
        "def 시리():\n",
        "    x = input(\"질문해주세요: \")\n",
        "    if '몇시' in x:\n",
        "        print(\"지금은\", str(int(datetime_Seoul.strftime(\"%H\"))%12) + '시 입니다.')\n",
        "    if '몇분'in x:\n",
        "        print(\"지금은\", str(datetime.now().minute) + '분 입니다.')\n",
        "    if '무슨요일'in x:\n",
        "        print('지금은', date_table[calendar.weekday(datetime.now().year, datetime.now().month, datetime.now().day)], '입니다.')\n",
        "    if '몇월'in x:\n",
        "        print(\"지금은\", str(int(datetime_Seoul.strftime(\"%m\"))%12) + '월 입니다.')\n",
        "    if '며칠'in x or '몇일' in x:\n",
        "        print(\"지금은\", str(int(datetime_Seoul.strftime(\"%d\"))%12) + '일 입니다.')\n",
        "    if x == '그만':\n",
        "        print('종료되었습니다.')\n",
        "\n",
        "시리()"
      ],
      "execution_count": null,
      "outputs": [
        {
          "output_type": "stream",
          "name": "stdout",
          "text": [
            "질문해주세요: 며칠\n",
            "지금은 4일 입니다.\n"
          ]
        }
      ]
    },
    {
      "cell_type": "markdown",
      "metadata": {
        "id": "X2rC9t0WQfsi"
      },
      "source": [
        "**예제 03**\n",
        "\n",
        "2000년부터 2020년까지 각 해의 날짜의 수를 구하세요\n",
        "\n",
        "```\n",
        "2000년의 날짜는 총 ~~~일 입니다.\n",
        "2001년의 날짜는 총 ~~~일 입니다.\n",
        "...\n",
        "\n",
        "2020년의 날짜는 총 ~~~일 입니다.\n",
        "```"
      ]
    },
    {
      "cell_type": "code",
      "metadata": {
        "id": "3319F20DQfsl",
        "colab": {
          "base_uri": "https://localhost:8080/"
        },
        "outputId": "5ad4a1f9-5687-4ac8-a8e6-e65273a45032"
      },
      "source": [
        "\n",
        "l = []\n",
        "for year in range (2000, 2021):\n",
        "    sum = 0\n",
        "    for mon in range(1,13):\n",
        "        첫번째요일, 일수  = calendar.monthrange(year, mon)\n",
        "        sum += 일수\n",
        "    l.append(sum)\n",
        "print(l)\n",
        " "
      ],
      "execution_count": null,
      "outputs": [
        {
          "output_type": "stream",
          "name": "stdout",
          "text": [
            "[366, 365, 365, 365, 366, 365, 365, 365, 366, 365, 365, 365, 366, 365, 365, 365, 366, 365, 365, 365, 366]\n"
          ]
        }
      ]
    },
    {
      "cell_type": "markdown",
      "metadata": {
        "id": "A7pDCvOJQ6LD"
      },
      "source": [
        "**예제 04**\n",
        "\n",
        "아래형식으로 문자열을 입력했을 때 달력과 요일을 알려주는 코드를 작성하세요. 연도를 쓰지 않으면 올해의 연도가 자동으로 나오게 하세요\n",
        "\n",
        "\n",
        "\n",
        "```\n",
        ">> 날짜를 입력하세요: 2015/12/1\n",
        "   December 2015\n",
        "Mo Tu We Th Fr Sa Su\n",
        "    1  2  3  4  5  6\n",
        " 7  8  9 10 11 12 13\n",
        "14 15 16 17 18 19 20\n",
        "21 22 23 24 25 26 27\n",
        "28 29 30 31\n",
        "* 2015년 12월 1일은 화요일이네요!\n",
        "\n",
        ">> 날짜를 입력하세요: 12/1\n",
        "   December 2021\n",
        "Mo Tu We Th Fr Sa Su\n",
        "       1  2  3  4  5\n",
        " 6  7  8  9 10 11 12\n",
        "13 14 15 16 17 18 19\n",
        "20 21 22 23 24 25 26\n",
        "27 28 29 30 31\n",
        "* 2021년 12월 1일은 수요일이네요!\n",
        "\n",
        ">> 날짜를 입력하세요: 1\n",
        "* 입력형식오류\n",
        "\n",
        "```\n",
        "\n",
        "\n",
        "\n"
      ]
    },
    {
      "cell_type": "code",
      "source": [
        "import time \n",
        "import calendar\n",
        "\n",
        "\n",
        "date_table = ('월요일', '화요일', '수요일', '목요일', '금요일', '토요일', '일요일')\n",
        "\n",
        "t = list(map(int,input(\"날짜를 입력하세요: \").split('/')))\n",
        "if len(t) == 3:\n",
        "    year, month, day = t\n",
        "    calendar.prmonth(year, month)\n",
        "    print(f'* {year}년 {month}월 {day}일은', date_table[calendar.weekday(year, month, day)], '이네요!')\n",
        "elif len(t) == 2:\n",
        "    year = int(time.ctime().split()[-1])\n",
        "    month, day = t\n",
        "    calendar.prmonth(year, month)\n",
        "    print(f'* {year}년 {month}월 {day}일은', date_table[calendar.weekday(year, month, day)], '이네요!')"
      ],
      "metadata": {
        "colab": {
          "base_uri": "https://localhost:8080/"
        },
        "id": "PVueDNQmbCTp",
        "outputId": "23d81484-71f9-45fd-ff10-e8630e41ef08"
      },
      "execution_count": 5,
      "outputs": [
        {
          "output_type": "stream",
          "name": "stdout",
          "text": [
            "날짜를 입력하세요: 1993/12/16\n",
            "   December 1993\n",
            "Mo Tu We Th Fr Sa Su\n",
            "       1  2  3  4  5\n",
            " 6  7  8  9 10 11 12\n",
            "13 14 15 16 17 18 19\n",
            "20 21 22 23 24 25 26\n",
            "27 28 29 30 31\n",
            "* 1993년 12월 16일은 목요일 이네요!\n"
          ]
        }
      ]
    },
    {
      "cell_type": "code",
      "source": [
        "####### 함수 parameter를 input으로 넣으려면 어떻게 해야하는가.\n",
        "\n",
        "\n",
        "########### 잡동산이\n",
        "import datetime\n",
        "now = datetime.datetime.now()\n",
        "#print(now.year, now.month, now.day, now.hour, now.minute, now.second)\n",
        "date_table = {'Monday':'월요일',\n",
        "              'Tuesday':'화요일',\n",
        "              \"Wednesday\": '수요일',\n",
        "              \"Thursday\": '목요일',\n",
        "              \"Friday\": '금요일',\n",
        "              \"Saturday\":'토요일',\n",
        "              \"Sunday\": '일요일'}\n",
        "\n",
        "\n",
        "def hard(month, date, year = time.strftime('%Y')):\n",
        "    year, month, date = map(int,input(\"날짜를 입력하세요: \").split('/'))\n",
        "    calendar.prmonth(year, month)\n",
        "    print(f'* {year}년 {month}월 {date}일은', date_table[datetime.datetime.today().strftime('%A')], '이네요!')\n",
        "\n",
        "\n",
        "# time.strftime(\"%d %m %Y, %H:%M:%S\")"
      ],
      "metadata": {
        "colab": {
          "base_uri": "https://localhost:8080/",
          "height": 35
        },
        "id": "efboRdDraSPv",
        "outputId": "41e1d6a2-778f-4ba5-b76a-61724ee7635d"
      },
      "execution_count": null,
      "outputs": [
        {
          "output_type": "execute_result",
          "data": {
            "text/plain": [
              "'04 04 2022, 07:54:28'"
            ],
            "application/vnd.google.colaboratory.intrinsic+json": {
              "type": "string"
            }
          },
          "metadata": {},
          "execution_count": 20
        }
      ]
    },
    {
      "cell_type": "code",
      "source": [
        ""
      ],
      "metadata": {
        "id": "39_HbyEEkWiN"
      },
      "execution_count": null,
      "outputs": []
    }
  ]
}