{
  "nbformat": 4,
  "nbformat_minor": 0,
  "metadata": {
    "colab": {
      "name": "5-1.클래스_클래스의기본사용.ipynb",
      "provenance": [],
      "collapsed_sections": [],
      "include_colab_link": true
    },
    "kernelspec": {
      "name": "python3",
      "display_name": "Python 3"
    },
    "language_info": {
      "name": "python"
    }
  },
  "cells": [
    {
      "cell_type": "markdown",
      "metadata": {
        "id": "view-in-github",
        "colab_type": "text"
      },
      "source": [
        "<a href=\"https://colab.research.google.com/github/PomesHouse/SkillTreePython/blob/main/5_1_%ED%81%B4%EB%9E%98%EC%8A%A4_%ED%81%B4%EB%9E%98%EC%8A%A4%EC%9D%98%EA%B8%B0%EB%B3%B8%EC%82%AC%EC%9A%A9.ipynb\" target=\"_parent\"><img src=\"https://colab.research.google.com/assets/colab-badge.svg\" alt=\"Open In Colab\"/></a>"
      ]
    },
    {
      "cell_type": "markdown",
      "metadata": {
        "id": "jgFAOz-Tw1VI"
      },
      "source": [
        "5-1.클래스:클래스의 기본 사용\n",
        "---\n",
        "* 날짜:\n",
        "* 이름:\n"
      ]
    },
    {
      "cell_type": "markdown",
      "metadata": {
        "id": "roC8A6Ro6THT"
      },
      "source": [
        "## 개념정리\n",
        "---\n",
        "\n"
      ]
    },
    {
      "cell_type": "markdown",
      "source": [
        "프로그래밍 언어는 크게 두가지 실행 방식으로 나뉠수 있습니다.\n",
        "\n",
        "* **절차지향적 코드**\n",
        "  - 위에서부터 아래로 순서대로 코드가 진행된다.\n",
        "  - ex) c++는 절차지향만을 사용\n",
        "\n",
        "* **객체지향적 코드**\n",
        "  - 객체지향은 객체를 만들어서 이 객체를 언제, 어디서든, 몇개든 사용할 수 있도록 하는 것\n",
        "  - ex) 자바, 파이썬 등\n",
        "\n"
      ],
      "metadata": {
        "id": "Ee54frgJYOr8"
      }
    },
    {
      "cell_type": "markdown",
      "metadata": {
        "id": "4azv1P74n23k"
      },
      "source": [
        "###**(1) 정의**\n",
        "\n",
        "클래스는 아래와 같이 정의 할 수 있습니다. \n",
        "\n",
        "\n",
        "```\n",
        "class Student:\n",
        "    pass\n",
        "```\n",
        "\n"
      ]
    },
    {
      "cell_type": "code",
      "metadata": {
        "id": "myVCV-mSn23l"
      },
      "source": [
        "class Student:\n",
        "    pass"
      ],
      "execution_count": 1,
      "outputs": []
    },
    {
      "cell_type": "markdown",
      "source": [
        "클래스를 만들어 놓으면 틀만 만들어 놓은것과 같습니다. 이제 틀을 이용하여 인스턴스를 만들어 봅시다. "
      ],
      "metadata": {
        "id": "7jJg3FA2iRtY"
      }
    },
    {
      "cell_type": "markdown",
      "metadata": {
        "id": "KCOmBjQRn23l"
      },
      "source": [
        "###**(2) 인스턴스 생성**\n",
        "\n",
        "인스턴스란 위에서 만든 클래스라는 틀을 이용해 똑같은 일을 하는 함수들을 찍어내는 것을 말합니다. Student 클래스의 인스턴스를 생성하고 이를 me 라는 변수로 바인딩합시다.\n",
        "\n",
        "```\n",
        "me = Student()\n",
        "```\n",
        "\n"
      ]
    },
    {
      "cell_type": "code",
      "metadata": {
        "id": "HJi-ra_wn23l"
      },
      "source": [
        "me = Student()"
      ],
      "execution_count": 2,
      "outputs": []
    },
    {
      "cell_type": "markdown",
      "source": [
        "이제부터는 `me`라는 객체를 이용해서 클래스 내부의 여러가지 기능을 사용할 수 있습니다. 하지만 우리가 방금 만든 `Student`라는 클래스는 아무런 기능을 하지 않습니다. 기능을 할 수 있도록 클래스 내부에 속성을 추가해 봅시다. "
      ],
      "metadata": {
        "id": "ZkrmiFLzlWzX"
      }
    },
    {
      "cell_type": "markdown",
      "metadata": {
        "id": "QZ3_evMHn23l"
      },
      "source": [
        "###**(3) 속성**"
      ]
    },
    {
      "cell_type": "markdown",
      "source": [
        "#### **초기화 메서드**\n",
        "\n",
        "\n",
        "`__init__` 메서드는 초기화 메서드입니다. 클래스가 생성되면 `__init__` 메서드가 자동적으로 실행되며 클래스의 값을 지정된 값으로 초기화 합니다. 이 때 값은 인스턴스를 만들 때 넣어준 인자로 만듭니다. \n",
        "\n",
        "`Student` 클래스에 이를 이용해 초기값을 세팅해 봅시다. 학생의 이름과 수강 과목, 그리고 레벨을 정의합시다. 이름과 수강 과목은 인스턴스를 생성할 때 입려개하도록 하고, 레벨은 0부터 시작하도록 합시다.\n",
        "\n",
        "\n",
        "```\n",
        "class Student():\n",
        "    def __init__(self, name, subject):\n",
        "      self.name = name\n",
        "      self.subject = subject\n",
        "      self.level = 0\n",
        "\n",
        "me = Student(\"김모모\", \"기초반\")\n",
        "\n",
        "```"
      ],
      "metadata": {
        "id": "PDR3CtnZoUj1"
      }
    },
    {
      "cell_type": "markdown",
      "metadata": {
        "id": "P3KmS4awqk6E"
      },
      "source": [
        "* 클래스 생성"
      ]
    },
    {
      "cell_type": "code",
      "metadata": {
        "id": "tUKx8JbCqk6F"
      },
      "source": [
        "class Student(): # 여기 인풋이 안들어가고 밑에 __init__ 옆에 들어간다.\n",
        "    def __init__(self, name, subject):\n",
        "        ## 여기서 초기값을 정해준다.\n",
        "        ## self. 뭐뭐는 이 클래스 안애서 공용으로 쓸 수 있따!! \n",
        "        self.name = name\n",
        "        self.subject = subject\n",
        "        self.level = 0"
      ],
      "execution_count": 3,
      "outputs": []
    },
    {
      "cell_type": "markdown",
      "metadata": {
        "id": "NUcDQ1mUqk6F"
      },
      "source": [
        "* 인스턴스 생성"
      ]
    },
    {
      "cell_type": "code",
      "metadata": {
        "id": "KKAusE2Hqk6F"
      },
      "source": [
        "student = Student('뽀식이', '과자찾기') # 괄호값에 init 옆에 있는 값 개수 만큼 넣어주어야한다."
      ],
      "execution_count": 5,
      "outputs": []
    },
    {
      "cell_type": "markdown",
      "metadata": {
        "id": "qjwD6iv4n23m"
      },
      "source": [
        "####**인스턴스 속성 접근**\n",
        "\n",
        "위에서 생성한 인스턴스의 속성들 name, subject, level에 접근하고 출력합니다. \n",
        "```\n",
        "me.name, me.subject, me.level\n",
        "```"
      ]
    },
    {
      "cell_type": "code",
      "metadata": {
        "id": "7tuZarTSn23m",
        "colab": {
          "base_uri": "https://localhost:8080/"
        },
        "outputId": "b2f7120d-c53d-425d-b5e3-5e378bcf2794"
      },
      "source": [
        "student.name, student.subject, student.level"
      ],
      "execution_count": 6,
      "outputs": [
        {
          "output_type": "execute_result",
          "data": {
            "text/plain": [
              "('뽀식이', '과자찾기', 0)"
            ]
          },
          "metadata": {},
          "execution_count": 6
        }
      ]
    },
    {
      "cell_type": "markdown",
      "metadata": {
        "id": "p0QGxnV3n23m"
      },
      "source": [
        "###**(4) 클래스 메서드**\n",
        "\n",
        "class 안에서 메서드를 추가 할 수 있습니다. Student 클래스 안에 인사를 출력하는 `introduce` 메서드를 추가해보겠습니다. \n",
        "클래스 안에 메서드를 만들 때는 기본적으로 메서드 안에 `self`가 들어가야 합니다. \n",
        "\n",
        "```\n",
        "# 클래스 생성\n",
        "class Student():\n",
        "    def __init__(self, name, subject):\n",
        "      self.name = name\n",
        "      self.subject = subject\n",
        "      self.level = 0\n",
        "\n",
        "    def introduce(self):\n",
        "      print(f\"안녕하세요. {self.subject} 수업을 듣는 {self.name} 입니다.\")\n",
        "\n",
        "# 인스턴스 생성\n",
        "me = Student(\"김모모\", \"기초반\")\n",
        "\n",
        "# 메서드 실행\n",
        "me.introduce()\n",
        "```"
      ]
    },
    {
      "cell_type": "markdown",
      "metadata": {
        "id": "7st1KEFjn23m"
      },
      "source": [
        "* 클래스 생성"
      ]
    },
    {
      "cell_type": "code",
      "metadata": {
        "id": "9X7zV8mln23m"
      },
      "source": [
        "class Student():\n",
        "    def __init__(self, name, subject):\n",
        "      self.name = name\n",
        "      self.subject = subject\n",
        "      self.level = 0\n",
        "\n",
        "    def introduce(self): #딱히 다른 input을 필요로 하지 않아서 self만 \n",
        "      print(f\"안녕하세요. {self.subject} 수업을 듣는 {self.name} 입니다.\")\n"
      ],
      "execution_count": 7,
      "outputs": []
    },
    {
      "cell_type": "markdown",
      "metadata": {
        "id": "ESSI1NKon23m"
      },
      "source": [
        "* 인스턴스 생성"
      ]
    },
    {
      "cell_type": "code",
      "metadata": {
        "id": "zYkKsuupn23m"
      },
      "source": [
        "doggie = Student('뽀식이', '과자찾기')"
      ],
      "execution_count": 8,
      "outputs": []
    },
    {
      "cell_type": "markdown",
      "metadata": {
        "id": "jKNKPdlon23m"
      },
      "source": [
        "* `introduct()` 메서드 실행"
      ]
    },
    {
      "cell_type": "code",
      "source": [
        "doggie.introduce()"
      ],
      "metadata": {
        "id": "aR_cJ1LTnpHk",
        "colab": {
          "base_uri": "https://localhost:8080/"
        },
        "outputId": "a77b11e2-963a-4898-8495-4141869d776c"
      },
      "execution_count": 9,
      "outputs": [
        {
          "output_type": "stream",
          "name": "stdout",
          "text": [
            "안녕하세요. 과자찾기 수업을 듣는 뽀식이 입니다.\n"
          ]
        }
      ]
    },
    {
      "cell_type": "markdown",
      "source": [
        "#### **또다른 인스턴스 생성**\n",
        "\n",
        "앞서 클래스 자체는 틀이고 인스턴스는 그 틀에서 찍어낸 함수와 같다 했습니다. `me`라는 인스턴스 말고 `you`라는 인스턴스를 생성해 봅시다. \n",
        "\n",
        "* 인스턴스 생성\n",
        "\n",
        "```\n",
        "you = Student(\"김학생\", \"수반\")\n",
        "\n",
        "```"
      ],
      "metadata": {
        "id": "b-Sq8YL-s8Oy"
      }
    },
    {
      "cell_type": "code",
      "source": [
        "friend = Student(\"Alexander\", 'Strategy')"
      ],
      "metadata": {
        "id": "-lnmBLFRbFbl"
      },
      "execution_count": 10,
      "outputs": []
    },
    {
      "cell_type": "markdown",
      "source": [
        "* introduce() 메서드 실행\n",
        "\n",
        "```\n",
        "you.introuduce()\n",
        "```"
      ],
      "metadata": {
        "id": "2q47vsMfvTYM"
      }
    },
    {
      "cell_type": "code",
      "source": [
        "friend.introduce()"
      ],
      "metadata": {
        "id": "XogKQrBHvQ_-",
        "colab": {
          "base_uri": "https://localhost:8080/"
        },
        "outputId": "b2aa139b-8909-46ce-d0df-1490666b99e6"
      },
      "execution_count": 11,
      "outputs": [
        {
          "output_type": "stream",
          "name": "stdout",
          "text": [
            "안녕하세요. Strategy 수업을 듣는 Alexander 입니다.\n"
          ]
        }
      ]
    },
    {
      "cell_type": "code",
      "source": [
        "a = 'a' # a 라는 인스턴스가 만들어진 것임. \n",
        "a."
      ],
      "metadata": {
        "id": "qfmdThg-rWWg"
      },
      "execution_count": null,
      "outputs": []
    },
    {
      "cell_type": "markdown",
      "source": [
        "#### **메서드에 입력변수 추가하기**\n",
        "\n",
        "이번에는 클래스에 레벨을 올리는 `levelup` 메서드를 추가해봅시다. 이 메서드에는 레벨을 얼만큼 올릴지를 인풋으로 받을 겁니다. \n",
        "\n",
        "```\n",
        "# 클래스 생성\n",
        "class Student():\n",
        "    def __init__(self, name, subject):\n",
        "      self.name = name\n",
        "      self.subject = subject\n",
        "      self.level = 0\n",
        "\n",
        "    def introduce(self):\n",
        "      print(f\"안녕하세요. {self.subject} 수업을 듣는 {self.name} 입니다.\")\n",
        "\n",
        "    def levelup(self, l)\n",
        "      level_before = self.level\n",
        "      self.level = self.level+l\n",
        "      print(f\"{level_before}에서 {self.level}로 레벨업 했습니다.\")\n",
        "\n",
        "# 인스턴스 생성\n",
        "me = Student(\"김모모\", \"기초반\")\n",
        "\n",
        "# 메서드 실행\n",
        "me.introduce()\n",
        "\n",
        "```"
      ],
      "metadata": {
        "id": "J1CXlJND_9tJ"
      }
    },
    {
      "cell_type": "markdown",
      "metadata": {
        "id": "CsYlr8M-A9Sr"
      },
      "source": [
        "* 클래스 생성"
      ]
    },
    {
      "cell_type": "code",
      "metadata": {
        "id": "6L8J9AwLA9Ss"
      },
      "source": [
        "class Student():\n",
        "    def __init__(self, name, subject):\n",
        "      self.name = name\n",
        "      self.subject = subject\n",
        "      self.level = 0\n",
        "\n",
        "    def introduce(self):\n",
        "      print(f\"안녕하세요. {self.subject} 수업을 듣는 {self.name} 입니다.\")\n",
        "\n",
        "    def levelup(self, l):\n",
        "      level_before = self.level\n",
        "      self.level = self.level+l\n",
        "      print(f\"{level_before} 에서 {self.level}로 레벨업 했습니다.\")\n"
      ],
      "execution_count": 19,
      "outputs": []
    },
    {
      "cell_type": "markdown",
      "metadata": {
        "id": "5NI7YvkWA9Ss"
      },
      "source": [
        "* 인스턴스 생성"
      ]
    },
    {
      "cell_type": "code",
      "metadata": {
        "id": "KLPvCX4YA9Ss"
      },
      "source": [
        "doggie = Student('뽀식이', '과자찾기')"
      ],
      "execution_count": 21,
      "outputs": []
    },
    {
      "cell_type": "markdown",
      "metadata": {
        "id": "areIEkhtA9Ss"
      },
      "source": [
        "* `levelup()` 메서드 실행\n",
        "\n",
        "`levelup` 메서드는 `level_step` 이라는 변수를 필요로 합니다. 따라서 몇레벨을 업할 것인지 적어줍니다."
      ]
    },
    {
      "cell_type": "code",
      "source": [
        "doggie.levelup(5)"
      ],
      "metadata": {
        "id": "eFB8RWhTA9Ss",
        "colab": {
          "base_uri": "https://localhost:8080/"
        },
        "outputId": "2023b1d3-6987-442b-82a7-234e767855af"
      },
      "execution_count": 22,
      "outputs": [
        {
          "output_type": "stream",
          "name": "stdout",
          "text": [
            "0 에서 5로 레벨업 했습니다.\n"
          ]
        }
      ]
    },
    {
      "cell_type": "markdown",
      "source": [
        "* `self.level` 값 확인\n",
        "\n",
        "level 초기 값을 0으로 설정했습니다. levelup 메서드를 이용하여 level 이라는 속성값을 변경하였으니 이를 확인해 봅시다."
      ],
      "metadata": {
        "id": "Wo9d9vi6EIP9"
      }
    },
    {
      "cell_type": "code",
      "source": [
        "doggie.level"
      ],
      "metadata": {
        "id": "VdIrwqXNvllc",
        "colab": {
          "base_uri": "https://localhost:8080/"
        },
        "outputId": "dc0354d2-2404-4491-a6fa-278353bebf00"
      },
      "execution_count": 24,
      "outputs": [
        {
          "output_type": "execute_result",
          "data": {
            "text/plain": [
              "5"
            ]
          },
          "metadata": {},
          "execution_count": 24
        }
      ]
    },
    {
      "cell_type": "markdown",
      "source": [
        "##문제풀이"
      ],
      "metadata": {
        "id": "A21sxlYCtGF_"
      }
    },
    {
      "cell_type": "code",
      "source": [
        "my_guess = map(int, input('1부터 15까지의 수 중 세가지 숫자를 콤마(,)를 써서 입력하세요.').split(','))\n",
        "my_guess = [int(i) for i in my_guess]\n",
        "my_guess\n"
      ],
      "metadata": {
        "colab": {
          "base_uri": "https://localhost:8080/"
        },
        "id": "-7jS7OPFvQ_o",
        "outputId": "bbc314d0-73dd-4ade-84d3-c419f69c5dbd"
      },
      "execution_count": 3,
      "outputs": [
        {
          "name": "stdout",
          "output_type": "stream",
          "text": [
            "1부터 15까지의 수 중 세가지 숫자를 콤마(,)를 써서 입력하세요.1,2,3\n"
          ]
        },
        {
          "output_type": "execute_result",
          "data": {
            "text/plain": [
              "[1, 2, 3]"
            ]
          },
          "metadata": {},
          "execution_count": 3
        }
      ]
    },
    {
      "cell_type": "code",
      "source": [
        "import random\n",
        "class 인생게임():\n",
        "    def __init__(self, nickname):\n",
        "        self.nickname = nickname\n",
        "        self.money = 100000\n",
        "        self.age = 20\n",
        "        self.skill = {'요리':0, '청소':0, '수학':1}\n",
        "\n",
        "    def lotto(self):\n",
        "        my_guess = map(int, input('1부터 10까지의 수 중 세가지 숫자를 콤마(,)를 써서 입력하세요.').split(','))\n",
        "        self.money -= 2000\n",
        "        lotto_list = list(range(1, 10 + 1))\n",
        "        for i in my_guess:\n",
        "            right = 0\n",
        "            if i in  list(random.choices(lotto_list, k = 3)):\n",
        "                right += 1\n",
        "        if right >= 3:\n",
        "            self.money += 1000000000\n",
        "            print('** 축하합니다!! 당첨되셨습니다 :) **')\n",
        "            print(f'통장에 1000000000원이 입금이 되어 잔액이{self.money}원이 되었습니다.')\n",
        "        else:\n",
        "            print('역시는 역시 역시군요. 과도한 도박은 당신의 삶을 해칩니다.')\n",
        "            print(f'통장에 남은 돈은 {self.money}원 입니다.')\n",
        "\n",
        "    def math_aca(self):\n",
        "        print('아, 오늘은 수학 학원에 가야하는 날이네.')\n",
        "        go_or_not = input('학원에 가시겠습니까? (\"Yes\" 또는 \"No\"로 답해주세요): ')\n",
        "        if go_or_not == 'Yes':\n",
        "            study_hour = int(input('그렇다면 몇 시간 공부하실 예정입니까? \\n다섯시간 마다 수학 스킬이 5씩 증가합니다. : '))\n",
        "            self.skill['수학'] += study_hour//5\n",
        "            print('당신의 수학 능력치가', study_hour//5, '만큼 상승하여 현재 수학 능력치는', self.skill['수학'], '입니다.' )\n",
        "        elif go_or_not == 'No':\n",
        "             print('당신의 수학 능력치는 여전히', self.skill['수학'], '입니다. 공부하세요' )\n",
        "\n",
        "    def part(self):\n",
        "        go_or_not = input('일하러 가시겠습니까? (\"Yes\" 또는 \"No\"로 답해주세요): ')\n",
        "        if go_or_not == 'Yes':\n",
        "            working_hour = int(input('시간당 10000원을 벌수 있습니다. 몇시간 일하실 예정입니까? : '))\n",
        "            self.money += (working_hour * 10000)\n",
        "            print(f'통장의 잔액이 {self.money}원이 되었습니다.' )\n",
        "        elif go_or_not == 'No':\n",
        "             print(f'통장의 잔액은 {self.money}원 입니다.' )\n",
        "\n",
        "    def new_skill(self):\n",
        "        yes_or_no = input('하고싶은 새로운 일이 있습니까? (\"Yes\" 또는 \"No\"로 답해주세요): ')\n",
        "        if yes_or_no == 'Yes':\n",
        "            new_exp = input('무엇을 하고 싶습니까? : ')\n",
        "            if new_exp in self.skill.keys():\n",
        "                print('이미 해본 일입니다.')\n",
        "            else:\n",
        "                self.skill[new_exp] = 0\n",
        "                print(f'{new_exp}이 내 skill set에 추가되었습니다.')\n",
        "        elif yes_or_no == 'No':\n",
        "            print(f'아쉽군요.')\n"
      ],
      "metadata": {
        "id": "1REAZ4q_tFGq"
      },
      "execution_count": 23,
      "outputs": []
    },
    {
      "cell_type": "code",
      "source": [
        "doggie = 인생게임('뽀식이')"
      ],
      "metadata": {
        "id": "vVB2gX965jAt"
      },
      "execution_count": 24,
      "outputs": []
    },
    {
      "cell_type": "code",
      "source": [
        "doggie.lotto()"
      ],
      "metadata": {
        "colab": {
          "base_uri": "https://localhost:8080/"
        },
        "id": "CtPO2f845vtd",
        "outputId": "07e8ea8c-8135-4df9-c5e0-210490ea2bfd"
      },
      "execution_count": 26,
      "outputs": [
        {
          "output_type": "stream",
          "name": "stdout",
          "text": [
            "1부터 15까지의 수 중 세가지 숫자를 콤마(,)를 써서 입력하세요.4,6,10\n",
            "역시는 역시 역시군요. 과도한 도박은 당신의 삶을 해칩니다.\n",
            "통장에 남은 돈은 96000원 입니다.\n"
          ]
        }
      ]
    },
    {
      "cell_type": "code",
      "source": [
        "doggie.part()"
      ],
      "metadata": {
        "colab": {
          "base_uri": "https://localhost:8080/"
        },
        "id": "0k2zGx6e5zCM",
        "outputId": "57b8b272-f161-4fb4-e114-b8d98a3798da"
      },
      "execution_count": 16,
      "outputs": [
        {
          "output_type": "stream",
          "name": "stdout",
          "text": [
            "일하러 가시겠습니까? (\"Yes\" 또는 \"No\"로 답해주세요): Yes\n",
            "시간당 10000원을 벌수 있습니다. 몇시간 일하실 예정입니까? : 8\n",
            "통장의 잔액이 178000원이 되었습니다.\n"
          ]
        }
      ]
    },
    {
      "cell_type": "code",
      "source": [
        "doggie.lotto()"
      ],
      "metadata": {
        "colab": {
          "base_uri": "https://localhost:8080/"
        },
        "id": "cRZThIsY6Ibk",
        "outputId": "06d05e29-201e-420f-8c41-9af18f2ef9ea"
      },
      "execution_count": 17,
      "outputs": [
        {
          "output_type": "stream",
          "name": "stdout",
          "text": [
            "1부터 15까지의 수 중 세가지 숫자를 콤마(,)를 써서 입력하세요.1,3,5\n",
            "역시는 역시 역시군요. 과도한 도박은 당신의 삶을 해칩니다.\n",
            "통장에 남은 돈은 176000원 입니다.\n"
          ]
        }
      ]
    },
    {
      "cell_type": "code",
      "source": [
        "doggie.new_skill()"
      ],
      "metadata": {
        "colab": {
          "base_uri": "https://localhost:8080/"
        },
        "id": "5SyKbYXl6TEU",
        "outputId": "fba18aa1-9874-451d-c5b6-baa74f5aa53d"
      },
      "execution_count": 21,
      "outputs": [
        {
          "output_type": "stream",
          "name": "stdout",
          "text": [
            "하고싶은 새로운 일이 있습니까? (\"Yes\" 또는 \"No\"로 답해주세요): Yes\n",
            "무엇을 하고 싶습니까? : 과자먹기\n",
            "과자먹기이 내 skill set에 추가되었습니다.\n"
          ]
        }
      ]
    },
    {
      "cell_type": "code",
      "source": [
        "doggie.skill"
      ],
      "metadata": {
        "colab": {
          "base_uri": "https://localhost:8080/"
        },
        "id": "Cd7t2EzY6Zb8",
        "outputId": "c3e9d22c-5b65-4d4d-9f19-f1bc009b408b"
      },
      "execution_count": 22,
      "outputs": [
        {
          "output_type": "execute_result",
          "data": {
            "text/plain": [
              "{'과자먹기': 0, '수학': 1, '요리': 0, '청소': 0}"
            ]
          },
          "metadata": {},
          "execution_count": 22
        }
      ]
    },
    {
      "cell_type": "code",
      "source": [
        ""
      ],
      "metadata": {
        "id": "sLbPsLRi6sLM"
      },
      "execution_count": null,
      "outputs": []
    }
  ]
}