{
  "nbformat": 4,
  "nbformat_minor": 0,
  "metadata": {
    "colab": {
      "name": "02장 파이썬 프로그래밍의 기초, 자료형 - 1(숫자형, 문자열).ipynb",
      "private_outputs": true,
      "provenance": [],
      "authorship_tag": "ABX9TyObIqd3tHLOvwknB1EhClmy",
      "include_colab_link": true
    },
    "kernelspec": {
      "name": "python3",
      "display_name": "Python 3"
    },
    "language_info": {
      "name": "python"
    }
  },
  "cells": [
    {
      "cell_type": "markdown",
      "metadata": {
        "id": "view-in-github",
        "colab_type": "text"
      },
      "source": [
        "<a href=\"https://colab.research.google.com/github/PomesHouse/SkillTreePython/blob/main/02%EC%9E%A5_%ED%8C%8C%EC%9D%B4%EC%8D%AC_%ED%94%84%EB%A1%9C%EA%B7%B8%EB%9E%98%EB%B0%8D%EC%9D%98_%EA%B8%B0%EC%B4%88%2C_%EC%9E%90%EB%A3%8C%ED%98%95_1(%EC%88%AB%EC%9E%90%ED%98%95%2C_%EB%AC%B8%EC%9E%90%EC%97%B4).ipynb\" target=\"_parent\"><img src=\"https://colab.research.google.com/assets/colab-badge.svg\" alt=\"Open In Colab\"/></a>"
      ]
    },
    {
      "cell_type": "markdown",
      "source": [
        "#02장 파이썬 프로그래밍의 기초, 자료형\n",
        "\n",
        "\n"
      ],
      "metadata": {
        "id": "tRSM009xmFB4"
      }
    },
    {
      "cell_type": "markdown",
      "source": [
        "\n",
        "##02-1 숫자형 \n",
        "---\n",
        "####8진수와 16진수\n",
        "\n",
        "8진수(Octal): 숫자가 0o 또는 0O(숫자 0 + 알파벳 소문자 o 또는 대문자 O)로 시작\n",
        "\n",
        "```\n",
        "a = 0o177\n",
        "```\n",
        "16진수(Hexadecimal): 0x로 시작\n",
        "\n",
        "```\n",
        "a = 0x8ff\n",
        "b = 0xABC\n",
        "```"
      ],
      "metadata": {
        "id": "Y22ntEZUn5V3"
      }
    },
    {
      "cell_type": "markdown",
      "source": [
        "##02-2 문자열 자료형\n",
        "___\n",
        "\n",
        "###문자열 인덱싱\n",
        "'Pithon'이라는 문자열을 \"Python\"으로 바꾸려면?\n",
        "```\n",
        ">>> a = \"Pithon\"\n",
        ">>> a[1] = 'y'\n",
        "```\n",
        "위의 방법으로는 오류 발생.\n",
        "* 이유: 문자열의 요솟값은 바꿀 수 없다 (immutable한 자료형)\n",
        "* 방법: 슬라이싱 기법을 사용한다.\n",
        "\n",
        "```\n",
        ">>> a = \"Pithon\"\n",
        ">>> a[:1]\n",
        "'P'\n",
        ">>> a[2:]\n",
        "'thon'\n",
        ">>> a[:1] + 'y' + a[2:]\n",
        "'Python'\n",
        "```\n"
      ],
      "metadata": {
        "id": "MufSTUH9n9TP"
      }
    },
    {
      "cell_type": "markdown",
      "source": [
        "###포메팅 \n",
        "포매팅 연산자 %d와 %를 같이 쓸 때는 %%를 사용.\n",
        "```\n",
        ">>> \"Error is %d%.\" % 98\n",
        "```\n",
        "위의 방법으로는 오류 메세지가 뜬다. \n",
        "* 같은 문자열 안에 %d 같은 포매팅 연산자와 %가 함께 있는 경우, %를 나타내려면 반드시 %%로 써야 한다. \n",
        "\n",
        "```\n",
        ">>> \"Error is %d%%.\" % 98\n",
        "'Error is 98%.'\n",
        "\n",
        "```"
      ],
      "metadata": {
        "id": "H0oI0D2TrJue"
      }
    },
    {
      "cell_type": "markdown",
      "source": [
        "#### 포맷 코드와 숫자 함께 사용하기\n",
        "\n",
        "1. 정렬과 공백 \n",
        "\n",
        "```\n",
        ">>> \"%10s\" % \"hi\"\n",
        "'        hi'\n",
        "```\n",
        "전체 길이가 10개인 문자열 공간에 대입되는 값을 오른쪽으로 정렬. 그 앞의 나머지는 공백. \n",
        "\n",
        "```\n",
        ">>> \"%-10sjane.\" % 'hi'\n",
        "'hi        jane.\n",
        "```\n",
        "왼쪽 정렬\n",
        "\n",
        "2. 소수점 표현\n",
        "\n",
        "```\n",
        ">>> \"%0.4f\" % 3.42134234\n",
        "'3.4213'\n",
        "\n",
        "```\n",
        "소수점 네 번째 자리까지만\n",
        "\n",
        "```\n",
        ">>> \"%10.4f\" % 3.42134234\n",
        "'    3.4213'\n",
        "```\n",
        "소수점 네 번째 자리까지만 표시 + 전체 길이가 10개인 문자열 공간에서 오른쪽으로 정렬 \n"
      ],
      "metadata": {
        "id": "RutlAa0gtaiu"
      }
    },
    {
      "cell_type": "code",
      "source": [
        ""
      ],
      "metadata": {
        "id": "lFzJHlISu-2t"
      },
      "execution_count": null,
      "outputs": []
    }
  ]
}