{
  "nbformat": 4,
  "nbformat_minor": 0,
  "metadata": {
    "colab": {
      "name": "4-1. 조건문 _ if문.ipynb",
      "provenance": [],
      "collapsed_sections": [],
      "include_colab_link": true
    },
    "kernelspec": {
      "name": "python3",
      "display_name": "Python 3"
    },
    "language_info": {
      "name": "python"
    }
  },
  "cells": [
    {
      "cell_type": "markdown",
      "metadata": {
        "id": "view-in-github",
        "colab_type": "text"
      },
      "source": [
        "<a href=\"https://colab.research.google.com/github/PomesHouse/SkillTreePython/blob/main/4_1_%EC%A1%B0%EA%B1%B4%EB%AC%B8___if%EB%AC%B8.ipynb\" target=\"_parent\"><img src=\"https://colab.research.google.com/assets/colab-badge.svg\" alt=\"Open In Colab\"/></a>"
      ]
    },
    {
      "cell_type": "markdown",
      "source": [
        "# 4-1. 조건문 : if문\n",
        "---\n",
        "* 날짜:\n",
        "* 이름:"
      ],
      "metadata": {
        "id": "kB5IciXEm6o4"
      }
    },
    {
      "cell_type": "markdown",
      "source": [
        "## 개념정리\n",
        "---\n",
        "\n",
        "\n",
        "어떤 특정한 조건에서만 코드가 작동되게 하려면 어떻게 할까요? 파이썬의 경우에는 `if, elif, else` 를 이용하여 코드를 제어합니다. n가지 조건이 나열되어 있을 때 아래와 같이 `if, elif, else`를 배분합니다.\n",
        "\n",
        "\n",
        "```\n",
        "if 조건1:\n",
        "  조건1 만족시 작동\n",
        "elif 조건2:\n",
        "  조건2 만족시 작동\n",
        "...\n",
        "elif 조건n-1:\n",
        "  조건n-1 만족시 작동\n",
        "else:\n",
        "  조건 n 만족시 작동\n",
        "```"
      ],
      "metadata": {
        "id": "4iN8NFzHRJ2D"
      }
    },
    {
      "cell_type": "markdown",
      "source": [
        "### **(1) 기본 사용**\n",
        "\n",
        "간단한 if 문을 작성해 봅시다. if문 하나만으로도 코드를 작성할 수 있습니다. \n",
        "\n",
        "```\n",
        "a = 2\n",
        "\n",
        "if a==2: # a가 2라면 ,\n",
        "  print(\"if문의 영향을 받는 출력\") # 이 코드를 실행\n",
        "```"
      ],
      "metadata": {
        "id": "MAM8MDnfw68b"
      }
    },
    {
      "cell_type": "code",
      "source": [
        "a = 2\n",
        "if a == 2:\n",
        "    print('If문의 영향을 받는 출력')"
      ],
      "metadata": {
        "id": "qzaIeO6tSQsb",
        "colab": {
          "base_uri": "https://localhost:8080/"
        },
        "outputId": "af054f50-c429-4077-a867-abed1e4994bc"
      },
      "execution_count": null,
      "outputs": [
        {
          "output_type": "stream",
          "name": "stdout",
          "text": [
            "If문의 영향을 받는 출력\n"
          ]
        }
      ]
    },
    {
      "cell_type": "markdown",
      "source": [
        "#### **들여쓰기**\n",
        "\n",
        "if 문 아래의 `print` 코드는 몇칸을 뛴 후 작성한 것을 볼 수 있습니다. 이를 들여쓰기라고 합니다. 파이썬에서 들여쓰기 한 코드는 들여쓰기를 하기 전 코드의 영향력 아래에 있음을 의미합니다.\n",
        "\n",
        "따라서 위코드에서  `print(\"if문의 영향을 받는 출력\")` 이 부분은 if문의 영향을 받기 때문에 `a==1`일 때만 코드가 실행됩니다.\n",
        "\n",
        "만약 if문의 영향을 끝내고 싶다면 들여쓰기를 하지 않고 코드를 작성하면 됩니다.\n",
        "\n",
        "a 가 2가 아니지만 `print(\"if문의 영향을 받지 않는 출력\")` 줄은 if문의 영향을 받지 않기 때문에 a 값과 상관없이 출력이 됩니다.\n",
        "\n",
        "```\n",
        "a = 0\n",
        "\n",
        "if a==2: # a가 2라면 ,\n",
        "  print(\"if문의 영향을 받는 출력\") # 이 코드를 실행\n",
        "print(\"if문의 영향을 받지 않는 출력\") # 이 코드는 항상 실행됨\n",
        "\n",
        "```"
      ],
      "metadata": {
        "id": "iiBldnc8SdV6"
      }
    },
    {
      "cell_type": "code",
      "source": [
        "a = 0\n",
        "\n",
        "if a == 2:\n",
        "    print(\"If문의 영향을 받는 출력\")\n",
        "    print('계속 영향 받고 있는 출력')\n",
        "print('If문의 영향을 받지 않는 출력')"
      ],
      "metadata": {
        "id": "y3FK5KXTSVLF",
        "colab": {
          "base_uri": "https://localhost:8080/"
        },
        "outputId": "95b59735-eda0-40cb-ef6a-f8ba903d8e58"
      },
      "execution_count": null,
      "outputs": [
        {
          "output_type": "stream",
          "name": "stdout",
          "text": [
            "If문의 영향을 받지 않는 출력\n"
          ]
        }
      ]
    },
    {
      "cell_type": "markdown",
      "source": [
        "#### **`elif`**\n",
        "\n",
        "\n",
        "만약 조건을 더 추가하고 싶다면 `elif`를 사용합니다. 이제 조건은 더 세분화 할 수 있습니다.\n",
        "\n",
        "```\n",
        "a= 3\n",
        " \n",
        "if a ==2: # 첫번째 조건을 만족하면\n",
        "  print(\"첫번째 조건을 만족합니다.\") # 이 코드를 실행\n",
        "elif a==3: # 첫번째 조건이 아니라 두번째 조건을 만족하면\n",
        "  print(\"두번째 조건을 만족합니다.\") # 이 조건을 실행\n",
        "```\n"
      ],
      "metadata": {
        "id": "46u1an5GXDc3"
      }
    },
    {
      "cell_type": "code",
      "source": [
        "a = 3\n",
        "\n",
        "if a == 4:\n",
        "    print('a==2일때 출력')\n",
        "elif a == 3:\n",
        "    print('a==3일때 출력')\n",
        "\n",
        "# if에 해당하면 elif 를 보지 않고 넘어간다."
      ],
      "metadata": {
        "id": "gPQGwmiRVXyL",
        "colab": {
          "base_uri": "https://localhost:8080/"
        },
        "outputId": "aaaacbe0-2bb9-4aaf-f965-c4334f6efcce"
      },
      "execution_count": null,
      "outputs": [
        {
          "output_type": "stream",
          "name": "stdout",
          "text": [
            "a==3일때 출력\n"
          ]
        }
      ]
    },
    {
      "cell_type": "code",
      "source": [
        "a = 2\n",
        "\n",
        "if a == 2:\n",
        "    print('a==2일때 출력')\n",
        "elif a%2 == 0:\n",
        "    print('a==3일때 출력')\n"
      ],
      "metadata": {
        "colab": {
          "base_uri": "https://localhost:8080/"
        },
        "id": "SH2-stwVEobO",
        "outputId": "6d3d6a80-b1ce-4fe7-9969-875eaed53f08"
      },
      "execution_count": null,
      "outputs": [
        {
          "output_type": "stream",
          "name": "stdout",
          "text": [
            "a==2일때 출력\n"
          ]
        }
      ]
    },
    {
      "cell_type": "code",
      "source": [
        "a = 2\n",
        "\n",
        "if a == 2:\n",
        "    print('a==2일때 출력')\n",
        "if a%2 ==0:\n",
        "    print('a==3일때 출력')\n"
      ],
      "metadata": {
        "colab": {
          "base_uri": "https://localhost:8080/"
        },
        "id": "Hc6unDjxEokk",
        "outputId": "270ed427-c671-434e-8388-e843c7545c82"
      },
      "execution_count": null,
      "outputs": [
        {
          "output_type": "stream",
          "name": "stdout",
          "text": [
            "a==2일때 출력\n",
            "a==3일때 출력\n"
          ]
        }
      ]
    },
    {
      "cell_type": "markdown",
      "source": [
        "한번 더 조건을 더 추가 하고 싶나요? 마찬가지로 `elif`를 사용합니다. \n",
        "\n",
        "```\n",
        "a= 4\n",
        "\n",
        "if a ==2: # 첫번째 조건을 만족하면 \n",
        "  print(\"첫번째 조건을 만족합니다.\") # 이 코드를 실행\n",
        "elif a==3: # 첫번재 조건이 아니라 두번째 조건을 만족하면\n",
        "  print(\"두번째 조건을 만족합니다.\") # 이 코드를 실행\n",
        "elif a==4: # 첫번째, 두번째 조건이 아니라 세번째 조건을 만족하면\n",
        "  print(\"세번째 조건을 만족합니다.\") # 이 코드를 실행\n",
        "```\n"
      ],
      "metadata": {
        "id": "US4qWBR3ZYsk"
      }
    },
    {
      "cell_type": "code",
      "source": [
        "a= 4\n",
        "\n",
        "if a ==2:  \n",
        "  print(\"첫번째 조건을 만족합니다.\") \n",
        "elif a==3:\n",
        "  print(\"두번째 조건을 만족합니다.\") \n",
        "elif a==4: \n",
        "  print(\"세번째 조건을 만족합니다.\") "
      ],
      "metadata": {
        "id": "iqKBm-oZZad_",
        "colab": {
          "base_uri": "https://localhost:8080/"
        },
        "outputId": "675b1121-6e13-42f8-b5b3-a9c020da83eb"
      },
      "execution_count": null,
      "outputs": [
        {
          "output_type": "stream",
          "name": "stdout",
          "text": [
            "세번째 조건을 만족합니다.\n"
          ]
        }
      ]
    },
    {
      "cell_type": "markdown",
      "source": [
        "#### **`else`**\n",
        "\n",
        "정수는 무한이 많습니다. 2도 아니고, 3도 아니고, 4도 아닌 어느 조건에도 해당하지 않으면 `else`가 실행됩니다.\n",
        "\n",
        "```\n",
        "a= 100\n",
        "\n",
        "if a ==2: # 첫번째 조건을 만족하면 ,\n",
        "  print(\"첫번째 조건을 만족합니다.\") # 이 코드를 실행\n",
        "elif a==3: # 첫번재 조건이 아니라 두번째 조건을 만족하면,\n",
        "  print(\"두번째 조건을 만족합니다.\") # 이 코드를 실행\n",
        "elif a==4: # 첫번째, 두번째 조건이 아니라 세번째 조건을 만족하면,\n",
        "  print(\"세번째 조건을 만족합니다.\") # 이 코드를 실행\n",
        "else: # 어느 조건에도 해당하지 않으면,\n",
        "  print(\"어느 조건에도 해당하지 않습니다.\") # 이 코드를 실행\n",
        "```\n"
      ],
      "metadata": {
        "id": "LwqyhnqYZqd6"
      }
    },
    {
      "cell_type": "code",
      "source": [
        "a= 10\n",
        "\n",
        "if a ==2:  \n",
        "  print(\"첫번째 조건을 만족합니다.\") \n",
        "elif a==3:\n",
        "  print(\"두번째 조건을 만족합니다.\") \n",
        "elif a==4: \n",
        "  print(\"세번째 조건을 만족합니다.\") \n",
        "else: #조건 없다.\n",
        "    print('그 외 경우')"
      ],
      "metadata": {
        "id": "X6WumNNKZcwh",
        "colab": {
          "base_uri": "https://localhost:8080/"
        },
        "outputId": "3d5fc8dd-80e5-4bba-972d-6282a4215e8c"
      },
      "execution_count": null,
      "outputs": [
        {
          "output_type": "stream",
          "name": "stdout",
          "text": [
            "그 외 경우\n"
          ]
        }
      ]
    },
    {
      "cell_type": "markdown",
      "source": [
        "\n",
        "### **(2) 여러가지 조건문**\n",
        "\n"
      ],
      "metadata": {
        "id": "l5Mhn4qKZ83M"
      }
    },
    {
      "cell_type": "markdown",
      "source": [
        "#### **두개 이상의 조건**\n",
        "\n",
        "여기서 말하는 두개 이상의 조건은 한 if문에 `and`나 `or`로 연결된 다중 조건을 말합니다. 3의 배수를 생각해 봅시다. 3의 배수는 3으로 나누어 떨어집니다. 또한 3의 배수는 3부터 시작합니다. 따라서 이 두가지 조건을 같이 넣어 봅시다.\n",
        "\n",
        "```\n",
        "a = 12\n",
        "\n",
        "if a>=3 and a%3==0: # a가 3의 배수이면\n",
        "  print(f\"{a}는 3의 배수입니다\") # 이 코드를 실행\n",
        "```\n",
        "\n",
        "코드에서 보듯이 두가지 조건을 연결할 때는 `and` 를 사용합니다. 둘 중 어느 하나만이 아니라 두가지 조건을 모두 만족해야 if문이 실행됩니다."
      ],
      "metadata": {
        "id": "6eSFgbhWaJdw"
      }
    },
    {
      "cell_type": "code",
      "source": [
        "a = 12\n",
        "\n",
        "if a >=3 and a%3==0:\n",
        "    print(f'{a}는 3의 배수입니다.')"
      ],
      "metadata": {
        "id": "qXQmWJ6aZ0Sx",
        "colab": {
          "base_uri": "https://localhost:8080/"
        },
        "outputId": "73607056-6a5c-40bc-9748-259f6119a14c"
      },
      "execution_count": null,
      "outputs": [
        {
          "output_type": "stream",
          "name": "stdout",
          "text": [
            "12는 3의 배수입니다.\n"
          ]
        }
      ]
    },
    {
      "cell_type": "markdown",
      "source": [
        "#### **이중 if 문**\n",
        "\n",
        "\n",
        "if문 내에 if 문이 들어가 있을 때를 얘기합니다. 이중 if문뿐 아니라 삼중, 사중, 그 이상도 가능합니다. (실제로 잘 사용되지는 않습니다.)\n",
        "\n",
        "```\n",
        "a = 12\n",
        "\n",
        "if a<100: # a가 100보다 작고, \n",
        "  if a%2==0: # a가 2로 나누어 떨어지면,\n",
        "    print(\"짝수입니다.\") # 이 코드를 실행\n",
        "else:  # a가 100보다 크면\n",
        "  print(\"입력숫자초과\") # 이 코드를 실행\n",
        "```"
      ],
      "metadata": {
        "id": "-sGSZzeGaSTo"
      }
    },
    {
      "cell_type": "code",
      "source": [
        "a = 12\n",
        "\n",
        "if a < 1000:\n",
        "    if a%2 == 0 :\n",
        "        print('짝수입니다.')\n",
        "else: \n",
        "    print('입력숫자초과')\n",
        "\n"
      ],
      "metadata": {
        "id": "zXboSnyHbHab",
        "colab": {
          "base_uri": "https://localhost:8080/"
        },
        "outputId": "e715fde2-6142-4976-87ce-b256dc950ddf"
      },
      "execution_count": null,
      "outputs": [
        {
          "output_type": "stream",
          "name": "stdout",
          "text": [
            "짝수입니다.\n"
          ]
        }
      ]
    },
    {
      "cell_type": "markdown",
      "source": [
        "### **(3) `if True:`/ `if False:`** "
      ],
      "metadata": {
        "id": "rKbgEKwJbINj"
      }
    },
    {
      "cell_type": "markdown",
      "source": [
        "if문의 조건으로 들어간 `<`, `==` 등의 기호는 산술연산자로서 우리는 이미 앞에서 산술연산자에 대해서 배웠습니다. \n",
        "\n",
        "산술연산자의 결과로 `True` 혹은 `False` 라는 `bool` 값이 나오게 되기 때문에 위에서 우리가 작성한 if문 줄은 `if True:` 혹은 `if False`와 동일합니다.\n",
        "\n",
        "이 말은 `if True` 일 때는 그 아래 코드가 실행이 되고 `if False` 일 때는 그 아래 코드가 실행 되지 않음을 의미합니다.\n",
        "\n",
        "```\n",
        "if True:\n",
        "  print(\"무조건 실행이 됩니다.\")\n",
        "\n",
        "if False:\n",
        "  print(\"무조건 실행이 되지 않습니다.\")\n",
        "```\n",
        "\n"
      ],
      "metadata": {
        "id": "40tGdKqla0D3"
      }
    },
    {
      "cell_type": "code",
      "source": [
        "if True:  # if 다음에는 bool값 \n",
        "  print(\"무조건 실행이 됩니다.\")\n",
        "\n",
        "if False:\n",
        "  print(\"무조건 실행이 되지 않습니다.\")"
      ],
      "metadata": {
        "id": "2b2Zcj5FcI2k"
      },
      "execution_count": null,
      "outputs": []
    },
    {
      "cell_type": "markdown",
      "source": [
        "\n",
        "따라서 if문에는 bool값을 모두 조건문으로 사용할 수 있습니다.  우리는 앞서 `bool` 값을 반환하는 또 다른 연산자들을 배워 봤습니다. 그 중 `is`, `is not`을 이용해 코드를 작성해 보겠습니다.\n",
        "\n",
        "\n",
        "```\n",
        "a = 10\n",
        "b = 10.0\n",
        "\n",
        "if a is b:\n",
        "  print(\"a와 b는 동일\")\n",
        "```"
      ],
      "metadata": {
        "id": "lCOowsEGcI7u"
      }
    },
    {
      "cell_type": "code",
      "source": [
        "a = 10\n",
        "b = 10.0\n",
        "\n",
        "if a is b:\n",
        "  print(\"a와 b는 동일\")\n",
        "if a is not b:\n",
        "    print('a와 b는 다르다')"
      ],
      "metadata": {
        "id": "Uzczw78BfTsH",
        "colab": {
          "base_uri": "https://localhost:8080/"
        },
        "outputId": "230e23d6-b199-4ba3-de85-f5a97e4b67e1"
      },
      "execution_count": null,
      "outputs": [
        {
          "output_type": "stream",
          "name": "stdout",
          "text": [
            "a와 b는 다르다\n"
          ]
        }
      ]
    },
    {
      "cell_type": "markdown",
      "source": [
        "출력이 되나요? `is`는 데이터 타입까지 같아야 `True`라고 하였습니다. 따라서 출력이 되지 않는게 맞습니다."
      ],
      "metadata": {
        "id": "m3uzd_GqfU8O"
      }
    },
    {
      "cell_type": "markdown",
      "source": [
        "#### **`in`, `not in`**\n",
        "\n",
        "우리가 `bool` 시간에 배우지 않은 연산자가 있습니다. 바로 `in`과 `not in` 입니다. 파이썬의 다양한 군집 자료형 안에 특정 요소가 들어있는지, 아닌지를 판별할 수 있는 유용한 연산자 입니다.\n",
        "\n",
        "* `a in s` : 군집 자료형 `s` 안에 요소 `a`가 존재\n",
        "* `a not in s` : 군집 자료형 `s` 안에 요소 'a`가 존재하지 않음.\n",
        "\n",
        "```\n",
        "s= [1,2,3]\n",
        "a = 2\n",
        "\n",
        "if a in s:\n",
        "  print(f\"{a} 가 {s}에 존재합니다.\")\n",
        "```"
      ],
      "metadata": {
        "id": "ypphueHcfmYy"
      }
    },
    {
      "cell_type": "code",
      "source": [
        "s = [1,2,3]\n",
        "a = 2\n",
        "\n",
        "if a in s:\n",
        "    print(f'{a} is in {s}')"
      ],
      "metadata": {
        "id": "NBhc0GUUgTKF",
        "colab": {
          "base_uri": "https://localhost:8080/"
        },
        "outputId": "49af7a77-d16f-4ac4-9918-54bec3888139"
      },
      "execution_count": null,
      "outputs": [
        {
          "output_type": "stream",
          "name": "stdout",
          "text": [
            "2 is in [1, 2, 3]\n"
          ]
        }
      ]
    },
    {
      "cell_type": "markdown",
      "source": [
        "#### 'pass'\n",
        "\n",
        "조건문을 작성했으나, 조건에  해당하는 코드를 작성할 필요가 없을 때 사용한다."
      ],
      "metadata": {
        "id": "-5BuqYQ1fqQx"
      }
    },
    {
      "cell_type": "code",
      "source": [
        "a = 100\n",
        "\n",
        "if a > 100:\n",
        "    print('Greater than 100')\n",
        "elif a < 100:\n",
        "    pass\n",
        "else:\n",
        "    print('It is 100')"
      ],
      "metadata": {
        "colab": {
          "base_uri": "https://localhost:8080/"
        },
        "id": "iyux1Wsmf6zJ",
        "outputId": "eb4e3275-9e1a-4fbb-f395-2795b61980a2"
      },
      "execution_count": null,
      "outputs": [
        {
          "output_type": "stream",
          "name": "stdout",
          "text": [
            "It is 100\n"
          ]
        }
      ]
    },
    {
      "cell_type": "markdown",
      "source": [
        "\n",
        "### **(3) 삼항 연산자**\n",
        "\n",
        "조건문과 같은 기능을 하는 연산자입니다.  상황에 맞게 잘 사용한다면 코드 길이를 효과적으로 줄일 수 있습니다.\n",
        "\n",
        "\n",
        "```\n",
        "# 조건문\n",
        "if(1) 조건:(2)\n",
        "  조건이참일때코드(3)\n",
        "else:(4)\n",
        "  조건거짓일때코드(5)\n",
        "\n",
        "# 삼항 연산자\n",
        "조건참일때코드  if   조건   else   조건거짓일때코드\n",
        "       (3)      (1)   (2)    (4)       (5)\n",
        "```\n",
        "\n",
        "아래 코드를 삼항 연산자로 변환해 봅시다.\n",
        "\n",
        "```\n",
        "a = 2\n",
        "\n",
        "if a==2: \n",
        "  print(\"a는 2다.\") \n",
        "else:\n",
        "  print(\"a는 2가 아니다.\") \n",
        "```\n",
        "\n",
        "변환결과\n",
        "\n",
        "```\n",
        "a = 2\n",
        "print(\"a는 2다.\") if a==2 else print(\"a는 2가 아니다.\")\n",
        "```"
      ],
      "metadata": {
        "id": "MddSbtGuaYiD"
      }
    },
    {
      "cell_type": "code",
      "source": [
        "# 먼저 첫 조건의 내용을 쓴다. \n",
        "a = 10\n",
        "print('a is 2') if a == 2 else print('a is not b')"
      ],
      "metadata": {
        "id": "HVDwjdH2aMFj",
        "colab": {
          "base_uri": "https://localhost:8080/"
        },
        "outputId": "28090263-b4d9-471f-9453-11a3decbbb10"
      },
      "execution_count": null,
      "outputs": [
        {
          "output_type": "stream",
          "name": "stdout",
          "text": [
            "a is not b\n"
          ]
        }
      ]
    },
    {
      "cell_type": "markdown",
      "source": [
        "## 문제 풀이\n",
        "---\n",
        "\n"
      ],
      "metadata": {
        "id": "i0_nVSq-ahHr"
      }
    },
    {
      "cell_type": "markdown",
      "source": [
        "**예제 01**\n",
        "\n",
        "아래 코드의 실행결과를 예측하고 직접 실행해보세요\n",
        "\n",
        "```\n",
        "if True:\n",
        "    print(\"Hello World\")\n",
        "```"
      ],
      "metadata": {
        "id": "cxHw7Eqwah07"
      }
    },
    {
      "cell_type": "code",
      "source": [
        "# Hello World\n",
        "if True:\n",
        "    print(\"Hello World\")\n"
      ],
      "metadata": {
        "colab": {
          "base_uri": "https://localhost:8080/"
        },
        "id": "-oDlGZTMhQFA",
        "outputId": "77350794-ba37-42d9-cbad-91b00737b006"
      },
      "execution_count": null,
      "outputs": [
        {
          "output_type": "stream",
          "name": "stdout",
          "text": [
            "Hello World\n"
          ]
        }
      ]
    },
    {
      "cell_type": "markdown",
      "source": [
        "\n",
        "**예제 02**\n",
        "\n",
        "아래 코드의 실행결과를 예측하고 직접 실행해보세요\n",
        "\n",
        "```\n",
        "if False:\n",
        "    print(\"Hello World\")\n",
        "```\n"
      ],
      "metadata": {
        "id": "mbDRyjksgi9s"
      }
    },
    {
      "cell_type": "code",
      "source": [
        "#\n",
        "if False:\n",
        "    print(\"Hello World\")"
      ],
      "metadata": {
        "id": "7bAzT2FQhWMo"
      },
      "execution_count": null,
      "outputs": []
    },
    {
      "cell_type": "markdown",
      "source": [
        "\n",
        "**예제 03**\n",
        "\n",
        "아래 코드의 실행결과를 예측하고 직접 실행해보세요\n",
        "```\n",
        "if True:\n",
        "    print(\"Hello World\")\n",
        "else\n",
        "    print(\"else\")\n",
        "```"
      ],
      "metadata": {
        "id": "QNTlcFQxgjdK"
      }
    },
    {
      "cell_type": "code",
      "source": [
        "# Hello World\n",
        "if True:\n",
        "    print(\"Hello World\")\n",
        "else:\n",
        "    print(\"else\")"
      ],
      "metadata": {
        "colab": {
          "base_uri": "https://localhost:8080/"
        },
        "id": "x12Ma9mQhatf",
        "outputId": "871b09e7-9e5f-4ffe-8ff9-060728f1ab68"
      },
      "execution_count": null,
      "outputs": [
        {
          "output_type": "stream",
          "name": "stdout",
          "text": [
            "Hello World\n"
          ]
        }
      ]
    },
    {
      "cell_type": "markdown",
      "source": [
        "**예제 04**\n",
        "\n",
        "아래 코드의 실행결과를 예측하고 직접 실행해보세요\n",
        "\n",
        "```\n",
        "if False:\n",
        "    print(\"Hello World\")\n",
        "else\n",
        "    print(\"else\")\n",
        "```\n"
      ],
      "metadata": {
        "id": "1GB2dx6sgks-"
      }
    },
    {
      "cell_type": "code",
      "source": [
        "# else\n",
        "if False:\n",
        "    print(\"Hello World\")\n",
        "else:\n",
        "    print(\"else\")"
      ],
      "metadata": {
        "colab": {
          "base_uri": "https://localhost:8080/"
        },
        "id": "qI1ZBW_qhhMQ",
        "outputId": "8e4dd6ff-1b95-421b-bb90-c975bfecade9"
      },
      "execution_count": null,
      "outputs": [
        {
          "output_type": "stream",
          "name": "stdout",
          "text": [
            "else\n"
          ]
        }
      ]
    },
    {
      "cell_type": "markdown",
      "source": [
        "**예제 05**\n",
        "\n",
        "아래 코드의 실행결과를 예측하고 직접 실행해보세요\n",
        "```\n",
        "if 4 < 3:\n",
        "    print(\"Hello World.\")\n",
        "else:\n",
        "    print(\"Hi, there.\")\n",
        "```"
      ],
      "metadata": {
        "id": "a7t3w6UMgmI1"
      }
    },
    {
      "cell_type": "code",
      "source": [
        "# Hi, there.\n",
        "if 4 < 3:\n",
        "    print(\"Hello World.\")\n",
        "else:\n",
        "    print(\"Hi, there.\")"
      ],
      "metadata": {
        "colab": {
          "base_uri": "https://localhost:8080/"
        },
        "id": "sV0Sn5eshmOg",
        "outputId": "ce846ccb-d6d9-41de-fc06-947bc58953c5"
      },
      "execution_count": null,
      "outputs": [
        {
          "output_type": "stream",
          "name": "stdout",
          "text": [
            "Hi, there.\n"
          ]
        }
      ]
    },
    {
      "cell_type": "markdown",
      "source": [
        "\n",
        "**예제 06**\n",
        "\n",
        "아래 코드의 실행결과를 예측하고 직접 실행해보세요\n",
        "```\n",
        "if True :\n",
        "    print (\"1\")\n",
        "    print (\"2\")\n",
        "else :\n",
        "    print(\"3\")\n",
        "print(\"4\")\n",
        "```"
      ],
      "metadata": {
        "id": "bZKHjuuYgoSO"
      }
    },
    {
      "cell_type": "code",
      "source": [
        "# 1\n",
        "# 2\n",
        "# 4\n",
        "if True :\n",
        "    print (\"1\")\n",
        "    print (\"2\")\n",
        "else :\n",
        "    print(\"3\")\n",
        "print(\"4\")"
      ],
      "metadata": {
        "colab": {
          "base_uri": "https://localhost:8080/"
        },
        "id": "-KwKBmQ9hruY",
        "outputId": "b341c142-3c92-4bcf-aacc-d77f97916bf5"
      },
      "execution_count": null,
      "outputs": [
        {
          "output_type": "stream",
          "name": "stdout",
          "text": [
            "1\n",
            "2\n",
            "4\n"
          ]
        }
      ]
    },
    {
      "cell_type": "markdown",
      "source": [
        "**예제 07**\n",
        "\n",
        "아래 코드의 실행결과를 예측하고 직접 실행해보세요\n",
        "```\n",
        "if True :\n",
        "    if False:\n",
        "        print(\"1\")\n",
        "        print(\"2\")\n",
        "    else:\n",
        "        print(\"3\")\n",
        "else :\n",
        "    print(\"4\")\n",
        "print(\"5\")\n",
        "\n",
        "```"
      ],
      "metadata": {
        "id": "hzyVRikUgpwD"
      }
    },
    {
      "cell_type": "code",
      "source": [
        "# 3\n",
        "# 5\n",
        "if True :\n",
        "    if False:\n",
        "        print(\"1\")\n",
        "        print(\"2\")\n",
        "    else:\n",
        "        print(\"3\")\n",
        "else :\n",
        "    print(\"4\")\n",
        "print(\"5\")"
      ],
      "metadata": {
        "colab": {
          "base_uri": "https://localhost:8080/"
        },
        "id": "9iMeekoxh1Zf",
        "outputId": "859ac587-b8ae-4b95-9e09-c3f96054a811"
      },
      "execution_count": null,
      "outputs": [
        {
          "output_type": "stream",
          "name": "stdout",
          "text": [
            "3\n",
            "5\n"
          ]
        }
      ]
    },
    {
      "cell_type": "markdown",
      "source": [
        "**예제 08**\n",
        "\n",
        "입력된 문자열의 길이가 3보다 크면 \"TRUE!\"를 출력하고 그렇지 않으면 'FALSE!'이라는 문자열을 출력하는 코드를 작성하세요. 입력은 내장함수 `input()`를 사용하세요.\n"
      ],
      "metadata": {
        "id": "Gwu5n-oDgqyg"
      }
    },
    {
      "cell_type": "code",
      "source": [
        "s = input()\n",
        "if len(s) > 3:\n",
        "    print(\"TRUE!\")\n",
        "else:\n",
        "    print(\"FALSE!\")"
      ],
      "metadata": {
        "colab": {
          "base_uri": "https://localhost:8080/"
        },
        "id": "HUY8nAkYh9AI",
        "outputId": "4cd99901-cfbe-48fe-c3c6-084488e40480"
      },
      "execution_count": null,
      "outputs": [
        {
          "output_type": "stream",
          "name": "stdout",
          "text": [
            "hi\n",
            "FALSE!\n"
          ]
        }
      ]
    },
    {
      "cell_type": "markdown",
      "source": [
        "**예제 09**\n",
        "\n",
        "입력된 정수값이 짝수이거나 10보다 낮으면 \"target!\" 그렇지 않으면 \"pass\" 라는 문자열을 출력하는 코드를 작성하세요. 입력은 내장함수 `input()`를 사용하세요."
      ],
      "metadata": {
        "id": "9Du9uUgLgta3"
      }
    },
    {
      "cell_type": "code",
      "source": [
        "n = int(input())\n",
        "\n",
        "if (n%2 == 0) or (n < 10):\n",
        "    print('target!')\n",
        "else:\n",
        "    print(\"pass\")"
      ],
      "metadata": {
        "colab": {
          "base_uri": "https://localhost:8080/"
        },
        "id": "KN6JyV0MiRfw",
        "outputId": "070dd35b-ba61-419c-cddd-48eb97d28e13"
      },
      "execution_count": null,
      "outputs": [
        {
          "output_type": "stream",
          "name": "stdout",
          "text": [
            "14\n",
            "target!\n"
          ]
        }
      ]
    },
    {
      "cell_type": "markdown",
      "source": [
        "**예제 10**\n",
        "\n",
        "\n",
        "0에서 100까지의 정수 `n`을 입력받습니다. 만약 범위에 해당하지 않는 정수를 입력하면 에러 메시지를 보내고 종료됩니다. 제대로 입력하였으면 정수 n에 10을 빼고 출력합니다. 만약 10을 뺀 값이 0보다 작으면 0을 출력하세요\n",
        "\n",
        "\n",
        "* 예시\n",
        "```\n",
        ">> n을 입력하세요: 50\n",
        "40\n",
        "```\n",
        "\n",
        "* 예시\n",
        "```\n",
        ">> n을 입력하세요: 5\n",
        "0\n",
        "```\n",
        "\n",
        "* 예시\n",
        "```\n",
        ">> n을 입력하세요: 200\n",
        "잘못된 숫자입니다.\n",
        "```\n"
      ],
      "metadata": {
        "id": "61JVxwMVgvMh"
      }
    },
    {
      "cell_type": "code",
      "source": [
        "n = int(input('n을 입력하세요: '))\n",
        "if ( 0 <= n <= 100):\n",
        "    if n - 10  >= 0 :\n",
        "        print( n - 10)\n",
        "    else:\n",
        "        print(0)\n",
        "else:\n",
        "    print('잘못된 숫자입니다.')\n"
      ],
      "metadata": {
        "colab": {
          "base_uri": "https://localhost:8080/"
        },
        "id": "BeEOoixCiu-o",
        "outputId": "9ed1e5ff-0454-41c9-b451-e61d2576b4e9"
      },
      "execution_count": null,
      "outputs": [
        {
          "output_type": "stream",
          "name": "stdout",
          "text": [
            "n을 입력하세요: 200\n",
            "잘못된 숫자입니다.\n"
          ]
        }
      ]
    },
    {
      "cell_type": "markdown",
      "source": [
        "**예제 11**\n",
        "\n",
        "사용자로부터 문자열을 입력받고 옵션에 따라 대문자 또는 소문자로 변경하는 함수를 작성하세요\n",
        "\n",
        "* 예시\n",
        "```\n",
        ">> change_str(\"aBc\")\n",
        "ABC\n",
        "```\n",
        "\n",
        "* 예시\n",
        "```\n",
        ">> change_str(\"aBc\", opt='up')\n",
        "ABC\n",
        "```\n",
        "\n",
        "* 예시\n",
        "```\n",
        ">> change_str(\"aBc\", opt='down')\n",
        "abc\n",
        "```"
      ],
      "metadata": {
        "id": "RKC26VgahIGt"
      }
    },
    {
      "cell_type": "code",
      "source": [
        "def change_str(input, opt = 'up'):\n",
        "    if opt == 'up':\n",
        "        print(input.upper()) # a.upper()\n",
        "    if opt == 'down':\n",
        "        print(input.lower()) # a.lower()\n",
        "change_str(\"aBc\")\n",
        "change_str(\"aBc\", opt='up')\n",
        "change_str(\"aBc\", opt='down')  \n"
      ],
      "metadata": {
        "colab": {
          "base_uri": "https://localhost:8080/"
        },
        "id": "ZEtMdNUxjowQ",
        "outputId": "2ab87109-182a-45a6-fda0-01e00722dd06"
      },
      "execution_count": null,
      "outputs": [
        {
          "output_type": "stream",
          "name": "stdout",
          "text": [
            "ABC\n",
            "ABC\n",
            "abc\n"
          ]
        }
      ]
    },
    {
      "cell_type": "markdown",
      "source": [
        "**예제 12**\n",
        "\n",
        "학점표를 보고 점수에 따른 학점을 출력하는 함수를 작성하세요\n",
        "\n",
        "|점수|학점|\n",
        "--|--\n",
        "70~100|A\n",
        "30~70 |B\n",
        "0~30 | C\n",
        "\n",
        "* 예시\n",
        "```\n",
        ">> cal_grade(50)\n",
        "학점은 B 입니다.\n",
        "```"
      ],
      "metadata": {
        "id": "bbUSm7Pm0ecC"
      }
    },
    {
      "cell_type": "code",
      "source": [
        "def cal_grade(input):\n",
        "    if 100 >= input >= 70:\n",
        "        print('학점은 A 입니다.')\n",
        "    elif 70 > input >= 30:\n",
        "        print('학점은 B 입니다.')\n",
        "    elif 30> input >= 0:\n",
        "        print('학점은 C 입니다.')\n",
        "cal_grade(50)\n",
        "cal_grade(30)\n",
        "cal_grade(70)"
      ],
      "metadata": {
        "colab": {
          "base_uri": "https://localhost:8080/"
        },
        "id": "aqrYtopIkphv",
        "outputId": "775be7f6-d9fa-4a74-9737-0b3a9b498c8e"
      },
      "execution_count": null,
      "outputs": [
        {
          "output_type": "stream",
          "name": "stdout",
          "text": [
            "학점은 B 입니다.\n",
            "학점은 B 입니다.\n",
            "학점은 A 입니다.\n"
          ]
        }
      ]
    },
    {
      "cell_type": "markdown",
      "source": [
        "**예제 13**\n",
        "\n",
        "주민등록번호 뒷자리의 첫번째 번호를 통해 남여를 구분하세요(1,3 남/ 2,4 여) 만약 주민번호의 규격이 맞지 않으면 에러메시지를 출력하는 코드를 작성하세요. 인풋은 내장함수 `input()`로 받습니다.\n",
        "\n",
        "* 예시\n",
        "```\n",
        ">> 주민번호를 입력하세요: 101010-1010101\n",
        "남성입니다. \n",
        "```\n",
        "\n",
        "* 예시\n",
        "```\n",
        ">> 주민번호를 입력하세요: 101010-101\n",
        "주민번호가 올바르지 않습니다.\n",
        "```"
      ],
      "metadata": {
        "id": "hsVvXoNq0lw1"
      }
    },
    {
      "cell_type": "code",
      "source": [
        "id = input('주민번호를 입력하세요: ').split('-')\n",
        "\n",
        "if len(id[0]) == 6 and len(id[1]) == 7:\n",
        "    if id[1].startswith('1')or id[1].startswith('3'):  \n",
        "        #startswith() ()안에 '1' or '3' 하니까 오류는 안뜨는데 입력값이 3으로 시작하는 경우 '남성입니다'가 실행이 되지 않는다. \n",
        "        print('남성입니다.')\n",
        "    if id[1].startswith ('2') or id[1].startswith('4'):\n",
        "        print('여성입니다.')\n",
        "else:\n",
        "    print('주민번호가 올바르지 않습니다.')"
      ],
      "metadata": {
        "colab": {
          "base_uri": "https://localhost:8080/"
        },
        "id": "qKz6i17rlAeJ",
        "outputId": "f5d308cc-d7a9-430a-c523-1d2f8f1edef0"
      },
      "execution_count": null,
      "outputs": [
        {
          "output_type": "stream",
          "name": "stdout",
          "text": [
            "주민번호를 입력하세요: 101010-4000000\n",
            "여성입니다.\n"
          ]
        }
      ]
    },
    {
      "cell_type": "code",
      "source": [
        "# indexing 사용해서 하는 방법\n",
        "id = input('주민번호를 입력하세요: ').split('-')\n",
        "\n",
        "if len(id[0]) == 6 and len(id[1]) == 7:\n",
        "    if id[1][0] == '1'or id[1][0] =='3': \n",
        "        # == '1' or '3' 하니까 오류는 안뜨는데 입력값이 3으로 시작하는 경우 '남성입니다'가 실행이 되지 않는다. \n",
        "        print('남성입니다.')\n",
        "    if id[1][0] == '2' or id[1][0] =='4':\n",
        "        print('여성입니다.')\n",
        "else:\n",
        "    print('주민번호가 올바르지 않습니다.')"
      ],
      "metadata": {
        "colab": {
          "base_uri": "https://localhost:8080/"
        },
        "id": "uIo6apnx4Z_e",
        "outputId": "c39f938b-5031-4fd7-e969-bae2d98c27ad"
      },
      "execution_count": null,
      "outputs": [
        {
          "output_type": "stream",
          "name": "stdout",
          "text": [
            "주민번호를 입력하세요: 11\n",
            "주민번호가 올바르지 않습니다.\n"
          ]
        }
      ]
    },
    {
      "cell_type": "markdown",
      "source": [
        "**예제 14**\n",
        "\n",
        "자판기 함수를 생성합니다. 조건은 아래와 같습니다.\n",
        "\n",
        "- 음료수 종류와 가격이 적힌 메뉴판을 출력합니다.(최소 3가지 이상의 음료 종류를 딕셔너리 형태로 저장하세요)\n",
        "- 음료수 종류를 입력받고 가격을 안내합니다.\n",
        "- 금액을 입력받습니다.\n",
        "- 금액이 충분하면 음료수와 거스름돈을 반환하는 메시지를 출력합니다.\n",
        "- 금액이 불충분하면 금액을 반환하는 메시지를 출력합니다.\n"
      ],
      "metadata": {
        "id": "-ya-B4m20tmB"
      }
    },
    {
      "cell_type": "code",
      "source": [
        "############### 만약 잘못된 음료수를 입력했다면?\n",
        "def vending():\n",
        "    menu = {'Americano':4000, 'Latte':5000, 'Ade': 3000}\n",
        "    print(menu)\n",
        "    dr = input('Please choose your drink : ')\n",
        "    print(f'{dr} is {menu[dr]}won.')\n",
        "    pay = int(input('Please make a payment : '))\n",
        "    if pay >= menu[dr]:\n",
        "            if pay > menu[dr]:\n",
        "                print(f'Here is your {dr}. Your change is {pay - menu[dr]}won.')\n",
        "            else:\n",
        "                print(f'Here is your {dr}')\n",
        "    else:\n",
        "        print(f'Not enough cash. Your change is {pay}won.')\n",
        "\n",
        "vending()"
      ],
      "metadata": {
        "colab": {
          "base_uri": "https://localhost:8080/"
        },
        "id": "O0tqks00nafO",
        "outputId": "1e135c9d-deb1-437c-e0ad-40a54d79ed4c"
      },
      "execution_count": null,
      "outputs": [
        {
          "output_type": "stream",
          "name": "stdout",
          "text": [
            "{'Americano': 4000, 'Latte': 5000, 'Ade': 3000}\n",
            "Please choose your drink : Ade\n",
            "Ade is 3000won.\n",
            "Please make a payment : 4500\n",
            "Here is your Ade. Your change is 1500won.\n"
          ]
        }
      ]
    },
    {
      "cell_type": "markdown",
      "source": [
        "\n",
        "**예제 15**\n",
        "\n",
        "두 수를 비교하는 함수를 만듭니다.\n",
        "\n",
        "* 예시\n",
        "```\n",
        ">> comp_ab(1,2)\n",
        "1<2\n",
        "```\n",
        "\n",
        "* 예시\n",
        "```\n",
        ">> comp_ab(2,1)\n",
        "2>1\n",
        "```\n",
        "\n",
        "* 예시\n",
        "```\n",
        ">> comp_ab(1,1)\n",
        "1==1\n",
        "```\n"
      ],
      "metadata": {
        "id": "CH2QLyAB0u26"
      }
    },
    {
      "cell_type": "code",
      "source": [
        "def comp_ab(a, b):\n",
        "    if a < b:\n",
        "        print(f'{a} < {b}')\n",
        "    elif a > b:\n",
        "         print(f'{a} > {b}')\n",
        "    else:\n",
        "         print(f'{a} == {b}')\n",
        "comp_ab(1,2)\n",
        "comp_ab(2,1)\n",
        "comp_ab(1,1)"
      ],
      "metadata": {
        "colab": {
          "base_uri": "https://localhost:8080/"
        },
        "id": "e2KMBojns4o_",
        "outputId": "76f59e54-4b78-4689-a8fa-b05268d53a5c"
      },
      "execution_count": null,
      "outputs": [
        {
          "output_type": "stream",
          "name": "stdout",
          "text": [
            "1 < 2\n",
            "2 > 1\n",
            "1 == 1\n"
          ]
        }
      ]
    },
    {
      "cell_type": "markdown",
      "source": [
        "**예제 16**\n",
        "\n",
        "아래 두개의 조건중 하나라도 만족하는 숫자를 입력하면 \"target\", 그렇지 않으면 \"pass\"를 출력하는 함수를 작성하세요\n",
        "\n",
        "- 3의 배수이면서, 5의 배수가 아닐때\n",
        "- 10의 배수일 때\n",
        "\n",
        "```\n",
        ">> target_num(15)\n",
        "pass\n",
        "```\n",
        "\n",
        "```\n",
        ">> target_num(150)\n",
        "target\n",
        "```"
      ],
      "metadata": {
        "id": "5LebGsgu06CO"
      }
    },
    {
      "cell_type": "code",
      "source": [
        "################# 0 인경우 다시 생각해보기\n",
        "def target_num(input):\n",
        "    if ((input%3 == 0) and (input%5 != 0)) or (input%10 == 0):\n",
        "        print('target')\n",
        "    else:\n",
        "        print('pass')\n",
        "target_num(15)\n",
        "target_num(150)"
      ],
      "metadata": {
        "colab": {
          "base_uri": "https://localhost:8080/"
        },
        "id": "ZoFgSgNTtYxn",
        "outputId": "46775fe2-b9c4-454e-f205-f7b714220b59"
      },
      "execution_count": null,
      "outputs": [
        {
          "output_type": "stream",
          "name": "stdout",
          "text": [
            "pass\n",
            "target\n"
          ]
        }
      ]
    },
    {
      "cell_type": "markdown",
      "source": [
        "**예제 17**\n",
        "\n",
        "두개의 정수값을 받아서 몇사분면에 위치해 있는지, 혹은 x축, y축,  원점 위에 있는지 판단하는 함수를 작성하세요\n",
        "\n",
        "* 예시\n",
        "```\n",
        ">> which_plane(1,1)\n",
        "1사분면에 있습니다.\n",
        "```\n",
        "* 예시\n",
        "```\n",
        ">> which_plane(0,0)\n",
        "원점에 있습니다.\n",
        "```"
      ],
      "metadata": {
        "id": "_9ygEJmV0_wy"
      }
    },
    {
      "cell_type": "code",
      "source": [
        "def which_plane(x, y):\n",
        "    if  x == y == 0:\n",
        "        print('원점에 있습니다.')\n",
        "    elif x == 0:\n",
        "        print('y축 위에 있습니다.')\n",
        "    elif y == 0:\n",
        "        print('x축 위에 있습니다.')\n",
        "    elif x > 0 and y > 0:\n",
        "        print('1사분면에 있습니다.')\n",
        "    elif x < 0 and y > 0:\n",
        "        print('2사분면에 있습니다.')\n",
        "    elif x < 0 and y < 0 :\n",
        "        print('3사분면에 있습니다.')\n",
        "    else:\n",
        "        print('4사분면에 있습니다.')\n",
        "\n",
        "which_plane(0,0)\n",
        "which_plane(0,15)\n",
        "which_plane(15,0)\n",
        "which_plane(200,11) \n",
        "which_plane(-13,4)\n",
        "which_plane(-1,-1)\n",
        "which_plane(45,-1) "
      ],
      "metadata": {
        "colab": {
          "base_uri": "https://localhost:8080/"
        },
        "id": "qZ_DwbQouSIG",
        "outputId": "9f9d7b07-6831-4bcb-eab3-e6a6c93c79a4"
      },
      "execution_count": null,
      "outputs": [
        {
          "output_type": "stream",
          "name": "stdout",
          "text": [
            "원점에 있습니다.\n",
            "y축 위에 있습니다.\n",
            "x축 위에 있습니다.\n",
            "1사분면에 있습니다.\n",
            "2사분면에 있습니다.\n",
            "3사분면에 있습니다.\n",
            "4사분면에 있습니다.\n"
          ]
        }
      ]
    },
    {
      "cell_type": "markdown",
      "source": [
        "**예제 18**\n",
        "\n",
        "시(H)와 분(M)을 입력하면 1시간 30분뒤 시간을 알려주는 함수를 작성하세요\n",
        "\n",
        "* 예시\n",
        "```\n",
        ">> after_time(7,30)\n",
        "9:00\n",
        "```\n",
        "\n",
        "* 예시\n",
        "```\n",
        ">> after_time(11,50)\n",
        "13:20\n",
        "```\n",
        "\n",
        "* 예시\n",
        "```\n",
        ">> after_time(23,40)\n",
        "01:10\n",
        "```"
      ],
      "metadata": {
        "id": "urINDRs11IVx"
      }
    },
    {
      "cell_type": "code",
      "source": [
        "def after_time(h, m):\n",
        "    if m + 30 >= 60:\n",
        "        h = (h + 2)%24\n",
        "        m = (m + 30)%60\n",
        "        print('%02d:%02d' % (h,m)) \n",
        "    else: \n",
        "        h = (h + 1)%24\n",
        "        m = (m + 30)%60\n",
        "        print('%02d:%02d' % (h, m))\n",
        "after_time(7,30)\n",
        "after_time(11,50)\n",
        "after_time(23,40)\n"
      ],
      "metadata": {
        "colab": {
          "base_uri": "https://localhost:8080/"
        },
        "id": "dgqUt1T2wpV_",
        "outputId": "aab3c782-d1e6-4b5e-f825-e463da0b585f"
      },
      "execution_count": null,
      "outputs": [
        {
          "output_type": "stream",
          "name": "stdout",
          "text": [
            "09:00\n",
            "13:20\n",
            "01:10\n"
          ]
        }
      ]
    },
    {
      "cell_type": "markdown",
      "source": [
        "**예제 19**\n",
        "\n",
        "0부터 100까지 숫자를 한국어로 변환하는 함수를 작성하세요\n",
        "\n",
        "* 예시\n",
        "```\n",
        ">> num_korean(100)\n",
        "백\n",
        "```\n",
        "\n",
        "* 예시\n",
        "```\n",
        ">> num_korean(84)\n",
        "팔십사\n",
        "```\n"
      ],
      "metadata": {
        "id": "J25zSIwn1SCp"
      }
    },
    {
      "cell_type": "code",
      "source": [
        "################# 다른 방법 없나?\n",
        "def num_korean(n):\n",
        "    d = ['','일','이','삼','사','오','육','칠','팔','구']\n",
        "    if n == 100:\n",
        "        print('백')\n",
        "    elif n == 0:\n",
        "        print('영')\n",
        "    elif n < 10:\n",
        "        print(d[n])\n",
        "    else:\n",
        "        if n//10  == 1:\n",
        "            units = n%10\n",
        "            print('십' +d[units])\n",
        "        else:\n",
        "            tenth = n//10    \n",
        "            units = n%10\n",
        "            print(d[tenth]+'십' +d[units])\n",
        "\n",
        "\n",
        "\n",
        "num_korean(100)\n",
        "num_korean(84)\n",
        "num_korean(10)\n",
        "num_korean(11)\n",
        "num_korean(21)\n",
        "num_korean(0)\n"
      ],
      "metadata": {
        "colab": {
          "base_uri": "https://localhost:8080/"
        },
        "id": "yfm0WTsWyYN-",
        "outputId": "5fbdfcec-7b64-4e28-c931-e257a0c8ac18"
      },
      "execution_count": null,
      "outputs": [
        {
          "output_type": "stream",
          "name": "stdout",
          "text": [
            "백\n",
            "팔십사\n",
            "십\n",
            "십일\n",
            "이십일\n",
            "영\n"
          ]
        }
      ]
    },
    {
      "cell_type": "markdown",
      "source": [
        "**예제 20**\n",
        "\n",
        "두참가자에게 투표를 한 문자열이 주어집니다. 1번과 2번중 더 높은 투표를 받은 사람이 번호를 출력하세요. 만약 투표수가 동일하면 \"draw\"를 출력합니다.\n",
        "\n",
        "* 예시\n",
        "```\n",
        ">> who_win(\"122211\")\n",
        "draw\n",
        "```\n",
        "\n",
        "* 예시\n",
        "```\n",
        ">> who_win(\"211222212\")\n",
        "2\n",
        "```"
      ],
      "metadata": {
        "id": "5r-j6QRK1ca0"
      }
    },
    {
      "cell_type": "code",
      "source": [
        "################## 확시 count 말고 다른거 쓰고 할 수 있나?\n",
        "\n",
        "def who_win(vote):\n",
        "    if vote.count('1') > vote.count('2'):\n",
        "        print(1)\n",
        "    elif vote.count('1') < vote.count('2'):\n",
        "        print(2)\n",
        "    else:\n",
        "        print('draw')\n",
        "        \n",
        "who_win(\"122211\")\n",
        "who_win(\"211222212\")"
      ],
      "metadata": {
        "colab": {
          "base_uri": "https://localhost:8080/"
        },
        "id": "BLJkQs_I2fbu",
        "outputId": "6e89a1c6-3c94-4110-e005-93ce34ff3b5b"
      },
      "execution_count": null,
      "outputs": [
        {
          "output_type": "stream",
          "name": "stdout",
          "text": [
            "draw\n",
            "2\n"
          ]
        }
      ]
    },
    {
      "cell_type": "code",
      "source": [
        "# count()는 string에서도 쓸 수 있다.\n",
        "s = '1222333'\n",
        "s.count('2')"
      ],
      "metadata": {
        "colab": {
          "base_uri": "https://localhost:8080/"
        },
        "id": "AgGNRkjh_4Ij",
        "outputId": "413d44f8-47a3-4602-d0dc-bf6ed68b1aff"
      },
      "execution_count": null,
      "outputs": [
        {
          "output_type": "execute_result",
          "data": {
            "text/plain": [
              "3"
            ]
          },
          "metadata": {},
          "execution_count": 46
        }
      ]
    }
  ]
}