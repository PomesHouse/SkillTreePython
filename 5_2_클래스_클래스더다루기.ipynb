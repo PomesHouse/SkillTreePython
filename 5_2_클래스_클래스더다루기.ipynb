{
  "nbformat": 4,
  "nbformat_minor": 0,
  "metadata": {
    "colab": {
      "name": "5-2.클래스_클래스더다루기.ipynb",
      "provenance": [],
      "collapsed_sections": [],
      "include_colab_link": true
    },
    "kernelspec": {
      "name": "python3",
      "display_name": "Python 3"
    },
    "language_info": {
      "name": "python"
    }
  },
  "cells": [
    {
      "cell_type": "markdown",
      "metadata": {
        "id": "view-in-github",
        "colab_type": "text"
      },
      "source": [
        "<a href=\"https://colab.research.google.com/github/PomesHouse/SkillTreePython/blob/main/5_2_%ED%81%B4%EB%9E%98%EC%8A%A4_%ED%81%B4%EB%9E%98%EC%8A%A4%EB%8D%94%EB%8B%A4%EB%A3%A8%EA%B8%B0.ipynb\" target=\"_parent\"><img src=\"https://colab.research.google.com/assets/colab-badge.svg\" alt=\"Open In Colab\"/></a>"
      ]
    },
    {
      "cell_type": "markdown",
      "metadata": {
        "id": "jgFAOz-Tw1VI"
      },
      "source": [
        "# 5-2.클래스: 클래스 더 다루기\n",
        "---\n",
        "* 날짜:\n",
        "* 이름:\n"
      ]
    },
    {
      "cell_type": "markdown",
      "metadata": {
        "id": "roC8A6Ro6THT"
      },
      "source": [
        "## 개념정리\n",
        "---\n",
        "\n"
      ]
    },
    {
      "cell_type": "markdown",
      "source": [
        "저번 시간까지 배운 클래스 내용만으로도 충분히 클래스를 만들고 코드를 읽을 수 있습니다. 하지만 클래스에는 더 많은 유용한 기능들이 있습니다. 이를 이해하면 더 쉽고 유용하게 파이썬 코드를 작성할 수 있을 겁니다. \n",
        "\n",
        "\n"
      ],
      "metadata": {
        "id": "Ee54frgJYOr8"
      }
    },
    {
      "cell_type": "markdown",
      "metadata": {
        "id": "4azv1P74n23k"
      },
      "source": [
        "###**(1) 매직 메소드**\n",
        "\n",
        "매직 메소드는 파이썬에서 미리 정의해 놓은 메소드입니다. 이 메소드들은 각각이 지니는 고유 기능들이 있습니다.\n",
        "\n",
        "지난 시간에 배운 `__init__`이라는 메소드 또한 매직 메소드의 일종입니다. \n",
        "\n",
        "매직메소드 개수는 꽤 많고 각각 복잡한 일들을 하기 때문에 이번시간에 다 다루지는 않겠습니다. 다만 자주 쓰이는 몇가지 메소드를 함께 보도록 합니다.\n",
        "\n",
        "\n"
      ]
    },
    {
      "cell_type": "markdown",
      "source": [
        "#### **클래스의 덧셈**\n",
        "\n",
        "특정 숫자를 소개하는 클래스 `Mynumber()`를 아래와 같이 정의해 봅시다. \n",
        "\n",
        "```\n",
        "class MyNumber():\n",
        "  def __init__(self, num):\n",
        "    self.num = num\n",
        "  def intro(self):\n",
        "    print(f\"my num is {self.num}\")\n",
        "```"
      ],
      "metadata": {
        "id": "6E02cLotHrTX"
      }
    },
    {
      "cell_type": "code",
      "metadata": {
        "id": "myVCV-mSn23l"
      },
      "source": [
        "class MyNumber():\n",
        "    def __init__(self, num):\n",
        "        self.num = num\n",
        "    def intro(self):\n",
        "        print(f'My number is {self.num}')"
      ],
      "execution_count": 53,
      "outputs": []
    },
    {
      "cell_type": "markdown",
      "source": [
        "* `num` 값이 2인 인스턴스 생성\n",
        "\n",
        "```\n",
        "a = MyNumber(2)\n",
        "a.intro()\n",
        "```"
      ],
      "metadata": {
        "id": "kvX7555uKvoQ"
      }
    },
    {
      "cell_type": "code",
      "source": [
        "a = MyNumber(2)\n",
        "a.intro()"
      ],
      "metadata": {
        "id": "CyOsSyDPJv16",
        "colab": {
          "base_uri": "https://localhost:8080/"
        },
        "outputId": "827af2d0-7531-4f85-c587-95209dbd659e"
      },
      "execution_count": 54,
      "outputs": [
        {
          "output_type": "stream",
          "name": "stdout",
          "text": [
            "My number is 2\n"
          ]
        }
      ]
    },
    {
      "cell_type": "markdown",
      "source": [
        "* `num` 값이 5인 인스턴스 생성\n",
        "\n",
        "```\n",
        "b = MyNumber(5)\n",
        "b.intro()\n",
        "```"
      ],
      "metadata": {
        "id": "h3yKSEr5K10L"
      }
    },
    {
      "cell_type": "code",
      "source": [
        "b = MyNumber(5)\n",
        "b.intro()"
      ],
      "metadata": {
        "id": "DYyS2zFnKcKx",
        "colab": {
          "base_uri": "https://localhost:8080/"
        },
        "outputId": "cdc94f0d-3134-46f8-8fb2-60a369485a37"
      },
      "execution_count": 55,
      "outputs": [
        {
          "output_type": "stream",
          "name": "stdout",
          "text": [
            "My number is 5\n"
          ]
        }
      ]
    },
    {
      "cell_type": "markdown",
      "source": [
        "* 인스턴스끼리 더하기\n",
        "\n",
        "인스턴스 `a`와 `b`를 더하고 싶습니다. 더해서 7이란 값이 나오면 좋겠네요. 한번 덧셈을 해봅시다.\n",
        "\n",
        "```\n",
        "a+b\n",
        "```"
      ],
      "metadata": {
        "id": "MDKJ6tSXK5xS"
      }
    },
    {
      "cell_type": "code",
      "source": [
        "type(a)"
      ],
      "metadata": {
        "colab": {
          "base_uri": "https://localhost:8080/"
        },
        "id": "haACRo19XtYX",
        "outputId": "044a1506-ae22-4954-bee3-a7aedae7ff7c"
      },
      "execution_count": 56,
      "outputs": [
        {
          "output_type": "execute_result",
          "data": {
            "text/plain": [
              "__main__.MyNumber"
            ]
          },
          "metadata": {},
          "execution_count": 56
        }
      ]
    },
    {
      "cell_type": "code",
      "source": [
        "a + b"
      ],
      "metadata": {
        "id": "zuz-qtaaKgrY",
        "colab": {
          "base_uri": "https://localhost:8080/",
          "height": 174
        },
        "outputId": "0ddcbf92-ac28-4352-a2c7-65829412418b"
      },
      "execution_count": 57,
      "outputs": [
        {
          "output_type": "error",
          "ename": "TypeError",
          "evalue": "ignored",
          "traceback": [
            "\u001b[0;31m---------------------------------------------------------------------------\u001b[0m",
            "\u001b[0;31mTypeError\u001b[0m                                 Traceback (most recent call last)",
            "\u001b[0;32m<ipython-input-57-bd58363a63fc>\u001b[0m in \u001b[0;36m<module>\u001b[0;34m()\u001b[0m\n\u001b[0;32m----> 1\u001b[0;31m \u001b[0ma\u001b[0m \u001b[0;34m+\u001b[0m \u001b[0mb\u001b[0m\u001b[0;34m\u001b[0m\u001b[0;34m\u001b[0m\u001b[0m\n\u001b[0m",
            "\u001b[0;31mTypeError\u001b[0m: unsupported operand type(s) for +: 'MyNumber' and 'MyNumber'"
          ]
        }
      ]
    },
    {
      "cell_type": "markdown",
      "source": [
        "에러가 뜹니다. 인스턴스가 덧셈이 가능하게 하도록 하려면 `__add__` 메소드를 이용해야 합니다.\n",
        "\n",
        "`+`으로 연결된 다른 인스턴스는 `other`로 자동 연결됩니다. `+`를 함으로써 우리는 인스턴스의 `num`값을 더하고 싶으니 이를 `return`해 주면 됩니다.\n",
        "\n",
        "```\n",
        "class MyNumber():\n",
        "  def __init__(self, num):\n",
        "    self.num = num\n",
        "  def intro(self):\n",
        "    print(f\"my num is {self.num}\")\n",
        "\n",
        "  def __add__(self, other):\n",
        "    return self.num+other.num\n",
        "```"
      ],
      "metadata": {
        "id": "R6tJPDUtRYlh"
      }
    },
    {
      "cell_type": "code",
      "source": [
        "class MyNumber():\n",
        "    def __init__(self, num):\n",
        "        self.num = num\n",
        "    def intro(self):\n",
        "        print(f'My number is {self.num}')\n",
        "    def __add__(self, other):\n",
        "        return self.num + other.num"
      ],
      "metadata": {
        "id": "S7RADkiJR8Fq"
      },
      "execution_count": 49,
      "outputs": []
    },
    {
      "cell_type": "markdown",
      "source": [
        "* `num` 값이 2인 인스턴스 생성\n",
        "\n",
        "```\n",
        "a = MyNumber(2)\n",
        "a.intro()\n",
        "```"
      ],
      "metadata": {
        "id": "VyJS6zDGR6MB"
      }
    },
    {
      "cell_type": "code",
      "source": [
        "a = MyNumber(2)\n",
        "a.intro()"
      ],
      "metadata": {
        "id": "7eE4VTaOR6MH",
        "colab": {
          "base_uri": "https://localhost:8080/"
        },
        "outputId": "cd0a33cd-b613-46b5-df15-e38a494e8ca6"
      },
      "execution_count": 50,
      "outputs": [
        {
          "output_type": "stream",
          "name": "stdout",
          "text": [
            "My number is 2\n"
          ]
        }
      ]
    },
    {
      "cell_type": "markdown",
      "source": [
        "* `num` 값이 5인 인스턴스 생성\n",
        "\n",
        "```\n",
        "b = MyNumber(5)\n",
        "b.intro()\n",
        "```"
      ],
      "metadata": {
        "id": "_muaH3NjR6MI"
      }
    },
    {
      "cell_type": "code",
      "source": [
        "b = MyNumber(5)\n",
        "b.intro()"
      ],
      "metadata": {
        "id": "l1Fnt2kKR6MI",
        "colab": {
          "base_uri": "https://localhost:8080/"
        },
        "outputId": "0ef81e2b-ca5d-4fd9-f742-f6cb4bca7e5e"
      },
      "execution_count": 51,
      "outputs": [
        {
          "output_type": "stream",
          "name": "stdout",
          "text": [
            "My number is 5\n"
          ]
        }
      ]
    },
    {
      "cell_type": "markdown",
      "source": [
        "* 인스턴스끼리 더하기\n",
        "\n",
        "인스턴스 `a`와 `b`를 더하고 싶습니다. 더해서 7이란 값이 나오면 좋겠네요. 한번 덧셈을 해봅시다.\n",
        "\n",
        "```\n",
        "a+b\n",
        "```"
      ],
      "metadata": {
        "id": "BvicrsTIR6MJ"
      }
    },
    {
      "cell_type": "code",
      "source": [
        "a + b"
      ],
      "metadata": {
        "id": "hi269E7OKhZf",
        "colab": {
          "base_uri": "https://localhost:8080/"
        },
        "outputId": "0bbb54fb-07ef-4d5c-b6a2-3b494296c663"
      },
      "execution_count": 52,
      "outputs": [
        {
          "output_type": "execute_result",
          "data": {
            "text/plain": [
              "7"
            ]
          },
          "metadata": {},
          "execution_count": 52
        }
      ]
    },
    {
      "cell_type": "markdown",
      "source": [
        "이제 7이란 값이 제대로 나오는 것을 볼 수 있습니다."
      ],
      "metadata": {
        "id": "vOybiF3iSArm"
      }
    },
    {
      "cell_type": "markdown",
      "source": [
        "#### **클래스의 문자**\n",
        "\n",
        "* `__str__`\n",
        "\n",
        "이 메소드는 인스턴스의 출력을 지정해 줍니다. 위에서 정의한 인스턴스 a 를 출력해보겠습니다. \n",
        "\n",
        "```\n",
        "print(a)\n",
        "```"
      ],
      "metadata": {
        "id": "TGIlr0BvYLFL"
      }
    },
    {
      "cell_type": "code",
      "source": [
        "print(a)"
      ],
      "metadata": {
        "id": "wJUbSZsoYmBN",
        "colab": {
          "base_uri": "https://localhost:8080/"
        },
        "outputId": "dba53496-87c2-41ea-9eeb-dc195eebce7d"
      },
      "execution_count": 25,
      "outputs": [
        {
          "output_type": "stream",
          "name": "stdout",
          "text": [
            "<__main__.MyNumber object at 0x7f0bbca419d0>\n"
          ]
        }
      ]
    },
    {
      "cell_type": "markdown",
      "source": [
        "이번에는 클래스 안에 `__str__` 메서드를 추가해 보겠습니다. 현재 `intro` 메서드가 출력을 수행하고 있어서 기능이 겹치네요. 이를 바꾸도록 하겠습니다.\n",
        "\n",
        "```\n",
        "class MyNumber():\n",
        "  def __init__(self, num):\n",
        "    self.num = num\n",
        "  def __str__(self):\n",
        "    return f\"my num is {self.num}\"\n",
        "  def __add__(self, other):\n",
        "    return self.num+other.num\n",
        "```"
      ],
      "metadata": {
        "id": "rxH649t1Ync_"
      }
    },
    {
      "cell_type": "code",
      "metadata": {
        "id": "Tw9XzO4cYLFM"
      },
      "source": [
        "class MyNumber():\n",
        "    def __init__(self, num):\n",
        "        self.num = num\n",
        "    def intro(self):\n",
        "        print(f'My number is {self.num}')\n",
        "    def __str__(self):\n",
        "        return f'my number is {self.num}'\n",
        "    def __add__(self, other):\n",
        "        return self.num + other.num\n",
        "    "
      ],
      "execution_count": 40,
      "outputs": []
    },
    {
      "cell_type": "markdown",
      "source": [
        "* `num` 값이 2인 인스턴스 생성하고 출력하기\n",
        "\n",
        "```\n",
        "a = MyNumber(2)\n",
        "a.intro()\n",
        "```"
      ],
      "metadata": {
        "id": "Tk6qcTE4bAxi"
      }
    },
    {
      "cell_type": "code",
      "source": [
        "a = MyNumber(2)\n",
        "a.intro()\n",
        "print(a)"
      ],
      "metadata": {
        "id": "2GSARmo1bAxj",
        "colab": {
          "base_uri": "https://localhost:8080/"
        },
        "outputId": "b5c3245d-84d0-413c-89ba-b313bf0fc3a6"
      },
      "execution_count": 41,
      "outputs": [
        {
          "output_type": "stream",
          "name": "stdout",
          "text": [
            "My number is 2\n",
            "my number is 2\n"
          ]
        }
      ]
    },
    {
      "cell_type": "markdown",
      "source": [
        "### **(2) 상속**\n"
      ],
      "metadata": {
        "id": "NS4BrQpbl3mZ"
      }
    },
    {
      "cell_type": "markdown",
      "metadata": {
        "id": "O0tIcH3xcfDB"
      },
      "source": [
        "\n",
        "\n",
        "#### **상속이란**\n",
        "\n",
        "상속이란 이미 만들어진 클래스를 그대로 받아와 사용할 수 있을 뿐 아니 세부적으로 변경할 수도 있게 하는 것입니다. \n",
        "\n",
        "이 때 상속받아온 상위 클래스를 부모 클래스, 하위클래스를 자식 클래스라 합니다. \n",
        "\n",
        "위에서 만든 `MyNumber`클래스를 상속받아 봅시다. 상속 받기 위해서는 클래스 이름을 정의할 때 상속받을 클래스를 작성해 줍니다. \n",
        "\n",
        "```\n",
        "  \n",
        "class EvenNumber(MyNumber): # 상속받아오기\n",
        "  def __str__(self): # __str__ 메서드는 변경하기\n",
        "    return f\"my num is {self.num}. and it is even.\"\n",
        "\n",
        "class OddNumber(MyNumber):\n",
        "  def __str__(self): # __str__ 메서드는 변경하기\n",
        "    return f\"my num is {self.num}. and it is odd.\"\n",
        "\n",
        "```"
      ]
    },
    {
      "cell_type": "code",
      "source": [
        "class EvenNumber(MyNumber):\n",
        "    def __str__(self):\n",
        "        return f'my number is {self.num} and it is even.'\n",
        "    \n",
        "class OddNumber(MyNumber):\n",
        "    def __str__(self):\n",
        "        return f'my num is {self.num} and it is odd.'"
      ],
      "metadata": {
        "id": "FFtnwVYijGET"
      },
      "execution_count": 35,
      "outputs": []
    },
    {
      "cell_type": "markdown",
      "source": [
        "* 인스턴스 생성"
      ],
      "metadata": {
        "id": "Ax6wEj3fllRF"
      }
    },
    {
      "cell_type": "code",
      "source": [
        "even = EvenNumber(2)\n",
        "odd = OddNumber(3)"
      ],
      "metadata": {
        "id": "C62myMS4jHLk"
      },
      "execution_count": 37,
      "outputs": []
    },
    {
      "cell_type": "markdown",
      "source": [
        "* 인스턴스  출력하기\n",
        "\n",
        "같은 부모에게서 상속 받아 왔지만 `__str__`의 반환값이 다르기 때문에 출력이 다른 것을 확인할 수 있습니다.\n",
        "\n",
        "```\n",
        "print(even)\n",
        "print(odd)\n",
        "```"
      ],
      "metadata": {
        "id": "ETWxonLJlWlx"
      }
    },
    {
      "cell_type": "code",
      "source": [
        "print(even)\n",
        "print(odd)"
      ],
      "metadata": {
        "id": "yLu5y61VlkVW",
        "colab": {
          "base_uri": "https://localhost:8080/"
        },
        "outputId": "f4e95ce6-a876-4d33-ae6c-88af931b0f90"
      },
      "execution_count": 38,
      "outputs": [
        {
          "output_type": "stream",
          "name": "stdout",
          "text": [
            "my number is 2 and it is even.\n",
            "my num is 3 and it is odd.\n"
          ]
        }
      ]
    },
    {
      "cell_type": "markdown",
      "source": [
        "* 또한 부모클래스에 있던 `__add__` 메소드도 사용할 수 있습니다. \n",
        "\n",
        "```\n",
        "even+odd\n",
        "```"
      ],
      "metadata": {
        "id": "CKWB-D8plrqs"
      }
    },
    {
      "cell_type": "code",
      "source": [
        ""
      ],
      "metadata": {
        "id": "LpZwhHi8jMPq"
      },
      "execution_count": null,
      "outputs": []
    },
    {
      "cell_type": "code",
      "source": [
        ""
      ],
      "metadata": {
        "id": "h11UjWa2jN_i"
      },
      "execution_count": null,
      "outputs": []
    },
    {
      "cell_type": "markdown",
      "source": [
        "#문제풀기"
      ],
      "metadata": {
        "id": "RWApNp3iaw4g"
      }
    },
    {
      "cell_type": "markdown",
      "source": [
        "1. MyNumber 클래스에 뺴기, 곱하기, 나누기 추가하기\n"
      ],
      "metadata": {
        "id": "xbgWOksCa1L1"
      }
    },
    {
      "cell_type": "code",
      "source": [
        "class MyNumber():\n",
        "    def __init__(self, num):\n",
        "        self.num = num\n",
        "    def intro(self):\n",
        "        print(f'My number is {self.num}')\n",
        "    def __str__(self):\n",
        "        return f'my number is {self.num}'\n",
        "    def __add__(self, other):\n",
        "        return self.num + other.num   \n",
        "    def __sub__(self, other):\n",
        "        return self.num - other.num\n",
        "    def __mul__(self, other):\n",
        "        return self.num * other.num\n",
        "    def __truediv__(self, other):\n",
        "         return self.num / other.num\n",
        "    \n"
      ],
      "metadata": {
        "id": "PH6TafNOa0Ul"
      },
      "execution_count": 74,
      "outputs": []
    },
    {
      "cell_type": "code",
      "source": [
        "a = MyNumber(5)\n",
        "b = MyNumber(10)\n",
        "\n",
        "print(a + b)\n",
        "print(a - b)\n",
        "print(b - a)\n",
        "print(a * b)\n",
        "print(a / b)\n",
        "print(b / a)\n"
      ],
      "metadata": {
        "colab": {
          "base_uri": "https://localhost:8080/"
        },
        "id": "69tJEiRgetJ-",
        "outputId": "5b26fed7-d7af-4810-bce5-ac5f4f085246"
      },
      "execution_count": 75,
      "outputs": [
        {
          "output_type": "stream",
          "name": "stdout",
          "text": [
            "15\n",
            "-5\n",
            "5\n",
            "50\n",
            "0.5\n",
            "2.0\n"
          ]
        }
      ]
    },
    {
      "cell_type": "markdown",
      "source": [
        "2. 클래스 Vector 만들기\n",
        "\n",
        "* a = Vector([1,2,3])\n",
        "* b = Vector([4,5,6])\n",
        "* print(a) -> vector([1,2,3])\n",
        "* a + b -> vector([5,7,9])\n",
        "* a * b -> vector([4,10,18])"
      ],
      "metadata": {
        "id": "MUOMbgMEcEfH"
      }
    },
    {
      "cell_type": "code",
      "source": [
        "class Vector():\n",
        "    def __init__(self, vec):\n",
        "        self.vec = vec\n",
        "    def __str__(self):\n",
        "        return f'vector({self.vec})'\n",
        "    def __add__(self, other):\n",
        "        result = []\n",
        "        for i, j in zip(self.vec, other.vec):\n",
        "            result.append(i + j)\n",
        "        return result\n",
        "    def __mul__(self, other):\n",
        "        result = []\n",
        "        for i, j in zip(self.vec, other.vec ):\n",
        "            result.append(i * j)\n",
        "        return result\n",
        "        \n",
        "\n"
      ],
      "metadata": {
        "id": "nyoolI1dcI4l"
      },
      "execution_count": 78,
      "outputs": []
    },
    {
      "cell_type": "code",
      "source": [
        "a = Vector([1,2,3])\n",
        "b = Vector([4,5,6])"
      ],
      "metadata": {
        "id": "faoGOp-scOBO"
      },
      "execution_count": 43,
      "outputs": []
    },
    {
      "cell_type": "code",
      "source": [
        "a + b"
      ],
      "metadata": {
        "colab": {
          "base_uri": "https://localhost:8080/"
        },
        "id": "B04TGwDCdktX",
        "outputId": "406ec698-43e4-44f7-ad54-1bc3071fa2d9"
      },
      "execution_count": 44,
      "outputs": [
        {
          "output_type": "execute_result",
          "data": {
            "text/plain": [
              "[5, 7, 9]"
            ]
          },
          "metadata": {},
          "execution_count": 44
        }
      ]
    },
    {
      "cell_type": "code",
      "source": [
        "a * b"
      ],
      "metadata": {
        "colab": {
          "base_uri": "https://localhost:8080/"
        },
        "id": "2JtC02gEdl3U",
        "outputId": "9e4203a5-0c63-472c-9dda-b669a3a47149"
      },
      "execution_count": 45,
      "outputs": [
        {
          "output_type": "execute_result",
          "data": {
            "text/plain": [
              "[4, 10, 18]"
            ]
          },
          "metadata": {},
          "execution_count": 45
        }
      ]
    },
    {
      "cell_type": "code",
      "source": [
        "# Vector Error / 상속 했을때 위의 함수와 똑같은 이름을 쓰게 되면 새로 바인딩이 된다. \n",
        "\n",
        "class VectorError(Vector):\n",
        "    def __add__(self, other):\n",
        "        result = []\n",
        "        if type(self.vec) != list:\n",
        "            return 'Wrong format'\n",
        "        else:\n",
        "            for i, j in zip(self.vec, other.vec):\n",
        "                result.append(i + j)\n",
        "            return result\n",
        "        \n"
      ],
      "metadata": {
        "id": "AORmWE0_dnnE"
      },
      "execution_count": 88,
      "outputs": []
    },
    {
      "cell_type": "code",
      "source": [
        "test1 = VectorError(3)\n",
        "test2 = VectorError([1,2,3])\n",
        "test3 = VectorError([3,4,5])\n",
        "\n",
        "print(test1 + test2)\n",
        "print(test2 + test3)"
      ],
      "metadata": {
        "colab": {
          "base_uri": "https://localhost:8080/"
        },
        "id": "XYYIKrdkkLyC",
        "outputId": "ae8ccd61-ae14-498c-eb5f-b8cbaa2c7dcb"
      },
      "execution_count": 89,
      "outputs": [
        {
          "output_type": "stream",
          "name": "stdout",
          "text": [
            "Wrong format\n",
            "[4, 6, 8]\n"
          ]
        }
      ]
    },
    {
      "cell_type": "code",
      "source": [
        ""
      ],
      "metadata": {
        "id": "fuPqhhizkUy1"
      },
      "execution_count": null,
      "outputs": []
    }
  ]
}