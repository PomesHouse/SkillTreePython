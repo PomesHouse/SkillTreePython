{
  "nbformat": 4,
  "nbformat_minor": 0,
  "metadata": {
    "colab": {
      "name": "코테.ipynb",
      "private_outputs": true,
      "provenance": [],
      "authorship_tag": "ABX9TyMfmg6XfchG6wru4+CIL1n2",
      "include_colab_link": true
    },
    "kernelspec": {
      "name": "python3",
      "display_name": "Python 3"
    },
    "language_info": {
      "name": "python"
    }
  },
  "cells": [
    {
      "cell_type": "markdown",
      "metadata": {
        "id": "view-in-github",
        "colab_type": "text"
      },
      "source": [
        "<a href=\"https://colab.research.google.com/github/PomesHouse/SkillTreePython/blob/main/%EC%BD%94%ED%85%8C.ipynb\" target=\"_parent\"><img src=\"https://colab.research.google.com/assets/colab-badge.svg\" alt=\"Open In Colab\"/></a>"
      ]
    },
    {
      "cell_type": "markdown",
      "source": [
        "##완주하지 못한 선수 "
      ],
      "metadata": {
        "id": "ovtVSRzSC4M5"
      }
    },
    {
      "cell_type": "code",
      "source": [
        "# 나쁜 내 풀이\n",
        "\n",
        "def solution(participant, completion):\n",
        "    for p in participant:\n",
        "        if p in completion:\n",
        "            completion.remove(p)\n",
        "        else:\n",
        "            return p\n",
        "\n",
        "answer = solution([\"mislav\", \"stanko\", \"mislav\", \"ana\"],[\"stanko\", \"ana\", \"mislav\"])\n",
        "print(answer)"
      ],
      "metadata": {
        "id": "GAZyw-7HC64H"
      },
      "execution_count": null,
      "outputs": []
    },
    {
      "cell_type": "code",
      "source": [
        "# Final Solution (통과했다....) \n",
        "def solution(participant, completion):\n",
        "    participant.sort()\n",
        "    completion.sort()\n",
        "    answer = participant[-1]\n",
        "    for p, c in zip(participant, completion):\n",
        "        if p != c:\n",
        "            answer = p\n",
        "            break\n",
        "    return answer\n",
        "            "
      ],
      "metadata": {
        "id": "1sm_lSnib56m"
      },
      "execution_count": null,
      "outputs": []
    },
    {
      "cell_type": "code",
      "source": [
        "## Shortest answer from the answer pool\n",
        "import collections\n",
        "\n",
        "\n",
        "def solution(participant, completion):\n",
        "    answer = collections.Counter(participant) - collections.Counter(completion)\n",
        "    return list(answer.keys())[0]\n",
        "answer = solution([\"mislav\", \"stanko\", \"mislav\", \"ana\"],[\"stanko\", \"ana\", \"mislav\"])\n",
        "print(answer)"
      ],
      "metadata": {
        "id": "j_rkHAmhf2wr"
      },
      "execution_count": null,
      "outputs": []
    },
    {
      "cell_type": "markdown",
      "source": [
        "## 전화번호 목록"
      ],
      "metadata": {
        "id": "8B2DGG_zfeaV"
      }
    },
    {
      "cell_type": "code",
      "source": [
        "### 내 풀이\n",
        "def solution(phone_book):\n",
        "    phone_book.sort()\n",
        "    answer = True\n",
        "    for i in range(len(phone_book)-1):\n",
        "        if phone_book[i + 1].startswith(phone_book[i]):\n",
        "            answer = False\n",
        "            break\n",
        "    return answer"
      ],
      "metadata": {
        "id": "q7ogfNn0UkjW"
      },
      "execution_count": null,
      "outputs": []
    }
  ]
}